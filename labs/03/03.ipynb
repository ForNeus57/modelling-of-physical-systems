{
 "cells": [
  {
   "metadata": {},
   "cell_type": "markdown",
   "source": [
    "# LAB 03 Assigment\n",
    "\n",
    "Dominik Breksa (dominikbreksa@student.agh.edu.pl)"
   ],
   "id": "293339c58397076d"
  },
  {
   "metadata": {},
   "cell_type": "markdown",
   "source": "### Imports of libraries and packages",
   "id": "1ae7c965d359850"
  },
  {
   "cell_type": "code",
   "id": "initial_id",
   "metadata": {
    "collapsed": true,
    "ExecuteTime": {
     "end_time": "2025-03-29T14:12:50.984947Z",
     "start_time": "2025-03-29T14:12:50.979053Z"
    }
   },
   "source": [
    "import pint\n",
    "import scipy\n",
    "import numpy as np\n",
    "import open_atmos_jupyter_utils\n",
    "from matplotlib import pyplot"
   ],
   "outputs": [],
   "execution_count": 2
  },
  {
   "metadata": {},
   "cell_type": "markdown",
   "source": "### Setup of libraries and packages",
   "id": "3f2e15ca75abf99d"
  },
  {
   "metadata": {
    "ExecuteTime": {
     "end_time": "2025-03-29T14:12:51.398557Z",
     "start_time": "2025-03-29T14:12:51.041393Z"
    }
   },
   "cell_type": "code",
   "source": [
    "si = pint.UnitRegistry()\n",
    "si.setup_matplotlib()\n",
    "si"
   ],
   "id": "a6584a5ddae094be",
   "outputs": [
    {
     "data": {
      "text/plain": [
       "<pint.registry.UnitRegistry at 0x1a8bd4ce0f0>"
      ]
     },
     "execution_count": 3,
     "metadata": {},
     "output_type": "execute_result"
    }
   ],
   "execution_count": 3
  },
  {
   "metadata": {},
   "cell_type": "code",
   "outputs": [],
   "execution_count": null,
   "source": "",
   "id": "fa92ff714931e4c9"
  }
 ],
 "metadata": {
  "kernelspec": {
   "display_name": "Python 3",
   "language": "python",
   "name": "python3"
  },
  "language_info": {
   "codemirror_mode": {
    "name": "ipython",
    "version": 2
   },
   "file_extension": ".py",
   "mimetype": "text/x-python",
   "name": "python",
   "nbconvert_exporter": "python",
   "pygments_lexer": "ipython2",
   "version": "2.7.6"
  }
 },
 "nbformat": 4,
 "nbformat_minor": 5
}
