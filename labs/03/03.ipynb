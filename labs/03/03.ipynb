{
 "cells": [
  {
   "metadata": {},
   "cell_type": "markdown",
   "source": [
    "# LAB 03 Assigment\n",
    "\n",
    "Dominik Breksa (dominikbreksa@student.agh.edu.pl)"
   ],
   "id": "293339c58397076d"
  },
  {
   "metadata": {},
   "cell_type": "markdown",
   "source": "### Imports of libraries and packages",
   "id": "1ae7c965d359850"
  },
  {
   "cell_type": "code",
   "id": "initial_id",
   "metadata": {
    "collapsed": true,
    "ExecuteTime": {
     "end_time": "2025-03-29T16:59:02.942652Z",
     "start_time": "2025-03-29T16:59:02.938855Z"
    }
   },
   "source": [
    "import pint\n",
    "import scipy\n",
    "import numpy as np\n",
    "import numpy.typing as npt\n",
    "import open_atmos_jupyter_utils\n",
    "from matplotlib import pyplot"
   ],
   "outputs": [],
   "execution_count": 17
  },
  {
   "metadata": {},
   "cell_type": "markdown",
   "source": "### Setup of libraries and packages",
   "id": "3f2e15ca75abf99d"
  },
  {
   "metadata": {
    "ExecuteTime": {
     "end_time": "2025-03-29T16:59:03.218527Z",
     "start_time": "2025-03-29T16:59:02.983781Z"
    }
   },
   "cell_type": "code",
   "source": [
    "si = pint.UnitRegistry()\n",
    "si.setup_matplotlib()\n",
    "si"
   ],
   "id": "a6584a5ddae094be",
   "outputs": [
    {
     "data": {
      "text/plain": [
       "<pint.registry.UnitRegistry at 0x15566bf0710>"
      ]
     },
     "execution_count": 18,
     "metadata": {},
     "output_type": "execute_result"
    }
   ],
   "execution_count": 18
  },
  {
   "metadata": {},
   "cell_type": "markdown",
   "source": [
    "### ...\n",
    "\n",
    "The goal of the analysis is to"
   ],
   "id": "8df0f6b5f283a1f1"
  },
  {
   "metadata": {},
   "cell_type": "markdown",
   "source": "### Analytic Solution",
   "id": "475b57d50ebaf173"
  },
  {
   "metadata": {
    "ExecuteTime": {
     "end_time": "2025-03-29T16:59:03.251229Z",
     "start_time": "2025-03-29T16:59:03.248197Z"
    }
   },
   "cell_type": "code",
   "source": "",
   "id": "fa92ff714931e4c9",
   "outputs": [],
   "execution_count": null
  },
  {
   "metadata": {},
   "cell_type": "markdown",
   "source": "### Numerical Solution",
   "id": "e6aad36aef755652"
  },
  {
   "metadata": {},
   "cell_type": "code",
   "outputs": [],
   "execution_count": null,
   "source": "",
   "id": "ebc057979765a47c"
  },
  {
   "metadata": {},
   "cell_type": "markdown",
   "source": [
    "### RMSE - Root Mean Square Error\n",
    "\n",
    "Root Mean Square Error is a measure of error between two vectors ($x^{pred}$ (predicted) and $x^{true}$ (actual)) as shown below:\n",
    "\n",
    "$$\n",
    "RMSE(x^{pred}, x^{true}) = \\sqrt\\frac{\\sum_{i=1}^N (x^{pred}_i - x^{true}_i)^2}{N}\n",
    "$$\n",
    "\n",
    "where,\n",
    "- $x^{pred}$ — The approximated solution (predicted using numerical methods) ($x^{pred}_i$ — the $i$ element of the vector $x^{pred}$),\n",
    "- $x^{true}$ — The vector denoting analytical (actual) solution results ($x^{true}_i$ — the $i$ element of the vector $x^{true}$),\n",
    "- $N$ — The total number of elements in vectors.\n",
    "\n",
    "\n",
    "The function from above can be implemented as a Python function over vectors just like shown below:"
   ],
   "id": "a3e8276564367d1c"
  },
  {
   "metadata": {
    "ExecuteTime": {
     "end_time": "2025-03-29T16:59:03.267312Z",
     "start_time": "2025-03-29T16:59:03.262081Z"
    }
   },
   "cell_type": "code",
   "source": [
    "def root_mean_square_error[S: tuple[int, ...], T: npt.DTypeLike](x_pred: np.ndarray[S, np.dtype[T]], x_true: np.ndarray[S, np.dtype[T]]) -> np.number[T]:\n",
    "    \"\"\"Numpy implementation of a RMSE (Root Mean Square Error)\"\"\"\n",
    "\n",
    "    assert x_pred.shape == x_true.shape, f'{x_pred.shape=} != {x_true.shape=}, The input vectors have different shapes'\n",
    "\n",
    "    return np.sqrt(np.mean((x_pred - x_true) ** 2))"
   ],
   "id": "a38f038abfcba1f2",
   "outputs": [],
   "execution_count": 19
  },
  {
   "metadata": {},
   "cell_type": "markdown",
   "source": "### Comparison of different ...",
   "id": "45af785f80f7f9c2"
  },
  {
   "metadata": {},
   "cell_type": "code",
   "outputs": [],
   "execution_count": null,
   "source": "",
   "id": "6d217281a2989fca"
  },
  {
   "metadata": {},
   "cell_type": "markdown",
   "source": [
    "##### Courant number\n",
    "\n",
    "Courant number value used in this notebook is $C=\\frac{1}{2}$"
   ],
   "id": "37611076397a3f53"
  },
  {
   "metadata": {},
   "cell_type": "code",
   "outputs": [],
   "execution_count": null,
   "source": "",
   "id": "d26353d241762b36"
  },
  {
   "metadata": {},
   "cell_type": "code",
   "outputs": [],
   "execution_count": null,
   "source": "",
   "id": "45f5810c5d97de26"
  },
  {
   "metadata": {},
   "cell_type": "markdown",
   "source": [
    "### Conclusions:\n",
    "\n",
    "After we have generated the plot we can conclude the following:\n",
    "\n",
    "- ..."
   ],
   "id": "85d31cd5f77bd2bd"
  }
 ],
 "metadata": {
  "kernelspec": {
   "display_name": "Python 3",
   "language": "python",
   "name": "python3"
  },
  "language_info": {
   "codemirror_mode": {
    "name": "ipython",
    "version": 2
   },
   "file_extension": ".py",
   "mimetype": "text/x-python",
   "name": "python",
   "nbconvert_exporter": "python",
   "pygments_lexer": "ipython2",
   "version": "2.7.6"
  }
 },
 "nbformat": 4,
 "nbformat_minor": 5
}
