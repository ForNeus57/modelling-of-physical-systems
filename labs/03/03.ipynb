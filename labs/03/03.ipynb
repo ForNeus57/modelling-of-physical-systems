{
 "cells": [
  {
   "metadata": {},
   "cell_type": "markdown",
   "source": [
    "# LAB 03 Assigment\n",
    "\n",
    "Dominik Breksa (dominikbreksa@student.agh.edu.pl)"
   ],
   "id": "293339c58397076d"
  },
  {
   "metadata": {},
   "cell_type": "markdown",
   "source": "### Imports of libraries and packages",
   "id": "1ae7c965d359850"
  },
  {
   "cell_type": "code",
   "id": "initial_id",
   "metadata": {
    "collapsed": true,
    "ExecuteTime": {
     "end_time": "2025-03-31T17:38:54.456874Z",
     "start_time": "2025-03-31T17:38:53.898873Z"
    }
   },
   "source": [
    "import numpy as np\n",
    "import numpy.typing as npt\n",
    "import open_atmos_jupyter_utils\n",
    "from matplotlib import pyplot\n",
    "\n",
    "pyplot.rcParams['axes.grid'] = True"
   ],
   "outputs": [],
   "execution_count": 1
  },
  {
   "metadata": {},
   "cell_type": "markdown",
   "source": [
    "### Problem definition\n",
    "\n",
    "The goal of the analysis is to check how the Upwind scheme algorithm error rate converges with changing the resolution of the algorithm. Or in other words, what (or how big) benefits do we get if we change the resolution of the algorithm. Changing the resolution is important, because it is both the memory and compute time investment.\n",
    "\n",
    "I will use the analytical solution of the advection partial differential equation as a ground truth for the numerical solution, as it can be easily computed.\n",
    "\n",
    "I will measure the error rate using RMSE (Root Mean Seqare Error)."
   ],
   "id": "fe11b5d1f8408501"
  },
  {
   "metadata": {},
   "cell_type": "markdown",
   "source": [
    "\n",
    "### Advection partial differential equation\n",
    "\n",
    "To test the Upwind scheme algorithm, I will use the following partial differential equation of the advection with additional assumptions and the following boundary and initial conditions:\n",
    "\n",
    "$$\n",
    "\\frac{\\partial \\psi}{\\partial t} + \\frac{\\partial (u\\psi)}{\\partial x} = 0\n",
    "$$\n",
    "\n",
    "##### Additional assumptions:\n",
    "\n",
    "The change of $u$ in the space coordinate is $0$.\n",
    "\n",
    "$$\n",
    "\\frac{\\partial u}{\\partial x} = 0\n",
    "$$\n",
    "\n",
    "##### Boundary and Initial conditions:\n",
    "\n",
    "$$\n",
    "\\psi(x, 0) = \\psi_0(x) = ae^{\\frac{-(x - x_0)^2}{2 \\sigma^2}}\n",
    "$$\n",
    "\n",
    "where,\n",
    "\n",
    "- $a$ — is some scaling factor.\n",
    "- $x_0$ — is the shift (mean) of the normal distribution.\n",
    "- $\\sigma$ — is the variance of the normal distribution.\n",
    "- $\\psi(x, 0)$ — is the value of a function $\\psi$ at the $t=0$. It notes the initial value of a signal that will be under the influence of partial differential equation."
   ],
   "id": "8df0f6b5f283a1f1"
  },
  {
   "metadata": {},
   "cell_type": "markdown",
   "source": [
    "\n",
    "### Analytic Solution\n",
    "\n",
    "An analytic solution to the first differential equation, given the boundary and initial conditions listed above:\n",
    "\n",
    "1. Notice that because of our assumption: $\\frac{\\partial u}{\\partial x} = 0$ and the following derivative property: $(af)'(x) = af'(x)$ can simplify the equation to:\n",
    "\n",
    "    $$\n",
    "    \\frac{\\partial \\psi}{\\partial t} + u \\frac{\\partial \\psi}{\\partial x} = 0\n",
    "    $$\n",
    "\n",
    "2. Notice that the differential equation above is a \"transport equation (pde)\" as described below:\n",
    "\n",
    "    $$\n",
    "    a\\frac{\\partial}{\\partial x}\\psi(x, t) + b \\frac{\\partial}{\\partial t}\\psi(x, t) = 0\n",
    "    $$\n",
    "\n",
    "    - where:\n",
    "\n",
    "        - $a = u$ ; $a$ is near the $x$ argument in $\\psi(x, t)$,\n",
    "        - $b = 1$ ; $b$ is near the $t$ argument in $\\psi(x, t)$.\n",
    "\n",
    "3. Because this is a transport equation, we can \"guess\" the $\\psi(x, t)$ using the characteristic linear curve ($ay - bx = C$) and get:\n",
    "\n",
    "    $$\n",
    "    \\psi(x, t) = f(C) = f(ay - bx) = f(ut - x)\n",
    "    $$\n",
    "\n",
    "    - where:\n",
    "\n",
    "        -   $f$ is some function.\n",
    "\n",
    "4. After taking into consideration our initial conditions, we can find the function $f$:\n",
    "\n",
    "    $$\n",
    "    \\psi(x, 0) = f(-x) = ae^{\\frac{-(x - x_0)^2}{2 \\sigma^2}}\n",
    "    $$\n",
    "\n",
    "    $$\n",
    "    \\implies f(x) = ae^{\\frac{-(-x - x_0)^2}{2 \\sigma^2}}\n",
    "    $$\n",
    "\n",
    "5. Therefore, the analytic solution is as follows:\n",
    "\n",
    "    $$\n",
    "    \\psi(x, t) = f(ut - x) = ae^{\\frac{-(-(ut - x) - x_0)^2}{2 \\sigma^2}} = ae^{\\frac{-((x - ut) - x_0)^2}{2 \\sigma^2}} =\\psi_0(x - ut)\n",
    "    $$\n",
    "\n",
    "The code below implements the $\\psi_0$ and the $\\psi$ functions\n"
   ],
   "id": "475b57d50ebaf173"
  },
  {
   "metadata": {
    "ExecuteTime": {
     "end_time": "2025-03-31T17:38:54.736218Z",
     "start_time": "2025-03-31T17:38:54.732793Z"
    }
   },
   "cell_type": "code",
   "source": [
    "from collections.abc import Callable\n",
    "\n",
    "def create_psi_0(x0: np.number, a: np.number, sigma: np.number) -> Callable[[npt.NDArray], npt.NDArray]:\n",
    "    \"\"\"Simple curring wrapper to add permanent state to a psi_0(x) function\"\"\"\n",
    "\n",
    "    def psi_0(x: npt.NDArray) -> npt.NDArray:\n",
    "        \"\"\"Implementation of a psi_0(x) just like in the laboratory classes\"\"\"\n",
    "\n",
    "        nonlocal x0\n",
    "        nonlocal a\n",
    "        nonlocal sigma\n",
    "\n",
    "        return a * np.exp(-(x - x0) ** 2 / 2 / sigma ** 2)\n",
    "\n",
    "    return psi_0"
   ],
   "id": "fa92ff714931e4c9",
   "outputs": [],
   "execution_count": 2
  },
  {
   "metadata": {
    "ExecuteTime": {
     "end_time": "2025-03-31T17:38:54.743674Z",
     "start_time": "2025-03-31T17:38:54.740476Z"
    }
   },
   "cell_type": "code",
   "source": [
    "def create_analytical_solution(psi_0: Callable[[npt.NDArray], npt.NDArray], u: np.number) -> Callable[[npt.NDArray, np.number], npt.NDArray]:\n",
    "    \"\"\"Simple curring wrapper to add permanent state to a psi(x, t) function\"\"\"\n",
    "\n",
    "    def psi(x: npt.NDArray, t: np.number) -> npt.NDArray:\n",
    "        \"\"\"Implementation of a psi(x, t) just like in the laboratory classes\"\"\"\n",
    "\n",
    "        nonlocal psi_0\n",
    "        nonlocal u\n",
    "\n",
    "        return psi_0(x - u * t)\n",
    "\n",
    "    return psi"
   ],
   "id": "bbda087cd9c7b806",
   "outputs": [],
   "execution_count": 3
  },
  {
   "metadata": {},
   "cell_type": "markdown",
   "source": [
    "### Numerical Solution\n",
    "\n",
    "Numerical solution is implemented using upwind solver just as described in the laboratory classes.\n",
    "\n",
    "The only difference between here and laboratory classes notebook is that the algorithm is parametrised and implemented as a function ***upwind_solver(...)***."
   ],
   "id": "e6aad36aef755652"
  },
  {
   "metadata": {
    "ExecuteTime": {
     "end_time": "2025-03-31T17:38:54.766176Z",
     "start_time": "2025-03-31T17:38:54.762794Z"
    }
   },
   "cell_type": "code",
   "source": [
    "def F(first, second, courant):\n",
    "    return .5 * (courant + abs(courant)) * first + \\\n",
    "        .5 * (courant - abs(courant)) * second\n",
    "\n",
    "class One:\n",
    "    def __rsub__(self, other: slice) -> slice:\n",
    "        assert isinstance(other, slice), f'Unsupported type {type(other)}'\n",
    "        assert other.start > 0, f'Unsupported step {other.step}'\n",
    "\n",
    "        return slice(other.start - 1, other.stop - 1, other.step)\n",
    "\n",
    "    def __radd__(self, other: slice) -> slice:\n",
    "        assert isinstance(other, slice), f'Unsupported type {type(other)}'\n",
    "\n",
    "        return slice(other.start + 1, other.stop + 1, other.step)"
   ],
   "id": "55418ab139f78944",
   "outputs": [],
   "execution_count": 4
  },
  {
   "metadata": {
    "ExecuteTime": {
     "end_time": "2025-03-31T17:38:54.774605Z",
     "start_time": "2025-03-31T17:38:54.771521Z"
    }
   },
   "cell_type": "code",
   "source": [
    "def upwind_solver(psi_0: Callable[[npt.NDArray], npt.NDArray], x: npt.NDArray, nx: int, nt: int, c: float):\n",
    "    \"\"\".Implementation of the upwind solver just as in the laboratory classes\"\"\"\n",
    "\n",
    "    assert nx > 2, f'The number of x points ({nx=}) must be grater than two'\n",
    "    assert nt > 0, f'The number of t points ({nt=}) must be grater than zero'\n",
    "\n",
    "    i = slice(1, nx - 1)\n",
    "    one = One()\n",
    "    psi = psi_0(x)\n",
    "\n",
    "    for _ in range(nt):\n",
    "        psi[i] = psi[i] - (F(psi[i], psi[i + one], c) - F(psi[i - one], psi[i], c))\n",
    "\n",
    "    return psi"
   ],
   "id": "ebc057979765a47c",
   "outputs": [],
   "execution_count": 5
  },
  {
   "metadata": {},
   "cell_type": "markdown",
   "source": [
    "### RMSE - Root Mean Square Error\n",
    "\n",
    "Root Mean Square Error is a measure of error between two vectors ($x^{pred}$ (predicted) and $x^{true}$ (actual)) as shown below:\n",
    "\n",
    "$$\n",
    "RMSE(x^{pred}, x^{true}) = \\sqrt\\frac{\\sum_{i=1}^N (x^{pred}_i - x^{true}_i)^2}{N}\n",
    "$$\n",
    "\n",
    "where,\n",
    "\n",
    "- $x^{pred}$ — The approximated solution (predicted using numerical methods) ($x^{pred}_i$ — the $i$ element of the vector $x^{pred}$),\n",
    "- $x^{true}$ — The vector denoting analytical (actual) solution results ($x^{true}_i$ — the $i$ element of the vector $x^{true}$),\n",
    "- $N$ — The total number of elements in vectors.\n",
    "\n",
    "\n",
    "The function from above can be implemented as a Python function over vectors just like shown below:"
   ],
   "id": "a3e8276564367d1c"
  },
  {
   "metadata": {
    "ExecuteTime": {
     "end_time": "2025-03-31T17:38:54.782543Z",
     "start_time": "2025-03-31T17:38:54.779569Z"
    }
   },
   "cell_type": "code",
   "source": [
    "def root_mean_square_error[S: tuple[int, ...], T: npt.DTypeLike](x_pred: np.ndarray[S, np.dtype[T]], x_true: np.ndarray[S, np.dtype[T]]) -> np.number[T]:\n",
    "    \"\"\"Numpy implementation of a RMSE (Root Mean Square Error)\"\"\"\n",
    "\n",
    "    assert x_pred.shape == x_true.shape, f'{x_pred.shape=} != {x_true.shape=}, The input vectors have different shapes'\n",
    "\n",
    "    return np.sqrt(np.mean((x_pred - x_true) ** 2))"
   ],
   "id": "a38f038abfcba1f2",
   "outputs": [],
   "execution_count": 6
  },
  {
   "metadata": {},
   "cell_type": "markdown",
   "source": "### Comparison of error as a function of the resolution",
   "id": "45af785f80f7f9c2"
  },
  {
   "metadata": {},
   "cell_type": "markdown",
   "source": [
    "##### Initial values for the analysis\n",
    "\n",
    "All computations will be performed up to np.float64 machine precision."
   ],
   "id": "cd17614fe0885e2f"
  },
  {
   "metadata": {
    "ExecuteTime": {
     "end_time": "2025-03-31T17:38:54.792063Z",
     "start_time": "2025-03-31T17:38:54.789065Z"
    }
   },
   "cell_type": "code",
   "source": [
    "from typing import Final\n",
    "\n",
    "X0: Final = np.float64(5)\n",
    "A: Final = np.float64(1)\n",
    "SIGMA: Final = np.float64(25)"
   ],
   "id": "b9e008463d0edcda",
   "outputs": [],
   "execution_count": 7
  },
  {
   "metadata": {
    "ExecuteTime": {
     "end_time": "2025-03-31T17:38:54.802523Z",
     "start_time": "2025-03-31T17:38:54.799605Z"
    }
   },
   "cell_type": "code",
   "source": "PSI_0: Final = create_psi_0(X0, A, SIGMA)",
   "id": "90e8de54de372398",
   "outputs": [],
   "execution_count": 8
  },
  {
   "metadata": {
    "ExecuteTime": {
     "end_time": "2025-03-31T17:38:54.811051Z",
     "start_time": "2025-03-31T17:38:54.808637Z"
    }
   },
   "cell_type": "code",
   "source": "U: Final = np.float64(5)",
   "id": "6d217281a2989fca",
   "outputs": [],
   "execution_count": 9
  },
  {
   "metadata": {
    "ExecuteTime": {
     "end_time": "2025-03-31T17:38:54.821541Z",
     "start_time": "2025-03-31T17:38:54.819371Z"
    }
   },
   "cell_type": "code",
   "source": "PSI_ANALYTICAL: Final = create_analytical_solution(PSI_0, U)",
   "id": "c920a116846683c0",
   "outputs": [],
   "execution_count": 10
  },
  {
   "metadata": {
    "ExecuteTime": {
     "end_time": "2025-03-31T17:38:54.833772Z",
     "start_time": "2025-03-31T17:38:54.831740Z"
    }
   },
   "cell_type": "code",
   "source": [
    "X_START: Final = np.float64(-100)\n",
    "X_END: Final = np.float64(400)"
   ],
   "id": "79a637fda20cee4e",
   "outputs": [],
   "execution_count": 11
  },
  {
   "metadata": {
    "ExecuteTime": {
     "end_time": "2025-03-31T17:38:54.839964Z",
     "start_time": "2025-03-31T17:38:54.836777Z"
    }
   },
   "cell_type": "code",
   "source": "T: Final = np.float64(50)",
   "id": "75b320fc68ed8746",
   "outputs": [],
   "execution_count": 12
  },
  {
   "metadata": {},
   "cell_type": "markdown",
   "source": [
    "##### Courant number\n",
    "\n",
    "The Courant number used in this notebook is $C=\\frac{1}{2}$, as advised in the laboratory classes.\n",
    "\n",
    "It will be constant for every set of dx & dt used in this notebook. This behaviour is guaranteed by the assert statement in the function below.\n",
    "\n",
    "The definition of the Courant number is as follows:\n",
    "\n",
    "$$\n",
    "C = \\frac{u \\Delta t}{\\Delta x}\n",
    "$$\n",
    "\n",
    "As we can deduce in order for the RHS to stay constant, the $\\frac{\\Delta t}{\\Delta x}$ must also stay constant.\n",
    "\n",
    "I have chosen the numerical values so that the $\\frac{\\Delta t}{\\Delta x} = 0.1$ and $u = 5$ so in the result we have $C=\\frac{1}{2}$.\n"
   ],
   "id": "37611076397a3f53"
  },
  {
   "metadata": {},
   "cell_type": "markdown",
   "source": "### The convergence analysis of the upwind sheme",
   "id": "f65a94e75e49ddc3"
  },
  {
   "metadata": {
    "ExecuteTime": {
     "end_time": "2025-03-31T17:38:54.852948Z",
     "start_time": "2025-03-31T17:38:54.848533Z"
    }
   },
   "cell_type": "code",
   "source": [
    "def create_convergence_analysis(nx_nt_values: list[tuple[int, int]]) -> tuple[npt.NDArray, npt.NDArray, npt.NDArray]:\n",
    "    \"\"\"Function that creates the upwind sheme algorithm convergence rate\"\"\"\n",
    "\n",
    "    errors = np.zeros(shape=(len(nx_nt_values),), dtype=np.float64)\n",
    "    dxs = np.zeros(shape=(len(nx_nt_values),), dtype=np.float64)\n",
    "    dts = np.zeros(shape=(len(nx_nt_values),), dtype=np.float64)\n",
    "\n",
    "    for index, (nx, nt) in enumerate(nx_nt_values):\n",
    "        x, dx = np.linspace(X_START, X_END, nx, endpoint=False, retstep=True, dtype=np.float64)\n",
    "        dt = T / nt\n",
    "\n",
    "        c = U * dt / dx\n",
    "        assert np.isclose(c, 0.5), f'{c=} should be around 0.5'\n",
    "\n",
    "        analytical = PSI_ANALYTICAL(x, T)\n",
    "        numerical = upwind_solver(PSI_0, x, nx, nt, c)\n",
    "\n",
    "        error = root_mean_square_error(numerical, analytical)\n",
    "\n",
    "        errors[index] = error\n",
    "        dxs[index] = dx\n",
    "        dts[index] = dt\n",
    "\n",
    "    return errors, dxs, dts\n"
   ],
   "id": "688bd04ccb08dfac",
   "outputs": [],
   "execution_count": 13
  },
  {
   "metadata": {
    "ExecuteTime": {
     "end_time": "2025-03-31T17:38:54.861275Z",
     "start_time": "2025-03-31T17:38:54.854460Z"
    }
   },
   "cell_type": "code",
   "source": [
    "def create_plot(errors, dxs, dts) -> None:\n",
    "    \"\"\"Function that displays the convergence graph\"\"\"\n",
    "\n",
    "    fig = pyplot.figure(figsize=(12, 12))\n",
    "    fig.suptitle('The Error Convergence graph for Upwind scheme algorithm with respect to changes in dx or dt', weight='bold', size='x-large')\n",
    "\n",
    "    (ax1, ax2), (ax3, ax4) = fig.subplots(2, 2, sharex='col')\n",
    "\n",
    "    ax1.set_title('RMSE vs dx on logarithmic axes')\n",
    "    ax1.set_xlabel(f'dx')\n",
    "    ax1.set_ylabel(f'Root Mean Square Error')\n",
    "    ax1.tick_params(labelbottom=True)\n",
    "\n",
    "    ax2.set_title('RMSE vs dx')\n",
    "    ax2.set_xlabel(f'dx')\n",
    "    ax2.set_ylabel(f'Root Mean Square Error')\n",
    "    ax2.tick_params(labelbottom=True)\n",
    "\n",
    "    ax3.set_title('RMSE vs dt on logarithmic axes')\n",
    "    ax3.set_xlabel(f'dt')\n",
    "    ax3.set_ylabel(f'Root Mean Square Error')\n",
    "\n",
    "    ax4.set_title('RMSE vs dt')\n",
    "    ax4.set_xlabel(f'dt')\n",
    "    ax4.set_ylabel(f'Root Mean Square Error')\n",
    "\n",
    "    coefficients_dx = np.polyfit(dxs, errors, deg=1)\n",
    "    dxs2 = np.logspace(np.log10(dxs.min()), np.log10(dxs.max()), num=len(dxs))\n",
    "    poly_fn_dx = np.poly1d(coefficients_dx)\n",
    "\n",
    "    coefficients_dt = np.polyfit(dts, errors, deg=1)\n",
    "    dts2 = np.logspace(np.log10(dts.min()), np.log10(dts.max()), num=len(dts))\n",
    "    poly_fn_dt = np.poly1d(coefficients_dt)\n",
    "\n",
    "    ax1.loglog(dxs, errors, 'ro', label='RMSE'); ax1.loglog(dxs2, poly_fn_dx(dxs2), '--k', label=f'Linear Reg: {coefficients_dx}')\n",
    "    ax2.plot(dxs, errors, 'ro', label='RMSE'); ax2.plot(dxs, poly_fn_dx(dxs), '--k', label=f'Linear Reg: {coefficients_dx}')\n",
    "    ax3.loglog(dts, errors, 'bo', label='RMSE'); ax3.loglog(dts2, poly_fn_dt(dts2), '--k', label=f'Linear Reg:{coefficients_dt}')\n",
    "    ax4.plot(dts, errors, 'bo', label='RMSE'); ax4.plot(dts, poly_fn_dt(dts), '--k', label=f'Linear Reg:{coefficients_dt}')\n",
    "\n",
    "    ax1.legend(loc='lower right', prop={'size': 9})\n",
    "    ax2.legend(loc='lower right', prop={'size': 9})\n",
    "    ax3.legend(loc='lower right', prop={'size': 9})\n",
    "    ax4.legend(loc='lower right', prop={'size': 9})\n",
    "\n",
    "    fig.tight_layout()\n",
    "\n",
    "    open_atmos_jupyter_utils.show_plot(fig=fig)"
   ],
   "id": "78277048659cbdd4",
   "outputs": [],
   "execution_count": 14
  },
  {
   "metadata": {
    "ExecuteTime": {
     "end_time": "2025-03-31T17:38:54.869448Z",
     "start_time": "2025-03-31T17:38:54.865795Z"
    }
   },
   "cell_type": "code",
   "source": "NX_NT_VALUES: Final = np.repeat(np.expand_dims(np.logspace(2.25, 5.5, num=50, dtype=np.uint16, endpoint=False), axis=-1), repeats=2, axis=1)",
   "id": "d114e3f211bd9d15",
   "outputs": [],
   "execution_count": 15
  },
  {
   "metadata": {
    "jupyter": {
     "is_executing": true
    },
    "ExecuteTime": {
     "start_time": "2025-03-31T17:38:54.874803Z"
    }
   },
   "cell_type": "code",
   "source": "ERRORS, DXS, DTS = create_convergence_analysis(NX_NT_VALUES)",
   "id": "c2c1cbc33eccf1fd",
   "outputs": [],
   "execution_count": null
  },
  {
   "metadata": {},
   "cell_type": "code",
   "source": "create_plot(ERRORS, DXS, DTS)",
   "id": "114b963376aa162b",
   "outputs": [],
   "execution_count": null
  },
  {
   "metadata": {},
   "cell_type": "markdown",
   "source": [
    "### Conclusions:\n",
    "\n",
    "After I have generated the plot, I can conclude the following:\n",
    "\n",
    "- The value of error grows linearly with regard to the change of the resolution. It can be concluded by consulting the data dots (red and blue) with the linear regression curve (degree = 1) (black dashed). This means that if we want to achieve twice as accurate numerical approximations, compared to analytical solutions, we will need twice as bigger resolution of time and space (i.e. twice as many grid cells in time and space).\n",
    "- We can notice that on the logarithmic scale, the line of best fit diverges around the small values of the resolution ($dx$ & $dt$). However, this fact can be understood because on the logarithmic scale, the tiny imperfections in the linear curve are very visually highlighted."
   ],
   "id": "85d31cd5f77bd2bd"
  }
 ],
 "metadata": {
  "kernelspec": {
   "display_name": "Python 3",
   "language": "python",
   "name": "python3"
  },
  "language_info": {
   "codemirror_mode": {
    "name": "ipython",
    "version": 2
   },
   "file_extension": ".py",
   "mimetype": "text/x-python",
   "name": "python",
   "nbconvert_exporter": "python",
   "pygments_lexer": "ipython2",
   "version": "2.7.6"
  }
 },
 "nbformat": 4,
 "nbformat_minor": 5
}
