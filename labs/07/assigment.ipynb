{
 "cells": [
  {
   "metadata": {},
   "cell_type": "markdown",
   "source": [
    "# LAB 07 Assigment\n",
    "\n",
    "Dominik Breksa (dominikbreksa@student.agh.edu.pl)"
   ],
   "id": "74b09e35961921ca"
  },
  {
   "metadata": {},
   "cell_type": "markdown",
   "source": [
    "### Project scope\n",
    "\n",
    "..."
   ],
   "id": "5cdc5417c4691419"
  },
  {
   "cell_type": "code",
   "id": "initial_id",
   "metadata": {
    "collapsed": true,
    "ExecuteTime": {
     "end_time": "2025-05-01T21:51:12.233227Z",
     "start_time": "2025-05-01T21:51:11.421957Z"
    }
   },
   "source": [
    "\"\"\"LAB 07 Assigment Solution Notebook\"\"\"\n",
    "\n",
    "from types import SimpleNamespace\n",
    "from dataclasses import dataclass\n",
    "\n",
    "from numba import jit, prange, float64, void, int64, set_num_threads\n",
    "import numpy as np\n",
    "import scipy\n",
    "from matplotlib import pyplot as plt\n",
    "from open_atmos_jupyter_utils import show_plot"
   ],
   "outputs": [],
   "execution_count": 1
  },
  {
   "metadata": {
    "ExecuteTime": {
     "end_time": "2025-05-01T21:51:12.867429Z",
     "start_time": "2025-05-01T21:51:12.340749Z"
    }
   },
   "cell_type": "code",
   "source": [
    "PHYS_X0_KG = 1.192e-13\n",
    "PHYS_DV_M3 = 1e6\n",
    "PHYS_N0 = 2 ** 23\n",
    "PHYS_B_PER_S = 1500.\n",
    "PHYS_DIST = scipy.stats.expon(loc=0, scale=PHYS_X0_KG)\n",
    "PHYS_NORM = PHYS_N0 * PHYS_DV_M3\n",
    "\n",
    "COMP_N_PART = 2 ** 14\n",
    "COMP_T_MAX_S = 3600\n",
    "COMP_N_STEP = 1800\n",
    "COMP_DT_S = COMP_T_MAX_S / COMP_N_STEP\n",
    "\n",
    "BINS_MIN_X = -12\n",
    "BINS_MAX_X = -5\n",
    "BINS_COUNT = 70\n",
    "\n",
    "RNG = np.random.default_rng(seed=42)"
   ],
   "id": "734d7bb1b22baae1",
   "outputs": [],
   "execution_count": 2
  },
  {
   "metadata": {
    "ExecuteTime": {
     "end_time": "2025-05-01T21:51:12.879159Z",
     "start_time": "2025-05-01T21:51:12.874920Z"
    }
   },
   "cell_type": "code",
   "source": [
    "@dataclass(slots=True, eq=False)\n",
    "class Particles:\n",
    "    \"\"\" replacement for the dictionary to have bitwise comparison \"\"\"\n",
    "    mass: np.ndarray\n",
    "    mult: np.ndarray\n",
    "\n",
    "    def __eq__(self, other):\n",
    "        \"\"\" bitwise compare particles \"\"\"\n",
    "        return isinstance(other, Particles) \\\n",
    "            and self.mass.tobytes() == other.mass.tobytes() \\\n",
    "            and self.mult.tobytes() == other.mult.tobytes()"
   ],
   "id": "2c386c9d126efb74",
   "outputs": [],
   "execution_count": 3
  },
  {
   "metadata": {
    "ExecuteTime": {
     "end_time": "2025-05-01T21:51:12.897838Z",
     "start_time": "2025-05-01T21:51:12.891813Z"
    }
   },
   "cell_type": "code",
   "source": [
    "def sample(u01):\n",
    "    \"\"\" randomly samples a particle population using constant-multiplicity,\n",
    "    uniform-mass and uniform-log-mass schemes and returns a dictionary\n",
    "    of three simulation states, each composed of 'mass' and 'mult' arrays \"\"\"\n",
    "    u_sam_start, u_sam_end = [PHYS_DIST.ppf(q) for q in (.001, .999)]\n",
    "    x_uniform_linx = (\n",
    "        u_sam_start\n",
    "        + u01 * (u_sam_end - u_sam_start)\n",
    "    )\n",
    "    x_uniform_logx = np.exp(\n",
    "        np.log(u_sam_start)\n",
    "        + u01 * (np.log(u_sam_end) - np.log(u_sam_start))\n",
    "    )\n",
    "    return {\n",
    "        k: Particles(mass=v.x, mult=np.round(v.y * PHYS_NORM).astype(int))\n",
    "        for k, v in\n",
    "        {\n",
    "            'sampling: uniform random in x': SimpleNamespace(\n",
    "                x=x_uniform_linx,\n",
    "                y=PHYS_DIST.pdf(x_uniform_linx) \\\n",
    "                  * (u_sam_end - u_sam_start) \\\n",
    "                  / COMP_N_PART,\n",
    "            ),\n",
    "            'sampling: uniform random in ln(x)': SimpleNamespace(\n",
    "                x=x_uniform_logx,\n",
    "                y=PHYS_DIST.pdf(x_uniform_logx) \\\n",
    "                  * (np.log(u_sam_end) - np.log(u_sam_start)) \\\n",
    "                  / (COMP_N_PART / x_uniform_logx),\n",
    "            ),\n",
    "            'sampling: constant multiplicity': SimpleNamespace(\n",
    "                x=PHYS_DIST.ppf(u01),\n",
    "                y=np.full(shape=COMP_N_PART, fill_value=1 / COMP_N_PART),\n",
    "            )\n",
    "        }.items()\n",
    "    }\n",
    "\n",
    "sample_u01 = RNG.uniform(0, 1, size=COMP_N_PART)"
   ],
   "id": "123ea4d2cf2a8ae8",
   "outputs": [],
   "execution_count": 4
  },
  {
   "metadata": {
    "ExecuteTime": {
     "end_time": "2025-05-01T21:51:13.211816Z",
     "start_time": "2025-05-01T21:51:12.935871Z"
    }
   },
   "cell_type": "code",
   "source": [
    "@jit(float64(float64, float64), nopython=True)\n",
    "def kernel(mass_1, mass_2):\n",
    "    \"\"\" additive coagulation kernel \"\"\"\n",
    "    return PHYS_B_PER_S * (mass_1 + mass_2)\n",
    "\n",
    "def analytic_solution(mass_kg, time_s):\n",
    "    \"\"\" Golovin's analytic solution to Smoluchowski coagulation equation\n",
    "    for additive kernel and exponential initial condition \"\"\"\n",
    "    tau = 1 - np.exp(-PHYS_N0 * PHYS_B_PER_S * PHYS_X0_KG * time_s)\n",
    "    sqrt_tau = np.sqrt(tau)\n",
    "    return (\n",
    "        (1 - tau) / (mass_kg * sqrt_tau)\n",
    "        * scipy.special.ive(1, 2 * mass_kg / PHYS_X0_KG * sqrt_tau)  # pylint: disable=no-member\n",
    "        * np.exp(-(1 + tau - 2 * sqrt_tau) * mass_kg / PHYS_X0_KG)\n",
    "    )"
   ],
   "id": "bcc723c4371a4c67",
   "outputs": [],
   "execution_count": 5
  },
  {
   "metadata": {
    "ExecuteTime": {
     "end_time": "2025-05-01T21:51:13.226809Z",
     "start_time": "2025-05-01T21:51:13.221380Z"
    }
   },
   "cell_type": "code",
   "source": [
    "def mass_of_x(coord):\n",
    "    \"\"\" computes mass back from the plot x coordinate \"\"\"\n",
    "    return np.exp(3 * coord)\n",
    "\n",
    "def plot(*, particles, time):\n",
    "    \"\"\" plots the particle state as both a histogram and population scatter plot\n",
    "    (with random coordinates shuffled to plot) \"\"\"\n",
    "    _, ax = plt.subplots(1, 1, figsize=(11, 6), tight_layout=True)\n",
    "    for k in particles:\n",
    "        ax.hist(\n",
    "            x=np.log(particles[k].mass) / 3,\n",
    "            weights=particles[k].mult / PHYS_NORM * particles[k].mass,\n",
    "            bins=BINS_COUNT, range=(BINS_MIN_X, BINS_MAX_X),\n",
    "            label=f'{k}', alpha=.666, density=True,\n",
    "        )\n",
    "    lin_x, d_x = np.linspace(BINS_MIN_X, BINS_MAX_X, 256, retstep=True)\n",
    "    x_mean = lin_x[:-1] + d_x / 2\n",
    "    m_mean = mass_of_x(x_mean)\n",
    "    dn_dm = analytic_solution(mass_kg=m_mean, time_s=time)\n",
    "    ax.plot(\n",
    "        x_mean,\n",
    "        dn_dm * np.diff(mass_of_x(lin_x)) / np.diff(lin_x) * PHYS_NORM * m_mean,\n",
    "        color='black', label='Golovin solution'\n",
    "    )\n",
    "    ax.set_ylabel(r'pdf(x) $\\cdot$ mass(x)')\n",
    "    ax.set_xlabel(r'$x = ln(\\sqrt[3]{m})$')\n",
    "    ax.set_xlim(BINS_MIN_X, BINS_MAX_X)\n",
    "    ax.set_title(f'time: {time:.1f} s')\n",
    "    ax.legend()\n",
    "    ax.grid()\n",
    "    show_plot()"
   ],
   "id": "f02a940e35f974ab",
   "outputs": [],
   "execution_count": 6
  },
  {
   "metadata": {},
   "cell_type": "markdown",
   "source": [
    "### Implementation of multithreading\n",
    "\n",
    "..."
   ],
   "id": "5c29b0f314f39b4d"
  },
  {
   "metadata": {
    "ExecuteTime": {
     "end_time": "2025-05-01T21:51:13.975433Z",
     "start_time": "2025-05-01T21:51:13.250079Z"
    }
   },
   "cell_type": "code",
   "source": [
    "def sdm_impl(pairs, u01, mult, mass):\n",
    "    \"\"\" performs Monte-Carlo coagulation using the SDM algorithm \"\"\"\n",
    "    p_scale = len(mult) * (len(mult) - 1) / 2 / len(pairs) * COMP_DT_S / PHYS_DV_M3\n",
    "\n",
    "    for alpha in prange(len(pairs)):  # pylint: disable=not-an-iterable\n",
    "        j, k = pairs[alpha]\n",
    "        if mult[j] < mult[k]:\n",
    "            j, k = k, j\n",
    "\n",
    "        p_alpha = mult[j] * p_scale * kernel(mass[j], mass[k])\n",
    "        if u01[alpha] < (p_alpha - p_alpha // 1):\n",
    "            gamma = p_alpha // 1 + 1\n",
    "        else:\n",
    "            gamma = p_alpha // 1\n",
    "\n",
    "        if gamma != 0:\n",
    "            gamma = min(gamma, (mult[j] / mult[k]) // 1)\n",
    "            if mult[j] - gamma * mult[k] > 0:\n",
    "                mult[j] -= gamma * mult[k]\n",
    "                mass[k] += gamma * mass[j]\n",
    "            else:\n",
    "                mult[j] = mult[k] // 2\n",
    "                mult[k] -= mult[j]\n",
    "                mass[k] += gamma * mass[j]\n",
    "                mass[j] = mass[k]\n",
    "\n",
    "sdm_jit = jit(void(int64[:,:], float64[:], int64[:], float64[:]),\n",
    "              nopython=True)(sdm_impl)\n",
    "sdm_parallel = jit(void(int64[:,:], float64[:], int64[:], float64[:]),\n",
    "                   nopython=True, parallel=True, nogil=True)(sdm_impl)"
   ],
   "id": "13ef8a9afd0ffb3b",
   "outputs": [],
   "execution_count": 7
  },
  {
   "metadata": {},
   "cell_type": "markdown",
   "source": [
    "To make the tests possible, we need to implement the `sdm_impl` and `simulate` functions as pure (deterministic) functions.\n",
    "We can do this if we calculate all the randomnesses ahead of time and then just access the randomness at given ... The randomness in these functions is required in two"
   ],
   "id": "8a6670e59a861a85"
  },
  {
   "metadata": {
    "ExecuteTime": {
     "end_time": "2025-05-01T21:51:14.739189Z",
     "start_time": "2025-05-01T21:51:14.069702Z"
    }
   },
   "cell_type": "code",
   "source": [
    "random_u01 = RNG.uniform(0, 1, size=(COMP_N_STEP, COMP_N_PART // 2))\n",
    "permutations = np.array([\n",
    "    RNG.permutation(COMP_N_PART)[: 2 * (COMP_N_PART // 2)].reshape(-1, 2)\n",
    "    for _ in range(COMP_N_STEP)\n",
    "])"
   ],
   "id": "48a3c029e276b05e",
   "outputs": [],
   "execution_count": 8
  },
  {
   "metadata": {
    "ExecuteTime": {
     "end_time": "2025-05-01T21:51:14.753001Z",
     "start_time": "2025-05-01T21:51:14.748967Z"
    }
   },
   "cell_type": "code",
   "source": [
    "def simulate(*, particles, sdm_func):\n",
    "    \"\"\" does simulation for all sampling variants (each variant using the same shuffled numbers) \"\"\"\n",
    "    for i in range(COMP_N_STEP):\n",
    "        for part in particles.values():\n",
    "            sdm_func(pairs=permutations[i],\n",
    "                     u01=random_u01[i],\n",
    "                     mult=part.mult,\n",
    "                     mass=part.mass)"
   ],
   "id": "d6fd9291350c1af3",
   "outputs": [],
   "execution_count": 9
  },
  {
   "metadata": {},
   "cell_type": "markdown",
   "source": [
    "### About the tests\n",
    "\n",
    "..."
   ],
   "id": "a7fc69c8401936fe"
  },
  {
   "metadata": {
    "jupyter": {
     "is_executing": true
    },
    "ExecuteTime": {
     "start_time": "2025-05-01T21:51:14.764517Z"
    }
   },
   "cell_type": "code",
   "source": [
    "CORRECT_SIMULATION = sample(sample_u01)\n",
    "simulate(particles=CORRECT_SIMULATION,\n",
    "         sdm_func=sdm_impl)"
   ],
   "id": "fba921e70fe49cb2",
   "outputs": [],
   "execution_count": null
  },
  {
   "metadata": {},
   "cell_type": "code",
   "source": [
    "SINGLE_THREAD_JIT = sample(sample_u01)\n",
    "simulate(particles=SINGLE_THREAD_JIT,\n",
    "         sdm_func=sdm_jit)\n",
    "assert (test_result := CORRECT_SIMULATION == SINGLE_THREAD_JIT)\n",
    "print(\"JIT Single Thread\", test_result)"
   ],
   "id": "7eece093e6997618",
   "outputs": [],
   "execution_count": null
  },
  {
   "metadata": {},
   "cell_type": "code",
   "source": [
    "for thread_count in (2, 4, 8, 16, 24):\n",
    "    parti = sample(sample_u01)\n",
    "    set_num_threads(thread_count)\n",
    "    simulate(particles=parti,\n",
    "             sdm_func=sdm_parallel)\n",
    "    assert (test_result := CORRECT_SIMULATION == parti)\n",
    "    print(\"JIT Multi Thread\", thread_count, test_result)"
   ],
   "id": "a7aaa488f630f9e7",
   "outputs": [],
   "execution_count": null
  },
  {
   "metadata": {},
   "cell_type": "code",
   "source": [
    "plot(particles=CORRECT_SIMULATION,\n",
    "     time=COMP_T_MAX_S)"
   ],
   "id": "8c83fae81a77730b",
   "outputs": [],
   "execution_count": null
  },
  {
   "metadata": {},
   "cell_type": "markdown",
   "source": [
    "### Conclusions:\n",
    "\n",
    "- ...\n",
    "- ...\n",
    "- ..."
   ],
   "id": "2053dac16fdfbd3e"
  }
 ],
 "metadata": {
  "kernelspec": {
   "display_name": "Python 3",
   "language": "python",
   "name": "python3"
  },
  "language_info": {
   "codemirror_mode": {
    "name": "ipython",
    "version": 2
   },
   "file_extension": ".py",
   "mimetype": "text/x-python",
   "name": "python",
   "nbconvert_exporter": "python",
   "pygments_lexer": "ipython2",
   "version": "2.7.6"
  }
 },
 "nbformat": 4,
 "nbformat_minor": 5
}
