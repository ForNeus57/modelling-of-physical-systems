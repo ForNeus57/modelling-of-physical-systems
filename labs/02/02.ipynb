{
 "cells": [
  {
   "metadata": {},
   "cell_type": "markdown",
   "source": [
    "# LAB 02 Assigment\n",
    "\n",
    "Dominik Breksa (dominikbreksa@student.agh.edu.pl)"
   ],
   "id": "b808166a0e5e8a67"
  },
  {
   "metadata": {},
   "cell_type": "markdown",
   "source": "### Basic setup of the libraries and packages",
   "id": "cb33e4d6bff9d894"
  },
  {
   "cell_type": "code",
   "id": "initial_id",
   "metadata": {
    "collapsed": true,
    "ExecuteTime": {
     "end_time": "2025-03-21T22:37:34.015891Z",
     "start_time": "2025-03-21T22:37:33.422875Z"
    }
   },
   "source": [
    "import pint\n",
    "import numpy as np\n",
    "import scipy\n",
    "import open_atmos_jupyter_utils\n",
    "from matplotlib import pyplot"
   ],
   "outputs": [],
   "execution_count": 1
  },
  {
   "metadata": {
    "ExecuteTime": {
     "end_time": "2025-03-21T22:37:34.135752Z",
     "start_time": "2025-03-21T22:37:34.015891Z"
    }
   },
   "cell_type": "code",
   "source": [
    "si = pint.UnitRegistry()\n",
    "si.setup_matplotlib()\n",
    "si"
   ],
   "id": "451808f625dcbea1",
   "outputs": [
    {
     "data": {
      "text/plain": [
       "<pint.registry.UnitRegistry at 0x264a40310d0>"
      ]
     },
     "execution_count": 2,
     "metadata": {},
     "output_type": "execute_result"
    }
   ],
   "execution_count": 2
  },
  {
   "metadata": {},
   "cell_type": "markdown",
   "source": [
    "### My interpretation:\n",
    "\n",
    "- Concentration of solute in a moving laminar stream of liquid with Advection and Diffusion effects\n",
    "\n",
    "$$\n",
    "\\frac{\\partial c}{\\partial t} + U \\frac{\\partial c}{\\partial x} - D \\frac{\\partial^2 c}{\\partial^2 x} = 0\n",
    "$$\n",
    "\n",
    "- Here below is shown the simplified approximate solution to this differential equation as stated in the lecture"
   ],
   "id": "e73ff6a72eb6ddf1"
  },
  {
   "metadata": {},
   "cell_type": "markdown",
   "source": [
    "$$\n",
    "    c(x, t) = \\frac{M}{A}\\frac{1}{2\\sqrt{\\pi D}}\\frac{x}{t^\\frac{3}{2}}e^{\\Bigg( -\\frac{(ut - x)^2}{4Dt} \\Bigg)}\n",
    "$$"
   ],
   "id": "bf11880220482e3b"
  },
  {
   "metadata": {},
   "cell_type": "markdown",
   "source": "",
   "id": "c86ec6c271b637b7"
  },
  {
   "metadata": {},
   "cell_type": "markdown",
   "source": [
    "### Units and symbols analysis\n",
    "\n",
    "- $x$ — The measure of length in meters ($m$).\n",
    "- $t$ — Time in seconds ($s$). Deducted from the X axis on the assigment plot.\n",
    "- $c(x, t)$ — concentration of solute in kilograms times cubic meters ($kgm^3$). Deducted from Y axis on the lecture plot.\n",
    "- $D$ — Diffusion coefficient in meters squared divided by seconds ($\\frac{m^2}{s}$).\n",
    "- $u$ — The speed of the flux ???? ... in meters per second ($\\frac{m}{s}$).\n",
    "- $M$ — Mass of the solute in kilograms ($kg$).\n",
    "- $A$ — Volumetric flow rate in meters cubed times second ($m^3s$)\n"
   ],
   "id": "fea5c25dfc7b6125"
  },
  {
   "metadata": {},
   "cell_type": "markdown",
   "source": [
    "After the analysis of the formula $ c(x, t) $ plotted on the lecture slide, we can deduce that:\n",
    "- the $ x $ is constant meaning the measurement point is not moving in time.\n",
    "- The curve global maxima is at the time of around $ t=50s $, this concludes that"
   ],
   "id": "d6af8525775933fa"
  },
  {
   "metadata": {},
   "cell_type": "markdown",
   "source": "$$ \\int \\rho r^3 dV $$",
   "id": "79a9d813ba402344"
  },
  {
   "metadata": {},
   "cell_type": "markdown",
   "source": "$$ [\\rho] \\cdot [r^3] \\cdot [dV] = \\left(\\frac{\\text{kg}}{\\text{m}^3}\\right) \\cdot (\\text{m}^3) \\cdot (\\text{m}^3) = \\text{kg} \\cdot \\text{m}^3 $$",
   "id": "2d4f85374748575d"
  },
  {
   "metadata": {
    "ExecuteTime": {
     "end_time": "2025-03-21T22:37:34.246838Z",
     "start_time": "2025-03-21T22:37:34.241925Z"
    }
   },
   "cell_type": "code",
   "source": [
    "M = np.float64(5.2) * si.kg\n",
    "A = np.float64(5) * si.m ** 2\n",
    "D = np.float64(0.0018) * si.m ** 2 / si.s\n",
    "U = np.float64(0.04) * si.m / si.s\n",
    "X = np.float64(2.1) * si.m"
   ],
   "id": "254629bb61d75f1",
   "outputs": [],
   "execution_count": 3
  },
  {
   "metadata": {
    "ExecuteTime": {
     "end_time": "2025-03-21T22:37:34.259854Z",
     "start_time": "2025-03-21T22:37:34.256150Z"
    }
   },
   "cell_type": "code",
   "source": "T = np.linspace(0.1, 100.1, 1000, dtype=np.float64) * si.s  # Cannot divide by zero, so the first element is 0.1",
   "id": "ebfe8f5f3aeb9a29",
   "outputs": [],
   "execution_count": 4
  },
  {
   "metadata": {
    "ExecuteTime": {
     "end_time": "2025-03-21T22:37:34.289764Z",
     "start_time": "2025-03-21T22:37:34.276431Z"
    }
   },
   "cell_type": "code",
   "source": [
    "from typing import Callable\n",
    "\n",
    "\n",
    "def fill_c_function(m, a, d, u) -> Callable:\n",
    "    \"\"\"Simple wrapper to fill the c(x,t)\"\"\"\n",
    "\n",
    "    def c(x, t):\n",
    "        assert x.check(si.m), f'{x.units=} is provided as a measure of a length({si.m=}) dimension'\n",
    "        assert t.check(si.s), f'{t.units=} is provided as a measure of a time({si.s=}) dimension'\n",
    "\n",
    "        nonlocal m\n",
    "        nonlocal a\n",
    "        nonlocal d\n",
    "        nonlocal u\n",
    "\n",
    "        return (m * x * np.exp((-(u * t - x) ** 2) / (4 * d * t))) / (2 * a * (np.pi * d) ** 0.5 * t ** 1.5)\n",
    "\n",
    "    return c\n",
    "\n",
    "def fill_c_with_x(c: Callable, x) -> Callable:\n",
    "    \"\"\"...\"\"\"\n",
    "\n",
    "    def c_with_x(t):\n",
    "        nonlocal x\n",
    "        return c(x, t)\n",
    "\n",
    "    return c_with_x"
   ],
   "id": "5c6826ff7c0e6b0e",
   "outputs": [],
   "execution_count": 5
  },
  {
   "metadata": {
    "ExecuteTime": {
     "end_time": "2025-03-21T22:37:34.302224Z",
     "start_time": "2025-03-21T22:37:34.297995Z"
    }
   },
   "cell_type": "code",
   "source": [
    "C = fill_c_function(M, A, D, U)\n",
    "C_with_const_x = fill_c_with_x(C, X)"
   ],
   "id": "f335d2a5c4fbf4a1",
   "outputs": [],
   "execution_count": 6
  },
  {
   "metadata": {
    "ExecuteTime": {
     "end_time": "2025-03-21T22:37:34.322442Z",
     "start_time": "2025-03-21T22:37:34.318382Z"
    }
   },
   "cell_type": "code",
   "source": [
    "C_result = C_with_const_x(T)\n",
    "\n",
    "# assert C_result.check(si.kg * si.m ** 3), f'The units must match with the units on the lecture plot. Got: \\'{C_result.units=}\\', expected: \\'{si.kg * si.m ** 3=}\\''"
   ],
   "id": "3575361a3ee112ba",
   "outputs": [],
   "execution_count": 7
  },
  {
   "metadata": {
    "ExecuteTime": {
     "end_time": "2025-03-21T22:37:34.638133Z",
     "start_time": "2025-03-21T22:37:34.328232Z"
    }
   },
   "cell_type": "code",
   "source": [
    "fig = pyplot.figure(figsize=(6, 4))\n",
    "fig.gca().plot(T, C_result, label='equilibrium vapour pressure')\n",
    "fig.legend()\n",
    "fig.gca().grid()\n",
    "open_atmos_jupyter_utils.show_plot(fig=fig)"
   ],
   "id": "251b933491b5dee6",
   "outputs": [
    {
     "data": {
      "text/plain": [
       "<Figure size 600x400 with 1 Axes>"
      ],
      "image/svg+xml": "<?xml version=\"1.0\" encoding=\"utf-8\" standalone=\"no\"?>\n<!DOCTYPE svg PUBLIC \"-//W3C//DTD SVG 1.1//EN\"\n  \"http://www.w3.org/Graphics/SVG/1.1/DTD/svg11.dtd\">\n<svg xmlns:xlink=\"http://www.w3.org/1999/xlink\" width=\"436.70625pt\" height=\"296.07625pt\" viewBox=\"0 0 436.70625 296.07625\" xmlns=\"http://www.w3.org/2000/svg\" version=\"1.1\">\n <metadata>\n  <rdf:RDF xmlns:dc=\"http://purl.org/dc/elements/1.1/\" xmlns:cc=\"http://creativecommons.org/ns#\" xmlns:rdf=\"http://www.w3.org/1999/02/22-rdf-syntax-ns#\">\n   <cc:Work>\n    <dc:type rdf:resource=\"http://purl.org/dc/dcmitype/StillImage\"/>\n    <dc:date>2025-03-21T23:37:34.615374</dc:date>\n    <dc:format>image/svg+xml</dc:format>\n    <dc:creator>\n     <cc:Agent>\n      <dc:title>Matplotlib v3.10.1, https://matplotlib.org/</dc:title>\n     </cc:Agent>\n    </dc:creator>\n   </cc:Work>\n  </rdf:RDF>\n </metadata>\n <defs>\n  <style type=\"text/css\">*{stroke-linejoin: round; stroke-linecap: butt}</style>\n </defs>\n <g id=\"figure_1\">\n  <g id=\"patch_1\">\n   <path d=\"M 0 296.07625 \nL 436.70625 296.07625 \nL 436.70625 0 \nL 0 0 \nz\n\" style=\"fill: #ffffff\"/>\n  </g>\n  <g id=\"axes_1\">\n   <g id=\"patch_2\">\n    <path d=\"M 56.50625 258.52 \nL 391.30625 258.52 \nL 391.30625 36.76 \nL 56.50625 36.76 \nz\n\" style=\"fill: #ffffff\"/>\n   </g>\n   <g id=\"matplotlib.axis_1\">\n    <g id=\"xtick_1\">\n     <g id=\"line2d_1\">\n      <path d=\"M 71.420068 258.52 \nL 71.420068 36.76 \n\" clip-path=\"url(#pd3b06b69cb)\" style=\"fill: none; stroke: #b0b0b0; stroke-width: 0.8; stroke-linecap: square\"/>\n     </g>\n     <g id=\"line2d_2\">\n      <defs>\n       <path id=\"m7ddb9a8647\" d=\"M 0 0 \nL 0 3.5 \n\" style=\"stroke: #000000; stroke-width: 0.8\"/>\n      </defs>\n      <g>\n       <use xlink:href=\"#m7ddb9a8647\" x=\"71.420068\" y=\"258.52\" style=\"stroke: #000000; stroke-width: 0.8\"/>\n      </g>\n     </g>\n     <g id=\"text_1\">\n      <!-- 0 -->\n      <g transform=\"translate(68.238818 273.118437) scale(0.1 -0.1)\">\n       <defs>\n        <path id=\"DejaVuSans-30\" d=\"M 2034 4250 \nQ 1547 4250 1301 3770 \nQ 1056 3291 1056 2328 \nQ 1056 1369 1301 889 \nQ 1547 409 2034 409 \nQ 2525 409 2770 889 \nQ 3016 1369 3016 2328 \nQ 3016 3291 2770 3770 \nQ 2525 4250 2034 4250 \nz\nM 2034 4750 \nQ 2819 4750 3233 4129 \nQ 3647 3509 3647 2328 \nQ 3647 1150 3233 529 \nQ 2819 -91 2034 -91 \nQ 1250 -91 836 529 \nQ 422 1150 422 2328 \nQ 422 3509 836 4129 \nQ 1250 4750 2034 4750 \nz\n\" transform=\"scale(0.015625)\"/>\n       </defs>\n       <use xlink:href=\"#DejaVuSans-30\"/>\n      </g>\n     </g>\n    </g>\n    <g id=\"xtick_2\">\n     <g id=\"line2d_3\">\n      <path d=\"M 132.292795 258.52 \nL 132.292795 36.76 \n\" clip-path=\"url(#pd3b06b69cb)\" style=\"fill: none; stroke: #b0b0b0; stroke-width: 0.8; stroke-linecap: square\"/>\n     </g>\n     <g id=\"line2d_4\">\n      <g>\n       <use xlink:href=\"#m7ddb9a8647\" x=\"132.292795\" y=\"258.52\" style=\"stroke: #000000; stroke-width: 0.8\"/>\n      </g>\n     </g>\n     <g id=\"text_2\">\n      <!-- 20 -->\n      <g transform=\"translate(125.930295 273.118437) scale(0.1 -0.1)\">\n       <defs>\n        <path id=\"DejaVuSans-32\" d=\"M 1228 531 \nL 3431 531 \nL 3431 0 \nL 469 0 \nL 469 531 \nQ 828 903 1448 1529 \nQ 2069 2156 2228 2338 \nQ 2531 2678 2651 2914 \nQ 2772 3150 2772 3378 \nQ 2772 3750 2511 3984 \nQ 2250 4219 1831 4219 \nQ 1534 4219 1204 4116 \nQ 875 4013 500 3803 \nL 500 4441 \nQ 881 4594 1212 4672 \nQ 1544 4750 1819 4750 \nQ 2544 4750 2975 4387 \nQ 3406 4025 3406 3419 \nQ 3406 3131 3298 2873 \nQ 3191 2616 2906 2266 \nQ 2828 2175 2409 1742 \nQ 1991 1309 1228 531 \nz\n\" transform=\"scale(0.015625)\"/>\n       </defs>\n       <use xlink:href=\"#DejaVuSans-32\"/>\n       <use xlink:href=\"#DejaVuSans-30\" transform=\"translate(63.623047 0)\"/>\n      </g>\n     </g>\n    </g>\n    <g id=\"xtick_3\">\n     <g id=\"line2d_5\">\n      <path d=\"M 193.165523 258.52 \nL 193.165523 36.76 \n\" clip-path=\"url(#pd3b06b69cb)\" style=\"fill: none; stroke: #b0b0b0; stroke-width: 0.8; stroke-linecap: square\"/>\n     </g>\n     <g id=\"line2d_6\">\n      <g>\n       <use xlink:href=\"#m7ddb9a8647\" x=\"193.165523\" y=\"258.52\" style=\"stroke: #000000; stroke-width: 0.8\"/>\n      </g>\n     </g>\n     <g id=\"text_3\">\n      <!-- 40 -->\n      <g transform=\"translate(186.803023 273.118437) scale(0.1 -0.1)\">\n       <defs>\n        <path id=\"DejaVuSans-34\" d=\"M 2419 4116 \nL 825 1625 \nL 2419 1625 \nL 2419 4116 \nz\nM 2253 4666 \nL 3047 4666 \nL 3047 1625 \nL 3713 1625 \nL 3713 1100 \nL 3047 1100 \nL 3047 0 \nL 2419 0 \nL 2419 1100 \nL 313 1100 \nL 313 1709 \nL 2253 4666 \nz\n\" transform=\"scale(0.015625)\"/>\n       </defs>\n       <use xlink:href=\"#DejaVuSans-34\"/>\n       <use xlink:href=\"#DejaVuSans-30\" transform=\"translate(63.623047 0)\"/>\n      </g>\n     </g>\n    </g>\n    <g id=\"xtick_4\">\n     <g id=\"line2d_7\">\n      <path d=\"M 254.03825 258.52 \nL 254.03825 36.76 \n\" clip-path=\"url(#pd3b06b69cb)\" style=\"fill: none; stroke: #b0b0b0; stroke-width: 0.8; stroke-linecap: square\"/>\n     </g>\n     <g id=\"line2d_8\">\n      <g>\n       <use xlink:href=\"#m7ddb9a8647\" x=\"254.03825\" y=\"258.52\" style=\"stroke: #000000; stroke-width: 0.8\"/>\n      </g>\n     </g>\n     <g id=\"text_4\">\n      <!-- 60 -->\n      <g transform=\"translate(247.67575 273.118437) scale(0.1 -0.1)\">\n       <defs>\n        <path id=\"DejaVuSans-36\" d=\"M 2113 2584 \nQ 1688 2584 1439 2293 \nQ 1191 2003 1191 1497 \nQ 1191 994 1439 701 \nQ 1688 409 2113 409 \nQ 2538 409 2786 701 \nQ 3034 994 3034 1497 \nQ 3034 2003 2786 2293 \nQ 2538 2584 2113 2584 \nz\nM 3366 4563 \nL 3366 3988 \nQ 3128 4100 2886 4159 \nQ 2644 4219 2406 4219 \nQ 1781 4219 1451 3797 \nQ 1122 3375 1075 2522 \nQ 1259 2794 1537 2939 \nQ 1816 3084 2150 3084 \nQ 2853 3084 3261 2657 \nQ 3669 2231 3669 1497 \nQ 3669 778 3244 343 \nQ 2819 -91 2113 -91 \nQ 1303 -91 875 529 \nQ 447 1150 447 2328 \nQ 447 3434 972 4092 \nQ 1497 4750 2381 4750 \nQ 2619 4750 2861 4703 \nQ 3103 4656 3366 4563 \nz\n\" transform=\"scale(0.015625)\"/>\n       </defs>\n       <use xlink:href=\"#DejaVuSans-36\"/>\n       <use xlink:href=\"#DejaVuSans-30\" transform=\"translate(63.623047 0)\"/>\n      </g>\n     </g>\n    </g>\n    <g id=\"xtick_5\">\n     <g id=\"line2d_9\">\n      <path d=\"M 314.910977 258.52 \nL 314.910977 36.76 \n\" clip-path=\"url(#pd3b06b69cb)\" style=\"fill: none; stroke: #b0b0b0; stroke-width: 0.8; stroke-linecap: square\"/>\n     </g>\n     <g id=\"line2d_10\">\n      <g>\n       <use xlink:href=\"#m7ddb9a8647\" x=\"314.910977\" y=\"258.52\" style=\"stroke: #000000; stroke-width: 0.8\"/>\n      </g>\n     </g>\n     <g id=\"text_5\">\n      <!-- 80 -->\n      <g transform=\"translate(308.548477 273.118437) scale(0.1 -0.1)\">\n       <defs>\n        <path id=\"DejaVuSans-38\" d=\"M 2034 2216 \nQ 1584 2216 1326 1975 \nQ 1069 1734 1069 1313 \nQ 1069 891 1326 650 \nQ 1584 409 2034 409 \nQ 2484 409 2743 651 \nQ 3003 894 3003 1313 \nQ 3003 1734 2745 1975 \nQ 2488 2216 2034 2216 \nz\nM 1403 2484 \nQ 997 2584 770 2862 \nQ 544 3141 544 3541 \nQ 544 4100 942 4425 \nQ 1341 4750 2034 4750 \nQ 2731 4750 3128 4425 \nQ 3525 4100 3525 3541 \nQ 3525 3141 3298 2862 \nQ 3072 2584 2669 2484 \nQ 3125 2378 3379 2068 \nQ 3634 1759 3634 1313 \nQ 3634 634 3220 271 \nQ 2806 -91 2034 -91 \nQ 1263 -91 848 271 \nQ 434 634 434 1313 \nQ 434 1759 690 2068 \nQ 947 2378 1403 2484 \nz\nM 1172 3481 \nQ 1172 3119 1398 2916 \nQ 1625 2713 2034 2713 \nQ 2441 2713 2670 2916 \nQ 2900 3119 2900 3481 \nQ 2900 3844 2670 4047 \nQ 2441 4250 2034 4250 \nQ 1625 4250 1398 4047 \nQ 1172 3844 1172 3481 \nz\n\" transform=\"scale(0.015625)\"/>\n       </defs>\n       <use xlink:href=\"#DejaVuSans-38\"/>\n       <use xlink:href=\"#DejaVuSans-30\" transform=\"translate(63.623047 0)\"/>\n      </g>\n     </g>\n    </g>\n    <g id=\"xtick_6\">\n     <g id=\"line2d_11\">\n      <path d=\"M 375.783705 258.52 \nL 375.783705 36.76 \n\" clip-path=\"url(#pd3b06b69cb)\" style=\"fill: none; stroke: #b0b0b0; stroke-width: 0.8; stroke-linecap: square\"/>\n     </g>\n     <g id=\"line2d_12\">\n      <g>\n       <use xlink:href=\"#m7ddb9a8647\" x=\"375.783705\" y=\"258.52\" style=\"stroke: #000000; stroke-width: 0.8\"/>\n      </g>\n     </g>\n     <g id=\"text_6\">\n      <!-- 100 -->\n      <g transform=\"translate(366.239955 273.118437) scale(0.1 -0.1)\">\n       <defs>\n        <path id=\"DejaVuSans-31\" d=\"M 794 531 \nL 1825 531 \nL 1825 4091 \nL 703 3866 \nL 703 4441 \nL 1819 4666 \nL 2450 4666 \nL 2450 531 \nL 3481 531 \nL 3481 0 \nL 794 0 \nL 794 531 \nz\n\" transform=\"scale(0.015625)\"/>\n       </defs>\n       <use xlink:href=\"#DejaVuSans-31\"/>\n       <use xlink:href=\"#DejaVuSans-30\" transform=\"translate(63.623047 0)\"/>\n       <use xlink:href=\"#DejaVuSans-30\" transform=\"translate(127.246094 0)\"/>\n      </g>\n     </g>\n    </g>\n    <g id=\"text_7\">\n     <!-- second -->\n     <g transform=\"translate(206.073438 286.796562) scale(0.1 -0.1)\">\n      <defs>\n       <path id=\"DejaVuSans-73\" d=\"M 2834 3397 \nL 2834 2853 \nQ 2591 2978 2328 3040 \nQ 2066 3103 1784 3103 \nQ 1356 3103 1142 2972 \nQ 928 2841 928 2578 \nQ 928 2378 1081 2264 \nQ 1234 2150 1697 2047 \nL 1894 2003 \nQ 2506 1872 2764 1633 \nQ 3022 1394 3022 966 \nQ 3022 478 2636 193 \nQ 2250 -91 1575 -91 \nQ 1294 -91 989 -36 \nQ 684 19 347 128 \nL 347 722 \nQ 666 556 975 473 \nQ 1284 391 1588 391 \nQ 1994 391 2212 530 \nQ 2431 669 2431 922 \nQ 2431 1156 2273 1281 \nQ 2116 1406 1581 1522 \nL 1381 1569 \nQ 847 1681 609 1914 \nQ 372 2147 372 2553 \nQ 372 3047 722 3315 \nQ 1072 3584 1716 3584 \nQ 2034 3584 2315 3537 \nQ 2597 3491 2834 3397 \nz\n\" transform=\"scale(0.015625)\"/>\n       <path id=\"DejaVuSans-65\" d=\"M 3597 1894 \nL 3597 1613 \nL 953 1613 \nQ 991 1019 1311 708 \nQ 1631 397 2203 397 \nQ 2534 397 2845 478 \nQ 3156 559 3463 722 \nL 3463 178 \nQ 3153 47 2828 -22 \nQ 2503 -91 2169 -91 \nQ 1331 -91 842 396 \nQ 353 884 353 1716 \nQ 353 2575 817 3079 \nQ 1281 3584 2069 3584 \nQ 2775 3584 3186 3129 \nQ 3597 2675 3597 1894 \nz\nM 3022 2063 \nQ 3016 2534 2758 2815 \nQ 2500 3097 2075 3097 \nQ 1594 3097 1305 2825 \nQ 1016 2553 972 2059 \nL 3022 2063 \nz\n\" transform=\"scale(0.015625)\"/>\n       <path id=\"DejaVuSans-63\" d=\"M 3122 3366 \nL 3122 2828 \nQ 2878 2963 2633 3030 \nQ 2388 3097 2138 3097 \nQ 1578 3097 1268 2742 \nQ 959 2388 959 1747 \nQ 959 1106 1268 751 \nQ 1578 397 2138 397 \nQ 2388 397 2633 464 \nQ 2878 531 3122 666 \nL 3122 134 \nQ 2881 22 2623 -34 \nQ 2366 -91 2075 -91 \nQ 1284 -91 818 406 \nQ 353 903 353 1747 \nQ 353 2603 823 3093 \nQ 1294 3584 2113 3584 \nQ 2378 3584 2631 3529 \nQ 2884 3475 3122 3366 \nz\n\" transform=\"scale(0.015625)\"/>\n       <path id=\"DejaVuSans-6f\" d=\"M 1959 3097 \nQ 1497 3097 1228 2736 \nQ 959 2375 959 1747 \nQ 959 1119 1226 758 \nQ 1494 397 1959 397 \nQ 2419 397 2687 759 \nQ 2956 1122 2956 1747 \nQ 2956 2369 2687 2733 \nQ 2419 3097 1959 3097 \nz\nM 1959 3584 \nQ 2709 3584 3137 3096 \nQ 3566 2609 3566 1747 \nQ 3566 888 3137 398 \nQ 2709 -91 1959 -91 \nQ 1206 -91 779 398 \nQ 353 888 353 1747 \nQ 353 2609 779 3096 \nQ 1206 3584 1959 3584 \nz\n\" transform=\"scale(0.015625)\"/>\n       <path id=\"DejaVuSans-6e\" d=\"M 3513 2113 \nL 3513 0 \nL 2938 0 \nL 2938 2094 \nQ 2938 2591 2744 2837 \nQ 2550 3084 2163 3084 \nQ 1697 3084 1428 2787 \nQ 1159 2491 1159 1978 \nL 1159 0 \nL 581 0 \nL 581 3500 \nL 1159 3500 \nL 1159 2956 \nQ 1366 3272 1645 3428 \nQ 1925 3584 2291 3584 \nQ 2894 3584 3203 3211 \nQ 3513 2838 3513 2113 \nz\n\" transform=\"scale(0.015625)\"/>\n       <path id=\"DejaVuSans-64\" d=\"M 2906 2969 \nL 2906 4863 \nL 3481 4863 \nL 3481 0 \nL 2906 0 \nL 2906 525 \nQ 2725 213 2448 61 \nQ 2172 -91 1784 -91 \nQ 1150 -91 751 415 \nQ 353 922 353 1747 \nQ 353 2572 751 3078 \nQ 1150 3584 1784 3584 \nQ 2172 3584 2448 3432 \nQ 2725 3281 2906 2969 \nz\nM 947 1747 \nQ 947 1113 1208 752 \nQ 1469 391 1925 391 \nQ 2381 391 2643 752 \nQ 2906 1113 2906 1747 \nQ 2906 2381 2643 2742 \nQ 2381 3103 1925 3103 \nQ 1469 3103 1208 2742 \nQ 947 2381 947 1747 \nz\n\" transform=\"scale(0.015625)\"/>\n      </defs>\n      <use xlink:href=\"#DejaVuSans-73\"/>\n      <use xlink:href=\"#DejaVuSans-65\" transform=\"translate(52.099609 0)\"/>\n      <use xlink:href=\"#DejaVuSans-63\" transform=\"translate(113.623047 0)\"/>\n      <use xlink:href=\"#DejaVuSans-6f\" transform=\"translate(168.603516 0)\"/>\n      <use xlink:href=\"#DejaVuSans-6e\" transform=\"translate(229.785156 0)\"/>\n      <use xlink:href=\"#DejaVuSans-64\" transform=\"translate(293.164062 0)\"/>\n     </g>\n    </g>\n   </g>\n   <g id=\"matplotlib.axis_2\">\n    <g id=\"ytick_1\">\n     <g id=\"line2d_13\">\n      <path d=\"M 56.50625 248.44 \nL 391.30625 248.44 \n\" clip-path=\"url(#pd3b06b69cb)\" style=\"fill: none; stroke: #b0b0b0; stroke-width: 0.8; stroke-linecap: square\"/>\n     </g>\n     <g id=\"line2d_14\">\n      <defs>\n       <path id=\"mbe81388c88\" d=\"M 0 0 \nL -3.5 0 \n\" style=\"stroke: #000000; stroke-width: 0.8\"/>\n      </defs>\n      <g>\n       <use xlink:href=\"#mbe81388c88\" x=\"56.50625\" y=\"248.44\" style=\"stroke: #000000; stroke-width: 0.8\"/>\n      </g>\n     </g>\n     <g id=\"text_8\">\n      <!-- 0.000 -->\n      <g transform=\"translate(20.878125 252.239219) scale(0.1 -0.1)\">\n       <defs>\n        <path id=\"DejaVuSans-2e\" d=\"M 684 794 \nL 1344 794 \nL 1344 0 \nL 684 0 \nL 684 794 \nz\n\" transform=\"scale(0.015625)\"/>\n       </defs>\n       <use xlink:href=\"#DejaVuSans-30\"/>\n       <use xlink:href=\"#DejaVuSans-2e\" transform=\"translate(63.623047 0)\"/>\n       <use xlink:href=\"#DejaVuSans-30\" transform=\"translate(95.410156 0)\"/>\n       <use xlink:href=\"#DejaVuSans-30\" transform=\"translate(159.033203 0)\"/>\n       <use xlink:href=\"#DejaVuSans-30\" transform=\"translate(222.65625 0)\"/>\n      </g>\n     </g>\n    </g>\n    <g id=\"ytick_2\">\n     <g id=\"line2d_15\">\n      <path d=\"M 56.50625 223.277339 \nL 391.30625 223.277339 \n\" clip-path=\"url(#pd3b06b69cb)\" style=\"fill: none; stroke: #b0b0b0; stroke-width: 0.8; stroke-linecap: square\"/>\n     </g>\n     <g id=\"line2d_16\">\n      <g>\n       <use xlink:href=\"#mbe81388c88\" x=\"56.50625\" y=\"223.277339\" style=\"stroke: #000000; stroke-width: 0.8\"/>\n      </g>\n     </g>\n     <g id=\"text_9\">\n      <!-- 0.005 -->\n      <g transform=\"translate(20.878125 227.076558) scale(0.1 -0.1)\">\n       <defs>\n        <path id=\"DejaVuSans-35\" d=\"M 691 4666 \nL 3169 4666 \nL 3169 4134 \nL 1269 4134 \nL 1269 2991 \nQ 1406 3038 1543 3061 \nQ 1681 3084 1819 3084 \nQ 2600 3084 3056 2656 \nQ 3513 2228 3513 1497 \nQ 3513 744 3044 326 \nQ 2575 -91 1722 -91 \nQ 1428 -91 1123 -41 \nQ 819 9 494 109 \nL 494 744 \nQ 775 591 1075 516 \nQ 1375 441 1709 441 \nQ 2250 441 2565 725 \nQ 2881 1009 2881 1497 \nQ 2881 1984 2565 2268 \nQ 2250 2553 1709 2553 \nQ 1456 2553 1204 2497 \nQ 953 2441 691 2322 \nL 691 4666 \nz\n\" transform=\"scale(0.015625)\"/>\n       </defs>\n       <use xlink:href=\"#DejaVuSans-30\"/>\n       <use xlink:href=\"#DejaVuSans-2e\" transform=\"translate(63.623047 0)\"/>\n       <use xlink:href=\"#DejaVuSans-30\" transform=\"translate(95.410156 0)\"/>\n       <use xlink:href=\"#DejaVuSans-30\" transform=\"translate(159.033203 0)\"/>\n       <use xlink:href=\"#DejaVuSans-35\" transform=\"translate(222.65625 0)\"/>\n      </g>\n     </g>\n    </g>\n    <g id=\"ytick_3\">\n     <g id=\"line2d_17\">\n      <path d=\"M 56.50625 198.114678 \nL 391.30625 198.114678 \n\" clip-path=\"url(#pd3b06b69cb)\" style=\"fill: none; stroke: #b0b0b0; stroke-width: 0.8; stroke-linecap: square\"/>\n     </g>\n     <g id=\"line2d_18\">\n      <g>\n       <use xlink:href=\"#mbe81388c88\" x=\"56.50625\" y=\"198.114678\" style=\"stroke: #000000; stroke-width: 0.8\"/>\n      </g>\n     </g>\n     <g id=\"text_10\">\n      <!-- 0.010 -->\n      <g transform=\"translate(20.878125 201.913897) scale(0.1 -0.1)\">\n       <use xlink:href=\"#DejaVuSans-30\"/>\n       <use xlink:href=\"#DejaVuSans-2e\" transform=\"translate(63.623047 0)\"/>\n       <use xlink:href=\"#DejaVuSans-30\" transform=\"translate(95.410156 0)\"/>\n       <use xlink:href=\"#DejaVuSans-31\" transform=\"translate(159.033203 0)\"/>\n       <use xlink:href=\"#DejaVuSans-30\" transform=\"translate(222.65625 0)\"/>\n      </g>\n     </g>\n    </g>\n    <g id=\"ytick_4\">\n     <g id=\"line2d_19\">\n      <path d=\"M 56.50625 172.952018 \nL 391.30625 172.952018 \n\" clip-path=\"url(#pd3b06b69cb)\" style=\"fill: none; stroke: #b0b0b0; stroke-width: 0.8; stroke-linecap: square\"/>\n     </g>\n     <g id=\"line2d_20\">\n      <g>\n       <use xlink:href=\"#mbe81388c88\" x=\"56.50625\" y=\"172.952018\" style=\"stroke: #000000; stroke-width: 0.8\"/>\n      </g>\n     </g>\n     <g id=\"text_11\">\n      <!-- 0.015 -->\n      <g transform=\"translate(20.878125 176.751236) scale(0.1 -0.1)\">\n       <use xlink:href=\"#DejaVuSans-30\"/>\n       <use xlink:href=\"#DejaVuSans-2e\" transform=\"translate(63.623047 0)\"/>\n       <use xlink:href=\"#DejaVuSans-30\" transform=\"translate(95.410156 0)\"/>\n       <use xlink:href=\"#DejaVuSans-31\" transform=\"translate(159.033203 0)\"/>\n       <use xlink:href=\"#DejaVuSans-35\" transform=\"translate(222.65625 0)\"/>\n      </g>\n     </g>\n    </g>\n    <g id=\"ytick_5\">\n     <g id=\"line2d_21\">\n      <path d=\"M 56.50625 147.789357 \nL 391.30625 147.789357 \n\" clip-path=\"url(#pd3b06b69cb)\" style=\"fill: none; stroke: #b0b0b0; stroke-width: 0.8; stroke-linecap: square\"/>\n     </g>\n     <g id=\"line2d_22\">\n      <g>\n       <use xlink:href=\"#mbe81388c88\" x=\"56.50625\" y=\"147.789357\" style=\"stroke: #000000; stroke-width: 0.8\"/>\n      </g>\n     </g>\n     <g id=\"text_12\">\n      <!-- 0.020 -->\n      <g transform=\"translate(20.878125 151.588576) scale(0.1 -0.1)\">\n       <use xlink:href=\"#DejaVuSans-30\"/>\n       <use xlink:href=\"#DejaVuSans-2e\" transform=\"translate(63.623047 0)\"/>\n       <use xlink:href=\"#DejaVuSans-30\" transform=\"translate(95.410156 0)\"/>\n       <use xlink:href=\"#DejaVuSans-32\" transform=\"translate(159.033203 0)\"/>\n       <use xlink:href=\"#DejaVuSans-30\" transform=\"translate(222.65625 0)\"/>\n      </g>\n     </g>\n    </g>\n    <g id=\"ytick_6\">\n     <g id=\"line2d_23\">\n      <path d=\"M 56.50625 122.626696 \nL 391.30625 122.626696 \n\" clip-path=\"url(#pd3b06b69cb)\" style=\"fill: none; stroke: #b0b0b0; stroke-width: 0.8; stroke-linecap: square\"/>\n     </g>\n     <g id=\"line2d_24\">\n      <g>\n       <use xlink:href=\"#mbe81388c88\" x=\"56.50625\" y=\"122.626696\" style=\"stroke: #000000; stroke-width: 0.8\"/>\n      </g>\n     </g>\n     <g id=\"text_13\">\n      <!-- 0.025 -->\n      <g transform=\"translate(20.878125 126.425915) scale(0.1 -0.1)\">\n       <use xlink:href=\"#DejaVuSans-30\"/>\n       <use xlink:href=\"#DejaVuSans-2e\" transform=\"translate(63.623047 0)\"/>\n       <use xlink:href=\"#DejaVuSans-30\" transform=\"translate(95.410156 0)\"/>\n       <use xlink:href=\"#DejaVuSans-32\" transform=\"translate(159.033203 0)\"/>\n       <use xlink:href=\"#DejaVuSans-35\" transform=\"translate(222.65625 0)\"/>\n      </g>\n     </g>\n    </g>\n    <g id=\"ytick_7\">\n     <g id=\"line2d_25\">\n      <path d=\"M 56.50625 97.464035 \nL 391.30625 97.464035 \n\" clip-path=\"url(#pd3b06b69cb)\" style=\"fill: none; stroke: #b0b0b0; stroke-width: 0.8; stroke-linecap: square\"/>\n     </g>\n     <g id=\"line2d_26\">\n      <g>\n       <use xlink:href=\"#mbe81388c88\" x=\"56.50625\" y=\"97.464035\" style=\"stroke: #000000; stroke-width: 0.8\"/>\n      </g>\n     </g>\n     <g id=\"text_14\">\n      <!-- 0.030 -->\n      <g transform=\"translate(20.878125 101.263254) scale(0.1 -0.1)\">\n       <defs>\n        <path id=\"DejaVuSans-33\" d=\"M 2597 2516 \nQ 3050 2419 3304 2112 \nQ 3559 1806 3559 1356 \nQ 3559 666 3084 287 \nQ 2609 -91 1734 -91 \nQ 1441 -91 1130 -33 \nQ 819 25 488 141 \nL 488 750 \nQ 750 597 1062 519 \nQ 1375 441 1716 441 \nQ 2309 441 2620 675 \nQ 2931 909 2931 1356 \nQ 2931 1769 2642 2001 \nQ 2353 2234 1838 2234 \nL 1294 2234 \nL 1294 2753 \nL 1863 2753 \nQ 2328 2753 2575 2939 \nQ 2822 3125 2822 3475 \nQ 2822 3834 2567 4026 \nQ 2313 4219 1838 4219 \nQ 1578 4219 1281 4162 \nQ 984 4106 628 3988 \nL 628 4550 \nQ 988 4650 1302 4700 \nQ 1616 4750 1894 4750 \nQ 2613 4750 3031 4423 \nQ 3450 4097 3450 3541 \nQ 3450 3153 3228 2886 \nQ 3006 2619 2597 2516 \nz\n\" transform=\"scale(0.015625)\"/>\n       </defs>\n       <use xlink:href=\"#DejaVuSans-30\"/>\n       <use xlink:href=\"#DejaVuSans-2e\" transform=\"translate(63.623047 0)\"/>\n       <use xlink:href=\"#DejaVuSans-30\" transform=\"translate(95.410156 0)\"/>\n       <use xlink:href=\"#DejaVuSans-33\" transform=\"translate(159.033203 0)\"/>\n       <use xlink:href=\"#DejaVuSans-30\" transform=\"translate(222.65625 0)\"/>\n      </g>\n     </g>\n    </g>\n    <g id=\"ytick_8\">\n     <g id=\"line2d_27\">\n      <path d=\"M 56.50625 72.301374 \nL 391.30625 72.301374 \n\" clip-path=\"url(#pd3b06b69cb)\" style=\"fill: none; stroke: #b0b0b0; stroke-width: 0.8; stroke-linecap: square\"/>\n     </g>\n     <g id=\"line2d_28\">\n      <g>\n       <use xlink:href=\"#mbe81388c88\" x=\"56.50625\" y=\"72.301374\" style=\"stroke: #000000; stroke-width: 0.8\"/>\n      </g>\n     </g>\n     <g id=\"text_15\">\n      <!-- 0.035 -->\n      <g transform=\"translate(20.878125 76.100593) scale(0.1 -0.1)\">\n       <use xlink:href=\"#DejaVuSans-30\"/>\n       <use xlink:href=\"#DejaVuSans-2e\" transform=\"translate(63.623047 0)\"/>\n       <use xlink:href=\"#DejaVuSans-30\" transform=\"translate(95.410156 0)\"/>\n       <use xlink:href=\"#DejaVuSans-33\" transform=\"translate(159.033203 0)\"/>\n       <use xlink:href=\"#DejaVuSans-35\" transform=\"translate(222.65625 0)\"/>\n      </g>\n     </g>\n    </g>\n    <g id=\"ytick_9\">\n     <g id=\"line2d_29\">\n      <path d=\"M 56.50625 47.138714 \nL 391.30625 47.138714 \n\" clip-path=\"url(#pd3b06b69cb)\" style=\"fill: none; stroke: #b0b0b0; stroke-width: 0.8; stroke-linecap: square\"/>\n     </g>\n     <g id=\"line2d_30\">\n      <g>\n       <use xlink:href=\"#mbe81388c88\" x=\"56.50625\" y=\"47.138714\" style=\"stroke: #000000; stroke-width: 0.8\"/>\n      </g>\n     </g>\n     <g id=\"text_16\">\n      <!-- 0.040 -->\n      <g transform=\"translate(20.878125 50.937932) scale(0.1 -0.1)\">\n       <use xlink:href=\"#DejaVuSans-30\"/>\n       <use xlink:href=\"#DejaVuSans-2e\" transform=\"translate(63.623047 0)\"/>\n       <use xlink:href=\"#DejaVuSans-30\" transform=\"translate(95.410156 0)\"/>\n       <use xlink:href=\"#DejaVuSans-34\" transform=\"translate(159.033203 0)\"/>\n       <use xlink:href=\"#DejaVuSans-30\" transform=\"translate(222.65625 0)\"/>\n      </g>\n     </g>\n    </g>\n    <g id=\"text_17\">\n     <!-- kilogram/meter²/second -->\n     <g transform=\"translate(14.798438 207.782187) rotate(-90) scale(0.1 -0.1)\">\n      <defs>\n       <path id=\"DejaVuSans-6b\" d=\"M 581 4863 \nL 1159 4863 \nL 1159 1991 \nL 2875 3500 \nL 3609 3500 \nL 1753 1863 \nL 3688 0 \nL 2938 0 \nL 1159 1709 \nL 1159 0 \nL 581 0 \nL 581 4863 \nz\n\" transform=\"scale(0.015625)\"/>\n       <path id=\"DejaVuSans-69\" d=\"M 603 3500 \nL 1178 3500 \nL 1178 0 \nL 603 0 \nL 603 3500 \nz\nM 603 4863 \nL 1178 4863 \nL 1178 4134 \nL 603 4134 \nL 603 4863 \nz\n\" transform=\"scale(0.015625)\"/>\n       <path id=\"DejaVuSans-6c\" d=\"M 603 4863 \nL 1178 4863 \nL 1178 0 \nL 603 0 \nL 603 4863 \nz\n\" transform=\"scale(0.015625)\"/>\n       <path id=\"DejaVuSans-67\" d=\"M 2906 1791 \nQ 2906 2416 2648 2759 \nQ 2391 3103 1925 3103 \nQ 1463 3103 1205 2759 \nQ 947 2416 947 1791 \nQ 947 1169 1205 825 \nQ 1463 481 1925 481 \nQ 2391 481 2648 825 \nQ 2906 1169 2906 1791 \nz\nM 3481 434 \nQ 3481 -459 3084 -895 \nQ 2688 -1331 1869 -1331 \nQ 1566 -1331 1297 -1286 \nQ 1028 -1241 775 -1147 \nL 775 -588 \nQ 1028 -725 1275 -790 \nQ 1522 -856 1778 -856 \nQ 2344 -856 2625 -561 \nQ 2906 -266 2906 331 \nL 2906 616 \nQ 2728 306 2450 153 \nQ 2172 0 1784 0 \nQ 1141 0 747 490 \nQ 353 981 353 1791 \nQ 353 2603 747 3093 \nQ 1141 3584 1784 3584 \nQ 2172 3584 2450 3431 \nQ 2728 3278 2906 2969 \nL 2906 3500 \nL 3481 3500 \nL 3481 434 \nz\n\" transform=\"scale(0.015625)\"/>\n       <path id=\"DejaVuSans-72\" d=\"M 2631 2963 \nQ 2534 3019 2420 3045 \nQ 2306 3072 2169 3072 \nQ 1681 3072 1420 2755 \nQ 1159 2438 1159 1844 \nL 1159 0 \nL 581 0 \nL 581 3500 \nL 1159 3500 \nL 1159 2956 \nQ 1341 3275 1631 3429 \nQ 1922 3584 2338 3584 \nQ 2397 3584 2469 3576 \nQ 2541 3569 2628 3553 \nL 2631 2963 \nz\n\" transform=\"scale(0.015625)\"/>\n       <path id=\"DejaVuSans-61\" d=\"M 2194 1759 \nQ 1497 1759 1228 1600 \nQ 959 1441 959 1056 \nQ 959 750 1161 570 \nQ 1363 391 1709 391 \nQ 2188 391 2477 730 \nQ 2766 1069 2766 1631 \nL 2766 1759 \nL 2194 1759 \nz\nM 3341 1997 \nL 3341 0 \nL 2766 0 \nL 2766 531 \nQ 2569 213 2275 61 \nQ 1981 -91 1556 -91 \nQ 1019 -91 701 211 \nQ 384 513 384 1019 \nQ 384 1609 779 1909 \nQ 1175 2209 1959 2209 \nL 2766 2209 \nL 2766 2266 \nQ 2766 2663 2505 2880 \nQ 2244 3097 1772 3097 \nQ 1472 3097 1187 3025 \nQ 903 2953 641 2809 \nL 641 3341 \nQ 956 3463 1253 3523 \nQ 1550 3584 1831 3584 \nQ 2591 3584 2966 3190 \nQ 3341 2797 3341 1997 \nz\n\" transform=\"scale(0.015625)\"/>\n       <path id=\"DejaVuSans-6d\" d=\"M 3328 2828 \nQ 3544 3216 3844 3400 \nQ 4144 3584 4550 3584 \nQ 5097 3584 5394 3201 \nQ 5691 2819 5691 2113 \nL 5691 0 \nL 5113 0 \nL 5113 2094 \nQ 5113 2597 4934 2840 \nQ 4756 3084 4391 3084 \nQ 3944 3084 3684 2787 \nQ 3425 2491 3425 1978 \nL 3425 0 \nL 2847 0 \nL 2847 2094 \nQ 2847 2600 2669 2842 \nQ 2491 3084 2119 3084 \nQ 1678 3084 1418 2786 \nQ 1159 2488 1159 1978 \nL 1159 0 \nL 581 0 \nL 581 3500 \nL 1159 3500 \nL 1159 2956 \nQ 1356 3278 1631 3431 \nQ 1906 3584 2284 3584 \nQ 2666 3584 2933 3390 \nQ 3200 3197 3328 2828 \nz\n\" transform=\"scale(0.015625)\"/>\n       <path id=\"DejaVuSans-2f\" d=\"M 1625 4666 \nL 2156 4666 \nL 531 -594 \nL 0 -594 \nL 1625 4666 \nz\n\" transform=\"scale(0.015625)\"/>\n       <path id=\"DejaVuSans-74\" d=\"M 1172 4494 \nL 1172 3500 \nL 2356 3500 \nL 2356 3053 \nL 1172 3053 \nL 1172 1153 \nQ 1172 725 1289 603 \nQ 1406 481 1766 481 \nL 2356 481 \nL 2356 0 \nL 1766 0 \nQ 1100 0 847 248 \nQ 594 497 594 1153 \nL 594 3053 \nL 172 3053 \nL 172 3500 \nL 594 3500 \nL 594 4494 \nL 1172 4494 \nz\n\" transform=\"scale(0.015625)\"/>\n       <path id=\"DejaVuSans-b2\" d=\"M 838 2444 \nL 2163 2444 \nL 2163 2088 \nL 294 2088 \nL 294 2431 \nQ 400 2528 597 2703 \nQ 1672 3656 1672 3950 \nQ 1672 4156 1509 4282 \nQ 1347 4409 1081 4409 \nQ 919 4409 728 4354 \nQ 538 4300 313 4191 \nL 313 4575 \nQ 553 4663 761 4706 \nQ 969 4750 1147 4750 \nQ 1600 4750 1872 4544 \nQ 2144 4338 2144 4000 \nQ 2144 3566 1109 2678 \nQ 934 2528 838 2444 \nz\n\" transform=\"scale(0.015625)\"/>\n      </defs>\n      <use xlink:href=\"#DejaVuSans-6b\"/>\n      <use xlink:href=\"#DejaVuSans-69\" transform=\"translate(57.910156 0)\"/>\n      <use xlink:href=\"#DejaVuSans-6c\" transform=\"translate(85.693359 0)\"/>\n      <use xlink:href=\"#DejaVuSans-6f\" transform=\"translate(113.476562 0)\"/>\n      <use xlink:href=\"#DejaVuSans-67\" transform=\"translate(174.658203 0)\"/>\n      <use xlink:href=\"#DejaVuSans-72\" transform=\"translate(238.134766 0)\"/>\n      <use xlink:href=\"#DejaVuSans-61\" transform=\"translate(279.248047 0)\"/>\n      <use xlink:href=\"#DejaVuSans-6d\" transform=\"translate(340.527344 0)\"/>\n      <use xlink:href=\"#DejaVuSans-2f\" transform=\"translate(437.939453 0)\"/>\n      <use xlink:href=\"#DejaVuSans-6d\" transform=\"translate(471.630859 0)\"/>\n      <use xlink:href=\"#DejaVuSans-65\" transform=\"translate(569.042969 0)\"/>\n      <use xlink:href=\"#DejaVuSans-74\" transform=\"translate(630.566406 0)\"/>\n      <use xlink:href=\"#DejaVuSans-65\" transform=\"translate(669.775391 0)\"/>\n      <use xlink:href=\"#DejaVuSans-72\" transform=\"translate(731.298828 0)\"/>\n      <use xlink:href=\"#DejaVuSans-b2\" transform=\"translate(772.412109 0)\"/>\n      <use xlink:href=\"#DejaVuSans-2f\" transform=\"translate(812.5 0)\"/>\n      <use xlink:href=\"#DejaVuSans-73\" transform=\"translate(846.191406 0)\"/>\n      <use xlink:href=\"#DejaVuSans-65\" transform=\"translate(898.291016 0)\"/>\n      <use xlink:href=\"#DejaVuSans-63\" transform=\"translate(959.814453 0)\"/>\n      <use xlink:href=\"#DejaVuSans-6f\" transform=\"translate(1014.794922 0)\"/>\n      <use xlink:href=\"#DejaVuSans-6e\" transform=\"translate(1075.976562 0)\"/>\n      <use xlink:href=\"#DejaVuSans-64\" transform=\"translate(1139.355469 0)\"/>\n     </g>\n    </g>\n   </g>\n   <g id=\"line2d_31\">\n    <path d=\"M 71.724432 248.44 \nL 140.2748 248.334368 \nL 144.540157 248.096992 \nL 147.58684 247.723845 \nL 150.024186 247.218752 \nL 152.156864 246.561475 \nL 153.984874 245.789733 \nL 155.812884 244.780151 \nL 157.640894 243.486228 \nL 159.164235 242.155842 \nL 160.687577 240.566088 \nL 162.210918 238.689208 \nL 163.73426 236.498735 \nL 165.257601 233.970269 \nL 167.085611 230.459841 \nL 168.913621 226.401499 \nL 170.741631 221.77396 \nL 172.569641 216.566387 \nL 174.702319 209.759357 \nL 176.834997 202.186321 \nL 179.272343 192.652353 \nL 182.014358 180.93185 \nL 185.061041 166.911147 \nL 189.326397 146.160208 \nL 196.638437 110.493031 \nL 199.68512 96.726227 \nL 202.427135 85.355038 \nL 204.864481 76.254262 \nL 206.997159 69.180634 \nL 208.825169 63.836796 \nL 210.653179 59.194392 \nL 212.17652 55.880209 \nL 213.699862 53.080682 \nL 215.223203 50.801028 \nL 216.441877 49.352373 \nL 217.66055 48.235688 \nL 218.879223 47.447965 \nL 220.097896 46.984703 \nL 221.011901 46.846683 \nL 221.925906 46.884907 \nL 222.839911 47.096018 \nL 224.058584 47.639966 \nL 225.277257 48.47492 \nL 226.495931 49.590234 \nL 227.714604 50.974444 \nL 229.237945 53.064228 \nL 230.761287 55.530013 \nL 232.589297 58.948296 \nL 234.417307 62.823383 \nL 236.549985 67.857818 \nL 238.987331 74.194994 \nL 241.729346 81.933534 \nL 245.080697 92.049501 \nL 249.95539 107.543917 \nL 260.618781 141.640153 \nL 264.884137 154.436598 \nL 268.540157 164.756935 \nL 271.891508 173.614346 \nL 275.242859 181.853286 \nL 278.289542 188.789193 \nL 281.336225 195.193846 \nL 284.382908 201.073407 \nL 287.429592 206.441585 \nL 290.171606 210.851806 \nL 292.913621 214.88099 \nL 295.655636 218.54861 \nL 298.39765 221.875567 \nL 301.139665 224.883608 \nL 304.186348 227.878718 \nL 307.233031 230.537602 \nL 310.279714 232.88985 \nL 313.326397 234.964004 \nL 316.37308 236.787247 \nL 319.724432 238.533518 \nL 323.075783 240.038809 \nL 326.731803 241.440183 \nL 330.692491 242.713195 \nL 334.957847 243.841947 \nL 339.527872 244.818985 \nL 344.707233 245.689792 \nL 350.495931 246.428089 \nL 357.198633 247.047946 \nL 365.120009 247.546534 \nL 374.869395 247.928047 \nL 376.088068 247.962856 \nL 376.088068 247.962856 \n\" clip-path=\"url(#pd3b06b69cb)\" style=\"fill: none; stroke: #1f77b4; stroke-width: 1.5; stroke-linecap: square\"/>\n   </g>\n   <g id=\"patch_3\">\n    <path d=\"M 56.50625 258.52 \nL 56.50625 36.76 \n\" style=\"fill: none; stroke: #000000; stroke-width: 0.8; stroke-linejoin: miter; stroke-linecap: square\"/>\n   </g>\n   <g id=\"patch_4\">\n    <path d=\"M 391.30625 258.52 \nL 391.30625 36.76 \n\" style=\"fill: none; stroke: #000000; stroke-width: 0.8; stroke-linejoin: miter; stroke-linecap: square\"/>\n   </g>\n   <g id=\"patch_5\">\n    <path d=\"M 56.50625 258.52 \nL 391.30625 258.52 \n\" style=\"fill: none; stroke: #000000; stroke-width: 0.8; stroke-linejoin: miter; stroke-linecap: square\"/>\n   </g>\n   <g id=\"patch_6\">\n    <path d=\"M 56.50625 36.76 \nL 391.30625 36.76 \n\" style=\"fill: none; stroke: #000000; stroke-width: 0.8; stroke-linejoin: miter; stroke-linecap: square\"/>\n   </g>\n  </g>\n  <g id=\"legend_1\">\n   <g id=\"patch_7\">\n    <path d=\"M 256.715625 22.678125 \nL 429.70625 22.678125 \nQ 431.70625 22.678125 431.70625 20.678125 \nL 431.70625 7 \nQ 431.70625 5 429.70625 5 \nL 256.715625 5 \nQ 254.715625 5 254.715625 7 \nL 254.715625 20.678125 \nQ 254.715625 22.678125 256.715625 22.678125 \nz\n\" style=\"fill: #ffffff; opacity: 0.8; stroke: #cccccc; stroke-linejoin: miter\"/>\n   </g>\n   <g id=\"line2d_32\">\n    <path d=\"M 258.715625 13.098438 \nL 268.715625 13.098438 \nL 278.715625 13.098438 \n\" style=\"fill: none; stroke: #1f77b4; stroke-width: 1.5; stroke-linecap: square\"/>\n   </g>\n   <g id=\"text_18\">\n    <!-- equilibrium vapour pressure -->\n    <g transform=\"translate(286.715625 16.598438) scale(0.1 -0.1)\">\n     <defs>\n      <path id=\"DejaVuSans-71\" d=\"M 947 1747 \nQ 947 1113 1208 752 \nQ 1469 391 1925 391 \nQ 2381 391 2643 752 \nQ 2906 1113 2906 1747 \nQ 2906 2381 2643 2742 \nQ 2381 3103 1925 3103 \nQ 1469 3103 1208 2742 \nQ 947 2381 947 1747 \nz\nM 2906 525 \nQ 2725 213 2448 61 \nQ 2172 -91 1784 -91 \nQ 1150 -91 751 415 \nQ 353 922 353 1747 \nQ 353 2572 751 3078 \nQ 1150 3584 1784 3584 \nQ 2172 3584 2448 3432 \nQ 2725 3281 2906 2969 \nL 2906 3500 \nL 3481 3500 \nL 3481 -1331 \nL 2906 -1331 \nL 2906 525 \nz\n\" transform=\"scale(0.015625)\"/>\n      <path id=\"DejaVuSans-75\" d=\"M 544 1381 \nL 544 3500 \nL 1119 3500 \nL 1119 1403 \nQ 1119 906 1312 657 \nQ 1506 409 1894 409 \nQ 2359 409 2629 706 \nQ 2900 1003 2900 1516 \nL 2900 3500 \nL 3475 3500 \nL 3475 0 \nL 2900 0 \nL 2900 538 \nQ 2691 219 2414 64 \nQ 2138 -91 1772 -91 \nQ 1169 -91 856 284 \nQ 544 659 544 1381 \nz\nM 1991 3584 \nL 1991 3584 \nz\n\" transform=\"scale(0.015625)\"/>\n      <path id=\"DejaVuSans-62\" d=\"M 3116 1747 \nQ 3116 2381 2855 2742 \nQ 2594 3103 2138 3103 \nQ 1681 3103 1420 2742 \nQ 1159 2381 1159 1747 \nQ 1159 1113 1420 752 \nQ 1681 391 2138 391 \nQ 2594 391 2855 752 \nQ 3116 1113 3116 1747 \nz\nM 1159 2969 \nQ 1341 3281 1617 3432 \nQ 1894 3584 2278 3584 \nQ 2916 3584 3314 3078 \nQ 3713 2572 3713 1747 \nQ 3713 922 3314 415 \nQ 2916 -91 2278 -91 \nQ 1894 -91 1617 61 \nQ 1341 213 1159 525 \nL 1159 0 \nL 581 0 \nL 581 4863 \nL 1159 4863 \nL 1159 2969 \nz\n\" transform=\"scale(0.015625)\"/>\n      <path id=\"DejaVuSans-20\" transform=\"scale(0.015625)\"/>\n      <path id=\"DejaVuSans-76\" d=\"M 191 3500 \nL 800 3500 \nL 1894 563 \nL 2988 3500 \nL 3597 3500 \nL 2284 0 \nL 1503 0 \nL 191 3500 \nz\n\" transform=\"scale(0.015625)\"/>\n      <path id=\"DejaVuSans-70\" d=\"M 1159 525 \nL 1159 -1331 \nL 581 -1331 \nL 581 3500 \nL 1159 3500 \nL 1159 2969 \nQ 1341 3281 1617 3432 \nQ 1894 3584 2278 3584 \nQ 2916 3584 3314 3078 \nQ 3713 2572 3713 1747 \nQ 3713 922 3314 415 \nQ 2916 -91 2278 -91 \nQ 1894 -91 1617 61 \nQ 1341 213 1159 525 \nz\nM 3116 1747 \nQ 3116 2381 2855 2742 \nQ 2594 3103 2138 3103 \nQ 1681 3103 1420 2742 \nQ 1159 2381 1159 1747 \nQ 1159 1113 1420 752 \nQ 1681 391 2138 391 \nQ 2594 391 2855 752 \nQ 3116 1113 3116 1747 \nz\n\" transform=\"scale(0.015625)\"/>\n     </defs>\n     <use xlink:href=\"#DejaVuSans-65\"/>\n     <use xlink:href=\"#DejaVuSans-71\" transform=\"translate(61.523438 0)\"/>\n     <use xlink:href=\"#DejaVuSans-75\" transform=\"translate(125 0)\"/>\n     <use xlink:href=\"#DejaVuSans-69\" transform=\"translate(188.378906 0)\"/>\n     <use xlink:href=\"#DejaVuSans-6c\" transform=\"translate(216.162109 0)\"/>\n     <use xlink:href=\"#DejaVuSans-69\" transform=\"translate(243.945312 0)\"/>\n     <use xlink:href=\"#DejaVuSans-62\" transform=\"translate(271.728516 0)\"/>\n     <use xlink:href=\"#DejaVuSans-72\" transform=\"translate(335.205078 0)\"/>\n     <use xlink:href=\"#DejaVuSans-69\" transform=\"translate(376.318359 0)\"/>\n     <use xlink:href=\"#DejaVuSans-75\" transform=\"translate(404.101562 0)\"/>\n     <use xlink:href=\"#DejaVuSans-6d\" transform=\"translate(467.480469 0)\"/>\n     <use xlink:href=\"#DejaVuSans-20\" transform=\"translate(564.892578 0)\"/>\n     <use xlink:href=\"#DejaVuSans-76\" transform=\"translate(596.679688 0)\"/>\n     <use xlink:href=\"#DejaVuSans-61\" transform=\"translate(655.859375 0)\"/>\n     <use xlink:href=\"#DejaVuSans-70\" transform=\"translate(717.138672 0)\"/>\n     <use xlink:href=\"#DejaVuSans-6f\" transform=\"translate(780.615234 0)\"/>\n     <use xlink:href=\"#DejaVuSans-75\" transform=\"translate(841.796875 0)\"/>\n     <use xlink:href=\"#DejaVuSans-72\" transform=\"translate(905.175781 0)\"/>\n     <use xlink:href=\"#DejaVuSans-20\" transform=\"translate(946.289062 0)\"/>\n     <use xlink:href=\"#DejaVuSans-70\" transform=\"translate(978.076172 0)\"/>\n     <use xlink:href=\"#DejaVuSans-72\" transform=\"translate(1041.552734 0)\"/>\n     <use xlink:href=\"#DejaVuSans-65\" transform=\"translate(1080.416016 0)\"/>\n     <use xlink:href=\"#DejaVuSans-73\" transform=\"translate(1141.939453 0)\"/>\n     <use xlink:href=\"#DejaVuSans-73\" transform=\"translate(1194.039062 0)\"/>\n     <use xlink:href=\"#DejaVuSans-75\" transform=\"translate(1246.138672 0)\"/>\n     <use xlink:href=\"#DejaVuSans-72\" transform=\"translate(1309.517578 0)\"/>\n     <use xlink:href=\"#DejaVuSans-65\" transform=\"translate(1348.380859 0)\"/>\n    </g>\n   </g>\n  </g>\n </g>\n <defs>\n  <clipPath id=\"pd3b06b69cb\">\n   <rect x=\"56.50625\" y=\"36.76\" width=\"334.8\" height=\"221.76\"/>\n  </clipPath>\n </defs>\n</svg>\n"
     },
     "metadata": {},
     "output_type": "display_data"
    },
    {
     "data": {
      "text/plain": [
       "HBox(children=(HTML(value=\"<a href='.\\\\tmpohjv1vux.pdf' target='_blank'>.\\\\tmpohjv1vux.pdf</a><br>\"), HTML(val…"
      ],
      "application/vnd.jupyter.widget-view+json": {
       "version_major": 2,
       "version_minor": 0,
       "model_id": "5fc51efb38c949f68ac3cff23444ea70"
      }
     },
     "metadata": {},
     "output_type": "display_data"
    }
   ],
   "execution_count": 8
  },
  {
   "metadata": {},
   "cell_type": "markdown",
   "source": [
    "Conclusions from the constructed graph:\n",
    "\n",
    "- ..."
   ],
   "id": "c57798607a7c50fe"
  },
  {
   "metadata": {
    "ExecuteTime": {
     "end_time": "2025-03-21T22:37:34.655311Z",
     "start_time": "2025-03-21T22:37:34.652598Z"
    }
   },
   "cell_type": "code",
   "source": "",
   "id": "3cc4ec7a3321b055",
   "outputs": [],
   "execution_count": null
  },
  {
   "metadata": {
    "ExecuteTime": {
     "end_time": "2025-03-21T22:37:34.669301Z",
     "start_time": "2025-03-21T22:37:34.666042Z"
    }
   },
   "cell_type": "code",
   "source": "",
   "id": "b47abf4a67c1675f",
   "outputs": [],
   "execution_count": null
  }
 ],
 "metadata": {
  "kernelspec": {
   "display_name": "Python 3",
   "language": "python",
   "name": "python3"
  },
  "language_info": {
   "codemirror_mode": {
    "name": "ipython",
    "version": 2
   },
   "file_extension": ".py",
   "mimetype": "text/x-python",
   "name": "python",
   "nbconvert_exporter": "python",
   "pygments_lexer": "ipython2",
   "version": "2.7.6"
  }
 },
 "nbformat": 4,
 "nbformat_minor": 5
}
