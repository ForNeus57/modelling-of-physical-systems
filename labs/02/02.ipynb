{
 "cells": [
  {
   "metadata": {},
   "cell_type": "markdown",
   "source": [
    "# LAB 02 Assigment\n",
    "\n",
    "Dominik Breksa (dominikbreksa@student.agh.edu.pl)"
   ],
   "id": "b808166a0e5e8a67"
  },
  {
   "metadata": {},
   "cell_type": "markdown",
   "source": "### Basic setup of the libraries and packages",
   "id": "cb33e4d6bff9d894"
  },
  {
   "cell_type": "code",
   "id": "initial_id",
   "metadata": {
    "collapsed": true,
    "ExecuteTime": {
     "end_time": "2025-03-20T21:45:48.846261Z",
     "start_time": "2025-03-20T21:45:48.256912Z"
    }
   },
   "source": [
    "import pint\n",
    "import numpy as np\n",
    "import scipy\n",
    "import open_atmos_jupyter_utils\n",
    "from matplotlib import pyplot"
   ],
   "outputs": [],
   "execution_count": 1
  },
  {
   "metadata": {
    "ExecuteTime": {
     "end_time": "2025-03-20T21:45:48.960420Z",
     "start_time": "2025-03-20T21:45:48.846261Z"
    }
   },
   "cell_type": "code",
   "source": [
    "si = pint.UnitRegistry()\n",
    "si.setup_matplotlib()\n",
    "si"
   ],
   "id": "451808f625dcbea1",
   "outputs": [
    {
     "data": {
      "text/plain": [
       "<pint.registry.UnitRegistry at 0x2aef86e1af0>"
      ]
     },
     "execution_count": 2,
     "metadata": {},
     "output_type": "execute_result"
    }
   ],
   "execution_count": 2
  },
  {
   "metadata": {},
   "cell_type": "markdown",
   "source": [
    "My interpretation:\n",
    "\n",
    "- Concentration of solute in a moving laminar stream of liquid with Advection and Diffusion effects\n",
    "\n",
    "$$\n",
    "\\frac{\\partial c}{\\partial t} + U \\frac{\\partial c}{\\partial x} - D \\frac{\\partial^2 c}{\\partial^2 x} = 0\n",
    "$$\n",
    "\n",
    "- Here below is shown the simplified approximate solution to this differential equation as stated in the lecture"
   ],
   "id": "e73ff6a72eb6ddf1"
  },
  {
   "metadata": {},
   "cell_type": "markdown",
   "source": [
    "$$\n",
    "    c(x, t) = \\frac{M}{A}\\frac{1}{2\\sqrt{\\pi D}}\\frac{x}{t^\\frac{3}{2}}e^{\\Bigg( -\\frac{(ut - x)^2}{4Dt} \\Bigg)}\n",
    "$$"
   ],
   "id": "bf11880220482e3b"
  },
  {
   "metadata": {},
   "cell_type": "markdown",
   "source": "",
   "id": "c86ec6c271b637b7"
  },
  {
   "metadata": {},
   "cell_type": "markdown",
   "source": [
    "### Units and symbols analysis\n",
    "\n",
    "- $ x $ — The measure of length in meters ($ m $).\n",
    "- $ t $ — Time in seconds ($ s $). Deducted from the X axis on the assigment plot.\n",
    "- $ c(x, t) $ — concentration of solute in kilograms times cubic meters ($ kgm^3 $). Deducted from Y axis on the lecture plot.\n",
    "- $ D $ — Diffusion coefficient in meters squared divided by seconds ($ \\frac{m^2}{s} $). Source: II Fick's Law.\n",
    "- $ u $ — The speed of the flux ???? ... in meters per second ($ \\frac{m}{s} $).\n",
    "- $ M $ — Mass of the solute in kilograms ($ kg $).\n",
    "- $ A $ — Volumetric flow rate in meters cubed times second ($ m^3s$)\n"
   ],
   "id": "fea5c25dfc7b6125"
  },
  {
   "metadata": {},
   "cell_type": "markdown",
   "source": [
    "After the analysis of the formula $ c(x, t) $ plotted on the lecture slide, we can deduce that:\n",
    "- the $ x $ is constant meaning the measurement point is not moving in time.\n",
    "- The curve global maxima is at the time of around $ t=50s $, this concludes that"
   ],
   "id": "d6af8525775933fa"
  },
  {
   "metadata": {
    "ExecuteTime": {
     "end_time": "2025-03-20T22:03:50.378172Z",
     "start_time": "2025-03-20T22:03:50.372674Z"
    }
   },
   "cell_type": "code",
   "source": [
    "M = np.float64(0.5) * si.kg\n",
    "A = np.float64(5.5) * si.m ** 3 * si.s\n",
    "D = np.float64(0.9) * si.m ** 2 / si.s\n",
    "U = np.float64(1) * si.m / si.s\n",
    "X = np.float64(50) * si.m"
   ],
   "id": "254629bb61d75f1",
   "outputs": [],
   "execution_count": 111
  },
  {
   "metadata": {
    "ExecuteTime": {
     "end_time": "2025-03-20T22:03:50.670988Z",
     "start_time": "2025-03-20T22:03:50.666129Z"
    }
   },
   "cell_type": "code",
   "source": "T = np.linspace(0.1, 100.1, 1000) * si.s  # Cannot divide by zero, so the first element is 0.1",
   "id": "ebfe8f5f3aeb9a29",
   "outputs": [],
   "execution_count": 112
  },
  {
   "metadata": {
    "ExecuteTime": {
     "end_time": "2025-03-20T22:03:50.971556Z",
     "start_time": "2025-03-20T22:03:50.965862Z"
    }
   },
   "cell_type": "code",
   "source": [
    "from typing import Callable\n",
    "\n",
    "\n",
    "def fill_c_function(m, a, d, u) -> Callable:\n",
    "    \"\"\"Simple wrapper to fill the c(x,t)\"\"\"\n",
    "\n",
    "    def c(x, t):\n",
    "        nonlocal m\n",
    "        nonlocal a\n",
    "        nonlocal d\n",
    "        nonlocal u\n",
    "\n",
    "        return (m * x * np.exp((-(u * t - x) ** 2) / (4 * d * t))) / (2 * a * np.sqrt(np.pi * d * t) * t)\n",
    "\n",
    "    return c\n",
    "\n",
    "def fill_c_with_x(c: Callable, x) -> Callable:\n",
    "    \"\"\"...\"\"\"\n",
    "\n",
    "    def c_with_x(t):\n",
    "        nonlocal x\n",
    "        return c(x, t)\n",
    "\n",
    "    return c_with_x"
   ],
   "id": "5c6826ff7c0e6b0e",
   "outputs": [],
   "execution_count": 113
  },
  {
   "metadata": {
    "ExecuteTime": {
     "end_time": "2025-03-20T22:03:51.324414Z",
     "start_time": "2025-03-20T22:03:51.319711Z"
    }
   },
   "cell_type": "code",
   "source": [
    "C = fill_c_function(M, A, D, U)\n",
    "C_with_const_x = fill_c_with_x(C, X)"
   ],
   "id": "f335d2a5c4fbf4a1",
   "outputs": [],
   "execution_count": 114
  },
  {
   "metadata": {},
   "cell_type": "code",
   "outputs": [],
   "execution_count": null,
   "source": [
    "C_result = C_with_const_x(T)\n",
    "\n",
    "assert True, 'The units must mach'"
   ],
   "id": "3575361a3ee112ba"
  },
  {
   "metadata": {
    "ExecuteTime": {
     "end_time": "2025-03-20T22:03:52.387278Z",
     "start_time": "2025-03-20T22:03:52.174157Z"
    }
   },
   "cell_type": "code",
   "source": [
    "fig = pyplot.figure(figsize=(6.5, 3.5))\n",
    "fig.gca().plot(T, C_result, label='equilibrium vapour pressure')\n",
    "fig.legend()\n",
    "fig.gca().grid()\n",
    "open_atmos_jupyter_utils.show_plot(fig=fig)"
   ],
   "id": "251b933491b5dee6",
   "outputs": [
    {
     "data": {
      "text/plain": [
       "<Figure size 650x350 with 1 Axes>"
      ],
      "image/svg+xml": "<?xml version=\"1.0\" encoding=\"utf-8\" standalone=\"no\"?>\n<!DOCTYPE svg PUBLIC \"-//W3C//DTD SVG 1.1//EN\"\n  \"http://www.w3.org/Graphics/SVG/1.1/DTD/svg11.dtd\">\n<svg xmlns:xlink=\"http://www.w3.org/1999/xlink\" width=\"474.56875pt\" height=\"264.03625pt\" viewBox=\"0 0 474.56875 264.03625\" xmlns=\"http://www.w3.org/2000/svg\" version=\"1.1\">\n <metadata>\n  <rdf:RDF xmlns:dc=\"http://purl.org/dc/elements/1.1/\" xmlns:cc=\"http://creativecommons.org/ns#\" xmlns:rdf=\"http://www.w3.org/1999/02/22-rdf-syntax-ns#\">\n   <cc:Work>\n    <dc:type rdf:resource=\"http://purl.org/dc/dcmitype/StillImage\"/>\n    <dc:date>2025-03-20T23:03:52.359135</dc:date>\n    <dc:format>image/svg+xml</dc:format>\n    <dc:creator>\n     <cc:Agent>\n      <dc:title>Matplotlib v3.10.1, https://matplotlib.org/</dc:title>\n     </cc:Agent>\n    </dc:creator>\n   </cc:Work>\n  </rdf:RDF>\n </metadata>\n <defs>\n  <style type=\"text/css\">*{stroke-linejoin: round; stroke-linecap: butt}</style>\n </defs>\n <g id=\"figure_1\">\n  <g id=\"patch_1\">\n   <path d=\"M 0 264.03625 \nL 474.56875 264.03625 \nL 474.56875 0 \nL 0 0 \nz\n\" style=\"fill: #ffffff\"/>\n  </g>\n  <g id=\"axes_1\">\n   <g id=\"patch_2\">\n    <path d=\"M 62.86875 226.48 \nL 425.56875 226.48 \nL 425.56875 32.44 \nL 62.86875 32.44 \nz\n\" style=\"fill: #ffffff\"/>\n   </g>\n   <g id=\"matplotlib.axis_1\">\n    <g id=\"xtick_1\">\n     <g id=\"line2d_1\">\n      <path d=\"M 79.025386 226.48 \nL 79.025386 32.44 \n\" clip-path=\"url(#p8608ffd508)\" style=\"fill: none; stroke: #b0b0b0; stroke-width: 0.8; stroke-linecap: square\"/>\n     </g>\n     <g id=\"line2d_2\">\n      <defs>\n       <path id=\"mc2fad2e6bc\" d=\"M 0 0 \nL 0 3.5 \n\" style=\"stroke: #000000; stroke-width: 0.8\"/>\n      </defs>\n      <g>\n       <use xlink:href=\"#mc2fad2e6bc\" x=\"79.025386\" y=\"226.48\" style=\"stroke: #000000; stroke-width: 0.8\"/>\n      </g>\n     </g>\n     <g id=\"text_1\">\n      <!-- 0 -->\n      <g transform=\"translate(75.844136 241.078438) scale(0.1 -0.1)\">\n       <defs>\n        <path id=\"DejaVuSans-30\" d=\"M 2034 4250 \nQ 1547 4250 1301 3770 \nQ 1056 3291 1056 2328 \nQ 1056 1369 1301 889 \nQ 1547 409 2034 409 \nQ 2525 409 2770 889 \nQ 3016 1369 3016 2328 \nQ 3016 3291 2770 3770 \nQ 2525 4250 2034 4250 \nz\nM 2034 4750 \nQ 2819 4750 3233 4129 \nQ 3647 3509 3647 2328 \nQ 3647 1150 3233 529 \nQ 2819 -91 2034 -91 \nQ 1250 -91 836 529 \nQ 422 1150 422 2328 \nQ 422 3509 836 4129 \nQ 1250 4750 2034 4750 \nz\n\" transform=\"scale(0.015625)\"/>\n       </defs>\n       <use xlink:href=\"#DejaVuSans-30\"/>\n      </g>\n     </g>\n    </g>\n    <g id=\"xtick_2\">\n     <g id=\"line2d_3\">\n      <path d=\"M 144.970841 226.48 \nL 144.970841 32.44 \n\" clip-path=\"url(#p8608ffd508)\" style=\"fill: none; stroke: #b0b0b0; stroke-width: 0.8; stroke-linecap: square\"/>\n     </g>\n     <g id=\"line2d_4\">\n      <g>\n       <use xlink:href=\"#mc2fad2e6bc\" x=\"144.970841\" y=\"226.48\" style=\"stroke: #000000; stroke-width: 0.8\"/>\n      </g>\n     </g>\n     <g id=\"text_2\">\n      <!-- 20 -->\n      <g transform=\"translate(138.608341 241.078438) scale(0.1 -0.1)\">\n       <defs>\n        <path id=\"DejaVuSans-32\" d=\"M 1228 531 \nL 3431 531 \nL 3431 0 \nL 469 0 \nL 469 531 \nQ 828 903 1448 1529 \nQ 2069 2156 2228 2338 \nQ 2531 2678 2651 2914 \nQ 2772 3150 2772 3378 \nQ 2772 3750 2511 3984 \nQ 2250 4219 1831 4219 \nQ 1534 4219 1204 4116 \nQ 875 4013 500 3803 \nL 500 4441 \nQ 881 4594 1212 4672 \nQ 1544 4750 1819 4750 \nQ 2544 4750 2975 4387 \nQ 3406 4025 3406 3419 \nQ 3406 3131 3298 2873 \nQ 3191 2616 2906 2266 \nQ 2828 2175 2409 1742 \nQ 1991 1309 1228 531 \nz\n\" transform=\"scale(0.015625)\"/>\n       </defs>\n       <use xlink:href=\"#DejaVuSans-32\"/>\n       <use xlink:href=\"#DejaVuSans-30\" transform=\"translate(63.623047 0)\"/>\n      </g>\n     </g>\n    </g>\n    <g id=\"xtick_3\">\n     <g id=\"line2d_5\">\n      <path d=\"M 210.916295 226.48 \nL 210.916295 32.44 \n\" clip-path=\"url(#p8608ffd508)\" style=\"fill: none; stroke: #b0b0b0; stroke-width: 0.8; stroke-linecap: square\"/>\n     </g>\n     <g id=\"line2d_6\">\n      <g>\n       <use xlink:href=\"#mc2fad2e6bc\" x=\"210.916295\" y=\"226.48\" style=\"stroke: #000000; stroke-width: 0.8\"/>\n      </g>\n     </g>\n     <g id=\"text_3\">\n      <!-- 40 -->\n      <g transform=\"translate(204.553795 241.078438) scale(0.1 -0.1)\">\n       <defs>\n        <path id=\"DejaVuSans-34\" d=\"M 2419 4116 \nL 825 1625 \nL 2419 1625 \nL 2419 4116 \nz\nM 2253 4666 \nL 3047 4666 \nL 3047 1625 \nL 3713 1625 \nL 3713 1100 \nL 3047 1100 \nL 3047 0 \nL 2419 0 \nL 2419 1100 \nL 313 1100 \nL 313 1709 \nL 2253 4666 \nz\n\" transform=\"scale(0.015625)\"/>\n       </defs>\n       <use xlink:href=\"#DejaVuSans-34\"/>\n       <use xlink:href=\"#DejaVuSans-30\" transform=\"translate(63.623047 0)\"/>\n      </g>\n     </g>\n    </g>\n    <g id=\"xtick_4\">\n     <g id=\"line2d_7\">\n      <path d=\"M 276.86175 226.48 \nL 276.86175 32.44 \n\" clip-path=\"url(#p8608ffd508)\" style=\"fill: none; stroke: #b0b0b0; stroke-width: 0.8; stroke-linecap: square\"/>\n     </g>\n     <g id=\"line2d_8\">\n      <g>\n       <use xlink:href=\"#mc2fad2e6bc\" x=\"276.86175\" y=\"226.48\" style=\"stroke: #000000; stroke-width: 0.8\"/>\n      </g>\n     </g>\n     <g id=\"text_4\">\n      <!-- 60 -->\n      <g transform=\"translate(270.49925 241.078438) scale(0.1 -0.1)\">\n       <defs>\n        <path id=\"DejaVuSans-36\" d=\"M 2113 2584 \nQ 1688 2584 1439 2293 \nQ 1191 2003 1191 1497 \nQ 1191 994 1439 701 \nQ 1688 409 2113 409 \nQ 2538 409 2786 701 \nQ 3034 994 3034 1497 \nQ 3034 2003 2786 2293 \nQ 2538 2584 2113 2584 \nz\nM 3366 4563 \nL 3366 3988 \nQ 3128 4100 2886 4159 \nQ 2644 4219 2406 4219 \nQ 1781 4219 1451 3797 \nQ 1122 3375 1075 2522 \nQ 1259 2794 1537 2939 \nQ 1816 3084 2150 3084 \nQ 2853 3084 3261 2657 \nQ 3669 2231 3669 1497 \nQ 3669 778 3244 343 \nQ 2819 -91 2113 -91 \nQ 1303 -91 875 529 \nQ 447 1150 447 2328 \nQ 447 3434 972 4092 \nQ 1497 4750 2381 4750 \nQ 2619 4750 2861 4703 \nQ 3103 4656 3366 4563 \nz\n\" transform=\"scale(0.015625)\"/>\n       </defs>\n       <use xlink:href=\"#DejaVuSans-36\"/>\n       <use xlink:href=\"#DejaVuSans-30\" transform=\"translate(63.623047 0)\"/>\n      </g>\n     </g>\n    </g>\n    <g id=\"xtick_5\">\n     <g id=\"line2d_9\">\n      <path d=\"M 342.807205 226.48 \nL 342.807205 32.44 \n\" clip-path=\"url(#p8608ffd508)\" style=\"fill: none; stroke: #b0b0b0; stroke-width: 0.8; stroke-linecap: square\"/>\n     </g>\n     <g id=\"line2d_10\">\n      <g>\n       <use xlink:href=\"#mc2fad2e6bc\" x=\"342.807205\" y=\"226.48\" style=\"stroke: #000000; stroke-width: 0.8\"/>\n      </g>\n     </g>\n     <g id=\"text_5\">\n      <!-- 80 -->\n      <g transform=\"translate(336.444705 241.078438) scale(0.1 -0.1)\">\n       <defs>\n        <path id=\"DejaVuSans-38\" d=\"M 2034 2216 \nQ 1584 2216 1326 1975 \nQ 1069 1734 1069 1313 \nQ 1069 891 1326 650 \nQ 1584 409 2034 409 \nQ 2484 409 2743 651 \nQ 3003 894 3003 1313 \nQ 3003 1734 2745 1975 \nQ 2488 2216 2034 2216 \nz\nM 1403 2484 \nQ 997 2584 770 2862 \nQ 544 3141 544 3541 \nQ 544 4100 942 4425 \nQ 1341 4750 2034 4750 \nQ 2731 4750 3128 4425 \nQ 3525 4100 3525 3541 \nQ 3525 3141 3298 2862 \nQ 3072 2584 2669 2484 \nQ 3125 2378 3379 2068 \nQ 3634 1759 3634 1313 \nQ 3634 634 3220 271 \nQ 2806 -91 2034 -91 \nQ 1263 -91 848 271 \nQ 434 634 434 1313 \nQ 434 1759 690 2068 \nQ 947 2378 1403 2484 \nz\nM 1172 3481 \nQ 1172 3119 1398 2916 \nQ 1625 2713 2034 2713 \nQ 2441 2713 2670 2916 \nQ 2900 3119 2900 3481 \nQ 2900 3844 2670 4047 \nQ 2441 4250 2034 4250 \nQ 1625 4250 1398 4047 \nQ 1172 3844 1172 3481 \nz\n\" transform=\"scale(0.015625)\"/>\n       </defs>\n       <use xlink:href=\"#DejaVuSans-38\"/>\n       <use xlink:href=\"#DejaVuSans-30\" transform=\"translate(63.623047 0)\"/>\n      </g>\n     </g>\n    </g>\n    <g id=\"xtick_6\">\n     <g id=\"line2d_11\">\n      <path d=\"M 408.752659 226.48 \nL 408.752659 32.44 \n\" clip-path=\"url(#p8608ffd508)\" style=\"fill: none; stroke: #b0b0b0; stroke-width: 0.8; stroke-linecap: square\"/>\n     </g>\n     <g id=\"line2d_12\">\n      <g>\n       <use xlink:href=\"#mc2fad2e6bc\" x=\"408.752659\" y=\"226.48\" style=\"stroke: #000000; stroke-width: 0.8\"/>\n      </g>\n     </g>\n     <g id=\"text_6\">\n      <!-- 100 -->\n      <g transform=\"translate(399.208909 241.078438) scale(0.1 -0.1)\">\n       <defs>\n        <path id=\"DejaVuSans-31\" d=\"M 794 531 \nL 1825 531 \nL 1825 4091 \nL 703 3866 \nL 703 4441 \nL 1819 4666 \nL 2450 4666 \nL 2450 531 \nL 3481 531 \nL 3481 0 \nL 794 0 \nL 794 531 \nz\n\" transform=\"scale(0.015625)\"/>\n       </defs>\n       <use xlink:href=\"#DejaVuSans-31\"/>\n       <use xlink:href=\"#DejaVuSans-30\" transform=\"translate(63.623047 0)\"/>\n       <use xlink:href=\"#DejaVuSans-30\" transform=\"translate(127.246094 0)\"/>\n      </g>\n     </g>\n    </g>\n    <g id=\"text_7\">\n     <!-- second -->\n     <g transform=\"translate(226.385938 254.756563) scale(0.1 -0.1)\">\n      <defs>\n       <path id=\"DejaVuSans-73\" d=\"M 2834 3397 \nL 2834 2853 \nQ 2591 2978 2328 3040 \nQ 2066 3103 1784 3103 \nQ 1356 3103 1142 2972 \nQ 928 2841 928 2578 \nQ 928 2378 1081 2264 \nQ 1234 2150 1697 2047 \nL 1894 2003 \nQ 2506 1872 2764 1633 \nQ 3022 1394 3022 966 \nQ 3022 478 2636 193 \nQ 2250 -91 1575 -91 \nQ 1294 -91 989 -36 \nQ 684 19 347 128 \nL 347 722 \nQ 666 556 975 473 \nQ 1284 391 1588 391 \nQ 1994 391 2212 530 \nQ 2431 669 2431 922 \nQ 2431 1156 2273 1281 \nQ 2116 1406 1581 1522 \nL 1381 1569 \nQ 847 1681 609 1914 \nQ 372 2147 372 2553 \nQ 372 3047 722 3315 \nQ 1072 3584 1716 3584 \nQ 2034 3584 2315 3537 \nQ 2597 3491 2834 3397 \nz\n\" transform=\"scale(0.015625)\"/>\n       <path id=\"DejaVuSans-65\" d=\"M 3597 1894 \nL 3597 1613 \nL 953 1613 \nQ 991 1019 1311 708 \nQ 1631 397 2203 397 \nQ 2534 397 2845 478 \nQ 3156 559 3463 722 \nL 3463 178 \nQ 3153 47 2828 -22 \nQ 2503 -91 2169 -91 \nQ 1331 -91 842 396 \nQ 353 884 353 1716 \nQ 353 2575 817 3079 \nQ 1281 3584 2069 3584 \nQ 2775 3584 3186 3129 \nQ 3597 2675 3597 1894 \nz\nM 3022 2063 \nQ 3016 2534 2758 2815 \nQ 2500 3097 2075 3097 \nQ 1594 3097 1305 2825 \nQ 1016 2553 972 2059 \nL 3022 2063 \nz\n\" transform=\"scale(0.015625)\"/>\n       <path id=\"DejaVuSans-63\" d=\"M 3122 3366 \nL 3122 2828 \nQ 2878 2963 2633 3030 \nQ 2388 3097 2138 3097 \nQ 1578 3097 1268 2742 \nQ 959 2388 959 1747 \nQ 959 1106 1268 751 \nQ 1578 397 2138 397 \nQ 2388 397 2633 464 \nQ 2878 531 3122 666 \nL 3122 134 \nQ 2881 22 2623 -34 \nQ 2366 -91 2075 -91 \nQ 1284 -91 818 406 \nQ 353 903 353 1747 \nQ 353 2603 823 3093 \nQ 1294 3584 2113 3584 \nQ 2378 3584 2631 3529 \nQ 2884 3475 3122 3366 \nz\n\" transform=\"scale(0.015625)\"/>\n       <path id=\"DejaVuSans-6f\" d=\"M 1959 3097 \nQ 1497 3097 1228 2736 \nQ 959 2375 959 1747 \nQ 959 1119 1226 758 \nQ 1494 397 1959 397 \nQ 2419 397 2687 759 \nQ 2956 1122 2956 1747 \nQ 2956 2369 2687 2733 \nQ 2419 3097 1959 3097 \nz\nM 1959 3584 \nQ 2709 3584 3137 3096 \nQ 3566 2609 3566 1747 \nQ 3566 888 3137 398 \nQ 2709 -91 1959 -91 \nQ 1206 -91 779 398 \nQ 353 888 353 1747 \nQ 353 2609 779 3096 \nQ 1206 3584 1959 3584 \nz\n\" transform=\"scale(0.015625)\"/>\n       <path id=\"DejaVuSans-6e\" d=\"M 3513 2113 \nL 3513 0 \nL 2938 0 \nL 2938 2094 \nQ 2938 2591 2744 2837 \nQ 2550 3084 2163 3084 \nQ 1697 3084 1428 2787 \nQ 1159 2491 1159 1978 \nL 1159 0 \nL 581 0 \nL 581 3500 \nL 1159 3500 \nL 1159 2956 \nQ 1366 3272 1645 3428 \nQ 1925 3584 2291 3584 \nQ 2894 3584 3203 3211 \nQ 3513 2838 3513 2113 \nz\n\" transform=\"scale(0.015625)\"/>\n       <path id=\"DejaVuSans-64\" d=\"M 2906 2969 \nL 2906 4863 \nL 3481 4863 \nL 3481 0 \nL 2906 0 \nL 2906 525 \nQ 2725 213 2448 61 \nQ 2172 -91 1784 -91 \nQ 1150 -91 751 415 \nQ 353 922 353 1747 \nQ 353 2572 751 3078 \nQ 1150 3584 1784 3584 \nQ 2172 3584 2448 3432 \nQ 2725 3281 2906 2969 \nz\nM 947 1747 \nQ 947 1113 1208 752 \nQ 1469 391 1925 391 \nQ 2381 391 2643 752 \nQ 2906 1113 2906 1747 \nQ 2906 2381 2643 2742 \nQ 2381 3103 1925 3103 \nQ 1469 3103 1208 2742 \nQ 947 2381 947 1747 \nz\n\" transform=\"scale(0.015625)\"/>\n      </defs>\n      <use xlink:href=\"#DejaVuSans-73\"/>\n      <use xlink:href=\"#DejaVuSans-65\" transform=\"translate(52.099609 0)\"/>\n      <use xlink:href=\"#DejaVuSans-63\" transform=\"translate(113.623047 0)\"/>\n      <use xlink:href=\"#DejaVuSans-6f\" transform=\"translate(168.603516 0)\"/>\n      <use xlink:href=\"#DejaVuSans-6e\" transform=\"translate(229.785156 0)\"/>\n      <use xlink:href=\"#DejaVuSans-64\" transform=\"translate(293.164062 0)\"/>\n     </g>\n    </g>\n   </g>\n   <g id=\"matplotlib.axis_2\">\n    <g id=\"ytick_1\">\n     <g id=\"line2d_13\">\n      <path d=\"M 62.86875 217.66 \nL 425.56875 217.66 \n\" clip-path=\"url(#p8608ffd508)\" style=\"fill: none; stroke: #b0b0b0; stroke-width: 0.8; stroke-linecap: square\"/>\n     </g>\n     <g id=\"line2d_14\">\n      <defs>\n       <path id=\"m1bd324a3f7\" d=\"M 0 0 \nL -3.5 0 \n\" style=\"stroke: #000000; stroke-width: 0.8\"/>\n      </defs>\n      <g>\n       <use xlink:href=\"#m1bd324a3f7\" x=\"62.86875\" y=\"217.66\" style=\"stroke: #000000; stroke-width: 0.8\"/>\n      </g>\n     </g>\n     <g id=\"text_8\">\n      <!-- 0.0000 -->\n      <g transform=\"translate(20.878125 221.459219) scale(0.1 -0.1)\">\n       <defs>\n        <path id=\"DejaVuSans-2e\" d=\"M 684 794 \nL 1344 794 \nL 1344 0 \nL 684 0 \nL 684 794 \nz\n\" transform=\"scale(0.015625)\"/>\n       </defs>\n       <use xlink:href=\"#DejaVuSans-30\"/>\n       <use xlink:href=\"#DejaVuSans-2e\" transform=\"translate(63.623047 0)\"/>\n       <use xlink:href=\"#DejaVuSans-30\" transform=\"translate(95.410156 0)\"/>\n       <use xlink:href=\"#DejaVuSans-30\" transform=\"translate(159.033203 0)\"/>\n       <use xlink:href=\"#DejaVuSans-30\" transform=\"translate(222.65625 0)\"/>\n       <use xlink:href=\"#DejaVuSans-30\" transform=\"translate(286.279297 0)\"/>\n      </g>\n     </g>\n    </g>\n    <g id=\"ytick_2\">\n     <g id=\"line2d_15\">\n      <path d=\"M 62.86875 195.504091 \nL 425.56875 195.504091 \n\" clip-path=\"url(#p8608ffd508)\" style=\"fill: none; stroke: #b0b0b0; stroke-width: 0.8; stroke-linecap: square\"/>\n     </g>\n     <g id=\"line2d_16\">\n      <g>\n       <use xlink:href=\"#m1bd324a3f7\" x=\"62.86875\" y=\"195.504091\" style=\"stroke: #000000; stroke-width: 0.8\"/>\n      </g>\n     </g>\n     <g id=\"text_9\">\n      <!-- 0.0005 -->\n      <g transform=\"translate(20.878125 199.30331) scale(0.1 -0.1)\">\n       <defs>\n        <path id=\"DejaVuSans-35\" d=\"M 691 4666 \nL 3169 4666 \nL 3169 4134 \nL 1269 4134 \nL 1269 2991 \nQ 1406 3038 1543 3061 \nQ 1681 3084 1819 3084 \nQ 2600 3084 3056 2656 \nQ 3513 2228 3513 1497 \nQ 3513 744 3044 326 \nQ 2575 -91 1722 -91 \nQ 1428 -91 1123 -41 \nQ 819 9 494 109 \nL 494 744 \nQ 775 591 1075 516 \nQ 1375 441 1709 441 \nQ 2250 441 2565 725 \nQ 2881 1009 2881 1497 \nQ 2881 1984 2565 2268 \nQ 2250 2553 1709 2553 \nQ 1456 2553 1204 2497 \nQ 953 2441 691 2322 \nL 691 4666 \nz\n\" transform=\"scale(0.015625)\"/>\n       </defs>\n       <use xlink:href=\"#DejaVuSans-30\"/>\n       <use xlink:href=\"#DejaVuSans-2e\" transform=\"translate(63.623047 0)\"/>\n       <use xlink:href=\"#DejaVuSans-30\" transform=\"translate(95.410156 0)\"/>\n       <use xlink:href=\"#DejaVuSans-30\" transform=\"translate(159.033203 0)\"/>\n       <use xlink:href=\"#DejaVuSans-30\" transform=\"translate(222.65625 0)\"/>\n       <use xlink:href=\"#DejaVuSans-35\" transform=\"translate(286.279297 0)\"/>\n      </g>\n     </g>\n    </g>\n    <g id=\"ytick_3\">\n     <g id=\"line2d_17\">\n      <path d=\"M 62.86875 173.348182 \nL 425.56875 173.348182 \n\" clip-path=\"url(#p8608ffd508)\" style=\"fill: none; stroke: #b0b0b0; stroke-width: 0.8; stroke-linecap: square\"/>\n     </g>\n     <g id=\"line2d_18\">\n      <g>\n       <use xlink:href=\"#m1bd324a3f7\" x=\"62.86875\" y=\"173.348182\" style=\"stroke: #000000; stroke-width: 0.8\"/>\n      </g>\n     </g>\n     <g id=\"text_10\">\n      <!-- 0.0010 -->\n      <g transform=\"translate(20.878125 177.147401) scale(0.1 -0.1)\">\n       <use xlink:href=\"#DejaVuSans-30\"/>\n       <use xlink:href=\"#DejaVuSans-2e\" transform=\"translate(63.623047 0)\"/>\n       <use xlink:href=\"#DejaVuSans-30\" transform=\"translate(95.410156 0)\"/>\n       <use xlink:href=\"#DejaVuSans-30\" transform=\"translate(159.033203 0)\"/>\n       <use xlink:href=\"#DejaVuSans-31\" transform=\"translate(222.65625 0)\"/>\n       <use xlink:href=\"#DejaVuSans-30\" transform=\"translate(286.279297 0)\"/>\n      </g>\n     </g>\n    </g>\n    <g id=\"ytick_4\">\n     <g id=\"line2d_19\">\n      <path d=\"M 62.86875 151.192274 \nL 425.56875 151.192274 \n\" clip-path=\"url(#p8608ffd508)\" style=\"fill: none; stroke: #b0b0b0; stroke-width: 0.8; stroke-linecap: square\"/>\n     </g>\n     <g id=\"line2d_20\">\n      <g>\n       <use xlink:href=\"#m1bd324a3f7\" x=\"62.86875\" y=\"151.192274\" style=\"stroke: #000000; stroke-width: 0.8\"/>\n      </g>\n     </g>\n     <g id=\"text_11\">\n      <!-- 0.0015 -->\n      <g transform=\"translate(20.878125 154.991492) scale(0.1 -0.1)\">\n       <use xlink:href=\"#DejaVuSans-30\"/>\n       <use xlink:href=\"#DejaVuSans-2e\" transform=\"translate(63.623047 0)\"/>\n       <use xlink:href=\"#DejaVuSans-30\" transform=\"translate(95.410156 0)\"/>\n       <use xlink:href=\"#DejaVuSans-30\" transform=\"translate(159.033203 0)\"/>\n       <use xlink:href=\"#DejaVuSans-31\" transform=\"translate(222.65625 0)\"/>\n       <use xlink:href=\"#DejaVuSans-35\" transform=\"translate(286.279297 0)\"/>\n      </g>\n     </g>\n    </g>\n    <g id=\"ytick_5\">\n     <g id=\"line2d_21\">\n      <path d=\"M 62.86875 129.036365 \nL 425.56875 129.036365 \n\" clip-path=\"url(#p8608ffd508)\" style=\"fill: none; stroke: #b0b0b0; stroke-width: 0.8; stroke-linecap: square\"/>\n     </g>\n     <g id=\"line2d_22\">\n      <g>\n       <use xlink:href=\"#m1bd324a3f7\" x=\"62.86875\" y=\"129.036365\" style=\"stroke: #000000; stroke-width: 0.8\"/>\n      </g>\n     </g>\n     <g id=\"text_12\">\n      <!-- 0.0020 -->\n      <g transform=\"translate(20.878125 132.835584) scale(0.1 -0.1)\">\n       <use xlink:href=\"#DejaVuSans-30\"/>\n       <use xlink:href=\"#DejaVuSans-2e\" transform=\"translate(63.623047 0)\"/>\n       <use xlink:href=\"#DejaVuSans-30\" transform=\"translate(95.410156 0)\"/>\n       <use xlink:href=\"#DejaVuSans-30\" transform=\"translate(159.033203 0)\"/>\n       <use xlink:href=\"#DejaVuSans-32\" transform=\"translate(222.65625 0)\"/>\n       <use xlink:href=\"#DejaVuSans-30\" transform=\"translate(286.279297 0)\"/>\n      </g>\n     </g>\n    </g>\n    <g id=\"ytick_6\">\n     <g id=\"line2d_23\">\n      <path d=\"M 62.86875 106.880456 \nL 425.56875 106.880456 \n\" clip-path=\"url(#p8608ffd508)\" style=\"fill: none; stroke: #b0b0b0; stroke-width: 0.8; stroke-linecap: square\"/>\n     </g>\n     <g id=\"line2d_24\">\n      <g>\n       <use xlink:href=\"#m1bd324a3f7\" x=\"62.86875\" y=\"106.880456\" style=\"stroke: #000000; stroke-width: 0.8\"/>\n      </g>\n     </g>\n     <g id=\"text_13\">\n      <!-- 0.0025 -->\n      <g transform=\"translate(20.878125 110.679675) scale(0.1 -0.1)\">\n       <use xlink:href=\"#DejaVuSans-30\"/>\n       <use xlink:href=\"#DejaVuSans-2e\" transform=\"translate(63.623047 0)\"/>\n       <use xlink:href=\"#DejaVuSans-30\" transform=\"translate(95.410156 0)\"/>\n       <use xlink:href=\"#DejaVuSans-30\" transform=\"translate(159.033203 0)\"/>\n       <use xlink:href=\"#DejaVuSans-32\" transform=\"translate(222.65625 0)\"/>\n       <use xlink:href=\"#DejaVuSans-35\" transform=\"translate(286.279297 0)\"/>\n      </g>\n     </g>\n    </g>\n    <g id=\"ytick_7\">\n     <g id=\"line2d_25\">\n      <path d=\"M 62.86875 84.724547 \nL 425.56875 84.724547 \n\" clip-path=\"url(#p8608ffd508)\" style=\"fill: none; stroke: #b0b0b0; stroke-width: 0.8; stroke-linecap: square\"/>\n     </g>\n     <g id=\"line2d_26\">\n      <g>\n       <use xlink:href=\"#m1bd324a3f7\" x=\"62.86875\" y=\"84.724547\" style=\"stroke: #000000; stroke-width: 0.8\"/>\n      </g>\n     </g>\n     <g id=\"text_14\">\n      <!-- 0.0030 -->\n      <g transform=\"translate(20.878125 88.523766) scale(0.1 -0.1)\">\n       <defs>\n        <path id=\"DejaVuSans-33\" d=\"M 2597 2516 \nQ 3050 2419 3304 2112 \nQ 3559 1806 3559 1356 \nQ 3559 666 3084 287 \nQ 2609 -91 1734 -91 \nQ 1441 -91 1130 -33 \nQ 819 25 488 141 \nL 488 750 \nQ 750 597 1062 519 \nQ 1375 441 1716 441 \nQ 2309 441 2620 675 \nQ 2931 909 2931 1356 \nQ 2931 1769 2642 2001 \nQ 2353 2234 1838 2234 \nL 1294 2234 \nL 1294 2753 \nL 1863 2753 \nQ 2328 2753 2575 2939 \nQ 2822 3125 2822 3475 \nQ 2822 3834 2567 4026 \nQ 2313 4219 1838 4219 \nQ 1578 4219 1281 4162 \nQ 984 4106 628 3988 \nL 628 4550 \nQ 988 4650 1302 4700 \nQ 1616 4750 1894 4750 \nQ 2613 4750 3031 4423 \nQ 3450 4097 3450 3541 \nQ 3450 3153 3228 2886 \nQ 3006 2619 2597 2516 \nz\n\" transform=\"scale(0.015625)\"/>\n       </defs>\n       <use xlink:href=\"#DejaVuSans-30\"/>\n       <use xlink:href=\"#DejaVuSans-2e\" transform=\"translate(63.623047 0)\"/>\n       <use xlink:href=\"#DejaVuSans-30\" transform=\"translate(95.410156 0)\"/>\n       <use xlink:href=\"#DejaVuSans-30\" transform=\"translate(159.033203 0)\"/>\n       <use xlink:href=\"#DejaVuSans-33\" transform=\"translate(222.65625 0)\"/>\n       <use xlink:href=\"#DejaVuSans-30\" transform=\"translate(286.279297 0)\"/>\n      </g>\n     </g>\n    </g>\n    <g id=\"ytick_8\">\n     <g id=\"line2d_27\">\n      <path d=\"M 62.86875 62.568639 \nL 425.56875 62.568639 \n\" clip-path=\"url(#p8608ffd508)\" style=\"fill: none; stroke: #b0b0b0; stroke-width: 0.8; stroke-linecap: square\"/>\n     </g>\n     <g id=\"line2d_28\">\n      <g>\n       <use xlink:href=\"#m1bd324a3f7\" x=\"62.86875\" y=\"62.568639\" style=\"stroke: #000000; stroke-width: 0.8\"/>\n      </g>\n     </g>\n     <g id=\"text_15\">\n      <!-- 0.0035 -->\n      <g transform=\"translate(20.878125 66.367857) scale(0.1 -0.1)\">\n       <use xlink:href=\"#DejaVuSans-30\"/>\n       <use xlink:href=\"#DejaVuSans-2e\" transform=\"translate(63.623047 0)\"/>\n       <use xlink:href=\"#DejaVuSans-30\" transform=\"translate(95.410156 0)\"/>\n       <use xlink:href=\"#DejaVuSans-30\" transform=\"translate(159.033203 0)\"/>\n       <use xlink:href=\"#DejaVuSans-33\" transform=\"translate(222.65625 0)\"/>\n       <use xlink:href=\"#DejaVuSans-35\" transform=\"translate(286.279297 0)\"/>\n      </g>\n     </g>\n    </g>\n    <g id=\"ytick_9\">\n     <g id=\"line2d_29\">\n      <path d=\"M 62.86875 40.41273 \nL 425.56875 40.41273 \n\" clip-path=\"url(#p8608ffd508)\" style=\"fill: none; stroke: #b0b0b0; stroke-width: 0.8; stroke-linecap: square\"/>\n     </g>\n     <g id=\"line2d_30\">\n      <g>\n       <use xlink:href=\"#m1bd324a3f7\" x=\"62.86875\" y=\"40.41273\" style=\"stroke: #000000; stroke-width: 0.8\"/>\n      </g>\n     </g>\n     <g id=\"text_16\">\n      <!-- 0.0040 -->\n      <g transform=\"translate(20.878125 44.211949) scale(0.1 -0.1)\">\n       <use xlink:href=\"#DejaVuSans-30\"/>\n       <use xlink:href=\"#DejaVuSans-2e\" transform=\"translate(63.623047 0)\"/>\n       <use xlink:href=\"#DejaVuSans-30\" transform=\"translate(95.410156 0)\"/>\n       <use xlink:href=\"#DejaVuSans-30\" transform=\"translate(159.033203 0)\"/>\n       <use xlink:href=\"#DejaVuSans-34\" transform=\"translate(222.65625 0)\"/>\n       <use xlink:href=\"#DejaVuSans-30\" transform=\"translate(286.279297 0)\"/>\n      </g>\n     </g>\n    </g>\n    <g id=\"text_17\">\n     <!-- kilogram/meter³/second² -->\n     <g transform=\"translate(14.798438 191.606875) rotate(-90) scale(0.1 -0.1)\">\n      <defs>\n       <path id=\"DejaVuSans-6b\" d=\"M 581 4863 \nL 1159 4863 \nL 1159 1991 \nL 2875 3500 \nL 3609 3500 \nL 1753 1863 \nL 3688 0 \nL 2938 0 \nL 1159 1709 \nL 1159 0 \nL 581 0 \nL 581 4863 \nz\n\" transform=\"scale(0.015625)\"/>\n       <path id=\"DejaVuSans-69\" d=\"M 603 3500 \nL 1178 3500 \nL 1178 0 \nL 603 0 \nL 603 3500 \nz\nM 603 4863 \nL 1178 4863 \nL 1178 4134 \nL 603 4134 \nL 603 4863 \nz\n\" transform=\"scale(0.015625)\"/>\n       <path id=\"DejaVuSans-6c\" d=\"M 603 4863 \nL 1178 4863 \nL 1178 0 \nL 603 0 \nL 603 4863 \nz\n\" transform=\"scale(0.015625)\"/>\n       <path id=\"DejaVuSans-67\" d=\"M 2906 1791 \nQ 2906 2416 2648 2759 \nQ 2391 3103 1925 3103 \nQ 1463 3103 1205 2759 \nQ 947 2416 947 1791 \nQ 947 1169 1205 825 \nQ 1463 481 1925 481 \nQ 2391 481 2648 825 \nQ 2906 1169 2906 1791 \nz\nM 3481 434 \nQ 3481 -459 3084 -895 \nQ 2688 -1331 1869 -1331 \nQ 1566 -1331 1297 -1286 \nQ 1028 -1241 775 -1147 \nL 775 -588 \nQ 1028 -725 1275 -790 \nQ 1522 -856 1778 -856 \nQ 2344 -856 2625 -561 \nQ 2906 -266 2906 331 \nL 2906 616 \nQ 2728 306 2450 153 \nQ 2172 0 1784 0 \nQ 1141 0 747 490 \nQ 353 981 353 1791 \nQ 353 2603 747 3093 \nQ 1141 3584 1784 3584 \nQ 2172 3584 2450 3431 \nQ 2728 3278 2906 2969 \nL 2906 3500 \nL 3481 3500 \nL 3481 434 \nz\n\" transform=\"scale(0.015625)\"/>\n       <path id=\"DejaVuSans-72\" d=\"M 2631 2963 \nQ 2534 3019 2420 3045 \nQ 2306 3072 2169 3072 \nQ 1681 3072 1420 2755 \nQ 1159 2438 1159 1844 \nL 1159 0 \nL 581 0 \nL 581 3500 \nL 1159 3500 \nL 1159 2956 \nQ 1341 3275 1631 3429 \nQ 1922 3584 2338 3584 \nQ 2397 3584 2469 3576 \nQ 2541 3569 2628 3553 \nL 2631 2963 \nz\n\" transform=\"scale(0.015625)\"/>\n       <path id=\"DejaVuSans-61\" d=\"M 2194 1759 \nQ 1497 1759 1228 1600 \nQ 959 1441 959 1056 \nQ 959 750 1161 570 \nQ 1363 391 1709 391 \nQ 2188 391 2477 730 \nQ 2766 1069 2766 1631 \nL 2766 1759 \nL 2194 1759 \nz\nM 3341 1997 \nL 3341 0 \nL 2766 0 \nL 2766 531 \nQ 2569 213 2275 61 \nQ 1981 -91 1556 -91 \nQ 1019 -91 701 211 \nQ 384 513 384 1019 \nQ 384 1609 779 1909 \nQ 1175 2209 1959 2209 \nL 2766 2209 \nL 2766 2266 \nQ 2766 2663 2505 2880 \nQ 2244 3097 1772 3097 \nQ 1472 3097 1187 3025 \nQ 903 2953 641 2809 \nL 641 3341 \nQ 956 3463 1253 3523 \nQ 1550 3584 1831 3584 \nQ 2591 3584 2966 3190 \nQ 3341 2797 3341 1997 \nz\n\" transform=\"scale(0.015625)\"/>\n       <path id=\"DejaVuSans-6d\" d=\"M 3328 2828 \nQ 3544 3216 3844 3400 \nQ 4144 3584 4550 3584 \nQ 5097 3584 5394 3201 \nQ 5691 2819 5691 2113 \nL 5691 0 \nL 5113 0 \nL 5113 2094 \nQ 5113 2597 4934 2840 \nQ 4756 3084 4391 3084 \nQ 3944 3084 3684 2787 \nQ 3425 2491 3425 1978 \nL 3425 0 \nL 2847 0 \nL 2847 2094 \nQ 2847 2600 2669 2842 \nQ 2491 3084 2119 3084 \nQ 1678 3084 1418 2786 \nQ 1159 2488 1159 1978 \nL 1159 0 \nL 581 0 \nL 581 3500 \nL 1159 3500 \nL 1159 2956 \nQ 1356 3278 1631 3431 \nQ 1906 3584 2284 3584 \nQ 2666 3584 2933 3390 \nQ 3200 3197 3328 2828 \nz\n\" transform=\"scale(0.015625)\"/>\n       <path id=\"DejaVuSans-2f\" d=\"M 1625 4666 \nL 2156 4666 \nL 531 -594 \nL 0 -594 \nL 1625 4666 \nz\n\" transform=\"scale(0.015625)\"/>\n       <path id=\"DejaVuSans-74\" d=\"M 1172 4494 \nL 1172 3500 \nL 2356 3500 \nL 2356 3053 \nL 1172 3053 \nL 1172 1153 \nQ 1172 725 1289 603 \nQ 1406 481 1766 481 \nL 2356 481 \nL 2356 0 \nL 1766 0 \nQ 1100 0 847 248 \nQ 594 497 594 1153 \nL 594 3053 \nL 172 3053 \nL 172 3500 \nL 594 3500 \nL 594 4494 \nL 1172 4494 \nz\n\" transform=\"scale(0.015625)\"/>\n       <path id=\"DejaVuSans-b3\" d=\"M 1638 3500 \nQ 1925 3444 2083 3273 \nQ 2241 3103 2241 2847 \nQ 2241 2459 1944 2250 \nQ 1647 2041 1094 2041 \nQ 916 2041 720 2073 \nQ 525 2106 306 2169 \nL 306 2547 \nQ 469 2463 655 2422 \nQ 841 2381 1050 2381 \nQ 1391 2381 1578 2504 \nQ 1766 2628 1766 2847 \nQ 1766 3078 1592 3197 \nQ 1419 3316 1081 3316 \nL 813 3316 \nL 813 3653 \nL 1106 3653 \nQ 1400 3653 1551 3751 \nQ 1703 3850 1703 4038 \nQ 1703 4219 1547 4314 \nQ 1391 4409 1094 4409 \nQ 969 4409 809 4381 \nQ 650 4353 397 4281 \nL 397 4641 \nQ 625 4694 825 4722 \nQ 1025 4750 1197 4750 \nQ 1647 4750 1911 4565 \nQ 2175 4381 2175 4072 \nQ 2175 3856 2034 3706 \nQ 1894 3556 1638 3500 \nz\n\" transform=\"scale(0.015625)\"/>\n       <path id=\"DejaVuSans-b2\" d=\"M 838 2444 \nL 2163 2444 \nL 2163 2088 \nL 294 2088 \nL 294 2431 \nQ 400 2528 597 2703 \nQ 1672 3656 1672 3950 \nQ 1672 4156 1509 4282 \nQ 1347 4409 1081 4409 \nQ 919 4409 728 4354 \nQ 538 4300 313 4191 \nL 313 4575 \nQ 553 4663 761 4706 \nQ 969 4750 1147 4750 \nQ 1600 4750 1872 4544 \nQ 2144 4338 2144 4000 \nQ 2144 3566 1109 2678 \nQ 934 2528 838 2444 \nz\n\" transform=\"scale(0.015625)\"/>\n      </defs>\n      <use xlink:href=\"#DejaVuSans-6b\"/>\n      <use xlink:href=\"#DejaVuSans-69\" transform=\"translate(57.910156 0)\"/>\n      <use xlink:href=\"#DejaVuSans-6c\" transform=\"translate(85.693359 0)\"/>\n      <use xlink:href=\"#DejaVuSans-6f\" transform=\"translate(113.476562 0)\"/>\n      <use xlink:href=\"#DejaVuSans-67\" transform=\"translate(174.658203 0)\"/>\n      <use xlink:href=\"#DejaVuSans-72\" transform=\"translate(238.134766 0)\"/>\n      <use xlink:href=\"#DejaVuSans-61\" transform=\"translate(279.248047 0)\"/>\n      <use xlink:href=\"#DejaVuSans-6d\" transform=\"translate(340.527344 0)\"/>\n      <use xlink:href=\"#DejaVuSans-2f\" transform=\"translate(437.939453 0)\"/>\n      <use xlink:href=\"#DejaVuSans-6d\" transform=\"translate(471.630859 0)\"/>\n      <use xlink:href=\"#DejaVuSans-65\" transform=\"translate(569.042969 0)\"/>\n      <use xlink:href=\"#DejaVuSans-74\" transform=\"translate(630.566406 0)\"/>\n      <use xlink:href=\"#DejaVuSans-65\" transform=\"translate(669.775391 0)\"/>\n      <use xlink:href=\"#DejaVuSans-72\" transform=\"translate(731.298828 0)\"/>\n      <use xlink:href=\"#DejaVuSans-b3\" transform=\"translate(772.412109 0)\"/>\n      <use xlink:href=\"#DejaVuSans-2f\" transform=\"translate(812.5 0)\"/>\n      <use xlink:href=\"#DejaVuSans-73\" transform=\"translate(846.191406 0)\"/>\n      <use xlink:href=\"#DejaVuSans-65\" transform=\"translate(898.291016 0)\"/>\n      <use xlink:href=\"#DejaVuSans-63\" transform=\"translate(959.814453 0)\"/>\n      <use xlink:href=\"#DejaVuSans-6f\" transform=\"translate(1014.794922 0)\"/>\n      <use xlink:href=\"#DejaVuSans-6e\" transform=\"translate(1075.976562 0)\"/>\n      <use xlink:href=\"#DejaVuSans-64\" transform=\"translate(1139.355469 0)\"/>\n      <use xlink:href=\"#DejaVuSans-b2\" transform=\"translate(1202.832031 0)\"/>\n     </g>\n    </g>\n   </g>\n   <g id=\"line2d_31\">\n    <path d=\"M 79.355114 217.66 \nL 155.928414 217.54915 \nL 160.549217 217.287951 \nL 163.519733 216.923039 \nL 166.160191 216.379329 \nL 168.470593 215.661746 \nL 170.450937 214.810622 \nL 172.431281 213.688599 \nL 174.081567 212.507839 \nL 175.731854 211.069428 \nL 177.382141 209.341296 \nL 179.032427 207.292418 \nL 180.682714 204.893855 \nL 182.333001 202.119805 \nL 183.983287 198.94864 \nL 185.963631 194.596247 \nL 187.943975 189.631633 \nL 189.924319 184.052009 \nL 192.234721 176.782813 \nL 194.545122 168.741767 \nL 197.18558 158.706728 \nL 200.156096 146.532362 \nL 204.446842 127.869119 \nL 211.708103 96.093615 \nL 214.678619 84.053225 \nL 217.319078 74.233309 \nL 219.629479 66.490532 \nL 221.609823 60.577185 \nL 223.590167 55.393944 \nL 225.240454 51.665594 \nL 226.89074 48.495513 \nL 228.210969 46.370329 \nL 229.531199 44.61461 \nL 230.851428 43.229623 \nL 232.171657 42.214246 \nL 233.161829 41.693309 \nL 234.152001 41.376184 \nL 235.142173 41.26 \nL 236.132345 41.341281 \nL 237.122517 41.615985 \nL 238.112689 42.079541 \nL 239.432919 42.982585 \nL 240.753148 44.199139 \nL 242.073377 45.714785 \nL 243.723664 48.006298 \nL 245.373951 50.70884 \nL 247.354295 54.446932 \nL 249.334639 58.668098 \nL 251.64504 64.121419 \nL 254.285499 70.931536 \nL 257.586072 80.102842 \nL 262.206874 93.705537 \nL 273.098766 126.078922 \nL 277.059454 137.082154 \nL 280.690085 146.546665 \nL 283.990658 154.560808 \nL 287.291232 161.973662 \nL 290.261748 168.1165 \nL 293.232264 173.757299 \nL 296.202779 178.904334 \nL 299.173295 183.573104 \nL 301.813754 187.338518 \nL 304.454213 190.760095 \nL 307.094671 193.8571 \nL 309.73513 196.64994 \nL 312.705646 199.454471 \nL 315.676162 201.930713 \nL 318.646678 204.108324 \nL 321.617194 206.016021 \nL 324.917767 207.852395 \nL 328.21834 209.424607 \nL 331.848971 210.887729 \nL 335.479602 212.109959 \nL 339.44029 213.209816 \nL 343.731035 214.171451 \nL 348.681895 215.039345 \nL 354.29287 215.77689 \nL 360.563959 216.368098 \nL 368.155277 216.84924 \nL 377.72694 217.215686 \nL 390.599176 217.466452 \nL 409.082386 217.603541 \nL 409.082386 217.603541 \n\" clip-path=\"url(#p8608ffd508)\" style=\"fill: none; stroke: #1f77b4; stroke-width: 1.5; stroke-linecap: square\"/>\n   </g>\n   <g id=\"patch_3\">\n    <path d=\"M 62.86875 226.48 \nL 62.86875 32.44 \n\" style=\"fill: none; stroke: #000000; stroke-width: 0.8; stroke-linejoin: miter; stroke-linecap: square\"/>\n   </g>\n   <g id=\"patch_4\">\n    <path d=\"M 425.56875 226.48 \nL 425.56875 32.44 \n\" style=\"fill: none; stroke: #000000; stroke-width: 0.8; stroke-linejoin: miter; stroke-linecap: square\"/>\n   </g>\n   <g id=\"patch_5\">\n    <path d=\"M 62.86875 226.48 \nL 425.56875 226.48 \n\" style=\"fill: none; stroke: #000000; stroke-width: 0.8; stroke-linejoin: miter; stroke-linecap: square\"/>\n   </g>\n   <g id=\"patch_6\">\n    <path d=\"M 62.86875 32.44 \nL 425.56875 32.44 \n\" style=\"fill: none; stroke: #000000; stroke-width: 0.8; stroke-linejoin: miter; stroke-linecap: square\"/>\n   </g>\n  </g>\n  <g id=\"legend_1\">\n   <g id=\"patch_7\">\n    <path d=\"M 294.578125 22.678125 \nL 467.56875 22.678125 \nQ 469.56875 22.678125 469.56875 20.678125 \nL 469.56875 7 \nQ 469.56875 5 467.56875 5 \nL 294.578125 5 \nQ 292.578125 5 292.578125 7 \nL 292.578125 20.678125 \nQ 292.578125 22.678125 294.578125 22.678125 \nz\n\" style=\"fill: #ffffff; opacity: 0.8; stroke: #cccccc; stroke-linejoin: miter\"/>\n   </g>\n   <g id=\"line2d_32\">\n    <path d=\"M 296.578125 13.098437 \nL 306.578125 13.098437 \nL 316.578125 13.098437 \n\" style=\"fill: none; stroke: #1f77b4; stroke-width: 1.5; stroke-linecap: square\"/>\n   </g>\n   <g id=\"text_18\">\n    <!-- equilibrium vapour pressure -->\n    <g transform=\"translate(324.578125 16.598437) scale(0.1 -0.1)\">\n     <defs>\n      <path id=\"DejaVuSans-71\" d=\"M 947 1747 \nQ 947 1113 1208 752 \nQ 1469 391 1925 391 \nQ 2381 391 2643 752 \nQ 2906 1113 2906 1747 \nQ 2906 2381 2643 2742 \nQ 2381 3103 1925 3103 \nQ 1469 3103 1208 2742 \nQ 947 2381 947 1747 \nz\nM 2906 525 \nQ 2725 213 2448 61 \nQ 2172 -91 1784 -91 \nQ 1150 -91 751 415 \nQ 353 922 353 1747 \nQ 353 2572 751 3078 \nQ 1150 3584 1784 3584 \nQ 2172 3584 2448 3432 \nQ 2725 3281 2906 2969 \nL 2906 3500 \nL 3481 3500 \nL 3481 -1331 \nL 2906 -1331 \nL 2906 525 \nz\n\" transform=\"scale(0.015625)\"/>\n      <path id=\"DejaVuSans-75\" d=\"M 544 1381 \nL 544 3500 \nL 1119 3500 \nL 1119 1403 \nQ 1119 906 1312 657 \nQ 1506 409 1894 409 \nQ 2359 409 2629 706 \nQ 2900 1003 2900 1516 \nL 2900 3500 \nL 3475 3500 \nL 3475 0 \nL 2900 0 \nL 2900 538 \nQ 2691 219 2414 64 \nQ 2138 -91 1772 -91 \nQ 1169 -91 856 284 \nQ 544 659 544 1381 \nz\nM 1991 3584 \nL 1991 3584 \nz\n\" transform=\"scale(0.015625)\"/>\n      <path id=\"DejaVuSans-62\" d=\"M 3116 1747 \nQ 3116 2381 2855 2742 \nQ 2594 3103 2138 3103 \nQ 1681 3103 1420 2742 \nQ 1159 2381 1159 1747 \nQ 1159 1113 1420 752 \nQ 1681 391 2138 391 \nQ 2594 391 2855 752 \nQ 3116 1113 3116 1747 \nz\nM 1159 2969 \nQ 1341 3281 1617 3432 \nQ 1894 3584 2278 3584 \nQ 2916 3584 3314 3078 \nQ 3713 2572 3713 1747 \nQ 3713 922 3314 415 \nQ 2916 -91 2278 -91 \nQ 1894 -91 1617 61 \nQ 1341 213 1159 525 \nL 1159 0 \nL 581 0 \nL 581 4863 \nL 1159 4863 \nL 1159 2969 \nz\n\" transform=\"scale(0.015625)\"/>\n      <path id=\"DejaVuSans-20\" transform=\"scale(0.015625)\"/>\n      <path id=\"DejaVuSans-76\" d=\"M 191 3500 \nL 800 3500 \nL 1894 563 \nL 2988 3500 \nL 3597 3500 \nL 2284 0 \nL 1503 0 \nL 191 3500 \nz\n\" transform=\"scale(0.015625)\"/>\n      <path id=\"DejaVuSans-70\" d=\"M 1159 525 \nL 1159 -1331 \nL 581 -1331 \nL 581 3500 \nL 1159 3500 \nL 1159 2969 \nQ 1341 3281 1617 3432 \nQ 1894 3584 2278 3584 \nQ 2916 3584 3314 3078 \nQ 3713 2572 3713 1747 \nQ 3713 922 3314 415 \nQ 2916 -91 2278 -91 \nQ 1894 -91 1617 61 \nQ 1341 213 1159 525 \nz\nM 3116 1747 \nQ 3116 2381 2855 2742 \nQ 2594 3103 2138 3103 \nQ 1681 3103 1420 2742 \nQ 1159 2381 1159 1747 \nQ 1159 1113 1420 752 \nQ 1681 391 2138 391 \nQ 2594 391 2855 752 \nQ 3116 1113 3116 1747 \nz\n\" transform=\"scale(0.015625)\"/>\n     </defs>\n     <use xlink:href=\"#DejaVuSans-65\"/>\n     <use xlink:href=\"#DejaVuSans-71\" transform=\"translate(61.523438 0)\"/>\n     <use xlink:href=\"#DejaVuSans-75\" transform=\"translate(125 0)\"/>\n     <use xlink:href=\"#DejaVuSans-69\" transform=\"translate(188.378906 0)\"/>\n     <use xlink:href=\"#DejaVuSans-6c\" transform=\"translate(216.162109 0)\"/>\n     <use xlink:href=\"#DejaVuSans-69\" transform=\"translate(243.945312 0)\"/>\n     <use xlink:href=\"#DejaVuSans-62\" transform=\"translate(271.728516 0)\"/>\n     <use xlink:href=\"#DejaVuSans-72\" transform=\"translate(335.205078 0)\"/>\n     <use xlink:href=\"#DejaVuSans-69\" transform=\"translate(376.318359 0)\"/>\n     <use xlink:href=\"#DejaVuSans-75\" transform=\"translate(404.101562 0)\"/>\n     <use xlink:href=\"#DejaVuSans-6d\" transform=\"translate(467.480469 0)\"/>\n     <use xlink:href=\"#DejaVuSans-20\" transform=\"translate(564.892578 0)\"/>\n     <use xlink:href=\"#DejaVuSans-76\" transform=\"translate(596.679688 0)\"/>\n     <use xlink:href=\"#DejaVuSans-61\" transform=\"translate(655.859375 0)\"/>\n     <use xlink:href=\"#DejaVuSans-70\" transform=\"translate(717.138672 0)\"/>\n     <use xlink:href=\"#DejaVuSans-6f\" transform=\"translate(780.615234 0)\"/>\n     <use xlink:href=\"#DejaVuSans-75\" transform=\"translate(841.796875 0)\"/>\n     <use xlink:href=\"#DejaVuSans-72\" transform=\"translate(905.175781 0)\"/>\n     <use xlink:href=\"#DejaVuSans-20\" transform=\"translate(946.289062 0)\"/>\n     <use xlink:href=\"#DejaVuSans-70\" transform=\"translate(978.076172 0)\"/>\n     <use xlink:href=\"#DejaVuSans-72\" transform=\"translate(1041.552734 0)\"/>\n     <use xlink:href=\"#DejaVuSans-65\" transform=\"translate(1080.416016 0)\"/>\n     <use xlink:href=\"#DejaVuSans-73\" transform=\"translate(1141.939453 0)\"/>\n     <use xlink:href=\"#DejaVuSans-73\" transform=\"translate(1194.039062 0)\"/>\n     <use xlink:href=\"#DejaVuSans-75\" transform=\"translate(1246.138672 0)\"/>\n     <use xlink:href=\"#DejaVuSans-72\" transform=\"translate(1309.517578 0)\"/>\n     <use xlink:href=\"#DejaVuSans-65\" transform=\"translate(1348.380859 0)\"/>\n    </g>\n   </g>\n  </g>\n </g>\n <defs>\n  <clipPath id=\"p8608ffd508\">\n   <rect x=\"62.86875\" y=\"32.44\" width=\"362.7\" height=\"194.04\"/>\n  </clipPath>\n </defs>\n</svg>\n"
     },
     "metadata": {},
     "output_type": "display_data"
    },
    {
     "data": {
      "text/plain": [
       "HBox(children=(HTML(value=\"<a href='.\\\\tmpe0gcktf9.pdf' target='_blank'>.\\\\tmpe0gcktf9.pdf</a><br>\"), HTML(val…"
      ],
      "application/vnd.jupyter.widget-view+json": {
       "version_major": 2,
       "version_minor": 0,
       "model_id": "6043bbdd00fb4dce85dbf7d61e58e2bd"
      }
     },
     "metadata": {},
     "output_type": "display_data"
    }
   ],
   "execution_count": 115
  },
  {
   "metadata": {},
   "cell_type": "markdown",
   "source": [
    "Conclusions from the constructed graph:\n",
    "\n",
    "- ..."
   ],
   "id": "c57798607a7c50fe"
  },
  {
   "metadata": {
    "ExecuteTime": {
     "end_time": "2025-03-20T22:02:47.654332Z",
     "start_time": "2025-03-20T22:02:47.651917Z"
    }
   },
   "cell_type": "code",
   "source": "",
   "id": "3cc4ec7a3321b055",
   "outputs": [],
   "execution_count": null
  },
  {
   "metadata": {},
   "cell_type": "code",
   "outputs": [],
   "execution_count": null,
   "source": "",
   "id": "b47abf4a67c1675f"
  }
 ],
 "metadata": {
  "kernelspec": {
   "display_name": "Python 3",
   "language": "python",
   "name": "python3"
  },
  "language_info": {
   "codemirror_mode": {
    "name": "ipython",
    "version": 2
   },
   "file_extension": ".py",
   "mimetype": "text/x-python",
   "name": "python",
   "nbconvert_exporter": "python",
   "pygments_lexer": "ipython2",
   "version": "2.7.6"
  }
 },
 "nbformat": 4,
 "nbformat_minor": 5
}
