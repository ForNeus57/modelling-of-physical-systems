{
 "cells": [
  {
   "metadata": {},
   "cell_type": "markdown",
   "source": [
    "# LAB 02 Assigment\n",
    "\n",
    "Dominik Breksa (dominikbreksa@student.agh.edu.pl)"
   ],
   "id": "b808166a0e5e8a67"
  },
  {
   "metadata": {},
   "cell_type": "markdown",
   "source": "### Imports and setup of libraries and packages",
   "id": "cb33e4d6bff9d894"
  },
  {
   "cell_type": "code",
   "id": "initial_id",
   "metadata": {
    "collapsed": true,
    "ExecuteTime": {
     "end_time": "2025-03-24T16:32:40.199186Z",
     "start_time": "2025-03-24T16:32:39.595048Z"
    }
   },
   "source": [
    "import pint\n",
    "import scipy\n",
    "import numpy as np\n",
    "import open_atmos_jupyter_utils\n",
    "from matplotlib import pyplot"
   ],
   "outputs": [],
   "execution_count": 1
  },
  {
   "metadata": {
    "ExecuteTime": {
     "end_time": "2025-03-24T16:32:40.314033Z",
     "start_time": "2025-03-24T16:32:40.201486Z"
    }
   },
   "cell_type": "code",
   "source": [
    "si = pint.UnitRegistry()\n",
    "si.setup_matplotlib()\n",
    "si"
   ],
   "id": "451808f625dcbea1",
   "outputs": [
    {
     "data": {
      "text/plain": [
       "<pint.registry.UnitRegistry at 0x1f9fa3393a0>"
      ]
     },
     "execution_count": 2,
     "metadata": {},
     "output_type": "execute_result"
    }
   ],
   "execution_count": 2
  },
  {
   "metadata": {},
   "cell_type": "markdown",
   "source": [
    "### Narrative explaining of the mathematical model\n",
    "\n",
    "Our mathematical model can be described by the following equation:\n",
    "\n",
    "$$\n",
    "\\frac{\\partial c}{\\partial t} + U \\frac{\\partial c}{\\partial x} - D \\frac{\\partial^2 c}{\\partial^2 x} = 0\n",
    "$$\n",
    "\n",
    "One possible interpretation of this model is the concentration of solute in a steady moving laminar stream of liquid also called a \"Poiseuille flow\" with Advection and molecular Diffusion effects. We have a one-dimensional tube in which we experience a laminar flow of a liquid (Solvent) of some constant speed. We add the solvent to a solute of some mass which is influenced by diffusion. Then we set a measurement point in the constant distance from the point of adding the solute and observe the concentration of the solute in relation to time."
   ],
   "id": "e73ff6a72eb6ddf1"
  },
  {
   "metadata": {},
   "cell_type": "markdown",
   "source": [
    "### The type of solution\n",
    "\n",
    "$$\n",
    "c(x, t) = \\frac{M}{A}\\frac{1}{2\\sqrt{\\pi D}}\\frac{x}{t^\\frac{3}{2}}e^{\\Bigg( -\\frac{(ut - x)^2}{4Dt} \\Bigg)}\n",
    "$$\n",
    "\n",
    "Previously shown differential equation has the analytical solution (the equation above) for the following initial and boundary conditions:\n",
    "\n",
    "- $\\frac{\\partial c(x, t)}{\\partial x} = 0$ — this is satisfied at the edge of the cylinder in which the Poiseuille flow is present (i.e. the impermeable boundary assumption)."
   ],
   "id": "bf11880220482e3b"
  },
  {
   "metadata": {},
   "cell_type": "markdown",
   "source": [
    "### Units and symbols in $c(x, t) [\\frac{kg}{m^3}]$\n",
    "\n",
    "- $x$ — the measure of length in meters $[m]$,\n",
    "\n",
    "- $t$ — time in seconds $[s]$. Deducted from the X axis on the assigment plot,\n",
    "\n",
    "- $c(x, t)$ — concentration of solute in kilograms times cubic meters $[\\frac{kg}{m^3}]$,\n",
    "\n",
    "- $D$ — diffusion coefficient in meters squared divided by seconds $[\\frac{m^2}{s}]$,\n",
    "\n",
    "- $u$ — the speed of the laminar flow in meters per second $[\\frac{m}{s}]$,\n",
    "\n",
    "- $M$ — mass of the solute in kilograms $[kg]$,\n",
    "\n",
    "- $A$ — volumetric flow rate (cross-sectional area ($A_c$) times velocity of a liqud flow ($u$) ($=> A=A_cu$)) in meters cubed per second $[\\frac{m^3}{s}]$.\n"
   ],
   "id": "fea5c25dfc7b6125"
  },
  {
   "metadata": {},
   "cell_type": "markdown",
   "source": "### Lecture slide analysis",
   "id": "1e934f00b5de736d"
  },
  {
   "metadata": {},
   "cell_type": "markdown",
   "source": [
    "Additional notes:\n",
    "\n",
    "- Since the main task of the assignment has been to mimic exactly the plot $c(x, t) [kgm^3]$ shown on the slide (i.e. match the units on the axes etc.), the $A$ symbol from the $c(x, t)$ equation must have a different unit than stated above. New $A$ unit is the inverse of cubic meters times the inverse of a second $[\\frac{1}{m^3s}]$.\n",
    "\n",
    "After the analysis of the formula $c(x, t) [kgm^3]$ plotted on the lecture slide, we can deduce that:\n",
    "\n",
    "- The $x [m]$ is constant meaning the measurement point is not moving in time, because OX axis is only dependent on time $[s]$,\n",
    "\n",
    "- The single global maximum in the plotted curve is equal around to $0.04 [kgm^3]$,\n",
    "\n",
    "- The global maximum of a function is present at a time of around $t=50s$,\n",
    "\n",
    "- The curve is not symmetrical if we use the global maximum time as an axial symetry (comparing the left and right side of a global maxima),\n",
    "\n",
    "- No matter the time $[s]$ and $x [m]$ chosen in the model the area under the curve from $-\\infty$ to $\\infty$ is always the same and should be proportional (equal) to the mass $M [kg]$ of solute in the system."
   ],
   "id": "d6af8525775933fa"
  },
  {
   "metadata": {},
   "cell_type": "markdown",
   "source": [
    "### Choice of parameters and their units\n",
    "\n",
    "Additional notes:\n",
    "\n",
    "- The names of the variables are uppercase so that the IDE does not complain of the conflicting arguments names in a function declaration below,\n",
    "\n",
    "- The value of $D$ is equal to the value of diffusion coefficient of $CO_2$ in water at temperature $T=293K$ (source: https://www.thermopedia.com/de/content/696/)."
   ],
   "id": "7066cf51bce2fde5"
  },
  {
   "metadata": {
    "ExecuteTime": {
     "end_time": "2025-03-24T16:32:40.423920Z",
     "start_time": "2025-03-24T16:32:40.418390Z"
    }
   },
   "cell_type": "code",
   "source": [
    "M = np.float64(4.655) * si.kg\n",
    "A = np.float64(5) * si.m ** -3 / si.s\n",
    "D = np.float64(0.0000192) * si.m ** 2 / si.s\n",
    "U = np.float64(0.0047) * si.m / si.s"
   ],
   "id": "254629bb61d75f1",
   "outputs": [],
   "execution_count": 3
  },
  {
   "metadata": {
    "ExecuteTime": {
     "end_time": "2025-03-24T16:32:40.433884Z",
     "start_time": "2025-03-24T16:32:40.428303Z"
    }
   },
   "cell_type": "code",
   "source": [
    "X = np.float64(0.25) * si.m\n",
    "T = np.linspace(0.1, 100.1, 1000, dtype=np.float64) * si.s  # Cannot divide by zero, so the first element is 0.1"
   ],
   "id": "ebfe8f5f3aeb9a29",
   "outputs": [],
   "execution_count": 4
  },
  {
   "metadata": {},
   "cell_type": "markdown",
   "source": "### Python Script implementing the analytic solution",
   "id": "7da50df479c3088c"
  },
  {
   "metadata": {
    "ExecuteTime": {
     "end_time": "2025-03-24T16:32:40.450210Z",
     "start_time": "2025-03-24T16:32:40.443902Z"
    }
   },
   "cell_type": "code",
   "source": [
    "from typing import Callable\n",
    "\n",
    "\n",
    "def fill_c_function(m, a, d, u) -> Callable[[np.ndarray, np.ndarray], np.ndarray]:\n",
    "    \"\"\"Usage of functional programing technic to simplify parameter supply\"\"\"\n",
    "\n",
    "    assert m.check(si.kg), f'{m.units=} is not provided as a measure of a mass({si.kg=})'\n",
    "    assert a.check(si.m ** -3 / si.s), f'{a.units=} is not provided as a measure in dimensions {si.m ** -3 / si.s=}'\n",
    "    assert d.check(si.m ** 2 / si.s), f'{d.units=} is not provided as a measure of a diffusion coefficient({si.m ** 2 / si.s=})'\n",
    "    assert u.check(si.m / si.s), f'{u.units=} is not provided as a measure of a velocity({si.m / si.s=})'\n",
    "\n",
    "    def c(x: np.ndarray, t: np.ndarray) -> np.ndarray:\n",
    "        assert x.check(si.m), f'{x.units=} is not provided as a measure of a length({si.m=}) dimension'\n",
    "        assert t.check(si.s), f'{t.units=} is not provided as a measure of a time({si.s=}) dimension'\n",
    "\n",
    "        nonlocal m\n",
    "        nonlocal a\n",
    "        nonlocal d\n",
    "        nonlocal u\n",
    "\n",
    "        return (m * x * np.exp((-(u * t - x) ** 2) / (4 * d * t))) / (2 * a * (np.pi * d) ** 0.5 * t ** 1.5)\n",
    "\n",
    "    return c\n",
    "\n",
    "def fill_c_with_x(c: Callable[[np.ndarray, np.ndarray], np.ndarray], x: np.ndarray) -> Callable[[np.ndarray], np.ndarray]:\n",
    "    \"\"\"Perform curring technic as above to make c(x, t) only dependent on time(t)\"\"\"\n",
    "\n",
    "    def c_with_x(t: np.ndarray) -> np.ndarray:\n",
    "        nonlocal x\n",
    "        return c(x, t)\n",
    "\n",
    "    return c_with_x"
   ],
   "id": "5c6826ff7c0e6b0e",
   "outputs": [],
   "execution_count": 5
  },
  {
   "metadata": {},
   "cell_type": "markdown",
   "source": "Create a Python function object that matches the $c(x, t)$ definition from the beginning of the raport.",
   "id": "a0dd6987da00d324"
  },
  {
   "metadata": {
    "ExecuteTime": {
     "end_time": "2025-03-24T16:32:40.461932Z",
     "start_time": "2025-03-24T16:32:40.458128Z"
    }
   },
   "cell_type": "code",
   "source": [
    "C = fill_c_function(M, A, D, U)\n",
    "C_with_const_x = fill_c_with_x(C, X)"
   ],
   "id": "f335d2a5c4fbf4a1",
   "outputs": [],
   "execution_count": 6
  },
  {
   "metadata": {},
   "cell_type": "markdown",
   "source": "Compute the results.",
   "id": "51962f61e8b7cc1a"
  },
  {
   "metadata": {
    "ExecuteTime": {
     "end_time": "2025-03-24T16:32:40.473678Z",
     "start_time": "2025-03-24T16:32:40.469585Z"
    }
   },
   "cell_type": "code",
   "source": [
    "C_result = C_with_const_x(T)\n",
    "\n",
    "assert C_result.check(si.kg * si.m ** 3), f'The units must match with the units on the lecture plot. Got: \\'{C_result.units=}\\', expected: \\'{si.kg * si.m ** 3=}\\''"
   ],
   "id": "3575361a3ee112ba",
   "outputs": [],
   "execution_count": 7
  },
  {
   "metadata": {},
   "cell_type": "markdown",
   "source": "### Creating the plot with units automatically handled by pint",
   "id": "2567b8e7f14ef6b5"
  },
  {
   "metadata": {
    "ExecuteTime": {
     "end_time": "2025-03-24T16:32:40.781142Z",
     "start_time": "2025-03-24T16:32:40.484299Z"
    }
   },
   "cell_type": "code",
   "source": [
    "fig = pyplot.figure(figsize=(6, 3.5))\n",
    "fig.gca().plot(T, C_result, color='navy')\n",
    "fig.suptitle(f'Concentration of solute at X={X.magnitude}m as a function of time')\n",
    "fig.gca().grid()\n",
    "open_atmos_jupyter_utils.show_plot(fig=fig)"
   ],
   "id": "251b933491b5dee6",
   "outputs": [
    {
     "data": {
      "text/plain": [
       "<Figure size 600x350 with 1 Axes>"
      ],
      "image/svg+xml": "<?xml version=\"1.0\" encoding=\"utf-8\" standalone=\"no\"?>\n<!DOCTYPE svg PUBLIC \"-//W3C//DTD SVG 1.1//EN\"\n  \"http://www.w3.org/Graphics/SVG/1.1/DTD/svg11.dtd\">\n<svg xmlns:xlink=\"http://www.w3.org/1999/xlink\" width=\"398.50625pt\" height=\"263.99625pt\" viewBox=\"0 0 398.50625 263.99625\" xmlns=\"http://www.w3.org/2000/svg\" version=\"1.1\">\n <metadata>\n  <rdf:RDF xmlns:dc=\"http://purl.org/dc/elements/1.1/\" xmlns:cc=\"http://creativecommons.org/ns#\" xmlns:rdf=\"http://www.w3.org/1999/02/22-rdf-syntax-ns#\">\n   <cc:Work>\n    <dc:type rdf:resource=\"http://purl.org/dc/dcmitype/StillImage\"/>\n    <dc:date>2025-03-24T17:32:40.743824</dc:date>\n    <dc:format>image/svg+xml</dc:format>\n    <dc:creator>\n     <cc:Agent>\n      <dc:title>Matplotlib v3.10.1, https://matplotlib.org/</dc:title>\n     </cc:Agent>\n    </dc:creator>\n   </cc:Work>\n  </rdf:RDF>\n </metadata>\n <defs>\n  <style type=\"text/css\">*{stroke-linejoin: round; stroke-linecap: butt}</style>\n </defs>\n <g id=\"figure_1\">\n  <g id=\"patch_1\">\n   <path d=\"M 0 263.99625 \nL 398.50625 263.99625 \nL 398.50625 0 \nL 0 0 \nz\n\" style=\"fill: #ffffff\"/>\n  </g>\n  <g id=\"axes_1\">\n   <g id=\"patch_2\">\n    <path d=\"M 56.50625 226.44 \nL 391.30625 226.44 \nL 391.30625 32.4 \nL 56.50625 32.4 \nz\n\" style=\"fill: #ffffff\"/>\n   </g>\n   <g id=\"matplotlib.axis_1\">\n    <g id=\"xtick_1\">\n     <g id=\"line2d_1\">\n      <path d=\"M 71.420068 226.44 \nL 71.420068 32.4 \n\" clip-path=\"url(#p8a47ebaa85)\" style=\"fill: none; stroke: #b0b0b0; stroke-width: 0.8; stroke-linecap: square\"/>\n     </g>\n     <g id=\"line2d_2\">\n      <defs>\n       <path id=\"mb76c2896af\" d=\"M 0 0 \nL 0 3.5 \n\" style=\"stroke: #000000; stroke-width: 0.8\"/>\n      </defs>\n      <g>\n       <use xlink:href=\"#mb76c2896af\" x=\"71.420068\" y=\"226.44\" style=\"stroke: #000000; stroke-width: 0.8\"/>\n      </g>\n     </g>\n     <g id=\"text_1\">\n      <!-- 0 -->\n      <g transform=\"translate(68.238818 241.038437) scale(0.1 -0.1)\">\n       <defs>\n        <path id=\"DejaVuSans-30\" d=\"M 2034 4250 \nQ 1547 4250 1301 3770 \nQ 1056 3291 1056 2328 \nQ 1056 1369 1301 889 \nQ 1547 409 2034 409 \nQ 2525 409 2770 889 \nQ 3016 1369 3016 2328 \nQ 3016 3291 2770 3770 \nQ 2525 4250 2034 4250 \nz\nM 2034 4750 \nQ 2819 4750 3233 4129 \nQ 3647 3509 3647 2328 \nQ 3647 1150 3233 529 \nQ 2819 -91 2034 -91 \nQ 1250 -91 836 529 \nQ 422 1150 422 2328 \nQ 422 3509 836 4129 \nQ 1250 4750 2034 4750 \nz\n\" transform=\"scale(0.015625)\"/>\n       </defs>\n       <use xlink:href=\"#DejaVuSans-30\"/>\n      </g>\n     </g>\n    </g>\n    <g id=\"xtick_2\">\n     <g id=\"line2d_3\">\n      <path d=\"M 132.292795 226.44 \nL 132.292795 32.4 \n\" clip-path=\"url(#p8a47ebaa85)\" style=\"fill: none; stroke: #b0b0b0; stroke-width: 0.8; stroke-linecap: square\"/>\n     </g>\n     <g id=\"line2d_4\">\n      <g>\n       <use xlink:href=\"#mb76c2896af\" x=\"132.292795\" y=\"226.44\" style=\"stroke: #000000; stroke-width: 0.8\"/>\n      </g>\n     </g>\n     <g id=\"text_2\">\n      <!-- 20 -->\n      <g transform=\"translate(125.930295 241.038437) scale(0.1 -0.1)\">\n       <defs>\n        <path id=\"DejaVuSans-32\" d=\"M 1228 531 \nL 3431 531 \nL 3431 0 \nL 469 0 \nL 469 531 \nQ 828 903 1448 1529 \nQ 2069 2156 2228 2338 \nQ 2531 2678 2651 2914 \nQ 2772 3150 2772 3378 \nQ 2772 3750 2511 3984 \nQ 2250 4219 1831 4219 \nQ 1534 4219 1204 4116 \nQ 875 4013 500 3803 \nL 500 4441 \nQ 881 4594 1212 4672 \nQ 1544 4750 1819 4750 \nQ 2544 4750 2975 4387 \nQ 3406 4025 3406 3419 \nQ 3406 3131 3298 2873 \nQ 3191 2616 2906 2266 \nQ 2828 2175 2409 1742 \nQ 1991 1309 1228 531 \nz\n\" transform=\"scale(0.015625)\"/>\n       </defs>\n       <use xlink:href=\"#DejaVuSans-32\"/>\n       <use xlink:href=\"#DejaVuSans-30\" transform=\"translate(63.623047 0)\"/>\n      </g>\n     </g>\n    </g>\n    <g id=\"xtick_3\">\n     <g id=\"line2d_5\">\n      <path d=\"M 193.165523 226.44 \nL 193.165523 32.4 \n\" clip-path=\"url(#p8a47ebaa85)\" style=\"fill: none; stroke: #b0b0b0; stroke-width: 0.8; stroke-linecap: square\"/>\n     </g>\n     <g id=\"line2d_6\">\n      <g>\n       <use xlink:href=\"#mb76c2896af\" x=\"193.165523\" y=\"226.44\" style=\"stroke: #000000; stroke-width: 0.8\"/>\n      </g>\n     </g>\n     <g id=\"text_3\">\n      <!-- 40 -->\n      <g transform=\"translate(186.803023 241.038437) scale(0.1 -0.1)\">\n       <defs>\n        <path id=\"DejaVuSans-34\" d=\"M 2419 4116 \nL 825 1625 \nL 2419 1625 \nL 2419 4116 \nz\nM 2253 4666 \nL 3047 4666 \nL 3047 1625 \nL 3713 1625 \nL 3713 1100 \nL 3047 1100 \nL 3047 0 \nL 2419 0 \nL 2419 1100 \nL 313 1100 \nL 313 1709 \nL 2253 4666 \nz\n\" transform=\"scale(0.015625)\"/>\n       </defs>\n       <use xlink:href=\"#DejaVuSans-34\"/>\n       <use xlink:href=\"#DejaVuSans-30\" transform=\"translate(63.623047 0)\"/>\n      </g>\n     </g>\n    </g>\n    <g id=\"xtick_4\">\n     <g id=\"line2d_7\">\n      <path d=\"M 254.03825 226.44 \nL 254.03825 32.4 \n\" clip-path=\"url(#p8a47ebaa85)\" style=\"fill: none; stroke: #b0b0b0; stroke-width: 0.8; stroke-linecap: square\"/>\n     </g>\n     <g id=\"line2d_8\">\n      <g>\n       <use xlink:href=\"#mb76c2896af\" x=\"254.03825\" y=\"226.44\" style=\"stroke: #000000; stroke-width: 0.8\"/>\n      </g>\n     </g>\n     <g id=\"text_4\">\n      <!-- 60 -->\n      <g transform=\"translate(247.67575 241.038437) scale(0.1 -0.1)\">\n       <defs>\n        <path id=\"DejaVuSans-36\" d=\"M 2113 2584 \nQ 1688 2584 1439 2293 \nQ 1191 2003 1191 1497 \nQ 1191 994 1439 701 \nQ 1688 409 2113 409 \nQ 2538 409 2786 701 \nQ 3034 994 3034 1497 \nQ 3034 2003 2786 2293 \nQ 2538 2584 2113 2584 \nz\nM 3366 4563 \nL 3366 3988 \nQ 3128 4100 2886 4159 \nQ 2644 4219 2406 4219 \nQ 1781 4219 1451 3797 \nQ 1122 3375 1075 2522 \nQ 1259 2794 1537 2939 \nQ 1816 3084 2150 3084 \nQ 2853 3084 3261 2657 \nQ 3669 2231 3669 1497 \nQ 3669 778 3244 343 \nQ 2819 -91 2113 -91 \nQ 1303 -91 875 529 \nQ 447 1150 447 2328 \nQ 447 3434 972 4092 \nQ 1497 4750 2381 4750 \nQ 2619 4750 2861 4703 \nQ 3103 4656 3366 4563 \nz\n\" transform=\"scale(0.015625)\"/>\n       </defs>\n       <use xlink:href=\"#DejaVuSans-36\"/>\n       <use xlink:href=\"#DejaVuSans-30\" transform=\"translate(63.623047 0)\"/>\n      </g>\n     </g>\n    </g>\n    <g id=\"xtick_5\">\n     <g id=\"line2d_9\">\n      <path d=\"M 314.910977 226.44 \nL 314.910977 32.4 \n\" clip-path=\"url(#p8a47ebaa85)\" style=\"fill: none; stroke: #b0b0b0; stroke-width: 0.8; stroke-linecap: square\"/>\n     </g>\n     <g id=\"line2d_10\">\n      <g>\n       <use xlink:href=\"#mb76c2896af\" x=\"314.910977\" y=\"226.44\" style=\"stroke: #000000; stroke-width: 0.8\"/>\n      </g>\n     </g>\n     <g id=\"text_5\">\n      <!-- 80 -->\n      <g transform=\"translate(308.548477 241.038437) scale(0.1 -0.1)\">\n       <defs>\n        <path id=\"DejaVuSans-38\" d=\"M 2034 2216 \nQ 1584 2216 1326 1975 \nQ 1069 1734 1069 1313 \nQ 1069 891 1326 650 \nQ 1584 409 2034 409 \nQ 2484 409 2743 651 \nQ 3003 894 3003 1313 \nQ 3003 1734 2745 1975 \nQ 2488 2216 2034 2216 \nz\nM 1403 2484 \nQ 997 2584 770 2862 \nQ 544 3141 544 3541 \nQ 544 4100 942 4425 \nQ 1341 4750 2034 4750 \nQ 2731 4750 3128 4425 \nQ 3525 4100 3525 3541 \nQ 3525 3141 3298 2862 \nQ 3072 2584 2669 2484 \nQ 3125 2378 3379 2068 \nQ 3634 1759 3634 1313 \nQ 3634 634 3220 271 \nQ 2806 -91 2034 -91 \nQ 1263 -91 848 271 \nQ 434 634 434 1313 \nQ 434 1759 690 2068 \nQ 947 2378 1403 2484 \nz\nM 1172 3481 \nQ 1172 3119 1398 2916 \nQ 1625 2713 2034 2713 \nQ 2441 2713 2670 2916 \nQ 2900 3119 2900 3481 \nQ 2900 3844 2670 4047 \nQ 2441 4250 2034 4250 \nQ 1625 4250 1398 4047 \nQ 1172 3844 1172 3481 \nz\n\" transform=\"scale(0.015625)\"/>\n       </defs>\n       <use xlink:href=\"#DejaVuSans-38\"/>\n       <use xlink:href=\"#DejaVuSans-30\" transform=\"translate(63.623047 0)\"/>\n      </g>\n     </g>\n    </g>\n    <g id=\"xtick_6\">\n     <g id=\"line2d_11\">\n      <path d=\"M 375.783705 226.44 \nL 375.783705 32.4 \n\" clip-path=\"url(#p8a47ebaa85)\" style=\"fill: none; stroke: #b0b0b0; stroke-width: 0.8; stroke-linecap: square\"/>\n     </g>\n     <g id=\"line2d_12\">\n      <g>\n       <use xlink:href=\"#mb76c2896af\" x=\"375.783705\" y=\"226.44\" style=\"stroke: #000000; stroke-width: 0.8\"/>\n      </g>\n     </g>\n     <g id=\"text_6\">\n      <!-- 100 -->\n      <g transform=\"translate(366.239955 241.038437) scale(0.1 -0.1)\">\n       <defs>\n        <path id=\"DejaVuSans-31\" d=\"M 794 531 \nL 1825 531 \nL 1825 4091 \nL 703 3866 \nL 703 4441 \nL 1819 4666 \nL 2450 4666 \nL 2450 531 \nL 3481 531 \nL 3481 0 \nL 794 0 \nL 794 531 \nz\n\" transform=\"scale(0.015625)\"/>\n       </defs>\n       <use xlink:href=\"#DejaVuSans-31\"/>\n       <use xlink:href=\"#DejaVuSans-30\" transform=\"translate(63.623047 0)\"/>\n       <use xlink:href=\"#DejaVuSans-30\" transform=\"translate(127.246094 0)\"/>\n      </g>\n     </g>\n    </g>\n    <g id=\"text_7\">\n     <!-- second -->\n     <g transform=\"translate(206.073438 254.716562) scale(0.1 -0.1)\">\n      <defs>\n       <path id=\"DejaVuSans-73\" d=\"M 2834 3397 \nL 2834 2853 \nQ 2591 2978 2328 3040 \nQ 2066 3103 1784 3103 \nQ 1356 3103 1142 2972 \nQ 928 2841 928 2578 \nQ 928 2378 1081 2264 \nQ 1234 2150 1697 2047 \nL 1894 2003 \nQ 2506 1872 2764 1633 \nQ 3022 1394 3022 966 \nQ 3022 478 2636 193 \nQ 2250 -91 1575 -91 \nQ 1294 -91 989 -36 \nQ 684 19 347 128 \nL 347 722 \nQ 666 556 975 473 \nQ 1284 391 1588 391 \nQ 1994 391 2212 530 \nQ 2431 669 2431 922 \nQ 2431 1156 2273 1281 \nQ 2116 1406 1581 1522 \nL 1381 1569 \nQ 847 1681 609 1914 \nQ 372 2147 372 2553 \nQ 372 3047 722 3315 \nQ 1072 3584 1716 3584 \nQ 2034 3584 2315 3537 \nQ 2597 3491 2834 3397 \nz\n\" transform=\"scale(0.015625)\"/>\n       <path id=\"DejaVuSans-65\" d=\"M 3597 1894 \nL 3597 1613 \nL 953 1613 \nQ 991 1019 1311 708 \nQ 1631 397 2203 397 \nQ 2534 397 2845 478 \nQ 3156 559 3463 722 \nL 3463 178 \nQ 3153 47 2828 -22 \nQ 2503 -91 2169 -91 \nQ 1331 -91 842 396 \nQ 353 884 353 1716 \nQ 353 2575 817 3079 \nQ 1281 3584 2069 3584 \nQ 2775 3584 3186 3129 \nQ 3597 2675 3597 1894 \nz\nM 3022 2063 \nQ 3016 2534 2758 2815 \nQ 2500 3097 2075 3097 \nQ 1594 3097 1305 2825 \nQ 1016 2553 972 2059 \nL 3022 2063 \nz\n\" transform=\"scale(0.015625)\"/>\n       <path id=\"DejaVuSans-63\" d=\"M 3122 3366 \nL 3122 2828 \nQ 2878 2963 2633 3030 \nQ 2388 3097 2138 3097 \nQ 1578 3097 1268 2742 \nQ 959 2388 959 1747 \nQ 959 1106 1268 751 \nQ 1578 397 2138 397 \nQ 2388 397 2633 464 \nQ 2878 531 3122 666 \nL 3122 134 \nQ 2881 22 2623 -34 \nQ 2366 -91 2075 -91 \nQ 1284 -91 818 406 \nQ 353 903 353 1747 \nQ 353 2603 823 3093 \nQ 1294 3584 2113 3584 \nQ 2378 3584 2631 3529 \nQ 2884 3475 3122 3366 \nz\n\" transform=\"scale(0.015625)\"/>\n       <path id=\"DejaVuSans-6f\" d=\"M 1959 3097 \nQ 1497 3097 1228 2736 \nQ 959 2375 959 1747 \nQ 959 1119 1226 758 \nQ 1494 397 1959 397 \nQ 2419 397 2687 759 \nQ 2956 1122 2956 1747 \nQ 2956 2369 2687 2733 \nQ 2419 3097 1959 3097 \nz\nM 1959 3584 \nQ 2709 3584 3137 3096 \nQ 3566 2609 3566 1747 \nQ 3566 888 3137 398 \nQ 2709 -91 1959 -91 \nQ 1206 -91 779 398 \nQ 353 888 353 1747 \nQ 353 2609 779 3096 \nQ 1206 3584 1959 3584 \nz\n\" transform=\"scale(0.015625)\"/>\n       <path id=\"DejaVuSans-6e\" d=\"M 3513 2113 \nL 3513 0 \nL 2938 0 \nL 2938 2094 \nQ 2938 2591 2744 2837 \nQ 2550 3084 2163 3084 \nQ 1697 3084 1428 2787 \nQ 1159 2491 1159 1978 \nL 1159 0 \nL 581 0 \nL 581 3500 \nL 1159 3500 \nL 1159 2956 \nQ 1366 3272 1645 3428 \nQ 1925 3584 2291 3584 \nQ 2894 3584 3203 3211 \nQ 3513 2838 3513 2113 \nz\n\" transform=\"scale(0.015625)\"/>\n       <path id=\"DejaVuSans-64\" d=\"M 2906 2969 \nL 2906 4863 \nL 3481 4863 \nL 3481 0 \nL 2906 0 \nL 2906 525 \nQ 2725 213 2448 61 \nQ 2172 -91 1784 -91 \nQ 1150 -91 751 415 \nQ 353 922 353 1747 \nQ 353 2572 751 3078 \nQ 1150 3584 1784 3584 \nQ 2172 3584 2448 3432 \nQ 2725 3281 2906 2969 \nz\nM 947 1747 \nQ 947 1113 1208 752 \nQ 1469 391 1925 391 \nQ 2381 391 2643 752 \nQ 2906 1113 2906 1747 \nQ 2906 2381 2643 2742 \nQ 2381 3103 1925 3103 \nQ 1469 3103 1208 2742 \nQ 947 2381 947 1747 \nz\n\" transform=\"scale(0.015625)\"/>\n      </defs>\n      <use xlink:href=\"#DejaVuSans-73\"/>\n      <use xlink:href=\"#DejaVuSans-65\" transform=\"translate(52.099609 0)\"/>\n      <use xlink:href=\"#DejaVuSans-63\" transform=\"translate(113.623047 0)\"/>\n      <use xlink:href=\"#DejaVuSans-6f\" transform=\"translate(168.603516 0)\"/>\n      <use xlink:href=\"#DejaVuSans-6e\" transform=\"translate(229.785156 0)\"/>\n      <use xlink:href=\"#DejaVuSans-64\" transform=\"translate(293.164062 0)\"/>\n     </g>\n    </g>\n   </g>\n   <g id=\"matplotlib.axis_2\">\n    <g id=\"ytick_1\">\n     <g id=\"line2d_13\">\n      <path d=\"M 56.50625 217.62 \nL 391.30625 217.62 \n\" clip-path=\"url(#p8a47ebaa85)\" style=\"fill: none; stroke: #b0b0b0; stroke-width: 0.8; stroke-linecap: square\"/>\n     </g>\n     <g id=\"line2d_14\">\n      <defs>\n       <path id=\"m1454d0b29a\" d=\"M 0 0 \nL -3.5 0 \n\" style=\"stroke: #000000; stroke-width: 0.8\"/>\n      </defs>\n      <g>\n       <use xlink:href=\"#m1454d0b29a\" x=\"56.50625\" y=\"217.62\" style=\"stroke: #000000; stroke-width: 0.8\"/>\n      </g>\n     </g>\n     <g id=\"text_8\">\n      <!-- 0.000 -->\n      <g transform=\"translate(20.878125 221.419219) scale(0.1 -0.1)\">\n       <defs>\n        <path id=\"DejaVuSans-2e\" d=\"M 684 794 \nL 1344 794 \nL 1344 0 \nL 684 0 \nL 684 794 \nz\n\" transform=\"scale(0.015625)\"/>\n       </defs>\n       <use xlink:href=\"#DejaVuSans-30\"/>\n       <use xlink:href=\"#DejaVuSans-2e\" transform=\"translate(63.623047 0)\"/>\n       <use xlink:href=\"#DejaVuSans-30\" transform=\"translate(95.410156 0)\"/>\n       <use xlink:href=\"#DejaVuSans-30\" transform=\"translate(159.033203 0)\"/>\n       <use xlink:href=\"#DejaVuSans-30\" transform=\"translate(222.65625 0)\"/>\n      </g>\n     </g>\n    </g>\n    <g id=\"ytick_2\">\n     <g id=\"line2d_15\">\n      <path d=\"M 56.50625 195.609311 \nL 391.30625 195.609311 \n\" clip-path=\"url(#p8a47ebaa85)\" style=\"fill: none; stroke: #b0b0b0; stroke-width: 0.8; stroke-linecap: square\"/>\n     </g>\n     <g id=\"line2d_16\">\n      <g>\n       <use xlink:href=\"#m1454d0b29a\" x=\"56.50625\" y=\"195.609311\" style=\"stroke: #000000; stroke-width: 0.8\"/>\n      </g>\n     </g>\n     <g id=\"text_9\">\n      <!-- 0.005 -->\n      <g transform=\"translate(20.878125 199.40853) scale(0.1 -0.1)\">\n       <defs>\n        <path id=\"DejaVuSans-35\" d=\"M 691 4666 \nL 3169 4666 \nL 3169 4134 \nL 1269 4134 \nL 1269 2991 \nQ 1406 3038 1543 3061 \nQ 1681 3084 1819 3084 \nQ 2600 3084 3056 2656 \nQ 3513 2228 3513 1497 \nQ 3513 744 3044 326 \nQ 2575 -91 1722 -91 \nQ 1428 -91 1123 -41 \nQ 819 9 494 109 \nL 494 744 \nQ 775 591 1075 516 \nQ 1375 441 1709 441 \nQ 2250 441 2565 725 \nQ 2881 1009 2881 1497 \nQ 2881 1984 2565 2268 \nQ 2250 2553 1709 2553 \nQ 1456 2553 1204 2497 \nQ 953 2441 691 2322 \nL 691 4666 \nz\n\" transform=\"scale(0.015625)\"/>\n       </defs>\n       <use xlink:href=\"#DejaVuSans-30\"/>\n       <use xlink:href=\"#DejaVuSans-2e\" transform=\"translate(63.623047 0)\"/>\n       <use xlink:href=\"#DejaVuSans-30\" transform=\"translate(95.410156 0)\"/>\n       <use xlink:href=\"#DejaVuSans-30\" transform=\"translate(159.033203 0)\"/>\n       <use xlink:href=\"#DejaVuSans-35\" transform=\"translate(222.65625 0)\"/>\n      </g>\n     </g>\n    </g>\n    <g id=\"ytick_3\">\n     <g id=\"line2d_17\">\n      <path d=\"M 56.50625 173.598623 \nL 391.30625 173.598623 \n\" clip-path=\"url(#p8a47ebaa85)\" style=\"fill: none; stroke: #b0b0b0; stroke-width: 0.8; stroke-linecap: square\"/>\n     </g>\n     <g id=\"line2d_18\">\n      <g>\n       <use xlink:href=\"#m1454d0b29a\" x=\"56.50625\" y=\"173.598623\" style=\"stroke: #000000; stroke-width: 0.8\"/>\n      </g>\n     </g>\n     <g id=\"text_10\">\n      <!-- 0.010 -->\n      <g transform=\"translate(20.878125 177.397842) scale(0.1 -0.1)\">\n       <use xlink:href=\"#DejaVuSans-30\"/>\n       <use xlink:href=\"#DejaVuSans-2e\" transform=\"translate(63.623047 0)\"/>\n       <use xlink:href=\"#DejaVuSans-30\" transform=\"translate(95.410156 0)\"/>\n       <use xlink:href=\"#DejaVuSans-31\" transform=\"translate(159.033203 0)\"/>\n       <use xlink:href=\"#DejaVuSans-30\" transform=\"translate(222.65625 0)\"/>\n      </g>\n     </g>\n    </g>\n    <g id=\"ytick_4\">\n     <g id=\"line2d_19\">\n      <path d=\"M 56.50625 151.587934 \nL 391.30625 151.587934 \n\" clip-path=\"url(#p8a47ebaa85)\" style=\"fill: none; stroke: #b0b0b0; stroke-width: 0.8; stroke-linecap: square\"/>\n     </g>\n     <g id=\"line2d_20\">\n      <g>\n       <use xlink:href=\"#m1454d0b29a\" x=\"56.50625\" y=\"151.587934\" style=\"stroke: #000000; stroke-width: 0.8\"/>\n      </g>\n     </g>\n     <g id=\"text_11\">\n      <!-- 0.015 -->\n      <g transform=\"translate(20.878125 155.387153) scale(0.1 -0.1)\">\n       <use xlink:href=\"#DejaVuSans-30\"/>\n       <use xlink:href=\"#DejaVuSans-2e\" transform=\"translate(63.623047 0)\"/>\n       <use xlink:href=\"#DejaVuSans-30\" transform=\"translate(95.410156 0)\"/>\n       <use xlink:href=\"#DejaVuSans-31\" transform=\"translate(159.033203 0)\"/>\n       <use xlink:href=\"#DejaVuSans-35\" transform=\"translate(222.65625 0)\"/>\n      </g>\n     </g>\n    </g>\n    <g id=\"ytick_5\">\n     <g id=\"line2d_21\">\n      <path d=\"M 56.50625 129.577246 \nL 391.30625 129.577246 \n\" clip-path=\"url(#p8a47ebaa85)\" style=\"fill: none; stroke: #b0b0b0; stroke-width: 0.8; stroke-linecap: square\"/>\n     </g>\n     <g id=\"line2d_22\">\n      <g>\n       <use xlink:href=\"#m1454d0b29a\" x=\"56.50625\" y=\"129.577246\" style=\"stroke: #000000; stroke-width: 0.8\"/>\n      </g>\n     </g>\n     <g id=\"text_12\">\n      <!-- 0.020 -->\n      <g transform=\"translate(20.878125 133.376464) scale(0.1 -0.1)\">\n       <use xlink:href=\"#DejaVuSans-30\"/>\n       <use xlink:href=\"#DejaVuSans-2e\" transform=\"translate(63.623047 0)\"/>\n       <use xlink:href=\"#DejaVuSans-30\" transform=\"translate(95.410156 0)\"/>\n       <use xlink:href=\"#DejaVuSans-32\" transform=\"translate(159.033203 0)\"/>\n       <use xlink:href=\"#DejaVuSans-30\" transform=\"translate(222.65625 0)\"/>\n      </g>\n     </g>\n    </g>\n    <g id=\"ytick_6\">\n     <g id=\"line2d_23\">\n      <path d=\"M 56.50625 107.566557 \nL 391.30625 107.566557 \n\" clip-path=\"url(#p8a47ebaa85)\" style=\"fill: none; stroke: #b0b0b0; stroke-width: 0.8; stroke-linecap: square\"/>\n     </g>\n     <g id=\"line2d_24\">\n      <g>\n       <use xlink:href=\"#m1454d0b29a\" x=\"56.50625\" y=\"107.566557\" style=\"stroke: #000000; stroke-width: 0.8\"/>\n      </g>\n     </g>\n     <g id=\"text_13\">\n      <!-- 0.025 -->\n      <g transform=\"translate(20.878125 111.365776) scale(0.1 -0.1)\">\n       <use xlink:href=\"#DejaVuSans-30\"/>\n       <use xlink:href=\"#DejaVuSans-2e\" transform=\"translate(63.623047 0)\"/>\n       <use xlink:href=\"#DejaVuSans-30\" transform=\"translate(95.410156 0)\"/>\n       <use xlink:href=\"#DejaVuSans-32\" transform=\"translate(159.033203 0)\"/>\n       <use xlink:href=\"#DejaVuSans-35\" transform=\"translate(222.65625 0)\"/>\n      </g>\n     </g>\n    </g>\n    <g id=\"ytick_7\">\n     <g id=\"line2d_25\">\n      <path d=\"M 56.50625 85.555868 \nL 391.30625 85.555868 \n\" clip-path=\"url(#p8a47ebaa85)\" style=\"fill: none; stroke: #b0b0b0; stroke-width: 0.8; stroke-linecap: square\"/>\n     </g>\n     <g id=\"line2d_26\">\n      <g>\n       <use xlink:href=\"#m1454d0b29a\" x=\"56.50625\" y=\"85.555868\" style=\"stroke: #000000; stroke-width: 0.8\"/>\n      </g>\n     </g>\n     <g id=\"text_14\">\n      <!-- 0.030 -->\n      <g transform=\"translate(20.878125 89.355087) scale(0.1 -0.1)\">\n       <defs>\n        <path id=\"DejaVuSans-33\" d=\"M 2597 2516 \nQ 3050 2419 3304 2112 \nQ 3559 1806 3559 1356 \nQ 3559 666 3084 287 \nQ 2609 -91 1734 -91 \nQ 1441 -91 1130 -33 \nQ 819 25 488 141 \nL 488 750 \nQ 750 597 1062 519 \nQ 1375 441 1716 441 \nQ 2309 441 2620 675 \nQ 2931 909 2931 1356 \nQ 2931 1769 2642 2001 \nQ 2353 2234 1838 2234 \nL 1294 2234 \nL 1294 2753 \nL 1863 2753 \nQ 2328 2753 2575 2939 \nQ 2822 3125 2822 3475 \nQ 2822 3834 2567 4026 \nQ 2313 4219 1838 4219 \nQ 1578 4219 1281 4162 \nQ 984 4106 628 3988 \nL 628 4550 \nQ 988 4650 1302 4700 \nQ 1616 4750 1894 4750 \nQ 2613 4750 3031 4423 \nQ 3450 4097 3450 3541 \nQ 3450 3153 3228 2886 \nQ 3006 2619 2597 2516 \nz\n\" transform=\"scale(0.015625)\"/>\n       </defs>\n       <use xlink:href=\"#DejaVuSans-30\"/>\n       <use xlink:href=\"#DejaVuSans-2e\" transform=\"translate(63.623047 0)\"/>\n       <use xlink:href=\"#DejaVuSans-30\" transform=\"translate(95.410156 0)\"/>\n       <use xlink:href=\"#DejaVuSans-33\" transform=\"translate(159.033203 0)\"/>\n       <use xlink:href=\"#DejaVuSans-30\" transform=\"translate(222.65625 0)\"/>\n      </g>\n     </g>\n    </g>\n    <g id=\"ytick_8\">\n     <g id=\"line2d_27\">\n      <path d=\"M 56.50625 63.54518 \nL 391.30625 63.54518 \n\" clip-path=\"url(#p8a47ebaa85)\" style=\"fill: none; stroke: #b0b0b0; stroke-width: 0.8; stroke-linecap: square\"/>\n     </g>\n     <g id=\"line2d_28\">\n      <g>\n       <use xlink:href=\"#m1454d0b29a\" x=\"56.50625\" y=\"63.54518\" style=\"stroke: #000000; stroke-width: 0.8\"/>\n      </g>\n     </g>\n     <g id=\"text_15\">\n      <!-- 0.035 -->\n      <g transform=\"translate(20.878125 67.344399) scale(0.1 -0.1)\">\n       <use xlink:href=\"#DejaVuSans-30\"/>\n       <use xlink:href=\"#DejaVuSans-2e\" transform=\"translate(63.623047 0)\"/>\n       <use xlink:href=\"#DejaVuSans-30\" transform=\"translate(95.410156 0)\"/>\n       <use xlink:href=\"#DejaVuSans-33\" transform=\"translate(159.033203 0)\"/>\n       <use xlink:href=\"#DejaVuSans-35\" transform=\"translate(222.65625 0)\"/>\n      </g>\n     </g>\n    </g>\n    <g id=\"ytick_9\">\n     <g id=\"line2d_29\">\n      <path d=\"M 56.50625 41.534491 \nL 391.30625 41.534491 \n\" clip-path=\"url(#p8a47ebaa85)\" style=\"fill: none; stroke: #b0b0b0; stroke-width: 0.8; stroke-linecap: square\"/>\n     </g>\n     <g id=\"line2d_30\">\n      <g>\n       <use xlink:href=\"#m1454d0b29a\" x=\"56.50625\" y=\"41.534491\" style=\"stroke: #000000; stroke-width: 0.8\"/>\n      </g>\n     </g>\n     <g id=\"text_16\">\n      <!-- 0.040 -->\n      <g transform=\"translate(20.878125 45.33371) scale(0.1 -0.1)\">\n       <use xlink:href=\"#DejaVuSans-30\"/>\n       <use xlink:href=\"#DejaVuSans-2e\" transform=\"translate(63.623047 0)\"/>\n       <use xlink:href=\"#DejaVuSans-30\" transform=\"translate(95.410156 0)\"/>\n       <use xlink:href=\"#DejaVuSans-34\" transform=\"translate(159.033203 0)\"/>\n       <use xlink:href=\"#DejaVuSans-30\" transform=\"translate(222.65625 0)\"/>\n      </g>\n     </g>\n    </g>\n    <g id=\"text_17\">\n     <!-- kilogram·meter³ -->\n     <g transform=\"translate(14.798437 169.949687) rotate(-90) scale(0.1 -0.1)\">\n      <defs>\n       <path id=\"DejaVuSans-6b\" d=\"M 581 4863 \nL 1159 4863 \nL 1159 1991 \nL 2875 3500 \nL 3609 3500 \nL 1753 1863 \nL 3688 0 \nL 2938 0 \nL 1159 1709 \nL 1159 0 \nL 581 0 \nL 581 4863 \nz\n\" transform=\"scale(0.015625)\"/>\n       <path id=\"DejaVuSans-69\" d=\"M 603 3500 \nL 1178 3500 \nL 1178 0 \nL 603 0 \nL 603 3500 \nz\nM 603 4863 \nL 1178 4863 \nL 1178 4134 \nL 603 4134 \nL 603 4863 \nz\n\" transform=\"scale(0.015625)\"/>\n       <path id=\"DejaVuSans-6c\" d=\"M 603 4863 \nL 1178 4863 \nL 1178 0 \nL 603 0 \nL 603 4863 \nz\n\" transform=\"scale(0.015625)\"/>\n       <path id=\"DejaVuSans-67\" d=\"M 2906 1791 \nQ 2906 2416 2648 2759 \nQ 2391 3103 1925 3103 \nQ 1463 3103 1205 2759 \nQ 947 2416 947 1791 \nQ 947 1169 1205 825 \nQ 1463 481 1925 481 \nQ 2391 481 2648 825 \nQ 2906 1169 2906 1791 \nz\nM 3481 434 \nQ 3481 -459 3084 -895 \nQ 2688 -1331 1869 -1331 \nQ 1566 -1331 1297 -1286 \nQ 1028 -1241 775 -1147 \nL 775 -588 \nQ 1028 -725 1275 -790 \nQ 1522 -856 1778 -856 \nQ 2344 -856 2625 -561 \nQ 2906 -266 2906 331 \nL 2906 616 \nQ 2728 306 2450 153 \nQ 2172 0 1784 0 \nQ 1141 0 747 490 \nQ 353 981 353 1791 \nQ 353 2603 747 3093 \nQ 1141 3584 1784 3584 \nQ 2172 3584 2450 3431 \nQ 2728 3278 2906 2969 \nL 2906 3500 \nL 3481 3500 \nL 3481 434 \nz\n\" transform=\"scale(0.015625)\"/>\n       <path id=\"DejaVuSans-72\" d=\"M 2631 2963 \nQ 2534 3019 2420 3045 \nQ 2306 3072 2169 3072 \nQ 1681 3072 1420 2755 \nQ 1159 2438 1159 1844 \nL 1159 0 \nL 581 0 \nL 581 3500 \nL 1159 3500 \nL 1159 2956 \nQ 1341 3275 1631 3429 \nQ 1922 3584 2338 3584 \nQ 2397 3584 2469 3576 \nQ 2541 3569 2628 3553 \nL 2631 2963 \nz\n\" transform=\"scale(0.015625)\"/>\n       <path id=\"DejaVuSans-61\" d=\"M 2194 1759 \nQ 1497 1759 1228 1600 \nQ 959 1441 959 1056 \nQ 959 750 1161 570 \nQ 1363 391 1709 391 \nQ 2188 391 2477 730 \nQ 2766 1069 2766 1631 \nL 2766 1759 \nL 2194 1759 \nz\nM 3341 1997 \nL 3341 0 \nL 2766 0 \nL 2766 531 \nQ 2569 213 2275 61 \nQ 1981 -91 1556 -91 \nQ 1019 -91 701 211 \nQ 384 513 384 1019 \nQ 384 1609 779 1909 \nQ 1175 2209 1959 2209 \nL 2766 2209 \nL 2766 2266 \nQ 2766 2663 2505 2880 \nQ 2244 3097 1772 3097 \nQ 1472 3097 1187 3025 \nQ 903 2953 641 2809 \nL 641 3341 \nQ 956 3463 1253 3523 \nQ 1550 3584 1831 3584 \nQ 2591 3584 2966 3190 \nQ 3341 2797 3341 1997 \nz\n\" transform=\"scale(0.015625)\"/>\n       <path id=\"DejaVuSans-6d\" d=\"M 3328 2828 \nQ 3544 3216 3844 3400 \nQ 4144 3584 4550 3584 \nQ 5097 3584 5394 3201 \nQ 5691 2819 5691 2113 \nL 5691 0 \nL 5113 0 \nL 5113 2094 \nQ 5113 2597 4934 2840 \nQ 4756 3084 4391 3084 \nQ 3944 3084 3684 2787 \nQ 3425 2491 3425 1978 \nL 3425 0 \nL 2847 0 \nL 2847 2094 \nQ 2847 2600 2669 2842 \nQ 2491 3084 2119 3084 \nQ 1678 3084 1418 2786 \nQ 1159 2488 1159 1978 \nL 1159 0 \nL 581 0 \nL 581 3500 \nL 1159 3500 \nL 1159 2956 \nQ 1356 3278 1631 3431 \nQ 1906 3584 2284 3584 \nQ 2666 3584 2933 3390 \nQ 3200 3197 3328 2828 \nz\n\" transform=\"scale(0.015625)\"/>\n       <path id=\"DejaVuSans-b7\" d=\"M 684 2619 \nL 1344 2619 \nL 1344 1825 \nL 684 1825 \nL 684 2619 \nz\n\" transform=\"scale(0.015625)\"/>\n       <path id=\"DejaVuSans-74\" d=\"M 1172 4494 \nL 1172 3500 \nL 2356 3500 \nL 2356 3053 \nL 1172 3053 \nL 1172 1153 \nQ 1172 725 1289 603 \nQ 1406 481 1766 481 \nL 2356 481 \nL 2356 0 \nL 1766 0 \nQ 1100 0 847 248 \nQ 594 497 594 1153 \nL 594 3053 \nL 172 3053 \nL 172 3500 \nL 594 3500 \nL 594 4494 \nL 1172 4494 \nz\n\" transform=\"scale(0.015625)\"/>\n       <path id=\"DejaVuSans-b3\" d=\"M 1638 3500 \nQ 1925 3444 2083 3273 \nQ 2241 3103 2241 2847 \nQ 2241 2459 1944 2250 \nQ 1647 2041 1094 2041 \nQ 916 2041 720 2073 \nQ 525 2106 306 2169 \nL 306 2547 \nQ 469 2463 655 2422 \nQ 841 2381 1050 2381 \nQ 1391 2381 1578 2504 \nQ 1766 2628 1766 2847 \nQ 1766 3078 1592 3197 \nQ 1419 3316 1081 3316 \nL 813 3316 \nL 813 3653 \nL 1106 3653 \nQ 1400 3653 1551 3751 \nQ 1703 3850 1703 4038 \nQ 1703 4219 1547 4314 \nQ 1391 4409 1094 4409 \nQ 969 4409 809 4381 \nQ 650 4353 397 4281 \nL 397 4641 \nQ 625 4694 825 4722 \nQ 1025 4750 1197 4750 \nQ 1647 4750 1911 4565 \nQ 2175 4381 2175 4072 \nQ 2175 3856 2034 3706 \nQ 1894 3556 1638 3500 \nz\n\" transform=\"scale(0.015625)\"/>\n      </defs>\n      <use xlink:href=\"#DejaVuSans-6b\"/>\n      <use xlink:href=\"#DejaVuSans-69\" transform=\"translate(57.910156 0)\"/>\n      <use xlink:href=\"#DejaVuSans-6c\" transform=\"translate(85.693359 0)\"/>\n      <use xlink:href=\"#DejaVuSans-6f\" transform=\"translate(113.476562 0)\"/>\n      <use xlink:href=\"#DejaVuSans-67\" transform=\"translate(174.658203 0)\"/>\n      <use xlink:href=\"#DejaVuSans-72\" transform=\"translate(238.134766 0)\"/>\n      <use xlink:href=\"#DejaVuSans-61\" transform=\"translate(279.248047 0)\"/>\n      <use xlink:href=\"#DejaVuSans-6d\" transform=\"translate(340.527344 0)\"/>\n      <use xlink:href=\"#DejaVuSans-b7\" transform=\"translate(437.939453 0)\"/>\n      <use xlink:href=\"#DejaVuSans-6d\" transform=\"translate(469.726562 0)\"/>\n      <use xlink:href=\"#DejaVuSans-65\" transform=\"translate(567.138672 0)\"/>\n      <use xlink:href=\"#DejaVuSans-74\" transform=\"translate(628.662109 0)\"/>\n      <use xlink:href=\"#DejaVuSans-65\" transform=\"translate(667.871094 0)\"/>\n      <use xlink:href=\"#DejaVuSans-72\" transform=\"translate(729.394531 0)\"/>\n      <use xlink:href=\"#DejaVuSans-b3\" transform=\"translate(770.507812 0)\"/>\n     </g>\n    </g>\n   </g>\n   <g id=\"line2d_31\">\n    <path d=\"M 71.724432 217.62 \nL 149.719518 217.510168 \nL 153.984874 217.272581 \nL 157.031557 216.902433 \nL 159.468904 216.402793 \nL 161.601582 215.752906 \nL 163.429592 214.989396 \nL 165.257601 213.989483 \nL 167.085611 212.706118 \nL 168.608953 211.384673 \nL 170.132294 209.803468 \nL 171.655636 207.93427 \nL 173.178977 205.750223 \nL 174.702319 203.226725 \nL 176.530329 199.720486 \nL 178.358338 195.665313 \nL 180.186348 191.041946 \nL 182.014358 185.842896 \nL 184.147036 179.05788 \nL 186.279714 171.529957 \nL 188.717061 162.093263 \nL 191.459076 150.570056 \nL 195.115095 134.122724 \nL 204.864481 89.540691 \nL 207.606496 78.305434 \nL 210.043842 69.269748 \nL 212.17652 62.242343 \nL 214.00453 56.949117 \nL 215.83254 52.381065 \nL 217.355881 49.154617 \nL 218.879223 46.471365 \nL 220.097896 44.721876 \nL 221.316569 43.327535 \nL 222.535243 42.287975 \nL 223.753916 41.600709 \nL 224.667921 41.313818 \nL 225.581926 41.22 \nL 226.495931 41.316091 \nL 227.409936 41.598394 \nL 228.628609 42.257148 \nL 229.847282 43.228248 \nL 231.065955 44.499206 \nL 232.284628 46.056396 \nL 233.80797 48.383068 \nL 235.331311 51.103812 \nL 237.159321 54.843999 \nL 239.291999 59.790721 \nL 241.729346 66.099978 \nL 244.471361 73.869526 \nL 247.822712 84.06359 \nL 253.306741 101.606688 \nL 260.314112 123.931897 \nL 264.2748 135.854983 \nL 267.93082 146.160855 \nL 271.282171 154.917189 \nL 274.328854 162.258846 \nL 277.375537 168.992811 \nL 280.117552 174.532622 \nL 282.859567 179.587615 \nL 285.601582 184.173159 \nL 288.343596 188.309932 \nL 291.085611 192.022492 \nL 293.827626 195.338022 \nL 296.569641 198.285263 \nL 299.311655 200.893621 \nL 302.05367 203.192436 \nL 304.795685 205.21041 \nL 307.5377 206.975164 \nL 310.584383 208.670848 \nL 313.631066 210.11984 \nL 316.982417 211.465603 \nL 320.638437 212.67949 \nL 324.599125 213.743224 \nL 328.864481 214.648854 \nL 333.739174 215.440854 \nL 339.223203 216.093459 \nL 345.621238 216.621227 \nL 353.542614 217.036611 \nL 363.901336 217.33662 \nL 376.088068 217.501771 \nL 376.088068 217.501771 \n\" clip-path=\"url(#p8a47ebaa85)\" style=\"fill: none; stroke: #000080; stroke-width: 1.5; stroke-linecap: square\"/>\n   </g>\n   <g id=\"patch_3\">\n    <path d=\"M 56.50625 226.44 \nL 56.50625 32.4 \n\" style=\"fill: none; stroke: #000000; stroke-width: 0.8; stroke-linejoin: miter; stroke-linecap: square\"/>\n   </g>\n   <g id=\"patch_4\">\n    <path d=\"M 391.30625 226.44 \nL 391.30625 32.4 \n\" style=\"fill: none; stroke: #000000; stroke-width: 0.8; stroke-linejoin: miter; stroke-linecap: square\"/>\n   </g>\n   <g id=\"patch_5\">\n    <path d=\"M 56.50625 226.44 \nL 391.30625 226.44 \n\" style=\"fill: none; stroke: #000000; stroke-width: 0.8; stroke-linejoin: miter; stroke-linecap: square\"/>\n   </g>\n   <g id=\"patch_6\">\n    <path d=\"M 56.50625 32.4 \nL 391.30625 32.4 \n\" style=\"fill: none; stroke: #000000; stroke-width: 0.8; stroke-linejoin: miter; stroke-linecap: square\"/>\n   </g>\n  </g>\n  <g id=\"text_18\">\n   <!-- Concentration of solute at X=0.25m as a function of time -->\n   <g transform=\"translate(46.1075 16.318125) scale(0.12 -0.12)\">\n    <defs>\n     <path id=\"DejaVuSans-43\" d=\"M 4122 4306 \nL 4122 3641 \nQ 3803 3938 3442 4084 \nQ 3081 4231 2675 4231 \nQ 1875 4231 1450 3742 \nQ 1025 3253 1025 2328 \nQ 1025 1406 1450 917 \nQ 1875 428 2675 428 \nQ 3081 428 3442 575 \nQ 3803 722 4122 1019 \nL 4122 359 \nQ 3791 134 3420 21 \nQ 3050 -91 2638 -91 \nQ 1578 -91 968 557 \nQ 359 1206 359 2328 \nQ 359 3453 968 4101 \nQ 1578 4750 2638 4750 \nQ 3056 4750 3426 4639 \nQ 3797 4528 4122 4306 \nz\n\" transform=\"scale(0.015625)\"/>\n     <path id=\"DejaVuSans-20\" transform=\"scale(0.015625)\"/>\n     <path id=\"DejaVuSans-66\" d=\"M 2375 4863 \nL 2375 4384 \nL 1825 4384 \nQ 1516 4384 1395 4259 \nQ 1275 4134 1275 3809 \nL 1275 3500 \nL 2222 3500 \nL 2222 3053 \nL 1275 3053 \nL 1275 0 \nL 697 0 \nL 697 3053 \nL 147 3053 \nL 147 3500 \nL 697 3500 \nL 697 3744 \nQ 697 4328 969 4595 \nQ 1241 4863 1831 4863 \nL 2375 4863 \nz\n\" transform=\"scale(0.015625)\"/>\n     <path id=\"DejaVuSans-75\" d=\"M 544 1381 \nL 544 3500 \nL 1119 3500 \nL 1119 1403 \nQ 1119 906 1312 657 \nQ 1506 409 1894 409 \nQ 2359 409 2629 706 \nQ 2900 1003 2900 1516 \nL 2900 3500 \nL 3475 3500 \nL 3475 0 \nL 2900 0 \nL 2900 538 \nQ 2691 219 2414 64 \nQ 2138 -91 1772 -91 \nQ 1169 -91 856 284 \nQ 544 659 544 1381 \nz\nM 1991 3584 \nL 1991 3584 \nz\n\" transform=\"scale(0.015625)\"/>\n     <path id=\"DejaVuSans-58\" d=\"M 403 4666 \nL 1081 4666 \nL 2241 2931 \nL 3406 4666 \nL 4084 4666 \nL 2584 2425 \nL 4184 0 \nL 3506 0 \nL 2194 1984 \nL 872 0 \nL 191 0 \nL 1856 2491 \nL 403 4666 \nz\n\" transform=\"scale(0.015625)\"/>\n     <path id=\"DejaVuSans-3d\" d=\"M 678 2906 \nL 4684 2906 \nL 4684 2381 \nL 678 2381 \nL 678 2906 \nz\nM 678 1631 \nL 4684 1631 \nL 4684 1100 \nL 678 1100 \nL 678 1631 \nz\n\" transform=\"scale(0.015625)\"/>\n    </defs>\n    <use xlink:href=\"#DejaVuSans-43\"/>\n    <use xlink:href=\"#DejaVuSans-6f\" transform=\"translate(69.824219 0)\"/>\n    <use xlink:href=\"#DejaVuSans-6e\" transform=\"translate(131.005859 0)\"/>\n    <use xlink:href=\"#DejaVuSans-63\" transform=\"translate(194.384766 0)\"/>\n    <use xlink:href=\"#DejaVuSans-65\" transform=\"translate(249.365234 0)\"/>\n    <use xlink:href=\"#DejaVuSans-6e\" transform=\"translate(310.888672 0)\"/>\n    <use xlink:href=\"#DejaVuSans-74\" transform=\"translate(374.267578 0)\"/>\n    <use xlink:href=\"#DejaVuSans-72\" transform=\"translate(413.476562 0)\"/>\n    <use xlink:href=\"#DejaVuSans-61\" transform=\"translate(454.589844 0)\"/>\n    <use xlink:href=\"#DejaVuSans-74\" transform=\"translate(515.869141 0)\"/>\n    <use xlink:href=\"#DejaVuSans-69\" transform=\"translate(555.078125 0)\"/>\n    <use xlink:href=\"#DejaVuSans-6f\" transform=\"translate(582.861328 0)\"/>\n    <use xlink:href=\"#DejaVuSans-6e\" transform=\"translate(644.042969 0)\"/>\n    <use xlink:href=\"#DejaVuSans-20\" transform=\"translate(707.421875 0)\"/>\n    <use xlink:href=\"#DejaVuSans-6f\" transform=\"translate(739.208984 0)\"/>\n    <use xlink:href=\"#DejaVuSans-66\" transform=\"translate(800.390625 0)\"/>\n    <use xlink:href=\"#DejaVuSans-20\" transform=\"translate(835.595703 0)\"/>\n    <use xlink:href=\"#DejaVuSans-73\" transform=\"translate(867.382812 0)\"/>\n    <use xlink:href=\"#DejaVuSans-6f\" transform=\"translate(919.482422 0)\"/>\n    <use xlink:href=\"#DejaVuSans-6c\" transform=\"translate(980.664062 0)\"/>\n    <use xlink:href=\"#DejaVuSans-75\" transform=\"translate(1008.447266 0)\"/>\n    <use xlink:href=\"#DejaVuSans-74\" transform=\"translate(1071.826172 0)\"/>\n    <use xlink:href=\"#DejaVuSans-65\" transform=\"translate(1111.035156 0)\"/>\n    <use xlink:href=\"#DejaVuSans-20\" transform=\"translate(1172.558594 0)\"/>\n    <use xlink:href=\"#DejaVuSans-61\" transform=\"translate(1204.345703 0)\"/>\n    <use xlink:href=\"#DejaVuSans-74\" transform=\"translate(1265.625 0)\"/>\n    <use xlink:href=\"#DejaVuSans-20\" transform=\"translate(1304.833984 0)\"/>\n    <use xlink:href=\"#DejaVuSans-58\" transform=\"translate(1336.621094 0)\"/>\n    <use xlink:href=\"#DejaVuSans-3d\" transform=\"translate(1405.126953 0)\"/>\n    <use xlink:href=\"#DejaVuSans-30\" transform=\"translate(1488.916016 0)\"/>\n    <use xlink:href=\"#DejaVuSans-2e\" transform=\"translate(1552.539062 0)\"/>\n    <use xlink:href=\"#DejaVuSans-32\" transform=\"translate(1584.326172 0)\"/>\n    <use xlink:href=\"#DejaVuSans-35\" transform=\"translate(1647.949219 0)\"/>\n    <use xlink:href=\"#DejaVuSans-6d\" transform=\"translate(1711.572266 0)\"/>\n    <use xlink:href=\"#DejaVuSans-20\" transform=\"translate(1808.984375 0)\"/>\n    <use xlink:href=\"#DejaVuSans-61\" transform=\"translate(1840.771484 0)\"/>\n    <use xlink:href=\"#DejaVuSans-73\" transform=\"translate(1902.050781 0)\"/>\n    <use xlink:href=\"#DejaVuSans-20\" transform=\"translate(1954.150391 0)\"/>\n    <use xlink:href=\"#DejaVuSans-61\" transform=\"translate(1985.9375 0)\"/>\n    <use xlink:href=\"#DejaVuSans-20\" transform=\"translate(2047.216797 0)\"/>\n    <use xlink:href=\"#DejaVuSans-66\" transform=\"translate(2079.003906 0)\"/>\n    <use xlink:href=\"#DejaVuSans-75\" transform=\"translate(2114.208984 0)\"/>\n    <use xlink:href=\"#DejaVuSans-6e\" transform=\"translate(2177.587891 0)\"/>\n    <use xlink:href=\"#DejaVuSans-63\" transform=\"translate(2240.966797 0)\"/>\n    <use xlink:href=\"#DejaVuSans-74\" transform=\"translate(2295.947266 0)\"/>\n    <use xlink:href=\"#DejaVuSans-69\" transform=\"translate(2335.15625 0)\"/>\n    <use xlink:href=\"#DejaVuSans-6f\" transform=\"translate(2362.939453 0)\"/>\n    <use xlink:href=\"#DejaVuSans-6e\" transform=\"translate(2424.121094 0)\"/>\n    <use xlink:href=\"#DejaVuSans-20\" transform=\"translate(2487.5 0)\"/>\n    <use xlink:href=\"#DejaVuSans-6f\" transform=\"translate(2519.287109 0)\"/>\n    <use xlink:href=\"#DejaVuSans-66\" transform=\"translate(2580.46875 0)\"/>\n    <use xlink:href=\"#DejaVuSans-20\" transform=\"translate(2615.673828 0)\"/>\n    <use xlink:href=\"#DejaVuSans-74\" transform=\"translate(2647.460938 0)\"/>\n    <use xlink:href=\"#DejaVuSans-69\" transform=\"translate(2686.669922 0)\"/>\n    <use xlink:href=\"#DejaVuSans-6d\" transform=\"translate(2714.453125 0)\"/>\n    <use xlink:href=\"#DejaVuSans-65\" transform=\"translate(2811.865234 0)\"/>\n   </g>\n  </g>\n </g>\n <defs>\n  <clipPath id=\"p8a47ebaa85\">\n   <rect x=\"56.50625\" y=\"32.4\" width=\"334.8\" height=\"194.04\"/>\n  </clipPath>\n </defs>\n</svg>\n"
     },
     "metadata": {},
     "output_type": "display_data"
    },
    {
     "data": {
      "text/plain": [
       "HBox(children=(HTML(value=\"<a href='.\\\\tmpotxyekih.pdf' target='_blank'>.\\\\tmpotxyekih.pdf</a><br>\"), HTML(val…"
      ],
      "application/vnd.jupyter.widget-view+json": {
       "version_major": 2,
       "version_minor": 0,
       "model_id": "e67b90e41f7e415c8eaa44635d556ca5"
      }
     },
     "metadata": {},
     "output_type": "display_data"
    }
   ],
   "execution_count": 8
  }
 ],
 "metadata": {
  "kernelspec": {
   "display_name": "Python 3",
   "language": "python",
   "name": "python3"
  },
  "language_info": {
   "codemirror_mode": {
    "name": "ipython",
    "version": 2
   },
   "file_extension": ".py",
   "mimetype": "text/x-python",
   "name": "python",
   "nbconvert_exporter": "python",
   "pygments_lexer": "ipython2",
   "version": "2.7.6"
  }
 },
 "nbformat": 4,
 "nbformat_minor": 5
}
