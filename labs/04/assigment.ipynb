{
 "cells": [
  {
   "metadata": {},
   "cell_type": "markdown",
   "source": [
    "# LAB 04 Assigment\n",
    "\n",
    "Dominik Breksa (dominikbreksa@student.agh.edu.pl)"
   ],
   "id": "150544eaa2f4182c"
  },
  {
   "metadata": {
    "ExecuteTime": {
     "end_time": "2025-04-07T19:59:37.459121Z",
     "start_time": "2025-04-07T19:59:36.758267Z"
    }
   },
   "cell_type": "code",
   "source": "import numpy as np;import pint;import scipy;import matplotlib.pyplot as plt;from open_atmos_jupyter_utils import show_plot;from functools import partial;from typing import Final;plt.rcParams['axes.grid'] = True;si = pint.UnitRegistry();si.setup_matplotlib()",
   "id": "e1585f484a71f450",
   "outputs": [],
   "execution_count": 1
  },
  {
   "metadata": {},
   "cell_type": "markdown",
   "source": [
    "### Physical Problem Definition\n",
    "\n",
    "The physical problem that I will model today is the temperature of the fluid (water) with convective and conductive heat transfer in one-dimensional spacial domain.\n",
    "\n",
    "To solve this problem, I will use the advection-diffusion parabolic partial differential equation (also called in our case simplified convection-conduction equation).\n",
    "\n",
    "$$\n",
    "\\frac{\\partial \\psi}{\\partial t} + u \\frac{\\partial \\psi}{\\partial x} - \\mu \\frac{\\partial ^ 2 \\psi}{\\partial^2 x} = 0\n",
    "$$\n",
    "\n",
    "where,\n",
    "\n",
    "- $t$ - time in seconds $[s]$,\n",
    "- $x$ - spacial domain $[m]$,\n",
    "- $\\psi(x, t)$ - It is the function of temperature at a given point in one-dimensional space and time $[K]$,\n",
    "- $u$ - Convection coefficient of the flow $[\\frac{m}{s}]$,\n",
    "- $\\mu$ - Conduction coefficient $[\\frac{m^2}{s}]$,\n",
    "- $u \\frac{\\partial \\psi}{\\partial x}$ - Transport of heat by convection,\n",
    "- $- \\mu \\frac{\\partial ^ 2 \\psi}{\\partial^2 x}$ - Diffusive term which in our case is heat conduction.\n",
    "\n",
    "##### Boundary conditions — that my model uses\n",
    "\n",
    "1. Left boundary condition, for example, for $\\psi(x=0, t)$:\n",
    "\n",
    "    $$\n",
    "    \\psi(x, t) = \\psi_L(t) = T_o \\qquad (t \\ge 0; x \\le 0)\n",
    "    $$\n",
    "\n",
    "2. Right boundary condition, for example, for $\\psi(x=20, t)$:\n",
    "\n",
    "    $$\n",
    "    \\psi(x, t) = \\psi_R(t) = T_i \\qquad (t \\ge 0; x \\ge 1)\n",
    "    $$\n",
    "\n",
    "The values of $T_o$ and $T_i$ are constant in time and space, and for my example are equal to $T_o = 50^\\circ C$, $T_i = 0^\\circ C$.\n",
    "\n",
    "##### Initial conditions — that my model uses:\n",
    "\n",
    "$$\n",
    "\\psi(x, 0) = \\psi_0(x) = T_i \\qquad (0 \\le x \\le 1)\n",
    "$$"
   ],
   "id": "de3e179516958361"
  },
  {
   "metadata": {
    "ExecuteTime": {
     "end_time": "2025-04-07T19:59:37.466984Z",
     "start_time": "2025-04-07T19:59:37.461364Z"
    }
   },
   "cell_type": "code",
   "source": [
    "X_0: Final = np.float64(0.0)\n",
    "X_N: Final = np.float64(20.0)\n",
    "NUM_X: Final = np.uint32(1000)\n",
    "\n",
    "X, DX = np.linspace(X_0, X_N, num=NUM_X, dtype=np.float64, retstep=True, endpoint=True)\n",
    "DX *= si.m\n",
    "X *= si.m"
   ],
   "id": "7347623c76fd70f7",
   "outputs": [],
   "execution_count": 2
  },
  {
   "metadata": {
    "ExecuteTime": {
     "end_time": "2025-04-07T19:59:37.568786Z",
     "start_time": "2025-04-07T19:59:37.565146Z"
    }
   },
   "cell_type": "code",
   "source": [
    "T_0: Final = np.float64(0.0)\n",
    "T_N: Final = np.float64(14.0)\n",
    "NUM_T: Final = np.uint32(14000)\n",
    "\n",
    "T, DT = np.linspace(T_0, T_N, num=NUM_T, dtype=np.float64, retstep=True, endpoint=True)\n",
    "DT *= si.s\n",
    "T *= si.s"
   ],
   "id": "319bbe9b2dcc3f7d",
   "outputs": [],
   "execution_count": 3
  },
  {
   "metadata": {},
   "cell_type": "markdown",
   "source": [
    "### Analytical solution\n",
    "\n",
    "The Proof to my analytical solution, given these initial and boundary conditions, can be found here: [SOURCE](https://www.youtube.com/watch?v=Jr3aOildCCA)\n",
    "\n",
    "$$\n",
    "\\psi(x, t) = \\frac{T_o + T_i}{2} - \\frac{T_o - T_i}{2} erf(\\frac{x - ut}{2 \\sqrt{t\\mu}})\n",
    "$$\n",
    "\n",
    "After that, I will implement the solution as Python functions."
   ],
   "id": "deefe39b4084f161"
  },
  {
   "metadata": {
    "ExecuteTime": {
     "end_time": "2025-04-07T19:59:37.581159Z",
     "start_time": "2025-04-07T19:59:37.576928Z"
    }
   },
   "cell_type": "code",
   "source": [
    "def initial_conditions(t_o, t_i, x):\n",
    "    return np.where(x < 0, t_o, t_i)\n",
    "\n",
    "def left_boundary_conditions(t_o, t):\n",
    "    return np.full_like(t, t_o)\n",
    "\n",
    "def right_boundary_conditions(t_i, t):\n",
    "    return np.full_like(t, t_i)\n",
    "\n",
    "def analytic_solution(t_o, t_i, u, mu, x, t):\n",
    "    # pint 'Quantity' class does not work with 'scipy.special.erf(...)' :) Valve please fix!\n",
    "    return (t_o + t_i - (t_o - t_i) * scipy.special.erf(((x - u * t) / np.sqrt(t) / 2. / mu).magnitude)) / 2"
   ],
   "id": "6063c6fe5816fab8",
   "outputs": [],
   "execution_count": 4
  },
  {
   "metadata": {
    "ExecuteTime": {
     "end_time": "2025-04-07T19:59:37.655335Z",
     "start_time": "2025-04-07T19:59:37.588519Z"
    }
   },
   "cell_type": "code",
   "source": [
    "TEMPERATURE_O: Final = np.float64(50.0 + scipy.constants.zero_Celsius) * si.K\n",
    "TEMPERATURE_I: Final = np.float64(0.0 + scipy.constants.zero_Celsius) * si.K"
   ],
   "id": "7ef0c961d25b5b73",
   "outputs": [],
   "execution_count": 5
  },
  {
   "metadata": {
    "ExecuteTime": {
     "end_time": "2025-04-07T19:59:37.666149Z",
     "start_time": "2025-04-07T19:59:37.662506Z"
    }
   },
   "cell_type": "code",
   "source": "U: Final = np.float64(10. ** -6.) * si.m / si.s",
   "id": "2c4c722a6893bc43",
   "outputs": [],
   "execution_count": 6
  },
  {
   "metadata": {},
   "cell_type": "markdown",
   "source": [
    "All values below are measured at the pressure of $0.1 MPa$ at the temperature of around $25^\\circ C$.\n",
    "\n",
    "- $K_w$ - is the thermal conductivity of water equal to: $0.60719479404817 [\\frac{W}{m K}]$,\n",
    "- $\\rho_w$ - is the density of water equal to: $997.0474354081 [\\frac{kg}{m^3}]$,\n",
    "- $c_w$ - is the heat capacity of water at constant pressure equal to: $4181.9000614923 [\\frac{J}{kg K}]$."
   ],
   "id": "c3b68c76582a2637"
  },
  {
   "metadata": {
    "ExecuteTime": {
     "end_time": "2025-04-07T19:59:37.681301Z",
     "start_time": "2025-04-07T19:59:37.673882Z"
    }
   },
   "cell_type": "code",
   "source": [
    "MU: Final = ((0.60719479404817 * si.W / si.m / si.K) / (997.0474354081 * si.kg / si.m ** 3) / (4181.9000614923 * si.J / si.kg / si.K)).to_base_units()\n",
    "MU"
   ],
   "id": "82974f97ea9becea",
   "outputs": [
    {
     "data": {
      "text/plain": [
       "<Quantity(1.45625882e-07, 'meter ** 2 / second')>"
      ],
      "text/html": [
       "1.4562588199667754×10<sup>-7</sup> meter<sup>2</sup>/second"
      ],
      "text/latex": "$1.4562588199667754\\times 10^{-7}\\ \\frac{\\mathrm{meter}^{2}}{\\mathrm{second}}$"
     },
     "execution_count": 7,
     "metadata": {},
     "output_type": "execute_result"
    }
   ],
   "execution_count": 7
  },
  {
   "metadata": {},
   "cell_type": "markdown",
   "source": "Since the analytic solution function with realworld values of $u$ and $\\mu$ is no fun, because it looks very similar to very slow moving initial conditions (rectangle function). I propose to introduce new constant $u_{100000}$ and $\\mu_{100000}$ that are just the same constants, but are 100 thousand times greater (the time does not need to be absurd :)).",
   "id": "97716709cbf2ebc4"
  },
  {
   "metadata": {
    "ExecuteTime": {
     "end_time": "2025-04-07T19:59:37.694359Z",
     "start_time": "2025-04-07T19:59:37.689557Z"
    }
   },
   "cell_type": "code",
   "source": [
    "U_100000: Final = U * 10 ** 6\n",
    "U_100000"
   ],
   "id": "316e8b75acdc882d",
   "outputs": [
    {
     "data": {
      "text/plain": [
       "<Quantity(1.0, 'meter / second')>"
      ],
      "text/html": [
       "1.0 meter/second"
      ],
      "text/latex": "$1.0\\ \\frac{\\mathrm{meter}}{\\mathrm{second}}$"
     },
     "execution_count": 8,
     "metadata": {},
     "output_type": "execute_result"
    }
   ],
   "execution_count": 8
  },
  {
   "metadata": {
    "ExecuteTime": {
     "end_time": "2025-04-07T19:59:37.706130Z",
     "start_time": "2025-04-07T19:59:37.702795Z"
    }
   },
   "cell_type": "code",
   "source": [
    "MU_100000: Final = MU * 10 ** 6\n",
    "MU_100000"
   ],
   "id": "a3289c70456532ec",
   "outputs": [
    {
     "data": {
      "text/plain": [
       "<Quantity(0.145625882, 'meter ** 2 / second')>"
      ],
      "text/html": [
       "0.14562588199667756 meter<sup>2</sup>/second"
      ],
      "text/latex": "$0.14562588199667756\\ \\frac{\\mathrm{meter}^{2}}{\\mathrm{second}}$"
     },
     "execution_count": 9,
     "metadata": {},
     "output_type": "execute_result"
    }
   ],
   "execution_count": 9
  },
  {
   "metadata": {
    "ExecuteTime": {
     "end_time": "2025-04-07T19:59:37.718297Z",
     "start_time": "2025-04-07T19:59:37.715297Z"
    }
   },
   "cell_type": "code",
   "source": [
    "INITIAL_CONDITIONS = partial(initial_conditions, TEMPERATURE_O, TEMPERATURE_I)\n",
    "LEFT_BOUNDARY_CONDITIONS = partial(left_boundary_conditions, TEMPERATURE_O)\n",
    "RIGHT_BOUNDARY_CONDITIONS = partial(right_boundary_conditions, TEMPERATURE_I)\n",
    "ANALYTIC_SOLUTION = partial(analytic_solution, TEMPERATURE_O, TEMPERATURE_I, U_100000, MU_100000)"
   ],
   "id": "1168d552e1e1946",
   "outputs": [],
   "execution_count": 10
  },
  {
   "metadata": {},
   "cell_type": "markdown",
   "source": [
    "### Numerical solution\n",
    "\n",
    "To solve the equation numerically, I will use the first order explicit upwind finite difference scheme for the advection-diffusion equation. [SOURCE](https://www.youtube.com/watch?v=UM0o0ToluY8)\n",
    "\n",
    "Here I provide how I approximated the differences in the advection-diffusion equation:\n",
    "\n",
    "1. The approximation of $\\frac{\\partial \\psi}{\\partial t}$ (first order approximation from Taylor series):\n",
    "\n",
    "    $$\n",
    "    \\frac{\\partial \\psi}{\\partial t} \\approx \\frac{\\psi_x^{t+1} - \\psi_x^t}{\\Delta t}\n",
    "    $$\n",
    "\n",
    "2. The approximation of $\\frac{\\partial ^ 2 \\psi}{\\partial^2 x}$ (second order approximation from Taylor series):\n",
    "\n",
    "    $$\n",
    "    \\frac{\\partial ^ 2 \\psi}{\\partial^2 x} \\approx \\frac{\\psi_{x-1}^t - 2 \\psi_x^t + \\psi_{x+1}^t}{\\Delta x^2}\n",
    "    $$\n",
    "\n",
    "3. The approximation of $\\frac{\\partial \\psi}{\\partial x}$ (first order approximation from Taylor series and Upwind):\n",
    "\n",
    "    $$\n",
    "    \\frac{\\partial \\psi}{\\partial x} \\approx \\frac{\\psi_x^t - \\psi_{x-1}^t}{\\Delta x} \\qquad (u \\gt 0)\n",
    "    $$\n",
    "\n",
    "    $$\n",
    "    \\frac{\\partial \\psi}{\\partial x} \\approx \\frac{\\psi_{x+1}^t - \\psi_x^t}{\\Delta x} \\qquad (u \\lt 0)\n",
    "    $$\n",
    "\n",
    "After using the approximations defined above, we get the following upwind equations (where the Courant number is: $C = u\\frac{\\Delta t}{\\Delta x}$ and the Fourier number is: $F = \\mu\\frac{\\Delta t}{\\Delta x^2}$):\n",
    "\n",
    "1. For $(u \\ge 0)$:\n",
    "\n",
    "    $$\n",
    "    \\psi_i^{j+1} = (C + F)\\psi_{i-1}^j + (1 - 2F - C) \\psi_i^j + F \\psi_{i+1}^j\n",
    "    $$\n",
    "\n",
    "2. For $(u \\lt 0)$:\n",
    "\n",
    "    $$\n",
    "    \\psi_i^{j+1} = F\\psi_{i-1}^j + (1 - 2F + C) \\psi_i^j + (C + F)\\psi_{i+1}^j\n",
    "    $$"
   ],
   "id": "5d768e82949958be"
  },
  {
   "metadata": {
    "ExecuteTime": {
     "end_time": "2025-04-07T19:59:37.731393Z",
     "start_time": "2025-04-07T19:59:37.725957Z"
    }
   },
   "cell_type": "code",
   "source": [
    "def numerical_solution(x, t, dx, dt, u, mu, initial_condition, left_boundary_condition, right_boundary_condition):\n",
    "    c = u * dt / dx; f = mu * dt / dx / dx\n",
    "\n",
    "    left_fill = np.zeros(shape=(len(x),), dtype=x.dtype)\n",
    "    right_fill = np.zeros(shape=(len(x),), dtype=x.dtype)\n",
    "\n",
    "    # Upwind condition\n",
    "    a = np.diag(np.full((len(x) - 1,), (c + f) if c >= 0 else f), k=-1) + \\\n",
    "        np.diag(np.full((len(x) - 1,), f if c >= 0 else (c + f)), k=1) + \\\n",
    "        np.diag(np.full((len(x),), (1 - f - f - c) if c >= 0 else (1 - f - f + c)))\n",
    "\n",
    "    # The convergence condition\n",
    "    assert (spectral_radius := np.max(np.abs(np.linalg.eigvals(a)))) <= 1., f'{spectral_radius=} must be less or equal to 1 to perform stable calculations'\n",
    "\n",
    "    left_fill[0] = c + f if c >= 0 else f\n",
    "    right_fill[-1] = f if c >= 0 else c + f\n",
    "\n",
    "    a = np.append(np.expand_dims(left_fill, axis=-1), a, axis=1)\n",
    "    a = np.append(a, np.expand_dims(right_fill, axis=-1), axis=1)\n",
    "    init_vec = initial_condition(x)\n",
    "    out = np.zeros(shape=(len(x) + 2, len(t)), dtype=x.dtype) * init_vec.units\n",
    "\n",
    "    out[1: -1, 0] = init_vec\n",
    "    out[0, :] = left_boundary_condition(t)\n",
    "    out[-1, :] = right_boundary_condition(t)\n",
    "\n",
    "    for j in range(1, len(t)):\n",
    "        out[1: -1, j] = np.matmul(a, out[:, j - 1].T)\n",
    "\n",
    "    return out"
   ],
   "id": "df83c94274a3c57e",
   "outputs": [],
   "execution_count": 11
  },
  {
   "metadata": {
    "ExecuteTime": {
     "end_time": "2025-04-07T19:59:41.864511Z",
     "start_time": "2025-04-07T19:59:37.740436Z"
    }
   },
   "cell_type": "code",
   "source": "NUMERICAL_SOLUTION = numerical_solution(x=X, t=T, dx=DX, dt=DT, u=U_100000, mu=MU_100000, initial_condition=INITIAL_CONDITIONS, left_boundary_condition=LEFT_BOUNDARY_CONDITIONS, right_boundary_condition=RIGHT_BOUNDARY_CONDITIONS)",
   "id": "cc494ed6b9ab2e32",
   "outputs": [],
   "execution_count": 12
  },
  {
   "metadata": {},
   "cell_type": "markdown",
   "source": [
    "### Comparison of analytic and numerical solutions — Root Mean Square Error\n",
    "\n",
    "Root Mean Square Error is a measure of error between two vectors ($x^{pred}$ (the predicted vector) and $x^{true}$ (the actual vector)) of size $N$.\n",
    "\n",
    "The function from above can be implemented as a Python function over vectors (copied and pasted from a previous lab):"
   ],
   "id": "b09f8dda3d05d1ee"
  },
  {
   "metadata": {
    "ExecuteTime": {
     "end_time": "2025-04-07T19:59:41.876739Z",
     "start_time": "2025-04-07T19:59:41.872823Z"
    }
   },
   "cell_type": "code",
   "source": [
    "def root_mean_square_error(x_pred, x_true):\n",
    "    assert x_pred.shape == x_true.shape, f'{x_pred.shape=} != {x_true.shape=}, The input vectors have different shapes'\n",
    "\n",
    "    return np.sqrt(np.mean((x_pred - x_true) ** 2))"
   ],
   "id": "d1c4847e1fdec3d5",
   "outputs": [],
   "execution_count": 13
  },
  {
   "metadata": {
    "ExecuteTime": {
     "end_time": "2025-04-07T19:59:45.604052Z",
     "start_time": "2025-04-07T19:59:41.892998Z"
    }
   },
   "cell_type": "code",
   "source": [
    "ERROR_RATE_PER_TIME_STEP = np.zeros(shape=(len(T),), dtype=X.dtype) * TEMPERATURE_I.units\n",
    "\n",
    "for i in range(1, NUM_T):\n",
    "    ERROR_RATE_PER_TIME_STEP[i] = root_mean_square_error(NUMERICAL_SOLUTION[1:-1, i], ANALYTIC_SOLUTION(X, T[i]))"
   ],
   "id": "4fca2e0aa7d73beb",
   "outputs": [],
   "execution_count": 14
  },
  {
   "metadata": {},
   "cell_type": "markdown",
   "source": "### Plots creation",
   "id": "3d317c9ba7723f45"
  },
  {
   "metadata": {
    "ExecuteTime": {
     "end_time": "2025-04-07T20:07:28.967427Z",
     "start_time": "2025-04-07T20:07:28.353918Z"
    }
   },
   "cell_type": "code",
   "source": [
    "fig = plt.figure(figsize=(12, 6))\n",
    "ax1, ax2 = fig.subplots(1, 2)\n",
    "\n",
    "ax1.set_title('Comparison Between Analytical and Numerical Solution')\n",
    "ax1.plot(X, ANALYTIC_SOLUTION(X, T[1000]), '-b', label=f'analytic t={1000 * T_N / NUM_T}s')\n",
    "ax1.plot(X, NUMERICAL_SOLUTION[1: -1, 1000], ':b', label=f'numerical t={1000 * T_N / NUM_T}s')\n",
    "ax1.plot(X, ANALYTIC_SOLUTION(X, T[7000]), '-r', label=f'analytic t={7000 * T_N / NUM_T}s')\n",
    "ax1.plot(X, NUMERICAL_SOLUTION[1: -1, 7000], ':r', label=f'numerical t={7000 * T_N / NUM_T}s')\n",
    "ax1.plot(X, ANALYTIC_SOLUTION(X, T[13000]), '-g', label=f'analytic t={13000 * T_N / NUM_T}s')\n",
    "ax1.plot(X, NUMERICAL_SOLUTION[1: -1, 13000], ':g', label=f'numerical t={13000 * T_N / NUM_T}s')\n",
    "ax1.legend()\n",
    "\n",
    "ax2.set_title('Change in the RMSE between analytic and numerical solution with time')\n",
    "ax2.plot(T, ERROR_RATE_PER_TIME_STEP, '--k', label=f'RMSE in Kelvins')\n",
    "ax2.legend(loc='lower right')\n",
    "\n",
    "fig.tight_layout()\n",
    "\n",
    "show_plot(fig=fig)"
   ],
   "id": "7434223d027bc56a",
   "outputs": [
    {
     "data": {
      "text/plain": [
       "<Figure size 1200x600 with 2 Axes>"
      ],
      "image/svg+xml": "<?xml version=\"1.0\" encoding=\"utf-8\" standalone=\"no\"?>\n<!DOCTYPE svg PUBLIC \"-//W3C//DTD SVG 1.1//EN\"\n  \"http://www.w3.org/Graphics/SVG/1.1/DTD/svg11.dtd\">\n<svg xmlns:xlink=\"http://www.w3.org/1999/xlink\" width=\"880.671563pt\" height=\"423.034375pt\" viewBox=\"0 0 880.671563 423.034375\" xmlns=\"http://www.w3.org/2000/svg\" version=\"1.1\">\n <metadata>\n  <rdf:RDF xmlns:dc=\"http://purl.org/dc/elements/1.1/\" xmlns:cc=\"http://creativecommons.org/ns#\" xmlns:rdf=\"http://www.w3.org/1999/02/22-rdf-syntax-ns#\">\n   <cc:Work>\n    <dc:type rdf:resource=\"http://purl.org/dc/dcmitype/StillImage\"/>\n    <dc:date>2025-04-07T22:07:28.908673</dc:date>\n    <dc:format>image/svg+xml</dc:format>\n    <dc:creator>\n     <cc:Agent>\n      <dc:title>Matplotlib v3.10.1, https://matplotlib.org/</dc:title>\n     </cc:Agent>\n    </dc:creator>\n   </cc:Work>\n  </rdf:RDF>\n </metadata>\n <defs>\n  <style type=\"text/css\">*{stroke-linejoin: round; stroke-linecap: butt}</style>\n </defs>\n <g id=\"figure_1\">\n  <g id=\"patch_1\">\n   <path d=\"M 0 423.034375 \nL 880.671563 423.034375 \nL 880.671563 0 \nL 0 0 \nz\n\" style=\"fill: #ffffff\"/>\n  </g>\n  <g id=\"axes_1\">\n   <g id=\"patch_2\">\n    <path d=\"M 46.965625 385.478125 \nL 428.995625 385.478125 \nL 428.995625 22.318125 \nL 46.965625 22.318125 \nz\n\" style=\"fill: #ffffff\"/>\n   </g>\n   <g id=\"matplotlib.axis_1\">\n    <g id=\"xtick_1\">\n     <g id=\"line2d_1\">\n      <path d=\"M 64.330625 385.478125 \nL 64.330625 22.318125 \n\" clip-path=\"url(#p10e0f07f8a)\" style=\"fill: none; stroke: #b0b0b0; stroke-width: 0.8; stroke-linecap: square\"/>\n     </g>\n     <g id=\"line2d_2\">\n      <defs>\n       <path id=\"m25c8c466c9\" d=\"M 0 0 \nL 0 3.5 \n\" style=\"stroke: #000000; stroke-width: 0.8\"/>\n      </defs>\n      <g>\n       <use xlink:href=\"#m25c8c466c9\" x=\"64.330625\" y=\"385.478125\" style=\"stroke: #000000; stroke-width: 0.8\"/>\n      </g>\n     </g>\n     <g id=\"text_1\">\n      <!-- 0.0 -->\n      <g transform=\"translate(56.379062 400.076562) scale(0.1 -0.1)\">\n       <defs>\n        <path id=\"DejaVuSans-30\" d=\"M 2034 4250 \nQ 1547 4250 1301 3770 \nQ 1056 3291 1056 2328 \nQ 1056 1369 1301 889 \nQ 1547 409 2034 409 \nQ 2525 409 2770 889 \nQ 3016 1369 3016 2328 \nQ 3016 3291 2770 3770 \nQ 2525 4250 2034 4250 \nz\nM 2034 4750 \nQ 2819 4750 3233 4129 \nQ 3647 3509 3647 2328 \nQ 3647 1150 3233 529 \nQ 2819 -91 2034 -91 \nQ 1250 -91 836 529 \nQ 422 1150 422 2328 \nQ 422 3509 836 4129 \nQ 1250 4750 2034 4750 \nz\n\" transform=\"scale(0.015625)\"/>\n        <path id=\"DejaVuSans-2e\" d=\"M 684 794 \nL 1344 794 \nL 1344 0 \nL 684 0 \nL 684 794 \nz\n\" transform=\"scale(0.015625)\"/>\n       </defs>\n       <use xlink:href=\"#DejaVuSans-30\"/>\n       <use xlink:href=\"#DejaVuSans-2e\" transform=\"translate(63.623047 0)\"/>\n       <use xlink:href=\"#DejaVuSans-30\" transform=\"translate(95.410156 0)\"/>\n      </g>\n     </g>\n    </g>\n    <g id=\"xtick_2\">\n     <g id=\"line2d_3\">\n      <path d=\"M 107.743125 385.478125 \nL 107.743125 22.318125 \n\" clip-path=\"url(#p10e0f07f8a)\" style=\"fill: none; stroke: #b0b0b0; stroke-width: 0.8; stroke-linecap: square\"/>\n     </g>\n     <g id=\"line2d_4\">\n      <g>\n       <use xlink:href=\"#m25c8c466c9\" x=\"107.743125\" y=\"385.478125\" style=\"stroke: #000000; stroke-width: 0.8\"/>\n      </g>\n     </g>\n     <g id=\"text_2\">\n      <!-- 2.5 -->\n      <g transform=\"translate(99.791563 400.076562) scale(0.1 -0.1)\">\n       <defs>\n        <path id=\"DejaVuSans-32\" d=\"M 1228 531 \nL 3431 531 \nL 3431 0 \nL 469 0 \nL 469 531 \nQ 828 903 1448 1529 \nQ 2069 2156 2228 2338 \nQ 2531 2678 2651 2914 \nQ 2772 3150 2772 3378 \nQ 2772 3750 2511 3984 \nQ 2250 4219 1831 4219 \nQ 1534 4219 1204 4116 \nQ 875 4013 500 3803 \nL 500 4441 \nQ 881 4594 1212 4672 \nQ 1544 4750 1819 4750 \nQ 2544 4750 2975 4387 \nQ 3406 4025 3406 3419 \nQ 3406 3131 3298 2873 \nQ 3191 2616 2906 2266 \nQ 2828 2175 2409 1742 \nQ 1991 1309 1228 531 \nz\n\" transform=\"scale(0.015625)\"/>\n        <path id=\"DejaVuSans-35\" d=\"M 691 4666 \nL 3169 4666 \nL 3169 4134 \nL 1269 4134 \nL 1269 2991 \nQ 1406 3038 1543 3061 \nQ 1681 3084 1819 3084 \nQ 2600 3084 3056 2656 \nQ 3513 2228 3513 1497 \nQ 3513 744 3044 326 \nQ 2575 -91 1722 -91 \nQ 1428 -91 1123 -41 \nQ 819 9 494 109 \nL 494 744 \nQ 775 591 1075 516 \nQ 1375 441 1709 441 \nQ 2250 441 2565 725 \nQ 2881 1009 2881 1497 \nQ 2881 1984 2565 2268 \nQ 2250 2553 1709 2553 \nQ 1456 2553 1204 2497 \nQ 953 2441 691 2322 \nL 691 4666 \nz\n\" transform=\"scale(0.015625)\"/>\n       </defs>\n       <use xlink:href=\"#DejaVuSans-32\"/>\n       <use xlink:href=\"#DejaVuSans-2e\" transform=\"translate(63.623047 0)\"/>\n       <use xlink:href=\"#DejaVuSans-35\" transform=\"translate(95.410156 0)\"/>\n      </g>\n     </g>\n    </g>\n    <g id=\"xtick_3\">\n     <g id=\"line2d_5\">\n      <path d=\"M 151.155625 385.478125 \nL 151.155625 22.318125 \n\" clip-path=\"url(#p10e0f07f8a)\" style=\"fill: none; stroke: #b0b0b0; stroke-width: 0.8; stroke-linecap: square\"/>\n     </g>\n     <g id=\"line2d_6\">\n      <g>\n       <use xlink:href=\"#m25c8c466c9\" x=\"151.155625\" y=\"385.478125\" style=\"stroke: #000000; stroke-width: 0.8\"/>\n      </g>\n     </g>\n     <g id=\"text_3\">\n      <!-- 5.0 -->\n      <g transform=\"translate(143.204063 400.076562) scale(0.1 -0.1)\">\n       <use xlink:href=\"#DejaVuSans-35\"/>\n       <use xlink:href=\"#DejaVuSans-2e\" transform=\"translate(63.623047 0)\"/>\n       <use xlink:href=\"#DejaVuSans-30\" transform=\"translate(95.410156 0)\"/>\n      </g>\n     </g>\n    </g>\n    <g id=\"xtick_4\">\n     <g id=\"line2d_7\">\n      <path d=\"M 194.568125 385.478125 \nL 194.568125 22.318125 \n\" clip-path=\"url(#p10e0f07f8a)\" style=\"fill: none; stroke: #b0b0b0; stroke-width: 0.8; stroke-linecap: square\"/>\n     </g>\n     <g id=\"line2d_8\">\n      <g>\n       <use xlink:href=\"#m25c8c466c9\" x=\"194.568125\" y=\"385.478125\" style=\"stroke: #000000; stroke-width: 0.8\"/>\n      </g>\n     </g>\n     <g id=\"text_4\">\n      <!-- 7.5 -->\n      <g transform=\"translate(186.616563 400.076562) scale(0.1 -0.1)\">\n       <defs>\n        <path id=\"DejaVuSans-37\" d=\"M 525 4666 \nL 3525 4666 \nL 3525 4397 \nL 1831 0 \nL 1172 0 \nL 2766 4134 \nL 525 4134 \nL 525 4666 \nz\n\" transform=\"scale(0.015625)\"/>\n       </defs>\n       <use xlink:href=\"#DejaVuSans-37\"/>\n       <use xlink:href=\"#DejaVuSans-2e\" transform=\"translate(63.623047 0)\"/>\n       <use xlink:href=\"#DejaVuSans-35\" transform=\"translate(95.410156 0)\"/>\n      </g>\n     </g>\n    </g>\n    <g id=\"xtick_5\">\n     <g id=\"line2d_9\">\n      <path d=\"M 237.980625 385.478125 \nL 237.980625 22.318125 \n\" clip-path=\"url(#p10e0f07f8a)\" style=\"fill: none; stroke: #b0b0b0; stroke-width: 0.8; stroke-linecap: square\"/>\n     </g>\n     <g id=\"line2d_10\">\n      <g>\n       <use xlink:href=\"#m25c8c466c9\" x=\"237.980625\" y=\"385.478125\" style=\"stroke: #000000; stroke-width: 0.8\"/>\n      </g>\n     </g>\n     <g id=\"text_5\">\n      <!-- 10.0 -->\n      <g transform=\"translate(226.847813 400.076562) scale(0.1 -0.1)\">\n       <defs>\n        <path id=\"DejaVuSans-31\" d=\"M 794 531 \nL 1825 531 \nL 1825 4091 \nL 703 3866 \nL 703 4441 \nL 1819 4666 \nL 2450 4666 \nL 2450 531 \nL 3481 531 \nL 3481 0 \nL 794 0 \nL 794 531 \nz\n\" transform=\"scale(0.015625)\"/>\n       </defs>\n       <use xlink:href=\"#DejaVuSans-31\"/>\n       <use xlink:href=\"#DejaVuSans-30\" transform=\"translate(63.623047 0)\"/>\n       <use xlink:href=\"#DejaVuSans-2e\" transform=\"translate(127.246094 0)\"/>\n       <use xlink:href=\"#DejaVuSans-30\" transform=\"translate(159.033203 0)\"/>\n      </g>\n     </g>\n    </g>\n    <g id=\"xtick_6\">\n     <g id=\"line2d_11\">\n      <path d=\"M 281.393125 385.478125 \nL 281.393125 22.318125 \n\" clip-path=\"url(#p10e0f07f8a)\" style=\"fill: none; stroke: #b0b0b0; stroke-width: 0.8; stroke-linecap: square\"/>\n     </g>\n     <g id=\"line2d_12\">\n      <g>\n       <use xlink:href=\"#m25c8c466c9\" x=\"281.393125\" y=\"385.478125\" style=\"stroke: #000000; stroke-width: 0.8\"/>\n      </g>\n     </g>\n     <g id=\"text_6\">\n      <!-- 12.5 -->\n      <g transform=\"translate(270.260313 400.076562) scale(0.1 -0.1)\">\n       <use xlink:href=\"#DejaVuSans-31\"/>\n       <use xlink:href=\"#DejaVuSans-32\" transform=\"translate(63.623047 0)\"/>\n       <use xlink:href=\"#DejaVuSans-2e\" transform=\"translate(127.246094 0)\"/>\n       <use xlink:href=\"#DejaVuSans-35\" transform=\"translate(159.033203 0)\"/>\n      </g>\n     </g>\n    </g>\n    <g id=\"xtick_7\">\n     <g id=\"line2d_13\">\n      <path d=\"M 324.805625 385.478125 \nL 324.805625 22.318125 \n\" clip-path=\"url(#p10e0f07f8a)\" style=\"fill: none; stroke: #b0b0b0; stroke-width: 0.8; stroke-linecap: square\"/>\n     </g>\n     <g id=\"line2d_14\">\n      <g>\n       <use xlink:href=\"#m25c8c466c9\" x=\"324.805625\" y=\"385.478125\" style=\"stroke: #000000; stroke-width: 0.8\"/>\n      </g>\n     </g>\n     <g id=\"text_7\">\n      <!-- 15.0 -->\n      <g transform=\"translate(313.672813 400.076562) scale(0.1 -0.1)\">\n       <use xlink:href=\"#DejaVuSans-31\"/>\n       <use xlink:href=\"#DejaVuSans-35\" transform=\"translate(63.623047 0)\"/>\n       <use xlink:href=\"#DejaVuSans-2e\" transform=\"translate(127.246094 0)\"/>\n       <use xlink:href=\"#DejaVuSans-30\" transform=\"translate(159.033203 0)\"/>\n      </g>\n     </g>\n    </g>\n    <g id=\"xtick_8\">\n     <g id=\"line2d_15\">\n      <path d=\"M 368.218125 385.478125 \nL 368.218125 22.318125 \n\" clip-path=\"url(#p10e0f07f8a)\" style=\"fill: none; stroke: #b0b0b0; stroke-width: 0.8; stroke-linecap: square\"/>\n     </g>\n     <g id=\"line2d_16\">\n      <g>\n       <use xlink:href=\"#m25c8c466c9\" x=\"368.218125\" y=\"385.478125\" style=\"stroke: #000000; stroke-width: 0.8\"/>\n      </g>\n     </g>\n     <g id=\"text_8\">\n      <!-- 17.5 -->\n      <g transform=\"translate(357.085313 400.076562) scale(0.1 -0.1)\">\n       <use xlink:href=\"#DejaVuSans-31\"/>\n       <use xlink:href=\"#DejaVuSans-37\" transform=\"translate(63.623047 0)\"/>\n       <use xlink:href=\"#DejaVuSans-2e\" transform=\"translate(127.246094 0)\"/>\n       <use xlink:href=\"#DejaVuSans-35\" transform=\"translate(159.033203 0)\"/>\n      </g>\n     </g>\n    </g>\n    <g id=\"xtick_9\">\n     <g id=\"line2d_17\">\n      <path d=\"M 411.630625 385.478125 \nL 411.630625 22.318125 \n\" clip-path=\"url(#p10e0f07f8a)\" style=\"fill: none; stroke: #b0b0b0; stroke-width: 0.8; stroke-linecap: square\"/>\n     </g>\n     <g id=\"line2d_18\">\n      <g>\n       <use xlink:href=\"#m25c8c466c9\" x=\"411.630625\" y=\"385.478125\" style=\"stroke: #000000; stroke-width: 0.8\"/>\n      </g>\n     </g>\n     <g id=\"text_9\">\n      <!-- 20.0 -->\n      <g transform=\"translate(400.497813 400.076562) scale(0.1 -0.1)\">\n       <use xlink:href=\"#DejaVuSans-32\"/>\n       <use xlink:href=\"#DejaVuSans-30\" transform=\"translate(63.623047 0)\"/>\n       <use xlink:href=\"#DejaVuSans-2e\" transform=\"translate(127.246094 0)\"/>\n       <use xlink:href=\"#DejaVuSans-30\" transform=\"translate(159.033203 0)\"/>\n      </g>\n     </g>\n    </g>\n    <g id=\"text_10\">\n     <!-- meter -->\n     <g transform=\"translate(222.941563 413.754687) scale(0.1 -0.1)\">\n      <defs>\n       <path id=\"DejaVuSans-6d\" d=\"M 3328 2828 \nQ 3544 3216 3844 3400 \nQ 4144 3584 4550 3584 \nQ 5097 3584 5394 3201 \nQ 5691 2819 5691 2113 \nL 5691 0 \nL 5113 0 \nL 5113 2094 \nQ 5113 2597 4934 2840 \nQ 4756 3084 4391 3084 \nQ 3944 3084 3684 2787 \nQ 3425 2491 3425 1978 \nL 3425 0 \nL 2847 0 \nL 2847 2094 \nQ 2847 2600 2669 2842 \nQ 2491 3084 2119 3084 \nQ 1678 3084 1418 2786 \nQ 1159 2488 1159 1978 \nL 1159 0 \nL 581 0 \nL 581 3500 \nL 1159 3500 \nL 1159 2956 \nQ 1356 3278 1631 3431 \nQ 1906 3584 2284 3584 \nQ 2666 3584 2933 3390 \nQ 3200 3197 3328 2828 \nz\n\" transform=\"scale(0.015625)\"/>\n       <path id=\"DejaVuSans-65\" d=\"M 3597 1894 \nL 3597 1613 \nL 953 1613 \nQ 991 1019 1311 708 \nQ 1631 397 2203 397 \nQ 2534 397 2845 478 \nQ 3156 559 3463 722 \nL 3463 178 \nQ 3153 47 2828 -22 \nQ 2503 -91 2169 -91 \nQ 1331 -91 842 396 \nQ 353 884 353 1716 \nQ 353 2575 817 3079 \nQ 1281 3584 2069 3584 \nQ 2775 3584 3186 3129 \nQ 3597 2675 3597 1894 \nz\nM 3022 2063 \nQ 3016 2534 2758 2815 \nQ 2500 3097 2075 3097 \nQ 1594 3097 1305 2825 \nQ 1016 2553 972 2059 \nL 3022 2063 \nz\n\" transform=\"scale(0.015625)\"/>\n       <path id=\"DejaVuSans-74\" d=\"M 1172 4494 \nL 1172 3500 \nL 2356 3500 \nL 2356 3053 \nL 1172 3053 \nL 1172 1153 \nQ 1172 725 1289 603 \nQ 1406 481 1766 481 \nL 2356 481 \nL 2356 0 \nL 1766 0 \nQ 1100 0 847 248 \nQ 594 497 594 1153 \nL 594 3053 \nL 172 3053 \nL 172 3500 \nL 594 3500 \nL 594 4494 \nL 1172 4494 \nz\n\" transform=\"scale(0.015625)\"/>\n       <path id=\"DejaVuSans-72\" d=\"M 2631 2963 \nQ 2534 3019 2420 3045 \nQ 2306 3072 2169 3072 \nQ 1681 3072 1420 2755 \nQ 1159 2438 1159 1844 \nL 1159 0 \nL 581 0 \nL 581 3500 \nL 1159 3500 \nL 1159 2956 \nQ 1341 3275 1631 3429 \nQ 1922 3584 2338 3584 \nQ 2397 3584 2469 3576 \nQ 2541 3569 2628 3553 \nL 2631 2963 \nz\n\" transform=\"scale(0.015625)\"/>\n      </defs>\n      <use xlink:href=\"#DejaVuSans-6d\"/>\n      <use xlink:href=\"#DejaVuSans-65\" transform=\"translate(97.412109 0)\"/>\n      <use xlink:href=\"#DejaVuSans-74\" transform=\"translate(158.935547 0)\"/>\n      <use xlink:href=\"#DejaVuSans-65\" transform=\"translate(198.144531 0)\"/>\n      <use xlink:href=\"#DejaVuSans-72\" transform=\"translate(259.667969 0)\"/>\n     </g>\n    </g>\n   </g>\n   <g id=\"matplotlib.axis_2\">\n    <g id=\"ytick_1\">\n     <g id=\"line2d_19\">\n      <path d=\"M 46.965625 323.740925 \nL 428.995625 323.740925 \n\" clip-path=\"url(#p10e0f07f8a)\" style=\"fill: none; stroke: #b0b0b0; stroke-width: 0.8; stroke-linecap: square\"/>\n     </g>\n     <g id=\"line2d_20\">\n      <defs>\n       <path id=\"mf11503aa5e\" d=\"M 0 0 \nL -3.5 0 \n\" style=\"stroke: #000000; stroke-width: 0.8\"/>\n      </defs>\n      <g>\n       <use xlink:href=\"#mf11503aa5e\" x=\"46.965625\" y=\"323.740925\" style=\"stroke: #000000; stroke-width: 0.8\"/>\n      </g>\n     </g>\n     <g id=\"text_11\">\n      <!-- 280 -->\n      <g transform=\"translate(20.878125 327.540144) scale(0.1 -0.1)\">\n       <defs>\n        <path id=\"DejaVuSans-38\" d=\"M 2034 2216 \nQ 1584 2216 1326 1975 \nQ 1069 1734 1069 1313 \nQ 1069 891 1326 650 \nQ 1584 409 2034 409 \nQ 2484 409 2743 651 \nQ 3003 894 3003 1313 \nQ 3003 1734 2745 1975 \nQ 2488 2216 2034 2216 \nz\nM 1403 2484 \nQ 997 2584 770 2862 \nQ 544 3141 544 3541 \nQ 544 4100 942 4425 \nQ 1341 4750 2034 4750 \nQ 2731 4750 3128 4425 \nQ 3525 4100 3525 3541 \nQ 3525 3141 3298 2862 \nQ 3072 2584 2669 2484 \nQ 3125 2378 3379 2068 \nQ 3634 1759 3634 1313 \nQ 3634 634 3220 271 \nQ 2806 -91 2034 -91 \nQ 1263 -91 848 271 \nQ 434 634 434 1313 \nQ 434 1759 690 2068 \nQ 947 2378 1403 2484 \nz\nM 1172 3481 \nQ 1172 3119 1398 2916 \nQ 1625 2713 2034 2713 \nQ 2441 2713 2670 2916 \nQ 2900 3119 2900 3481 \nQ 2900 3844 2670 4047 \nQ 2441 4250 2034 4250 \nQ 1625 4250 1398 4047 \nQ 1172 3844 1172 3481 \nz\n\" transform=\"scale(0.015625)\"/>\n       </defs>\n       <use xlink:href=\"#DejaVuSans-32\"/>\n       <use xlink:href=\"#DejaVuSans-38\" transform=\"translate(63.623047 0)\"/>\n       <use xlink:href=\"#DejaVuSans-30\" transform=\"translate(127.246094 0)\"/>\n      </g>\n     </g>\n    </g>\n    <g id=\"ytick_2\">\n     <g id=\"line2d_21\">\n      <path d=\"M 46.965625 257.711834 \nL 428.995625 257.711834 \n\" clip-path=\"url(#p10e0f07f8a)\" style=\"fill: none; stroke: #b0b0b0; stroke-width: 0.8; stroke-linecap: square\"/>\n     </g>\n     <g id=\"line2d_22\">\n      <g>\n       <use xlink:href=\"#mf11503aa5e\" x=\"46.965625\" y=\"257.711834\" style=\"stroke: #000000; stroke-width: 0.8\"/>\n      </g>\n     </g>\n     <g id=\"text_12\">\n      <!-- 290 -->\n      <g transform=\"translate(20.878125 261.511053) scale(0.1 -0.1)\">\n       <defs>\n        <path id=\"DejaVuSans-39\" d=\"M 703 97 \nL 703 672 \nQ 941 559 1184 500 \nQ 1428 441 1663 441 \nQ 2288 441 2617 861 \nQ 2947 1281 2994 2138 \nQ 2813 1869 2534 1725 \nQ 2256 1581 1919 1581 \nQ 1219 1581 811 2004 \nQ 403 2428 403 3163 \nQ 403 3881 828 4315 \nQ 1253 4750 1959 4750 \nQ 2769 4750 3195 4129 \nQ 3622 3509 3622 2328 \nQ 3622 1225 3098 567 \nQ 2575 -91 1691 -91 \nQ 1453 -91 1209 -44 \nQ 966 3 703 97 \nz\nM 1959 2075 \nQ 2384 2075 2632 2365 \nQ 2881 2656 2881 3163 \nQ 2881 3666 2632 3958 \nQ 2384 4250 1959 4250 \nQ 1534 4250 1286 3958 \nQ 1038 3666 1038 3163 \nQ 1038 2656 1286 2365 \nQ 1534 2075 1959 2075 \nz\n\" transform=\"scale(0.015625)\"/>\n       </defs>\n       <use xlink:href=\"#DejaVuSans-32\"/>\n       <use xlink:href=\"#DejaVuSans-39\" transform=\"translate(63.623047 0)\"/>\n       <use xlink:href=\"#DejaVuSans-30\" transform=\"translate(127.246094 0)\"/>\n      </g>\n     </g>\n    </g>\n    <g id=\"ytick_3\">\n     <g id=\"line2d_23\">\n      <path d=\"M 46.965625 191.682743 \nL 428.995625 191.682743 \n\" clip-path=\"url(#p10e0f07f8a)\" style=\"fill: none; stroke: #b0b0b0; stroke-width: 0.8; stroke-linecap: square\"/>\n     </g>\n     <g id=\"line2d_24\">\n      <g>\n       <use xlink:href=\"#mf11503aa5e\" x=\"46.965625\" y=\"191.682743\" style=\"stroke: #000000; stroke-width: 0.8\"/>\n      </g>\n     </g>\n     <g id=\"text_13\">\n      <!-- 300 -->\n      <g transform=\"translate(20.878125 195.481962) scale(0.1 -0.1)\">\n       <defs>\n        <path id=\"DejaVuSans-33\" d=\"M 2597 2516 \nQ 3050 2419 3304 2112 \nQ 3559 1806 3559 1356 \nQ 3559 666 3084 287 \nQ 2609 -91 1734 -91 \nQ 1441 -91 1130 -33 \nQ 819 25 488 141 \nL 488 750 \nQ 750 597 1062 519 \nQ 1375 441 1716 441 \nQ 2309 441 2620 675 \nQ 2931 909 2931 1356 \nQ 2931 1769 2642 2001 \nQ 2353 2234 1838 2234 \nL 1294 2234 \nL 1294 2753 \nL 1863 2753 \nQ 2328 2753 2575 2939 \nQ 2822 3125 2822 3475 \nQ 2822 3834 2567 4026 \nQ 2313 4219 1838 4219 \nQ 1578 4219 1281 4162 \nQ 984 4106 628 3988 \nL 628 4550 \nQ 988 4650 1302 4700 \nQ 1616 4750 1894 4750 \nQ 2613 4750 3031 4423 \nQ 3450 4097 3450 3541 \nQ 3450 3153 3228 2886 \nQ 3006 2619 2597 2516 \nz\n\" transform=\"scale(0.015625)\"/>\n       </defs>\n       <use xlink:href=\"#DejaVuSans-33\"/>\n       <use xlink:href=\"#DejaVuSans-30\" transform=\"translate(63.623047 0)\"/>\n       <use xlink:href=\"#DejaVuSans-30\" transform=\"translate(127.246094 0)\"/>\n      </g>\n     </g>\n    </g>\n    <g id=\"ytick_4\">\n     <g id=\"line2d_25\">\n      <path d=\"M 46.965625 125.653652 \nL 428.995625 125.653652 \n\" clip-path=\"url(#p10e0f07f8a)\" style=\"fill: none; stroke: #b0b0b0; stroke-width: 0.8; stroke-linecap: square\"/>\n     </g>\n     <g id=\"line2d_26\">\n      <g>\n       <use xlink:href=\"#mf11503aa5e\" x=\"46.965625\" y=\"125.653652\" style=\"stroke: #000000; stroke-width: 0.8\"/>\n      </g>\n     </g>\n     <g id=\"text_14\">\n      <!-- 310 -->\n      <g transform=\"translate(20.878125 129.452871) scale(0.1 -0.1)\">\n       <use xlink:href=\"#DejaVuSans-33\"/>\n       <use xlink:href=\"#DejaVuSans-31\" transform=\"translate(63.623047 0)\"/>\n       <use xlink:href=\"#DejaVuSans-30\" transform=\"translate(127.246094 0)\"/>\n      </g>\n     </g>\n    </g>\n    <g id=\"ytick_5\">\n     <g id=\"line2d_27\">\n      <path d=\"M 46.965625 59.624561 \nL 428.995625 59.624561 \n\" clip-path=\"url(#p10e0f07f8a)\" style=\"fill: none; stroke: #b0b0b0; stroke-width: 0.8; stroke-linecap: square\"/>\n     </g>\n     <g id=\"line2d_28\">\n      <g>\n       <use xlink:href=\"#mf11503aa5e\" x=\"46.965625\" y=\"59.624561\" style=\"stroke: #000000; stroke-width: 0.8\"/>\n      </g>\n     </g>\n     <g id=\"text_15\">\n      <!-- 320 -->\n      <g transform=\"translate(20.878125 63.42378) scale(0.1 -0.1)\">\n       <use xlink:href=\"#DejaVuSans-33\"/>\n       <use xlink:href=\"#DejaVuSans-32\" transform=\"translate(63.623047 0)\"/>\n       <use xlink:href=\"#DejaVuSans-30\" transform=\"translate(127.246094 0)\"/>\n      </g>\n     </g>\n    </g>\n    <g id=\"text_16\">\n     <!-- kelvin -->\n     <g transform=\"translate(14.798437 218.595) rotate(-90) scale(0.1 -0.1)\">\n      <defs>\n       <path id=\"DejaVuSans-6b\" d=\"M 581 4863 \nL 1159 4863 \nL 1159 1991 \nL 2875 3500 \nL 3609 3500 \nL 1753 1863 \nL 3688 0 \nL 2938 0 \nL 1159 1709 \nL 1159 0 \nL 581 0 \nL 581 4863 \nz\n\" transform=\"scale(0.015625)\"/>\n       <path id=\"DejaVuSans-6c\" d=\"M 603 4863 \nL 1178 4863 \nL 1178 0 \nL 603 0 \nL 603 4863 \nz\n\" transform=\"scale(0.015625)\"/>\n       <path id=\"DejaVuSans-76\" d=\"M 191 3500 \nL 800 3500 \nL 1894 563 \nL 2988 3500 \nL 3597 3500 \nL 2284 0 \nL 1503 0 \nL 191 3500 \nz\n\" transform=\"scale(0.015625)\"/>\n       <path id=\"DejaVuSans-69\" d=\"M 603 3500 \nL 1178 3500 \nL 1178 0 \nL 603 0 \nL 603 3500 \nz\nM 603 4863 \nL 1178 4863 \nL 1178 4134 \nL 603 4134 \nL 603 4863 \nz\n\" transform=\"scale(0.015625)\"/>\n       <path id=\"DejaVuSans-6e\" d=\"M 3513 2113 \nL 3513 0 \nL 2938 0 \nL 2938 2094 \nQ 2938 2591 2744 2837 \nQ 2550 3084 2163 3084 \nQ 1697 3084 1428 2787 \nQ 1159 2491 1159 1978 \nL 1159 0 \nL 581 0 \nL 581 3500 \nL 1159 3500 \nL 1159 2956 \nQ 1366 3272 1645 3428 \nQ 1925 3584 2291 3584 \nQ 2894 3584 3203 3211 \nQ 3513 2838 3513 2113 \nz\n\" transform=\"scale(0.015625)\"/>\n      </defs>\n      <use xlink:href=\"#DejaVuSans-6b\"/>\n      <use xlink:href=\"#DejaVuSans-65\" transform=\"translate(54.285156 0)\"/>\n      <use xlink:href=\"#DejaVuSans-6c\" transform=\"translate(115.808594 0)\"/>\n      <use xlink:href=\"#DejaVuSans-76\" transform=\"translate(143.591797 0)\"/>\n      <use xlink:href=\"#DejaVuSans-69\" transform=\"translate(202.771484 0)\"/>\n      <use xlink:href=\"#DejaVuSans-6e\" transform=\"translate(230.554688 0)\"/>\n     </g>\n    </g>\n   </g>\n   <g id=\"line2d_29\">\n    <path d=\"M 64.330625 38.825596 \nL 69.54534 38.937567 \nL 70.588283 39.138335 \nL 71.283578 39.418814 \nL 71.978873 39.911956 \nL 72.674169 40.746943 \nL 73.369464 42.10846 \nL 74.064759 44.246438 \nL 74.760054 47.479541 \nL 75.45535 52.18793 \nL 76.150645 58.791239 \nL 76.84594 67.709652 \nL 77.541236 79.309442 \nL 78.236531 93.838899 \nL 79.279474 121.210503 \nL 80.670064 166.596819 \nL 84.146541 287.528973 \nL 85.189484 314.698614 \nL 86.232427 335.175987 \nL 86.927722 345.270743 \nL 87.623017 352.873863 \nL 88.318313 358.388595 \nL 89.013608 362.24066 \nL 89.708903 364.831849 \nL 90.404199 366.510427 \nL 91.099494 367.557602 \nL 91.794789 368.186724 \nL 92.490084 368.55071 \nL 93.533027 368.81659 \nL 95.271266 368.946536 \nL 101.181276 368.970844 \nL 411.630625 368.970852 \nL 411.630625 368.970852 \n\" clip-path=\"url(#p10e0f07f8a)\" style=\"fill: none; stroke: #0000ff; stroke-width: 1.5; stroke-linecap: square\"/>\n   </g>\n   <g id=\"line2d_30\">\n    <path d=\"M 64.330625 39.190864 \nL 65.373568 40.585851 \nL 66.416511 42.502861 \nL 67.459454 45.04144 \nL 68.502397 48.303315 \nL 69.54534 52.388417 \nL 70.588283 57.390291 \nL 71.631226 63.39112 \nL 72.674169 70.456609 \nL 74.064759 81.606352 \nL 75.45535 94.756756 \nL 76.84594 109.845101 \nL 78.584179 131.171055 \nL 80.670064 159.641037 \nL 88.66596 272.934565 \nL 90.404199 293.246248 \nL 92.142437 310.814612 \nL 93.533027 322.792259 \nL 94.923618 332.9437 \nL 96.314209 341.362546 \nL 97.704799 348.195047 \nL 98.747742 352.386217 \nL 99.790685 355.869442 \nL 100.833628 358.729495 \nL 101.876571 361.049669 \nL 102.919514 362.909302 \nL 103.962457 364.381955 \nL 105.0054 365.534198 \nL 106.048343 366.424961 \nL 107.438933 367.293126 \nL 108.829524 367.886663 \nL 110.567762 368.359828 \nL 112.653648 368.676111 \nL 115.782477 368.880096 \nL 121.344839 368.96217 \nL 154.023718 368.970852 \nL 411.630625 368.970852 \nL 411.630625 368.970852 \n\" clip-path=\"url(#p10e0f07f8a)\" style=\"fill: none; stroke-dasharray: 1.5,2.475; stroke-dashoffset: 0; stroke: #0000ff; stroke-width: 1.5\"/>\n   </g>\n   <g id=\"line2d_31\">\n    <path d=\"M 64.330625 38.825398 \nL 153.67607 38.934642 \nL 156.804899 39.173731 \nL 158.890785 39.538448 \nL 160.629023 40.077035 \nL 162.019614 40.745279 \nL 163.410205 41.712859 \nL 164.453148 42.696819 \nL 165.49609 43.959626 \nL 166.539033 45.560754 \nL 167.581976 47.566353 \nL 168.624919 50.048293 \nL 169.667862 53.082656 \nL 170.710805 56.747649 \nL 171.753748 61.120934 \nL 172.796691 66.276444 \nL 174.187282 74.480817 \nL 175.577872 84.317989 \nL 176.968463 95.861344 \nL 178.359053 109.117904 \nL 180.097292 127.982585 \nL 182.183178 153.535526 \nL 184.964359 190.974536 \nL 189.831426 257.159602 \nL 191.917312 282.401805 \nL 193.65555 300.947333 \nL 195.393788 316.905522 \nL 196.784379 327.740119 \nL 198.174969 336.891543 \nL 199.56556 344.456412 \nL 200.956151 350.576409 \nL 201.999093 354.320065 \nL 203.042036 357.423947 \nL 204.084979 359.966346 \nL 205.127922 362.023711 \nL 206.170865 363.668492 \nL 207.213808 364.967567 \nL 208.256751 365.981219 \nL 209.647342 366.979621 \nL 211.037932 367.670454 \nL 212.776171 368.228409 \nL 214.862056 368.607205 \nL 217.643238 368.840002 \nL 222.162657 368.949953 \nL 237.806801 368.970845 \nL 411.630625 368.970852 \nL 411.630625 368.970852 \n\" clip-path=\"url(#p10e0f07f8a)\" style=\"fill: none; stroke: #ff0000; stroke-width: 1.5; stroke-linecap: square\"/>\n   </g>\n   <g id=\"line2d_32\">\n    <path d=\"M 64.330625 38.8254 \nL 103.962457 38.93588 \nL 111.958353 39.180845 \nL 117.173067 39.540228 \nL 121.344839 40.033762 \nL 124.821316 40.655738 \nL 127.950145 41.440673 \nL 130.731326 42.370143 \nL 133.164859 43.404936 \nL 135.598393 44.687925 \nL 137.684279 46.018301 \nL 139.770165 47.592958 \nL 141.85605 49.443363 \nL 143.941936 51.602253 \nL 146.027822 54.103119 \nL 148.113708 56.979576 \nL 150.199594 60.264641 \nL 152.28548 63.98992 \nL 154.371366 68.184728 \nL 156.457252 72.875153 \nL 158.543138 78.083111 \nL 160.629023 83.825405 \nL 163.062557 91.214126 \nL 165.49609 99.349892 \nL 167.929624 108.223976 \nL 170.710805 119.238552 \nL 173.839634 132.668217 \nL 177.31611 148.728349 \nL 181.140235 167.508603 \nL 186.354949 194.323143 \nL 195.741436 242.775577 \nL 199.913208 262.995729 \nL 203.389684 278.714286 \nL 206.518513 291.791927 \nL 209.299694 302.471692 \nL 212.080875 312.20997 \nL 214.514409 319.93969 \nL 216.947942 326.930097 \nL 219.381476 333.193914 \nL 221.467362 338.002568 \nL 223.553248 342.315709 \nL 225.639134 346.158327 \nL 227.725019 349.558687 \nL 229.810905 352.547425 \nL 231.896791 355.156684 \nL 233.982677 357.419316 \nL 236.068563 359.368166 \nL 238.154449 361.035459 \nL 240.240335 362.452281 \nL 242.673868 363.82797 \nL 245.107402 364.946517 \nL 247.888583 365.960801 \nL 250.669764 366.743734 \nL 253.798593 367.40447 \nL 257.622717 367.971084 \nL 262.142137 368.398365 \nL 267.704499 368.693987 \nL 275.700395 368.880763 \nL 290.649244 368.962257 \nL 375.47527 368.970852 \nL 411.630625 368.970852 \nL 411.630625 368.970852 \n\" clip-path=\"url(#p10e0f07f8a)\" style=\"fill: none; stroke-dasharray: 1.5,2.475; stroke-dashoffset: 0; stroke: #ff0000; stroke-width: 1.5\"/>\n   </g>\n   <g id=\"line2d_33\">\n    <path d=\"M 64.330625 38.825398 \nL 246.150345 38.933551 \nL 250.322116 39.162364 \nL 253.103298 39.506256 \nL 255.189184 39.947124 \nL 256.927422 40.494932 \nL 258.66566 41.26934 \nL 260.056251 42.101251 \nL 261.446841 43.170459 \nL 262.837432 44.528775 \nL 264.228022 46.234444 \nL 265.618613 48.351547 \nL 267.009204 50.948977 \nL 268.399794 54.098899 \nL 269.790385 57.874707 \nL 271.180975 62.348482 \nL 272.571566 67.588017 \nL 273.962157 73.653499 \nL 275.352747 80.594022 \nL 277.090985 90.551103 \nL 278.829224 101.955363 \nL 280.567462 114.782285 \nL 282.653348 131.932961 \nL 285.086881 154.032927 \nL 288.21571 184.803455 \nL 295.516311 257.71335 \nL 297.949844 279.458501 \nL 300.03573 296.237842 \nL 301.773968 308.726533 \nL 303.512207 319.781542 \nL 305.250445 329.391499 \nL 306.988683 337.595091 \nL 308.379274 343.197947 \nL 309.769864 348.006921 \nL 311.160455 352.086822 \nL 312.551045 355.5082 \nL 313.941636 358.344203 \nL 315.332227 360.667829 \nL 316.722817 362.549659 \nL 318.113408 364.056087 \nL 319.503998 365.248071 \nL 320.894589 366.180353 \nL 322.632827 367.053236 \nL 324.371065 367.674735 \nL 326.456951 368.178455 \nL 328.890485 368.537983 \nL 332.366961 368.798559 \nL 337.581676 368.932782 \nL 350.792287 368.970438 \nL 411.630625 368.970852 \nL 411.630625 368.970852 \n\" clip-path=\"url(#p10e0f07f8a)\" style=\"fill: none; stroke: #008000; stroke-width: 1.5; stroke-linecap: square\"/>\n   </g>\n   <g id=\"line2d_34\">\n    <path d=\"M 64.330625 38.825398 \nL 175.230225 38.93357 \nL 186.702597 39.177227 \nL 194.350845 39.552573 \nL 200.260855 40.059071 \nL 205.127922 40.692412 \nL 209.299694 41.449093 \nL 213.123818 42.366697 \nL 216.600295 43.431028 \nL 219.729123 44.613596 \nL 222.857952 46.045531 \nL 225.639134 47.55852 \nL 228.420315 49.327135 \nL 231.201496 51.381024 \nL 233.635029 53.436086 \nL 236.068563 55.753388 \nL 238.502096 58.353318 \nL 240.93563 61.255764 \nL 243.369164 64.479744 \nL 245.802697 68.043003 \nL 248.236231 71.961607 \nL 251.017412 76.892928 \nL 253.798593 82.323293 \nL 256.579774 88.26438 \nL 259.360955 94.722054 \nL 262.489784 102.603421 \nL 265.618613 111.126237 \nL 268.747442 120.267273 \nL 272.223918 131.105652 \nL 276.048042 143.779508 \nL 280.219814 158.374626 \nL 285.434529 177.482163 \nL 293.778072 209.088385 \nL 301.773968 239.109904 \nL 306.641035 256.580511 \nL 310.812807 270.782297 \nL 314.636931 283.02803 \nL 318.113408 293.433772 \nL 321.242237 302.159996 \nL 324.371065 310.252757 \nL 327.499894 317.697122 \nL 330.281075 323.766839 \nL 333.062257 329.325669 \nL 335.843438 334.383953 \nL 338.624619 338.957241 \nL 341.4058 343.065521 \nL 344.186981 346.732411 \nL 346.620515 349.599595 \nL 349.054048 352.168073 \nL 351.83523 354.76316 \nL 354.616411 357.024251 \nL 357.397592 358.981711 \nL 360.178773 360.665457 \nL 362.959954 362.104484 \nL 366.088783 363.465294 \nL 369.217612 364.588359 \nL 372.694088 365.598661 \nL 376.518213 366.469499 \nL 380.689984 367.187735 \nL 385.557051 367.789339 \nL 391.119414 368.248835 \nL 398.072367 368.593675 \nL 408.501796 368.855423 \nL 411.630625 368.953289 \nL 411.630625 368.953289 \n\" clip-path=\"url(#p10e0f07f8a)\" style=\"fill: none; stroke-dasharray: 1.5,2.475; stroke-dashoffset: 0; stroke: #008000; stroke-width: 1.5\"/>\n   </g>\n   <g id=\"patch_3\">\n    <path d=\"M 46.965625 385.478125 \nL 46.965625 22.318125 \n\" style=\"fill: none; stroke: #000000; stroke-width: 0.8; stroke-linejoin: miter; stroke-linecap: square\"/>\n   </g>\n   <g id=\"patch_4\">\n    <path d=\"M 428.995625 385.478125 \nL 428.995625 22.318125 \n\" style=\"fill: none; stroke: #000000; stroke-width: 0.8; stroke-linejoin: miter; stroke-linecap: square\"/>\n   </g>\n   <g id=\"patch_5\">\n    <path d=\"M 46.965625 385.478125 \nL 428.995625 385.478125 \n\" style=\"fill: none; stroke: #000000; stroke-width: 0.8; stroke-linejoin: miter; stroke-linecap: square\"/>\n   </g>\n   <g id=\"patch_6\">\n    <path d=\"M 46.965625 22.318125 \nL 428.995625 22.318125 \n\" style=\"fill: none; stroke: #000000; stroke-width: 0.8; stroke-linejoin: miter; stroke-linecap: square\"/>\n   </g>\n   <g id=\"text_17\">\n    <!-- Comparison Between Analytical and Numerical Solution -->\n    <g transform=\"translate(70.47 16.318125) scale(0.12 -0.12)\">\n     <defs>\n      <path id=\"DejaVuSans-43\" d=\"M 4122 4306 \nL 4122 3641 \nQ 3803 3938 3442 4084 \nQ 3081 4231 2675 4231 \nQ 1875 4231 1450 3742 \nQ 1025 3253 1025 2328 \nQ 1025 1406 1450 917 \nQ 1875 428 2675 428 \nQ 3081 428 3442 575 \nQ 3803 722 4122 1019 \nL 4122 359 \nQ 3791 134 3420 21 \nQ 3050 -91 2638 -91 \nQ 1578 -91 968 557 \nQ 359 1206 359 2328 \nQ 359 3453 968 4101 \nQ 1578 4750 2638 4750 \nQ 3056 4750 3426 4639 \nQ 3797 4528 4122 4306 \nz\n\" transform=\"scale(0.015625)\"/>\n      <path id=\"DejaVuSans-6f\" d=\"M 1959 3097 \nQ 1497 3097 1228 2736 \nQ 959 2375 959 1747 \nQ 959 1119 1226 758 \nQ 1494 397 1959 397 \nQ 2419 397 2687 759 \nQ 2956 1122 2956 1747 \nQ 2956 2369 2687 2733 \nQ 2419 3097 1959 3097 \nz\nM 1959 3584 \nQ 2709 3584 3137 3096 \nQ 3566 2609 3566 1747 \nQ 3566 888 3137 398 \nQ 2709 -91 1959 -91 \nQ 1206 -91 779 398 \nQ 353 888 353 1747 \nQ 353 2609 779 3096 \nQ 1206 3584 1959 3584 \nz\n\" transform=\"scale(0.015625)\"/>\n      <path id=\"DejaVuSans-70\" d=\"M 1159 525 \nL 1159 -1331 \nL 581 -1331 \nL 581 3500 \nL 1159 3500 \nL 1159 2969 \nQ 1341 3281 1617 3432 \nQ 1894 3584 2278 3584 \nQ 2916 3584 3314 3078 \nQ 3713 2572 3713 1747 \nQ 3713 922 3314 415 \nQ 2916 -91 2278 -91 \nQ 1894 -91 1617 61 \nQ 1341 213 1159 525 \nz\nM 3116 1747 \nQ 3116 2381 2855 2742 \nQ 2594 3103 2138 3103 \nQ 1681 3103 1420 2742 \nQ 1159 2381 1159 1747 \nQ 1159 1113 1420 752 \nQ 1681 391 2138 391 \nQ 2594 391 2855 752 \nQ 3116 1113 3116 1747 \nz\n\" transform=\"scale(0.015625)\"/>\n      <path id=\"DejaVuSans-61\" d=\"M 2194 1759 \nQ 1497 1759 1228 1600 \nQ 959 1441 959 1056 \nQ 959 750 1161 570 \nQ 1363 391 1709 391 \nQ 2188 391 2477 730 \nQ 2766 1069 2766 1631 \nL 2766 1759 \nL 2194 1759 \nz\nM 3341 1997 \nL 3341 0 \nL 2766 0 \nL 2766 531 \nQ 2569 213 2275 61 \nQ 1981 -91 1556 -91 \nQ 1019 -91 701 211 \nQ 384 513 384 1019 \nQ 384 1609 779 1909 \nQ 1175 2209 1959 2209 \nL 2766 2209 \nL 2766 2266 \nQ 2766 2663 2505 2880 \nQ 2244 3097 1772 3097 \nQ 1472 3097 1187 3025 \nQ 903 2953 641 2809 \nL 641 3341 \nQ 956 3463 1253 3523 \nQ 1550 3584 1831 3584 \nQ 2591 3584 2966 3190 \nQ 3341 2797 3341 1997 \nz\n\" transform=\"scale(0.015625)\"/>\n      <path id=\"DejaVuSans-73\" d=\"M 2834 3397 \nL 2834 2853 \nQ 2591 2978 2328 3040 \nQ 2066 3103 1784 3103 \nQ 1356 3103 1142 2972 \nQ 928 2841 928 2578 \nQ 928 2378 1081 2264 \nQ 1234 2150 1697 2047 \nL 1894 2003 \nQ 2506 1872 2764 1633 \nQ 3022 1394 3022 966 \nQ 3022 478 2636 193 \nQ 2250 -91 1575 -91 \nQ 1294 -91 989 -36 \nQ 684 19 347 128 \nL 347 722 \nQ 666 556 975 473 \nQ 1284 391 1588 391 \nQ 1994 391 2212 530 \nQ 2431 669 2431 922 \nQ 2431 1156 2273 1281 \nQ 2116 1406 1581 1522 \nL 1381 1569 \nQ 847 1681 609 1914 \nQ 372 2147 372 2553 \nQ 372 3047 722 3315 \nQ 1072 3584 1716 3584 \nQ 2034 3584 2315 3537 \nQ 2597 3491 2834 3397 \nz\n\" transform=\"scale(0.015625)\"/>\n      <path id=\"DejaVuSans-20\" transform=\"scale(0.015625)\"/>\n      <path id=\"DejaVuSans-42\" d=\"M 1259 2228 \nL 1259 519 \nL 2272 519 \nQ 2781 519 3026 730 \nQ 3272 941 3272 1375 \nQ 3272 1813 3026 2020 \nQ 2781 2228 2272 2228 \nL 1259 2228 \nz\nM 1259 4147 \nL 1259 2741 \nL 2194 2741 \nQ 2656 2741 2882 2914 \nQ 3109 3088 3109 3444 \nQ 3109 3797 2882 3972 \nQ 2656 4147 2194 4147 \nL 1259 4147 \nz\nM 628 4666 \nL 2241 4666 \nQ 2963 4666 3353 4366 \nQ 3744 4066 3744 3513 \nQ 3744 3084 3544 2831 \nQ 3344 2578 2956 2516 \nQ 3422 2416 3680 2098 \nQ 3938 1781 3938 1306 \nQ 3938 681 3513 340 \nQ 3088 0 2303 0 \nL 628 0 \nL 628 4666 \nz\n\" transform=\"scale(0.015625)\"/>\n      <path id=\"DejaVuSans-77\" d=\"M 269 3500 \nL 844 3500 \nL 1563 769 \nL 2278 3500 \nL 2956 3500 \nL 3675 769 \nL 4391 3500 \nL 4966 3500 \nL 4050 0 \nL 3372 0 \nL 2619 2869 \nL 1863 0 \nL 1184 0 \nL 269 3500 \nz\n\" transform=\"scale(0.015625)\"/>\n      <path id=\"DejaVuSans-41\" d=\"M 2188 4044 \nL 1331 1722 \nL 3047 1722 \nL 2188 4044 \nz\nM 1831 4666 \nL 2547 4666 \nL 4325 0 \nL 3669 0 \nL 3244 1197 \nL 1141 1197 \nL 716 0 \nL 50 0 \nL 1831 4666 \nz\n\" transform=\"scale(0.015625)\"/>\n      <path id=\"DejaVuSans-79\" d=\"M 2059 -325 \nQ 1816 -950 1584 -1140 \nQ 1353 -1331 966 -1331 \nL 506 -1331 \nL 506 -850 \nL 844 -850 \nQ 1081 -850 1212 -737 \nQ 1344 -625 1503 -206 \nL 1606 56 \nL 191 3500 \nL 800 3500 \nL 1894 763 \nL 2988 3500 \nL 3597 3500 \nL 2059 -325 \nz\n\" transform=\"scale(0.015625)\"/>\n      <path id=\"DejaVuSans-63\" d=\"M 3122 3366 \nL 3122 2828 \nQ 2878 2963 2633 3030 \nQ 2388 3097 2138 3097 \nQ 1578 3097 1268 2742 \nQ 959 2388 959 1747 \nQ 959 1106 1268 751 \nQ 1578 397 2138 397 \nQ 2388 397 2633 464 \nQ 2878 531 3122 666 \nL 3122 134 \nQ 2881 22 2623 -34 \nQ 2366 -91 2075 -91 \nQ 1284 -91 818 406 \nQ 353 903 353 1747 \nQ 353 2603 823 3093 \nQ 1294 3584 2113 3584 \nQ 2378 3584 2631 3529 \nQ 2884 3475 3122 3366 \nz\n\" transform=\"scale(0.015625)\"/>\n      <path id=\"DejaVuSans-64\" d=\"M 2906 2969 \nL 2906 4863 \nL 3481 4863 \nL 3481 0 \nL 2906 0 \nL 2906 525 \nQ 2725 213 2448 61 \nQ 2172 -91 1784 -91 \nQ 1150 -91 751 415 \nQ 353 922 353 1747 \nQ 353 2572 751 3078 \nQ 1150 3584 1784 3584 \nQ 2172 3584 2448 3432 \nQ 2725 3281 2906 2969 \nz\nM 947 1747 \nQ 947 1113 1208 752 \nQ 1469 391 1925 391 \nQ 2381 391 2643 752 \nQ 2906 1113 2906 1747 \nQ 2906 2381 2643 2742 \nQ 2381 3103 1925 3103 \nQ 1469 3103 1208 2742 \nQ 947 2381 947 1747 \nz\n\" transform=\"scale(0.015625)\"/>\n      <path id=\"DejaVuSans-4e\" d=\"M 628 4666 \nL 1478 4666 \nL 3547 763 \nL 3547 4666 \nL 4159 4666 \nL 4159 0 \nL 3309 0 \nL 1241 3903 \nL 1241 0 \nL 628 0 \nL 628 4666 \nz\n\" transform=\"scale(0.015625)\"/>\n      <path id=\"DejaVuSans-75\" d=\"M 544 1381 \nL 544 3500 \nL 1119 3500 \nL 1119 1403 \nQ 1119 906 1312 657 \nQ 1506 409 1894 409 \nQ 2359 409 2629 706 \nQ 2900 1003 2900 1516 \nL 2900 3500 \nL 3475 3500 \nL 3475 0 \nL 2900 0 \nL 2900 538 \nQ 2691 219 2414 64 \nQ 2138 -91 1772 -91 \nQ 1169 -91 856 284 \nQ 544 659 544 1381 \nz\nM 1991 3584 \nL 1991 3584 \nz\n\" transform=\"scale(0.015625)\"/>\n      <path id=\"DejaVuSans-53\" d=\"M 3425 4513 \nL 3425 3897 \nQ 3066 4069 2747 4153 \nQ 2428 4238 2131 4238 \nQ 1616 4238 1336 4038 \nQ 1056 3838 1056 3469 \nQ 1056 3159 1242 3001 \nQ 1428 2844 1947 2747 \nL 2328 2669 \nQ 3034 2534 3370 2195 \nQ 3706 1856 3706 1288 \nQ 3706 609 3251 259 \nQ 2797 -91 1919 -91 \nQ 1588 -91 1214 -16 \nQ 841 59 441 206 \nL 441 856 \nQ 825 641 1194 531 \nQ 1563 422 1919 422 \nQ 2459 422 2753 634 \nQ 3047 847 3047 1241 \nQ 3047 1584 2836 1778 \nQ 2625 1972 2144 2069 \nL 1759 2144 \nQ 1053 2284 737 2584 \nQ 422 2884 422 3419 \nQ 422 4038 858 4394 \nQ 1294 4750 2059 4750 \nQ 2388 4750 2728 4690 \nQ 3069 4631 3425 4513 \nz\n\" transform=\"scale(0.015625)\"/>\n     </defs>\n     <use xlink:href=\"#DejaVuSans-43\"/>\n     <use xlink:href=\"#DejaVuSans-6f\" transform=\"translate(69.824219 0)\"/>\n     <use xlink:href=\"#DejaVuSans-6d\" transform=\"translate(131.005859 0)\"/>\n     <use xlink:href=\"#DejaVuSans-70\" transform=\"translate(228.417969 0)\"/>\n     <use xlink:href=\"#DejaVuSans-61\" transform=\"translate(291.894531 0)\"/>\n     <use xlink:href=\"#DejaVuSans-72\" transform=\"translate(353.173828 0)\"/>\n     <use xlink:href=\"#DejaVuSans-69\" transform=\"translate(394.287109 0)\"/>\n     <use xlink:href=\"#DejaVuSans-73\" transform=\"translate(422.070312 0)\"/>\n     <use xlink:href=\"#DejaVuSans-6f\" transform=\"translate(474.169922 0)\"/>\n     <use xlink:href=\"#DejaVuSans-6e\" transform=\"translate(535.351562 0)\"/>\n     <use xlink:href=\"#DejaVuSans-20\" transform=\"translate(598.730469 0)\"/>\n     <use xlink:href=\"#DejaVuSans-42\" transform=\"translate(630.517578 0)\"/>\n     <use xlink:href=\"#DejaVuSans-65\" transform=\"translate(699.121094 0)\"/>\n     <use xlink:href=\"#DejaVuSans-74\" transform=\"translate(760.644531 0)\"/>\n     <use xlink:href=\"#DejaVuSans-77\" transform=\"translate(799.853516 0)\"/>\n     <use xlink:href=\"#DejaVuSans-65\" transform=\"translate(881.640625 0)\"/>\n     <use xlink:href=\"#DejaVuSans-65\" transform=\"translate(943.164062 0)\"/>\n     <use xlink:href=\"#DejaVuSans-6e\" transform=\"translate(1004.6875 0)\"/>\n     <use xlink:href=\"#DejaVuSans-20\" transform=\"translate(1068.066406 0)\"/>\n     <use xlink:href=\"#DejaVuSans-41\" transform=\"translate(1099.853516 0)\"/>\n     <use xlink:href=\"#DejaVuSans-6e\" transform=\"translate(1168.261719 0)\"/>\n     <use xlink:href=\"#DejaVuSans-61\" transform=\"translate(1231.640625 0)\"/>\n     <use xlink:href=\"#DejaVuSans-6c\" transform=\"translate(1292.919922 0)\"/>\n     <use xlink:href=\"#DejaVuSans-79\" transform=\"translate(1320.703125 0)\"/>\n     <use xlink:href=\"#DejaVuSans-74\" transform=\"translate(1379.882812 0)\"/>\n     <use xlink:href=\"#DejaVuSans-69\" transform=\"translate(1419.091797 0)\"/>\n     <use xlink:href=\"#DejaVuSans-63\" transform=\"translate(1446.875 0)\"/>\n     <use xlink:href=\"#DejaVuSans-61\" transform=\"translate(1501.855469 0)\"/>\n     <use xlink:href=\"#DejaVuSans-6c\" transform=\"translate(1563.134766 0)\"/>\n     <use xlink:href=\"#DejaVuSans-20\" transform=\"translate(1590.917969 0)\"/>\n     <use xlink:href=\"#DejaVuSans-61\" transform=\"translate(1622.705078 0)\"/>\n     <use xlink:href=\"#DejaVuSans-6e\" transform=\"translate(1683.984375 0)\"/>\n     <use xlink:href=\"#DejaVuSans-64\" transform=\"translate(1747.363281 0)\"/>\n     <use xlink:href=\"#DejaVuSans-20\" transform=\"translate(1810.839844 0)\"/>\n     <use xlink:href=\"#DejaVuSans-4e\" transform=\"translate(1842.626953 0)\"/>\n     <use xlink:href=\"#DejaVuSans-75\" transform=\"translate(1917.431641 0)\"/>\n     <use xlink:href=\"#DejaVuSans-6d\" transform=\"translate(1980.810547 0)\"/>\n     <use xlink:href=\"#DejaVuSans-65\" transform=\"translate(2078.222656 0)\"/>\n     <use xlink:href=\"#DejaVuSans-72\" transform=\"translate(2139.746094 0)\"/>\n     <use xlink:href=\"#DejaVuSans-69\" transform=\"translate(2180.859375 0)\"/>\n     <use xlink:href=\"#DejaVuSans-63\" transform=\"translate(2208.642578 0)\"/>\n     <use xlink:href=\"#DejaVuSans-61\" transform=\"translate(2263.623047 0)\"/>\n     <use xlink:href=\"#DejaVuSans-6c\" transform=\"translate(2324.902344 0)\"/>\n     <use xlink:href=\"#DejaVuSans-20\" transform=\"translate(2352.685547 0)\"/>\n     <use xlink:href=\"#DejaVuSans-53\" transform=\"translate(2384.472656 0)\"/>\n     <use xlink:href=\"#DejaVuSans-6f\" transform=\"translate(2447.949219 0)\"/>\n     <use xlink:href=\"#DejaVuSans-6c\" transform=\"translate(2509.130859 0)\"/>\n     <use xlink:href=\"#DejaVuSans-75\" transform=\"translate(2536.914062 0)\"/>\n     <use xlink:href=\"#DejaVuSans-74\" transform=\"translate(2600.292969 0)\"/>\n     <use xlink:href=\"#DejaVuSans-69\" transform=\"translate(2639.501953 0)\"/>\n     <use xlink:href=\"#DejaVuSans-6f\" transform=\"translate(2667.285156 0)\"/>\n     <use xlink:href=\"#DejaVuSans-6e\" transform=\"translate(2728.466797 0)\"/>\n    </g>\n   </g>\n   <g id=\"legend_1\">\n    <g id=\"patch_7\">\n     <path d=\"M 297.18 118.386875 \nL 421.995625 118.386875 \nQ 423.995625 118.386875 423.995625 116.386875 \nL 423.995625 29.318125 \nQ 423.995625 27.318125 421.995625 27.318125 \nL 297.18 27.318125 \nQ 295.18 27.318125 295.18 29.318125 \nL 295.18 116.386875 \nQ 295.18 118.386875 297.18 118.386875 \nz\n\" style=\"fill: #ffffff; opacity: 0.8; stroke: #cccccc; stroke-linejoin: miter\"/>\n    </g>\n    <g id=\"line2d_35\">\n     <path d=\"M 299.18 35.416563 \nL 309.18 35.416563 \nL 319.18 35.416563 \n\" style=\"fill: none; stroke: #0000ff; stroke-width: 1.5; stroke-linecap: square\"/>\n    </g>\n    <g id=\"text_18\">\n     <!-- analytic t=1.0s -->\n     <g transform=\"translate(327.18 38.916563) scale(0.1 -0.1)\">\n      <defs>\n       <path id=\"DejaVuSans-3d\" d=\"M 678 2906 \nL 4684 2906 \nL 4684 2381 \nL 678 2381 \nL 678 2906 \nz\nM 678 1631 \nL 4684 1631 \nL 4684 1100 \nL 678 1100 \nL 678 1631 \nz\n\" transform=\"scale(0.015625)\"/>\n      </defs>\n      <use xlink:href=\"#DejaVuSans-61\"/>\n      <use xlink:href=\"#DejaVuSans-6e\" transform=\"translate(61.279297 0)\"/>\n      <use xlink:href=\"#DejaVuSans-61\" transform=\"translate(124.658203 0)\"/>\n      <use xlink:href=\"#DejaVuSans-6c\" transform=\"translate(185.9375 0)\"/>\n      <use xlink:href=\"#DejaVuSans-79\" transform=\"translate(213.720703 0)\"/>\n      <use xlink:href=\"#DejaVuSans-74\" transform=\"translate(272.900391 0)\"/>\n      <use xlink:href=\"#DejaVuSans-69\" transform=\"translate(312.109375 0)\"/>\n      <use xlink:href=\"#DejaVuSans-63\" transform=\"translate(339.892578 0)\"/>\n      <use xlink:href=\"#DejaVuSans-20\" transform=\"translate(394.873047 0)\"/>\n      <use xlink:href=\"#DejaVuSans-74\" transform=\"translate(426.660156 0)\"/>\n      <use xlink:href=\"#DejaVuSans-3d\" transform=\"translate(465.869141 0)\"/>\n      <use xlink:href=\"#DejaVuSans-31\" transform=\"translate(549.658203 0)\"/>\n      <use xlink:href=\"#DejaVuSans-2e\" transform=\"translate(613.28125 0)\"/>\n      <use xlink:href=\"#DejaVuSans-30\" transform=\"translate(645.068359 0)\"/>\n      <use xlink:href=\"#DejaVuSans-73\" transform=\"translate(708.691406 0)\"/>\n     </g>\n    </g>\n    <g id=\"line2d_36\">\n     <path d=\"M 299.18 50.094688 \nL 309.18 50.094688 \nL 319.18 50.094688 \n\" style=\"fill: none; stroke-dasharray: 1.5,2.475; stroke-dashoffset: 0; stroke: #0000ff; stroke-width: 1.5\"/>\n    </g>\n    <g id=\"text_19\">\n     <!-- numerical t=1.0s -->\n     <g transform=\"translate(327.18 53.594688) scale(0.1 -0.1)\">\n      <use xlink:href=\"#DejaVuSans-6e\"/>\n      <use xlink:href=\"#DejaVuSans-75\" transform=\"translate(63.378906 0)\"/>\n      <use xlink:href=\"#DejaVuSans-6d\" transform=\"translate(126.757812 0)\"/>\n      <use xlink:href=\"#DejaVuSans-65\" transform=\"translate(224.169922 0)\"/>\n      <use xlink:href=\"#DejaVuSans-72\" transform=\"translate(285.693359 0)\"/>\n      <use xlink:href=\"#DejaVuSans-69\" transform=\"translate(326.806641 0)\"/>\n      <use xlink:href=\"#DejaVuSans-63\" transform=\"translate(354.589844 0)\"/>\n      <use xlink:href=\"#DejaVuSans-61\" transform=\"translate(409.570312 0)\"/>\n      <use xlink:href=\"#DejaVuSans-6c\" transform=\"translate(470.849609 0)\"/>\n      <use xlink:href=\"#DejaVuSans-20\" transform=\"translate(498.632812 0)\"/>\n      <use xlink:href=\"#DejaVuSans-74\" transform=\"translate(530.419922 0)\"/>\n      <use xlink:href=\"#DejaVuSans-3d\" transform=\"translate(569.628906 0)\"/>\n      <use xlink:href=\"#DejaVuSans-31\" transform=\"translate(653.417969 0)\"/>\n      <use xlink:href=\"#DejaVuSans-2e\" transform=\"translate(717.041016 0)\"/>\n      <use xlink:href=\"#DejaVuSans-30\" transform=\"translate(748.828125 0)\"/>\n      <use xlink:href=\"#DejaVuSans-73\" transform=\"translate(812.451172 0)\"/>\n     </g>\n    </g>\n    <g id=\"line2d_37\">\n     <path d=\"M 299.18 64.772813 \nL 309.18 64.772813 \nL 319.18 64.772813 \n\" style=\"fill: none; stroke: #ff0000; stroke-width: 1.5; stroke-linecap: square\"/>\n    </g>\n    <g id=\"text_20\">\n     <!-- analytic t=7.0s -->\n     <g transform=\"translate(327.18 68.272813) scale(0.1 -0.1)\">\n      <use xlink:href=\"#DejaVuSans-61\"/>\n      <use xlink:href=\"#DejaVuSans-6e\" transform=\"translate(61.279297 0)\"/>\n      <use xlink:href=\"#DejaVuSans-61\" transform=\"translate(124.658203 0)\"/>\n      <use xlink:href=\"#DejaVuSans-6c\" transform=\"translate(185.9375 0)\"/>\n      <use xlink:href=\"#DejaVuSans-79\" transform=\"translate(213.720703 0)\"/>\n      <use xlink:href=\"#DejaVuSans-74\" transform=\"translate(272.900391 0)\"/>\n      <use xlink:href=\"#DejaVuSans-69\" transform=\"translate(312.109375 0)\"/>\n      <use xlink:href=\"#DejaVuSans-63\" transform=\"translate(339.892578 0)\"/>\n      <use xlink:href=\"#DejaVuSans-20\" transform=\"translate(394.873047 0)\"/>\n      <use xlink:href=\"#DejaVuSans-74\" transform=\"translate(426.660156 0)\"/>\n      <use xlink:href=\"#DejaVuSans-3d\" transform=\"translate(465.869141 0)\"/>\n      <use xlink:href=\"#DejaVuSans-37\" transform=\"translate(549.658203 0)\"/>\n      <use xlink:href=\"#DejaVuSans-2e\" transform=\"translate(613.28125 0)\"/>\n      <use xlink:href=\"#DejaVuSans-30\" transform=\"translate(645.068359 0)\"/>\n      <use xlink:href=\"#DejaVuSans-73\" transform=\"translate(708.691406 0)\"/>\n     </g>\n    </g>\n    <g id=\"line2d_38\">\n     <path d=\"M 299.18 79.450938 \nL 309.18 79.450938 \nL 319.18 79.450938 \n\" style=\"fill: none; stroke-dasharray: 1.5,2.475; stroke-dashoffset: 0; stroke: #ff0000; stroke-width: 1.5\"/>\n    </g>\n    <g id=\"text_21\">\n     <!-- numerical t=7.0s -->\n     <g transform=\"translate(327.18 82.950938) scale(0.1 -0.1)\">\n      <use xlink:href=\"#DejaVuSans-6e\"/>\n      <use xlink:href=\"#DejaVuSans-75\" transform=\"translate(63.378906 0)\"/>\n      <use xlink:href=\"#DejaVuSans-6d\" transform=\"translate(126.757812 0)\"/>\n      <use xlink:href=\"#DejaVuSans-65\" transform=\"translate(224.169922 0)\"/>\n      <use xlink:href=\"#DejaVuSans-72\" transform=\"translate(285.693359 0)\"/>\n      <use xlink:href=\"#DejaVuSans-69\" transform=\"translate(326.806641 0)\"/>\n      <use xlink:href=\"#DejaVuSans-63\" transform=\"translate(354.589844 0)\"/>\n      <use xlink:href=\"#DejaVuSans-61\" transform=\"translate(409.570312 0)\"/>\n      <use xlink:href=\"#DejaVuSans-6c\" transform=\"translate(470.849609 0)\"/>\n      <use xlink:href=\"#DejaVuSans-20\" transform=\"translate(498.632812 0)\"/>\n      <use xlink:href=\"#DejaVuSans-74\" transform=\"translate(530.419922 0)\"/>\n      <use xlink:href=\"#DejaVuSans-3d\" transform=\"translate(569.628906 0)\"/>\n      <use xlink:href=\"#DejaVuSans-37\" transform=\"translate(653.417969 0)\"/>\n      <use xlink:href=\"#DejaVuSans-2e\" transform=\"translate(717.041016 0)\"/>\n      <use xlink:href=\"#DejaVuSans-30\" transform=\"translate(748.828125 0)\"/>\n      <use xlink:href=\"#DejaVuSans-73\" transform=\"translate(812.451172 0)\"/>\n     </g>\n    </g>\n    <g id=\"line2d_39\">\n     <path d=\"M 299.18 94.129063 \nL 309.18 94.129063 \nL 319.18 94.129063 \n\" style=\"fill: none; stroke: #008000; stroke-width: 1.5; stroke-linecap: square\"/>\n    </g>\n    <g id=\"text_22\">\n     <!-- analytic t=13.0s -->\n     <g transform=\"translate(327.18 97.629063) scale(0.1 -0.1)\">\n      <use xlink:href=\"#DejaVuSans-61\"/>\n      <use xlink:href=\"#DejaVuSans-6e\" transform=\"translate(61.279297 0)\"/>\n      <use xlink:href=\"#DejaVuSans-61\" transform=\"translate(124.658203 0)\"/>\n      <use xlink:href=\"#DejaVuSans-6c\" transform=\"translate(185.9375 0)\"/>\n      <use xlink:href=\"#DejaVuSans-79\" transform=\"translate(213.720703 0)\"/>\n      <use xlink:href=\"#DejaVuSans-74\" transform=\"translate(272.900391 0)\"/>\n      <use xlink:href=\"#DejaVuSans-69\" transform=\"translate(312.109375 0)\"/>\n      <use xlink:href=\"#DejaVuSans-63\" transform=\"translate(339.892578 0)\"/>\n      <use xlink:href=\"#DejaVuSans-20\" transform=\"translate(394.873047 0)\"/>\n      <use xlink:href=\"#DejaVuSans-74\" transform=\"translate(426.660156 0)\"/>\n      <use xlink:href=\"#DejaVuSans-3d\" transform=\"translate(465.869141 0)\"/>\n      <use xlink:href=\"#DejaVuSans-31\" transform=\"translate(549.658203 0)\"/>\n      <use xlink:href=\"#DejaVuSans-33\" transform=\"translate(613.28125 0)\"/>\n      <use xlink:href=\"#DejaVuSans-2e\" transform=\"translate(676.904297 0)\"/>\n      <use xlink:href=\"#DejaVuSans-30\" transform=\"translate(708.691406 0)\"/>\n      <use xlink:href=\"#DejaVuSans-73\" transform=\"translate(772.314453 0)\"/>\n     </g>\n    </g>\n    <g id=\"line2d_40\">\n     <path d=\"M 299.18 108.807188 \nL 309.18 108.807188 \nL 319.18 108.807188 \n\" style=\"fill: none; stroke-dasharray: 1.5,2.475; stroke-dashoffset: 0; stroke: #008000; stroke-width: 1.5\"/>\n    </g>\n    <g id=\"text_23\">\n     <!-- numerical t=13.0s -->\n     <g transform=\"translate(327.18 112.307188) scale(0.1 -0.1)\">\n      <use xlink:href=\"#DejaVuSans-6e\"/>\n      <use xlink:href=\"#DejaVuSans-75\" transform=\"translate(63.378906 0)\"/>\n      <use xlink:href=\"#DejaVuSans-6d\" transform=\"translate(126.757812 0)\"/>\n      <use xlink:href=\"#DejaVuSans-65\" transform=\"translate(224.169922 0)\"/>\n      <use xlink:href=\"#DejaVuSans-72\" transform=\"translate(285.693359 0)\"/>\n      <use xlink:href=\"#DejaVuSans-69\" transform=\"translate(326.806641 0)\"/>\n      <use xlink:href=\"#DejaVuSans-63\" transform=\"translate(354.589844 0)\"/>\n      <use xlink:href=\"#DejaVuSans-61\" transform=\"translate(409.570312 0)\"/>\n      <use xlink:href=\"#DejaVuSans-6c\" transform=\"translate(470.849609 0)\"/>\n      <use xlink:href=\"#DejaVuSans-20\" transform=\"translate(498.632812 0)\"/>\n      <use xlink:href=\"#DejaVuSans-74\" transform=\"translate(530.419922 0)\"/>\n      <use xlink:href=\"#DejaVuSans-3d\" transform=\"translate(569.628906 0)\"/>\n      <use xlink:href=\"#DejaVuSans-31\" transform=\"translate(653.417969 0)\"/>\n      <use xlink:href=\"#DejaVuSans-33\" transform=\"translate(717.041016 0)\"/>\n      <use xlink:href=\"#DejaVuSans-2e\" transform=\"translate(780.664062 0)\"/>\n      <use xlink:href=\"#DejaVuSans-30\" transform=\"translate(812.451172 0)\"/>\n      <use xlink:href=\"#DejaVuSans-73\" transform=\"translate(876.074219 0)\"/>\n     </g>\n    </g>\n   </g>\n  </g>\n  <g id=\"axes_2\">\n   <g id=\"patch_8\">\n    <path d=\"M 467.265625 385.478125 \nL 849.295625 385.478125 \nL 849.295625 22.318125 \nL 467.265625 22.318125 \nz\n\" style=\"fill: #ffffff\"/>\n   </g>\n   <g id=\"matplotlib.axis_3\">\n    <g id=\"xtick_10\">\n     <g id=\"line2d_41\">\n      <path d=\"M 484.630625 385.478125 \nL 484.630625 22.318125 \n\" clip-path=\"url(#pdbb37e194a)\" style=\"fill: none; stroke: #b0b0b0; stroke-width: 0.8; stroke-linecap: square\"/>\n     </g>\n     <g id=\"line2d_42\">\n      <g>\n       <use xlink:href=\"#m25c8c466c9\" x=\"484.630625\" y=\"385.478125\" style=\"stroke: #000000; stroke-width: 0.8\"/>\n      </g>\n     </g>\n     <g id=\"text_24\">\n      <!-- 0 -->\n      <g transform=\"translate(481.449375 400.076562) scale(0.1 -0.1)\">\n       <use xlink:href=\"#DejaVuSans-30\"/>\n      </g>\n     </g>\n    </g>\n    <g id=\"xtick_11\">\n     <g id=\"line2d_43\">\n      <path d=\"M 534.244911 385.478125 \nL 534.244911 22.318125 \n\" clip-path=\"url(#pdbb37e194a)\" style=\"fill: none; stroke: #b0b0b0; stroke-width: 0.8; stroke-linecap: square\"/>\n     </g>\n     <g id=\"line2d_44\">\n      <g>\n       <use xlink:href=\"#m25c8c466c9\" x=\"534.244911\" y=\"385.478125\" style=\"stroke: #000000; stroke-width: 0.8\"/>\n      </g>\n     </g>\n     <g id=\"text_25\">\n      <!-- 2 -->\n      <g transform=\"translate(531.063661 400.076562) scale(0.1 -0.1)\">\n       <use xlink:href=\"#DejaVuSans-32\"/>\n      </g>\n     </g>\n    </g>\n    <g id=\"xtick_12\">\n     <g id=\"line2d_45\">\n      <path d=\"M 583.859196 385.478125 \nL 583.859196 22.318125 \n\" clip-path=\"url(#pdbb37e194a)\" style=\"fill: none; stroke: #b0b0b0; stroke-width: 0.8; stroke-linecap: square\"/>\n     </g>\n     <g id=\"line2d_46\">\n      <g>\n       <use xlink:href=\"#m25c8c466c9\" x=\"583.859196\" y=\"385.478125\" style=\"stroke: #000000; stroke-width: 0.8\"/>\n      </g>\n     </g>\n     <g id=\"text_26\">\n      <!-- 4 -->\n      <g transform=\"translate(580.677946 400.076562) scale(0.1 -0.1)\">\n       <defs>\n        <path id=\"DejaVuSans-34\" d=\"M 2419 4116 \nL 825 1625 \nL 2419 1625 \nL 2419 4116 \nz\nM 2253 4666 \nL 3047 4666 \nL 3047 1625 \nL 3713 1625 \nL 3713 1100 \nL 3047 1100 \nL 3047 0 \nL 2419 0 \nL 2419 1100 \nL 313 1100 \nL 313 1709 \nL 2253 4666 \nz\n\" transform=\"scale(0.015625)\"/>\n       </defs>\n       <use xlink:href=\"#DejaVuSans-34\"/>\n      </g>\n     </g>\n    </g>\n    <g id=\"xtick_13\">\n     <g id=\"line2d_47\">\n      <path d=\"M 633.473482 385.478125 \nL 633.473482 22.318125 \n\" clip-path=\"url(#pdbb37e194a)\" style=\"fill: none; stroke: #b0b0b0; stroke-width: 0.8; stroke-linecap: square\"/>\n     </g>\n     <g id=\"line2d_48\">\n      <g>\n       <use xlink:href=\"#m25c8c466c9\" x=\"633.473482\" y=\"385.478125\" style=\"stroke: #000000; stroke-width: 0.8\"/>\n      </g>\n     </g>\n     <g id=\"text_27\">\n      <!-- 6 -->\n      <g transform=\"translate(630.292232 400.076562) scale(0.1 -0.1)\">\n       <defs>\n        <path id=\"DejaVuSans-36\" d=\"M 2113 2584 \nQ 1688 2584 1439 2293 \nQ 1191 2003 1191 1497 \nQ 1191 994 1439 701 \nQ 1688 409 2113 409 \nQ 2538 409 2786 701 \nQ 3034 994 3034 1497 \nQ 3034 2003 2786 2293 \nQ 2538 2584 2113 2584 \nz\nM 3366 4563 \nL 3366 3988 \nQ 3128 4100 2886 4159 \nQ 2644 4219 2406 4219 \nQ 1781 4219 1451 3797 \nQ 1122 3375 1075 2522 \nQ 1259 2794 1537 2939 \nQ 1816 3084 2150 3084 \nQ 2853 3084 3261 2657 \nQ 3669 2231 3669 1497 \nQ 3669 778 3244 343 \nQ 2819 -91 2113 -91 \nQ 1303 -91 875 529 \nQ 447 1150 447 2328 \nQ 447 3434 972 4092 \nQ 1497 4750 2381 4750 \nQ 2619 4750 2861 4703 \nQ 3103 4656 3366 4563 \nz\n\" transform=\"scale(0.015625)\"/>\n       </defs>\n       <use xlink:href=\"#DejaVuSans-36\"/>\n      </g>\n     </g>\n    </g>\n    <g id=\"xtick_14\">\n     <g id=\"line2d_49\">\n      <path d=\"M 683.087768 385.478125 \nL 683.087768 22.318125 \n\" clip-path=\"url(#pdbb37e194a)\" style=\"fill: none; stroke: #b0b0b0; stroke-width: 0.8; stroke-linecap: square\"/>\n     </g>\n     <g id=\"line2d_50\">\n      <g>\n       <use xlink:href=\"#m25c8c466c9\" x=\"683.087768\" y=\"385.478125\" style=\"stroke: #000000; stroke-width: 0.8\"/>\n      </g>\n     </g>\n     <g id=\"text_28\">\n      <!-- 8 -->\n      <g transform=\"translate(679.906518 400.076562) scale(0.1 -0.1)\">\n       <use xlink:href=\"#DejaVuSans-38\"/>\n      </g>\n     </g>\n    </g>\n    <g id=\"xtick_15\">\n     <g id=\"line2d_51\">\n      <path d=\"M 732.702054 385.478125 \nL 732.702054 22.318125 \n\" clip-path=\"url(#pdbb37e194a)\" style=\"fill: none; stroke: #b0b0b0; stroke-width: 0.8; stroke-linecap: square\"/>\n     </g>\n     <g id=\"line2d_52\">\n      <g>\n       <use xlink:href=\"#m25c8c466c9\" x=\"732.702054\" y=\"385.478125\" style=\"stroke: #000000; stroke-width: 0.8\"/>\n      </g>\n     </g>\n     <g id=\"text_29\">\n      <!-- 10 -->\n      <g transform=\"translate(726.339554 400.076562) scale(0.1 -0.1)\">\n       <use xlink:href=\"#DejaVuSans-31\"/>\n       <use xlink:href=\"#DejaVuSans-30\" transform=\"translate(63.623047 0)\"/>\n      </g>\n     </g>\n    </g>\n    <g id=\"xtick_16\">\n     <g id=\"line2d_53\">\n      <path d=\"M 782.316339 385.478125 \nL 782.316339 22.318125 \n\" clip-path=\"url(#pdbb37e194a)\" style=\"fill: none; stroke: #b0b0b0; stroke-width: 0.8; stroke-linecap: square\"/>\n     </g>\n     <g id=\"line2d_54\">\n      <g>\n       <use xlink:href=\"#m25c8c466c9\" x=\"782.316339\" y=\"385.478125\" style=\"stroke: #000000; stroke-width: 0.8\"/>\n      </g>\n     </g>\n     <g id=\"text_30\">\n      <!-- 12 -->\n      <g transform=\"translate(775.953839 400.076562) scale(0.1 -0.1)\">\n       <use xlink:href=\"#DejaVuSans-31\"/>\n       <use xlink:href=\"#DejaVuSans-32\" transform=\"translate(63.623047 0)\"/>\n      </g>\n     </g>\n    </g>\n    <g id=\"xtick_17\">\n     <g id=\"line2d_55\">\n      <path d=\"M 831.930625 385.478125 \nL 831.930625 22.318125 \n\" clip-path=\"url(#pdbb37e194a)\" style=\"fill: none; stroke: #b0b0b0; stroke-width: 0.8; stroke-linecap: square\"/>\n     </g>\n     <g id=\"line2d_56\">\n      <g>\n       <use xlink:href=\"#m25c8c466c9\" x=\"831.930625\" y=\"385.478125\" style=\"stroke: #000000; stroke-width: 0.8\"/>\n      </g>\n     </g>\n     <g id=\"text_31\">\n      <!-- 14 -->\n      <g transform=\"translate(825.568125 400.076562) scale(0.1 -0.1)\">\n       <use xlink:href=\"#DejaVuSans-31\"/>\n       <use xlink:href=\"#DejaVuSans-34\" transform=\"translate(63.623047 0)\"/>\n      </g>\n     </g>\n    </g>\n    <g id=\"text_32\">\n     <!-- second -->\n     <g transform=\"translate(640.447813 413.754687) scale(0.1 -0.1)\">\n      <use xlink:href=\"#DejaVuSans-73\"/>\n      <use xlink:href=\"#DejaVuSans-65\" transform=\"translate(52.099609 0)\"/>\n      <use xlink:href=\"#DejaVuSans-63\" transform=\"translate(113.623047 0)\"/>\n      <use xlink:href=\"#DejaVuSans-6f\" transform=\"translate(168.603516 0)\"/>\n      <use xlink:href=\"#DejaVuSans-6e\" transform=\"translate(229.785156 0)\"/>\n      <use xlink:href=\"#DejaVuSans-64\" transform=\"translate(293.164062 0)\"/>\n     </g>\n    </g>\n   </g>\n   <g id=\"matplotlib.axis_4\">\n    <g id=\"ytick_6\">\n     <g id=\"line2d_57\">\n      <path d=\"M 467.265625 368.970852 \nL 849.295625 368.970852 \n\" clip-path=\"url(#pdbb37e194a)\" style=\"fill: none; stroke: #b0b0b0; stroke-width: 0.8; stroke-linecap: square\"/>\n     </g>\n     <g id=\"line2d_58\">\n      <g>\n       <use xlink:href=\"#mf11503aa5e\" x=\"467.265625\" y=\"368.970852\" style=\"stroke: #000000; stroke-width: 0.8\"/>\n      </g>\n     </g>\n     <g id=\"text_33\">\n      <!-- 0 -->\n      <g transform=\"translate(453.903125 372.770071) scale(0.1 -0.1)\">\n       <use xlink:href=\"#DejaVuSans-30\"/>\n      </g>\n     </g>\n    </g>\n    <g id=\"ytick_7\">\n     <g id=\"line2d_59\">\n      <path d=\"M 467.265625 295.674033 \nL 849.295625 295.674033 \n\" clip-path=\"url(#pdbb37e194a)\" style=\"fill: none; stroke: #b0b0b0; stroke-width: 0.8; stroke-linecap: square\"/>\n     </g>\n     <g id=\"line2d_60\">\n      <g>\n       <use xlink:href=\"#mf11503aa5e\" x=\"467.265625\" y=\"295.674033\" style=\"stroke: #000000; stroke-width: 0.8\"/>\n      </g>\n     </g>\n     <g id=\"text_34\">\n      <!-- 1 -->\n      <g transform=\"translate(453.903125 299.473252) scale(0.1 -0.1)\">\n       <use xlink:href=\"#DejaVuSans-31\"/>\n      </g>\n     </g>\n    </g>\n    <g id=\"ytick_8\">\n     <g id=\"line2d_61\">\n      <path d=\"M 467.265625 222.377214 \nL 849.295625 222.377214 \n\" clip-path=\"url(#pdbb37e194a)\" style=\"fill: none; stroke: #b0b0b0; stroke-width: 0.8; stroke-linecap: square\"/>\n     </g>\n     <g id=\"line2d_62\">\n      <g>\n       <use xlink:href=\"#mf11503aa5e\" x=\"467.265625\" y=\"222.377214\" style=\"stroke: #000000; stroke-width: 0.8\"/>\n      </g>\n     </g>\n     <g id=\"text_35\">\n      <!-- 2 -->\n      <g transform=\"translate(453.903125 226.176433) scale(0.1 -0.1)\">\n       <use xlink:href=\"#DejaVuSans-32\"/>\n      </g>\n     </g>\n    </g>\n    <g id=\"ytick_9\">\n     <g id=\"line2d_63\">\n      <path d=\"M 467.265625 149.080395 \nL 849.295625 149.080395 \n\" clip-path=\"url(#pdbb37e194a)\" style=\"fill: none; stroke: #b0b0b0; stroke-width: 0.8; stroke-linecap: square\"/>\n     </g>\n     <g id=\"line2d_64\">\n      <g>\n       <use xlink:href=\"#mf11503aa5e\" x=\"467.265625\" y=\"149.080395\" style=\"stroke: #000000; stroke-width: 0.8\"/>\n      </g>\n     </g>\n     <g id=\"text_36\">\n      <!-- 3 -->\n      <g transform=\"translate(453.903125 152.879613) scale(0.1 -0.1)\">\n       <use xlink:href=\"#DejaVuSans-33\"/>\n      </g>\n     </g>\n    </g>\n    <g id=\"ytick_10\">\n     <g id=\"line2d_65\">\n      <path d=\"M 467.265625 75.783575 \nL 849.295625 75.783575 \n\" clip-path=\"url(#pdbb37e194a)\" style=\"fill: none; stroke: #b0b0b0; stroke-width: 0.8; stroke-linecap: square\"/>\n     </g>\n     <g id=\"line2d_66\">\n      <g>\n       <use xlink:href=\"#mf11503aa5e\" x=\"467.265625\" y=\"75.783575\" style=\"stroke: #000000; stroke-width: 0.8\"/>\n      </g>\n     </g>\n     <g id=\"text_37\">\n      <!-- 4 -->\n      <g transform=\"translate(453.903125 79.582794) scale(0.1 -0.1)\">\n       <use xlink:href=\"#DejaVuSans-34\"/>\n      </g>\n     </g>\n    </g>\n    <g id=\"text_38\">\n     <!-- kelvin -->\n     <g transform=\"translate(447.823438 218.595) rotate(-90) scale(0.1 -0.1)\">\n      <use xlink:href=\"#DejaVuSans-6b\"/>\n      <use xlink:href=\"#DejaVuSans-65\" transform=\"translate(54.285156 0)\"/>\n      <use xlink:href=\"#DejaVuSans-6c\" transform=\"translate(115.808594 0)\"/>\n      <use xlink:href=\"#DejaVuSans-76\" transform=\"translate(143.591797 0)\"/>\n      <use xlink:href=\"#DejaVuSans-69\" transform=\"translate(202.771484 0)\"/>\n      <use xlink:href=\"#DejaVuSans-6e\" transform=\"translate(230.554688 0)\"/>\n     </g>\n    </g>\n   </g>\n   <g id=\"line2d_67\">\n    <path d=\"M 484.630625 368.970852 \nL 484.779478 331.351327 \nL 485.077185 302.308918 \nL 485.474128 285.359944 \nL 485.970306 273.691853 \nL 486.56572 264.96021 \nL 487.26037 258.008946 \nL 488.079064 252.011395 \nL 489.071421 246.401855 \nL 490.23744 241.08334 \nL 491.626739 235.777826 \nL 493.264127 230.401978 \nL 495.149605 224.973868 \nL 497.283172 219.511054 \nL 499.640019 214.088944 \nL 502.195337 208.764474 \nL 504.973935 203.490195 \nL 507.951005 198.319096 \nL 511.126546 193.250801 \nL 514.500559 188.284656 \nL 518.097851 183.386794 \nL 521.918424 178.562072 \nL 525.962277 173.813309 \nL 530.25422 169.115511 \nL 534.81906 164.449311 \nL 539.656798 159.822721 \nL 544.792244 155.219988 \nL 550.250205 150.628838 \nL 556.030682 146.058818 \nL 562.158484 141.499368 \nL 568.65842 136.942252 \nL 575.530489 132.397067 \nL 582.82431 127.841302 \nL 590.539883 123.285839 \nL 598.726825 118.712543 \nL 607.385136 114.132789 \nL 616.539626 109.543825 \nL 626.239911 104.932177 \nL 636.485993 100.309142 \nL 647.327489 95.663402 \nL 658.789208 90.995965 \nL 670.895958 86.307991 \nL 683.672549 81.60075 \nL 697.168599 76.867089 \nL 711.408916 72.109589 \nL 726.443119 67.322993 \nL 742.296015 62.510695 \nL 759.017224 57.668818 \nL 776.656363 52.794519 \nL 795.23824 47.892226 \nL 814.812474 42.960002 \nL 831.930625 38.825398 \nL 831.930625 38.825398 \n\" clip-path=\"url(#pdbb37e194a)\" style=\"fill: none; stroke-dasharray: 5.55,2.4; stroke-dashoffset: 0; stroke: #000000; stroke-width: 1.5\"/>\n   </g>\n   <g id=\"patch_9\">\n    <path d=\"M 467.265625 385.478125 \nL 467.265625 22.318125 \n\" style=\"fill: none; stroke: #000000; stroke-width: 0.8; stroke-linejoin: miter; stroke-linecap: square\"/>\n   </g>\n   <g id=\"patch_10\">\n    <path d=\"M 849.295625 385.478125 \nL 849.295625 22.318125 \n\" style=\"fill: none; stroke: #000000; stroke-width: 0.8; stroke-linejoin: miter; stroke-linecap: square\"/>\n   </g>\n   <g id=\"patch_11\">\n    <path d=\"M 467.265625 385.478125 \nL 849.295625 385.478125 \n\" style=\"fill: none; stroke: #000000; stroke-width: 0.8; stroke-linejoin: miter; stroke-linecap: square\"/>\n   </g>\n   <g id=\"patch_12\">\n    <path d=\"M 467.265625 22.318125 \nL 849.295625 22.318125 \n\" style=\"fill: none; stroke: #000000; stroke-width: 0.8; stroke-linejoin: miter; stroke-linecap: square\"/>\n   </g>\n   <g id=\"text_39\">\n    <!-- Change in the RMSE between analytic and numerical solution with time -->\n    <g transform=\"translate(443.089688 16.318125) scale(0.12 -0.12)\">\n     <defs>\n      <path id=\"DejaVuSans-68\" d=\"M 3513 2113 \nL 3513 0 \nL 2938 0 \nL 2938 2094 \nQ 2938 2591 2744 2837 \nQ 2550 3084 2163 3084 \nQ 1697 3084 1428 2787 \nQ 1159 2491 1159 1978 \nL 1159 0 \nL 581 0 \nL 581 4863 \nL 1159 4863 \nL 1159 2956 \nQ 1366 3272 1645 3428 \nQ 1925 3584 2291 3584 \nQ 2894 3584 3203 3211 \nQ 3513 2838 3513 2113 \nz\n\" transform=\"scale(0.015625)\"/>\n      <path id=\"DejaVuSans-67\" d=\"M 2906 1791 \nQ 2906 2416 2648 2759 \nQ 2391 3103 1925 3103 \nQ 1463 3103 1205 2759 \nQ 947 2416 947 1791 \nQ 947 1169 1205 825 \nQ 1463 481 1925 481 \nQ 2391 481 2648 825 \nQ 2906 1169 2906 1791 \nz\nM 3481 434 \nQ 3481 -459 3084 -895 \nQ 2688 -1331 1869 -1331 \nQ 1566 -1331 1297 -1286 \nQ 1028 -1241 775 -1147 \nL 775 -588 \nQ 1028 -725 1275 -790 \nQ 1522 -856 1778 -856 \nQ 2344 -856 2625 -561 \nQ 2906 -266 2906 331 \nL 2906 616 \nQ 2728 306 2450 153 \nQ 2172 0 1784 0 \nQ 1141 0 747 490 \nQ 353 981 353 1791 \nQ 353 2603 747 3093 \nQ 1141 3584 1784 3584 \nQ 2172 3584 2450 3431 \nQ 2728 3278 2906 2969 \nL 2906 3500 \nL 3481 3500 \nL 3481 434 \nz\n\" transform=\"scale(0.015625)\"/>\n      <path id=\"DejaVuSans-52\" d=\"M 2841 2188 \nQ 3044 2119 3236 1894 \nQ 3428 1669 3622 1275 \nL 4263 0 \nL 3584 0 \nL 2988 1197 \nQ 2756 1666 2539 1819 \nQ 2322 1972 1947 1972 \nL 1259 1972 \nL 1259 0 \nL 628 0 \nL 628 4666 \nL 2053 4666 \nQ 2853 4666 3247 4331 \nQ 3641 3997 3641 3322 \nQ 3641 2881 3436 2590 \nQ 3231 2300 2841 2188 \nz\nM 1259 4147 \nL 1259 2491 \nL 2053 2491 \nQ 2509 2491 2742 2702 \nQ 2975 2913 2975 3322 \nQ 2975 3731 2742 3939 \nQ 2509 4147 2053 4147 \nL 1259 4147 \nz\n\" transform=\"scale(0.015625)\"/>\n      <path id=\"DejaVuSans-4d\" d=\"M 628 4666 \nL 1569 4666 \nL 2759 1491 \nL 3956 4666 \nL 4897 4666 \nL 4897 0 \nL 4281 0 \nL 4281 4097 \nL 3078 897 \nL 2444 897 \nL 1241 4097 \nL 1241 0 \nL 628 0 \nL 628 4666 \nz\n\" transform=\"scale(0.015625)\"/>\n      <path id=\"DejaVuSans-45\" d=\"M 628 4666 \nL 3578 4666 \nL 3578 4134 \nL 1259 4134 \nL 1259 2753 \nL 3481 2753 \nL 3481 2222 \nL 1259 2222 \nL 1259 531 \nL 3634 531 \nL 3634 0 \nL 628 0 \nL 628 4666 \nz\n\" transform=\"scale(0.015625)\"/>\n      <path id=\"DejaVuSans-62\" d=\"M 3116 1747 \nQ 3116 2381 2855 2742 \nQ 2594 3103 2138 3103 \nQ 1681 3103 1420 2742 \nQ 1159 2381 1159 1747 \nQ 1159 1113 1420 752 \nQ 1681 391 2138 391 \nQ 2594 391 2855 752 \nQ 3116 1113 3116 1747 \nz\nM 1159 2969 \nQ 1341 3281 1617 3432 \nQ 1894 3584 2278 3584 \nQ 2916 3584 3314 3078 \nQ 3713 2572 3713 1747 \nQ 3713 922 3314 415 \nQ 2916 -91 2278 -91 \nQ 1894 -91 1617 61 \nQ 1341 213 1159 525 \nL 1159 0 \nL 581 0 \nL 581 4863 \nL 1159 4863 \nL 1159 2969 \nz\n\" transform=\"scale(0.015625)\"/>\n     </defs>\n     <use xlink:href=\"#DejaVuSans-43\"/>\n     <use xlink:href=\"#DejaVuSans-68\" transform=\"translate(69.824219 0)\"/>\n     <use xlink:href=\"#DejaVuSans-61\" transform=\"translate(133.203125 0)\"/>\n     <use xlink:href=\"#DejaVuSans-6e\" transform=\"translate(194.482422 0)\"/>\n     <use xlink:href=\"#DejaVuSans-67\" transform=\"translate(257.861328 0)\"/>\n     <use xlink:href=\"#DejaVuSans-65\" transform=\"translate(321.337891 0)\"/>\n     <use xlink:href=\"#DejaVuSans-20\" transform=\"translate(382.861328 0)\"/>\n     <use xlink:href=\"#DejaVuSans-69\" transform=\"translate(414.648438 0)\"/>\n     <use xlink:href=\"#DejaVuSans-6e\" transform=\"translate(442.431641 0)\"/>\n     <use xlink:href=\"#DejaVuSans-20\" transform=\"translate(505.810547 0)\"/>\n     <use xlink:href=\"#DejaVuSans-74\" transform=\"translate(537.597656 0)\"/>\n     <use xlink:href=\"#DejaVuSans-68\" transform=\"translate(576.806641 0)\"/>\n     <use xlink:href=\"#DejaVuSans-65\" transform=\"translate(640.185547 0)\"/>\n     <use xlink:href=\"#DejaVuSans-20\" transform=\"translate(701.708984 0)\"/>\n     <use xlink:href=\"#DejaVuSans-52\" transform=\"translate(733.496094 0)\"/>\n     <use xlink:href=\"#DejaVuSans-4d\" transform=\"translate(802.978516 0)\"/>\n     <use xlink:href=\"#DejaVuSans-53\" transform=\"translate(889.257812 0)\"/>\n     <use xlink:href=\"#DejaVuSans-45\" transform=\"translate(952.734375 0)\"/>\n     <use xlink:href=\"#DejaVuSans-20\" transform=\"translate(1015.917969 0)\"/>\n     <use xlink:href=\"#DejaVuSans-62\" transform=\"translate(1047.705078 0)\"/>\n     <use xlink:href=\"#DejaVuSans-65\" transform=\"translate(1111.181641 0)\"/>\n     <use xlink:href=\"#DejaVuSans-74\" transform=\"translate(1172.705078 0)\"/>\n     <use xlink:href=\"#DejaVuSans-77\" transform=\"translate(1211.914062 0)\"/>\n     <use xlink:href=\"#DejaVuSans-65\" transform=\"translate(1293.701172 0)\"/>\n     <use xlink:href=\"#DejaVuSans-65\" transform=\"translate(1355.224609 0)\"/>\n     <use xlink:href=\"#DejaVuSans-6e\" transform=\"translate(1416.748047 0)\"/>\n     <use xlink:href=\"#DejaVuSans-20\" transform=\"translate(1480.126953 0)\"/>\n     <use xlink:href=\"#DejaVuSans-61\" transform=\"translate(1511.914062 0)\"/>\n     <use xlink:href=\"#DejaVuSans-6e\" transform=\"translate(1573.193359 0)\"/>\n     <use xlink:href=\"#DejaVuSans-61\" transform=\"translate(1636.572266 0)\"/>\n     <use xlink:href=\"#DejaVuSans-6c\" transform=\"translate(1697.851562 0)\"/>\n     <use xlink:href=\"#DejaVuSans-79\" transform=\"translate(1725.634766 0)\"/>\n     <use xlink:href=\"#DejaVuSans-74\" transform=\"translate(1784.814453 0)\"/>\n     <use xlink:href=\"#DejaVuSans-69\" transform=\"translate(1824.023438 0)\"/>\n     <use xlink:href=\"#DejaVuSans-63\" transform=\"translate(1851.806641 0)\"/>\n     <use xlink:href=\"#DejaVuSans-20\" transform=\"translate(1906.787109 0)\"/>\n     <use xlink:href=\"#DejaVuSans-61\" transform=\"translate(1938.574219 0)\"/>\n     <use xlink:href=\"#DejaVuSans-6e\" transform=\"translate(1999.853516 0)\"/>\n     <use xlink:href=\"#DejaVuSans-64\" transform=\"translate(2063.232422 0)\"/>\n     <use xlink:href=\"#DejaVuSans-20\" transform=\"translate(2126.708984 0)\"/>\n     <use xlink:href=\"#DejaVuSans-6e\" transform=\"translate(2158.496094 0)\"/>\n     <use xlink:href=\"#DejaVuSans-75\" transform=\"translate(2221.875 0)\"/>\n     <use xlink:href=\"#DejaVuSans-6d\" transform=\"translate(2285.253906 0)\"/>\n     <use xlink:href=\"#DejaVuSans-65\" transform=\"translate(2382.666016 0)\"/>\n     <use xlink:href=\"#DejaVuSans-72\" transform=\"translate(2444.189453 0)\"/>\n     <use xlink:href=\"#DejaVuSans-69\" transform=\"translate(2485.302734 0)\"/>\n     <use xlink:href=\"#DejaVuSans-63\" transform=\"translate(2513.085938 0)\"/>\n     <use xlink:href=\"#DejaVuSans-61\" transform=\"translate(2568.066406 0)\"/>\n     <use xlink:href=\"#DejaVuSans-6c\" transform=\"translate(2629.345703 0)\"/>\n     <use xlink:href=\"#DejaVuSans-20\" transform=\"translate(2657.128906 0)\"/>\n     <use xlink:href=\"#DejaVuSans-73\" transform=\"translate(2688.916016 0)\"/>\n     <use xlink:href=\"#DejaVuSans-6f\" transform=\"translate(2741.015625 0)\"/>\n     <use xlink:href=\"#DejaVuSans-6c\" transform=\"translate(2802.197266 0)\"/>\n     <use xlink:href=\"#DejaVuSans-75\" transform=\"translate(2829.980469 0)\"/>\n     <use xlink:href=\"#DejaVuSans-74\" transform=\"translate(2893.359375 0)\"/>\n     <use xlink:href=\"#DejaVuSans-69\" transform=\"translate(2932.568359 0)\"/>\n     <use xlink:href=\"#DejaVuSans-6f\" transform=\"translate(2960.351562 0)\"/>\n     <use xlink:href=\"#DejaVuSans-6e\" transform=\"translate(3021.533203 0)\"/>\n     <use xlink:href=\"#DejaVuSans-20\" transform=\"translate(3084.912109 0)\"/>\n     <use xlink:href=\"#DejaVuSans-77\" transform=\"translate(3116.699219 0)\"/>\n     <use xlink:href=\"#DejaVuSans-69\" transform=\"translate(3198.486328 0)\"/>\n     <use xlink:href=\"#DejaVuSans-74\" transform=\"translate(3226.269531 0)\"/>\n     <use xlink:href=\"#DejaVuSans-68\" transform=\"translate(3265.478516 0)\"/>\n     <use xlink:href=\"#DejaVuSans-20\" transform=\"translate(3328.857422 0)\"/>\n     <use xlink:href=\"#DejaVuSans-74\" transform=\"translate(3360.644531 0)\"/>\n     <use xlink:href=\"#DejaVuSans-69\" transform=\"translate(3399.853516 0)\"/>\n     <use xlink:href=\"#DejaVuSans-6d\" transform=\"translate(3427.636719 0)\"/>\n     <use xlink:href=\"#DejaVuSans-65\" transform=\"translate(3525.048828 0)\"/>\n    </g>\n   </g>\n   <g id=\"legend_2\">\n    <g id=\"patch_13\">\n     <path d=\"M 731.347188 380.478125 \nL 842.295625 380.478125 \nQ 844.295625 380.478125 844.295625 378.478125 \nL 844.295625 364.8 \nQ 844.295625 362.8 842.295625 362.8 \nL 731.347188 362.8 \nQ 729.347188 362.8 729.347188 364.8 \nL 729.347188 378.478125 \nQ 729.347188 380.478125 731.347188 380.478125 \nz\n\" style=\"fill: #ffffff; opacity: 0.8; stroke: #cccccc; stroke-linejoin: miter\"/>\n    </g>\n    <g id=\"line2d_68\">\n     <path d=\"M 733.347188 370.898437 \nL 743.347188 370.898437 \nL 753.347188 370.898437 \n\" style=\"fill: none; stroke-dasharray: 5.55,2.4; stroke-dashoffset: 0; stroke: #000000; stroke-width: 1.5\"/>\n    </g>\n    <g id=\"text_40\">\n     <!-- RMSE in Kelvins -->\n     <g transform=\"translate(761.347188 374.398437) scale(0.1 -0.1)\">\n      <defs>\n       <path id=\"DejaVuSans-4b\" d=\"M 628 4666 \nL 1259 4666 \nL 1259 2694 \nL 3353 4666 \nL 4166 4666 \nL 1850 2491 \nL 4331 0 \nL 3500 0 \nL 1259 2247 \nL 1259 0 \nL 628 0 \nL 628 4666 \nz\n\" transform=\"scale(0.015625)\"/>\n      </defs>\n      <use xlink:href=\"#DejaVuSans-52\"/>\n      <use xlink:href=\"#DejaVuSans-4d\" transform=\"translate(69.482422 0)\"/>\n      <use xlink:href=\"#DejaVuSans-53\" transform=\"translate(155.761719 0)\"/>\n      <use xlink:href=\"#DejaVuSans-45\" transform=\"translate(219.238281 0)\"/>\n      <use xlink:href=\"#DejaVuSans-20\" transform=\"translate(282.421875 0)\"/>\n      <use xlink:href=\"#DejaVuSans-69\" transform=\"translate(314.208984 0)\"/>\n      <use xlink:href=\"#DejaVuSans-6e\" transform=\"translate(341.992188 0)\"/>\n      <use xlink:href=\"#DejaVuSans-20\" transform=\"translate(405.371094 0)\"/>\n      <use xlink:href=\"#DejaVuSans-4b\" transform=\"translate(437.158203 0)\"/>\n      <use xlink:href=\"#DejaVuSans-65\" transform=\"translate(497.734375 0)\"/>\n      <use xlink:href=\"#DejaVuSans-6c\" transform=\"translate(559.257812 0)\"/>\n      <use xlink:href=\"#DejaVuSans-76\" transform=\"translate(587.041016 0)\"/>\n      <use xlink:href=\"#DejaVuSans-69\" transform=\"translate(646.220703 0)\"/>\n      <use xlink:href=\"#DejaVuSans-6e\" transform=\"translate(674.003906 0)\"/>\n      <use xlink:href=\"#DejaVuSans-73\" transform=\"translate(737.382812 0)\"/>\n     </g>\n    </g>\n   </g>\n  </g>\n </g>\n <defs>\n  <clipPath id=\"p10e0f07f8a\">\n   <rect x=\"46.965625\" y=\"22.318125\" width=\"382.03\" height=\"363.16\"/>\n  </clipPath>\n  <clipPath id=\"pdbb37e194a\">\n   <rect x=\"467.265625\" y=\"22.318125\" width=\"382.03\" height=\"363.16\"/>\n  </clipPath>\n </defs>\n</svg>\n"
     },
     "metadata": {},
     "output_type": "display_data"
    },
    {
     "data": {
      "text/plain": [
       "HBox(children=(HTML(value=\"<a href='.\\\\tmpykns5x1g.pdf' target='_blank'>.\\\\tmpykns5x1g.pdf</a><br>\"), HTML(val…"
      ],
      "application/vnd.jupyter.widget-view+json": {
       "version_major": 2,
       "version_minor": 0,
       "model_id": "3a22ad97c4b045ea99997ce5464d03c7"
      }
     },
     "metadata": {},
     "output_type": "display_data"
    }
   ],
   "execution_count": 21
  },
  {
   "metadata": {},
   "cell_type": "markdown",
   "source": [
    "### Conclusions\n",
    "\n",
    "- The Numerical and Analytical solutions are implemented correctly, and the shown curves match the expected results (i.e. The curves are continuous; they have the extremes at the correct place; They change predictably in time (Jugging by mathematical model)).\n",
    "- On the first plot, we can see that the numerical solution is under the influence of the numerical diffusion compared to the analytical solution. We can deduce this because the numerical solution appears as if it had increasing diffusion coefficient in time. This result is to be expected because we used the first order numerical scheme.\n",
    "- Because the Root Mean Square Error metric does not change the units of the measured error (unlike, for example, MSE), we can deduce that error follows a logarithmic like curve. The fact can explain this that the second spatial derivative is a second order approximation (Local Truncation Error Analysis)."
   ],
   "id": "8812ef39e29d8c6e"
  }
 ],
 "metadata": {
  "kernelspec": {
   "display_name": "Python 3",
   "language": "python",
   "name": "python3"
  },
  "language_info": {
   "codemirror_mode": {
    "name": "ipython",
    "version": 2
   },
   "file_extension": ".py",
   "mimetype": "text/x-python",
   "name": "python",
   "nbconvert_exporter": "python",
   "pygments_lexer": "ipython2",
   "version": "2.7.6"
  }
 },
 "nbformat": 4,
 "nbformat_minor": 5
}
