{
 "cells": [
  {
   "metadata": {},
   "cell_type": "markdown",
   "source": [
    "# LAB 04 Assigment\n",
    "\n",
    "Dominik Breksa (dominikbreksa@student.agh.edu.pl)"
   ],
   "id": "150544eaa2f4182c"
  },
  {
   "metadata": {},
   "cell_type": "markdown",
   "source": "### Imports of libraries and packages",
   "id": "3191793c1e69540e"
  },
  {
   "cell_type": "code",
   "id": "initial_id",
   "metadata": {
    "collapsed": true,
    "ExecuteTime": {
     "end_time": "2025-04-02T16:04:15.933064Z",
     "start_time": "2025-04-02T16:04:15.083175Z"
    }
   },
   "source": [
    "import numpy as np\n",
    "import numpy.typing as npt\n",
    "import open_atmos_jupyter_utils\n",
    "from matplotlib import pyplot\n",
    "\n",
    "# pyplot.rcParams['axes.grid'] = True"
   ],
   "outputs": [],
   "execution_count": 1
  },
  {
   "metadata": {},
   "cell_type": "markdown",
   "source": [
    "### Physical Problem Definition\n",
    "\n",
    "##### Boundary conditions\n",
    "\n",
    "##### Initial conditions\n",
    "\n",
    "##### Numerical values used"
   ],
   "id": "de3e179516958361"
  },
  {
   "metadata": {},
   "cell_type": "markdown",
   "source": "### Analytical solution",
   "id": "deefe39b4084f161"
  },
  {
   "metadata": {},
   "cell_type": "code",
   "outputs": [],
   "execution_count": null,
   "source": "",
   "id": "6063c6fe5816fab8"
  },
  {
   "metadata": {},
   "cell_type": "markdown",
   "source": [
    "### Numerical solution\n",
    "\n"
   ],
   "id": "5d768e82949958be"
  },
  {
   "metadata": {},
   "cell_type": "code",
   "outputs": [],
   "execution_count": null,
   "source": "",
   "id": "df83c94274a3c57e"
  },
  {
   "metadata": {},
   "cell_type": "markdown",
   "source": [
    "### Literature & Learning materials\n",
    "\n",
    "Here I present the literature\n",
    "\n",
    "- [YT: \"Explicit Upwind Finite Difference Solution to the Advection Equation\" by Caspar Hewett](https://www.youtube.com/watch?v=drCdGxSG3Ec)\n",
    "- [YT: \"Implicit Upwind Finite Difference Solution to the Advection Equation\" by Caspar Hewett](https://www.youtube.com/watch?v=CCY3ywCuGBI)\n",
    "- [YT: \"Finite Difference Schemes for Advection and Diffusion\" by Caspar Hewett](https://www.youtube.com/watch?v=UM0o0ToluY8)\n",
    "- [YT: \"Stability & Accuracy of Numerical Schemes (2024)\" by Caspar Hewett](https://www.youtube.com/watch?v=3ufzXpsxShU)\n",
    "- [Link: \"RÓWNANIA RÓŻNICZKOWE (A1) Skrypt dla studentów\" by Andrzej Raczyński](https://www.math.uni.wroc.pl/sites/default/files/skrypt_rr1.pdf)\n",
    "- [Book: \"Analiza Numeryczna\" by David Kincaid, Ward Cheney, isbn: 83-204-3078-X](https://www.impan.pl/~szczep/AMM1/Kincaid.pdf)\n",
    "- [YT: \"Advection diffusion equations\" by Martin Blunt](https://www.youtube.com/watch?v=l_-YAEBXK1k)\n",
    "- [YT: \"One dimensional advection diffusion equations\" by Martin Blunt](https://www.youtube.com/watch?v=Jr3aOildCCA)"
   ],
   "id": "c0a470db8a0d751a"
  }
 ],
 "metadata": {
  "kernelspec": {
   "display_name": "Python 3",
   "language": "python",
   "name": "python3"
  },
  "language_info": {
   "codemirror_mode": {
    "name": "ipython",
    "version": 2
   },
   "file_extension": ".py",
   "mimetype": "text/x-python",
   "name": "python",
   "nbconvert_exporter": "python",
   "pygments_lexer": "ipython2",
   "version": "2.7.6"
  }
 },
 "nbformat": 4,
 "nbformat_minor": 5
}
