{
 "cells": [
  {
   "metadata": {},
   "cell_type": "markdown",
   "source": [
    "# LAB 04 Assigment\n",
    "\n",
    "Dominik Breksa (dominikbreksa@student.agh.edu.pl)"
   ],
   "id": "150544eaa2f4182c"
  },
  {
   "metadata": {},
   "cell_type": "markdown",
   "source": "### Imports of libraries and packages",
   "id": "3191793c1e69540e"
  },
  {
   "cell_type": "code",
   "id": "initial_id",
   "metadata": {
    "collapsed": true,
    "ExecuteTime": {
     "end_time": "2025-04-03T19:52:23.351474Z",
     "start_time": "2025-04-03T19:52:22.438112Z"
    }
   },
   "source": [
    "import numpy as np\n",
    "import numpy.typing as npt\n",
    "import scipy\n",
    "import pint\n",
    "import open_atmos_jupyter_utils\n",
    "from matplotlib import pyplot as plt\n",
    "\n",
    "# pyplot.rcParams['axes.grid'] = True"
   ],
   "outputs": [],
   "execution_count": 2
  },
  {
   "metadata": {
    "ExecuteTime": {
     "end_time": "2025-04-03T19:52:23.467002Z",
     "start_time": "2025-04-03T19:52:23.354483Z"
    }
   },
   "cell_type": "code",
   "source": [
    "si = pint.UnitRegistry()\n",
    "si.setup_matplotlib()\n",
    "si"
   ],
   "id": "e1585f484a71f450",
   "outputs": [
    {
     "data": {
      "text/plain": [
       "<pint.registry.UnitRegistry at 0x241fc6ae450>"
      ]
     },
     "execution_count": 3,
     "metadata": {},
     "output_type": "execute_result"
    }
   ],
   "execution_count": 3
  },
  {
   "metadata": {},
   "cell_type": "markdown",
   "source": [
    "### Physical Problem Definition\n",
    "\n",
    "The physical problem, that I will model today is the temperature of the fluid (water) with convective and conductive heat transfer in one-dimensional spacial domain. Since the problem is one-dimensional, the computational domain will look like:\n",
    "\n",
    "......................\n",
    "\n",
    "To solve this problem, I will use the advection-diffusion parabolic partial differential equation (also called in our case simplified convection-conduction equation) ...\n",
    "\n",
    "$$\n",
    "\\frac{\\partial \\psi}{\\partial t} + u \\frac{\\partial \\psi}{\\partial x} - \\mu \\frac{\\partial ^ 2 \\psi}{\\partial^2 x} = 0\n",
    "$$\n",
    "\n",
    "where,\n",
    "\n",
    "- $t$ - time in seconds $[s]$,\n",
    "- $x$ - spacial ...\n",
    "- $\\psi(x, t)$ - It is the function of temperature at a given point in one-dimensional space and time $[K]$,\n",
    "- $u$ - Convection coefficient $[\\frac{m}{s}]$,\n",
    "- $\\mu$ - Conduction coefficient $[\\frac{m^2}{s}]$,\n",
    "- $u \\frac{\\partial \\psi}{\\partial x}$ - Transport of heat by convection,\n",
    "- $- \\mu \\frac{\\partial ^ 2 \\psi}{\\partial^2 x}$ - Diffusive term which in our case is heat conduction.\n",
    "\n",
    "and,\n",
    "\n",
    "Conduction coefficient ($\\mu$ term) is given by the following equation:\n",
    "\n",
    "$$\n",
    "\\mu = \\frac{K_w}{\\rho_w c_w}\n",
    "$$\n",
    "\n",
    "$$\n",
    "[\\frac{W}{m K}\\frac{1}{\\frac{kg}{m^3}}\\frac{1}{\\frac{J}{kg K}} = \\frac{W}{m K}\\frac{m^3}{kg}\\frac{kg K}{J} = \\frac{W m^2}{J} = \\frac{m^2}{s}]\n",
    "$$\n",
    "\n",
    "where,\n",
    "\n",
    "- $K_w$ - is the thermal conductivity of water equal to: $0.60719479404817 [\\frac{W}{m K}]$,\n",
    "- $\\rho_w$ - is the density of water equal to: $997.0474354081 [\\frac{kg}{m^3}]$,\n",
    "- $c_w$ - is the heat capacity of water at constant pressure equal to: $4181.9000614923 [\\frac{J}{kg K}]$.\n",
    "\n",
    "All values above are measured at the pressure of $0.1 MPa$ at the temperature of around $25^\\circ C$.\n",
    "\n",
    "##### Additional assumptions and simplifications\n",
    "\n",
    "List of assumptions and simplifications of the model:\n",
    "\n",
    "- The thermal conductivity, density and heat capacity of water are fixed (constant) and are not dependent on the temperature. It is not quite realistic, because in the real world this property of a fluid (water) is dependent on pressure and temperature.\n",
    "- ...\n",
    "\n",
    "##### Boundary conditions\n",
    "\n",
    "List of boundary conditions that my model uses:\n",
    "\n",
    "1. Left boundary condition, for example, for $\\psi(0, t)$:\n",
    "\n",
    "    $$\n",
    "    \\psi(x, t) = \\psi_L(t) = T_o \\qquad (t \\ge 0; x \\le 0)\n",
    "    $$\n",
    "\n",
    "2. Right boundary condition, for example, for $\\psi(1, t)$:\n",
    "\n",
    "    $$\n",
    "    \\psi(x, t) = \\psi_R(t) = T_i \\qquad (t \\ge 0; x \\ge 1)\n",
    "    $$\n",
    "\n",
    "The values of $T_o$ and $T_i$ are constant in time and space, and for my example are equal to $T_o = 50^\\circ C$, $T_i = 0^\\circ C$.\n",
    "\n",
    "##### Initial conditions\n",
    "\n",
    "List of initial conditions that my model uses:\n",
    "\n",
    "$$\n",
    "\\psi(x, 0) = \\psi_0(x) = T_i \\qquad (0 \\le x \\le 1)\n",
    "$$"
   ],
   "id": "de3e179516958361"
  },
  {
   "metadata": {},
   "cell_type": "markdown",
   "source": [
    "### Analytical solution\n",
    "\n",
    "Here I present what the proof of the analytical solution to the advection-diffusion equation looks like. Since I have never had a differential equation course, I followed and argument with Martin Blunt from one of his YT videos. I have tried to add as much as possible from my side to give value and learn how the proof works. Hence, References at the bottom :)\n",
    "\n",
    "1. Copy of the initial equation listed above (just moved the $\\mu \\frac{\\partial ^ 2 \\psi}{\\partial^2 x}$ to the RHS):\n",
    "\n",
    "    $$\n",
    "    \\frac{\\partial \\psi}{\\partial t} + u \\frac{\\partial \\psi}{\\partial x} = \\mu \\frac{\\partial ^ 2 \\psi}{\\partial^2 x}\n",
    "    $$\n",
    "\n",
    "2. Firstly, let's consider substituting (transforming) the variables in the above PDE, so instead of $x$ and $t$ we have $z$ and $t$, where $z$ is given by:\n",
    "\n",
    "    $$\n",
    "    z = x - ut\n",
    "    $$\n",
    "\n",
    "3. This substitution changes the $\\frac{\\partial \\psi}{\\partial x}$ term as follows (notice that $\\frac{\\partial z}{\\partial x} = 1$, because the $t$ and $u$ is constant of $x$):\n",
    "\n",
    "    $$\n",
    "    \\frac{\\partial \\psi}{\\partial x} = \\frac{\\partial \\psi}{\\partial z} \\frac{\\partial z}{\\partial x} = \\frac{\\partial \\psi}{\\partial z} 1 = \\frac{\\partial \\psi}{\\partial z}\n",
    "    $$\n",
    "\n",
    "4. This substitution changes the $\\frac{\\partial \\psi}{\\partial t}$ term as follows (notice that $\\frac{\\partial t}{\\partial t} \\Huge \\vert_x \\normalsize = 1$ and $\\frac{\\partial z}{\\partial t} \\Huge \\vert_x \\normalsize = -u$):\n",
    "\n",
    "    $$\n",
    "    \\frac{\\partial \\psi}{\\partial t} \\Huge \\vert_x \\normalsize = \\frac{\\partial \\psi}{\\partial t} \\Huge \\vert_z \\normalsize \\frac{\\partial t}{\\partial t} \\Huge \\vert_x \\normalsize + \\frac{\\partial \\psi}{\\partial z} \\Huge \\vert_t \\normalsize \\frac{\\partial z}{\\partial t} \\Huge \\vert_x \\normalsize = \\frac{\\partial \\psi}{\\partial t} \\Huge \\vert_z \\normalsize  + \\frac{\\partial \\psi}{\\partial z} \\Huge \\vert_t \\normalsize \\frac{\\partial z}{\\partial t} \\Huge \\vert_x \\normalsize = \\frac{\\partial \\psi}{\\partial t} \\Huge \\vert_z \\normalsize - u \\frac{\\partial \\psi}{\\partial z} \\Huge \\vert_t \\normalsize\n",
    "    $$\n",
    "\n",
    "5. Applying the above substitutions to the equation at point $1$, we get the following (after simplifications we get purly diffusive equation):\n",
    "\n",
    "    $$\n",
    "    \\frac{\\partial \\psi}{\\partial t} - u \\frac{\\partial \\psi}{\\partial z} + u \\frac{\\partial \\psi}{\\partial z} = \\frac{\\partial \\psi}{\\partial t} = \\mu \\frac{\\partial ^ 2 \\psi}{\\partial^2 z}\n",
    "    $$\n",
    "\n",
    "6. Then we perform another transformation of variables so that the equation above is changed from two independent variables ($z$ and $t$) to a single variable $\\omega$, where $\\omega$ is equal to:\n",
    "\n",
    "    $$\n",
    "    \\omega = \\frac{z}{\\sqrt t}\n",
    "    $$\n",
    "\n",
    "7. This then changes the $\\frac{\\partial \\psi}{\\partial t}$ term to (notice that: $\\frac{\\partial \\omega}{\\partial t} = \\frac{-z}{2 t \\sqrt t} = \\frac{- \\omega}{2t}$):\n",
    "\n",
    "    $$\n",
    "    \\frac{\\partial \\psi}{\\partial t} = \\frac{\\mathrm{d} \\psi}{\\mathrm{d} \\omega} \\frac{\\partial \\omega}{\\partial t} = \\frac{- \\omega}{2t} \\frac{\\mathrm{d} \\psi}{\\mathrm{d} \\omega}\n",
    "    $$\n",
    "\n",
    "8. This then changes the $\\frac{\\partial \\psi}{\\partial z}$ term to (notice that: $\\frac{\\partial \\omega}{\\partial z} = \\frac{1}{\\sqrt t}$):\n",
    "\n",
    "    $$\n",
    "    \\frac{\\partial \\psi}{\\partial z} = \\frac{\\mathrm{d} \\psi}{\\mathrm{d} \\omega} \\frac{\\partial \\omega}{\\partial z} = \\frac{1}{\\sqrt t} \\frac{\\mathrm{d} \\psi}{\\mathrm{d} \\omega}\n",
    "    $$\n",
    "\n",
    "9. After the application of the above substitutions, the equation from point $5$ is (notice that: $\\frac{\\partial^2 \\psi}{\\partial^2 z} = \\frac{1}{t} \\frac{\\mathrm{d}^2 \\psi}{\\mathrm{d}^2 \\omega}$):\n",
    "\n",
    "    $$\n",
    "    \\frac{- \\omega}{2t} \\frac{\\mathrm{d} \\psi}{\\mathrm{d} \\omega} = \\frac{\\mu}{t} \\frac{\\mathrm{d}^2}{\\mathrm{d}^2 \\omega}\n",
    "    $$\n",
    "\n",
    "    $$\n",
    "    \\frac{- \\omega}{2} \\frac{\\mathrm{d} \\psi}{\\mathrm{d} \\omega} = \\mu \\frac{\\mathrm{d}^2}{\\mathrm{d}^2 \\omega}\n",
    "    $$\n",
    "\n",
    "10. We will be solving the second order differential by defining the term $y$ such that:\n",
    "\n",
    "    $$\n",
    "    y = \\frac{\\mathrm{d} \\psi}{\\mathrm{d} \\omega}\n",
    "    $$\n",
    "\n",
    "11. This means that we can rewrite the equation from the previous point as:\n",
    "\n",
    "    $$\n",
    "    \\frac{- \\omega}{2} y = \\mu \\frac{\\mathrm{d} y}{\\mathrm{d} \\omega}\n",
    "    $$\n",
    "\n",
    "    $$\n",
    "    \\frac{- \\omega}{2 \\mu} \\mathrm{d} \\omega = \\frac{\\mathrm{d} y}{y}\n",
    "    $$\n",
    "\n",
    "12. After preforming the integration, we get the following:\n",
    "\n",
    "    $$\n",
    "    \\int \\frac{- \\omega}{2 \\mu} \\mathrm{d} \\omega = \\int \\frac{\\mathrm{d} y}{y}\n",
    "    $$\n",
    "\n",
    "    $$\n",
    "    -\\frac{\\omega ^2}{4 \\mu} + C_1 = \\ln y + C_2\n",
    "    $$\n",
    "\n",
    "    $$\n",
    "    -\\frac{\\omega ^2}{4 \\mu} + C_1 - C_2 = \\ln y\n",
    "    $$\n",
    "\n",
    "    $$\n",
    "    y = e^{\\Huge (- \\frac{\\omega ^2}{4 \\mu} + C_1 - C_2)} = e^{\\Huge (- \\frac{\\omega ^2}{4 \\mu})}e^{\\Huge C_1 - C_2} = ae^{\\Huge (- \\frac{\\omega ^2}{4 \\mu})} \\qquad (a \\gt 0)\n",
    "    $$\n",
    "\n",
    "13. Now we can try to find the function $\\psi$, by finding the integral of $y$ (notice that: $erf(t) = \\frac{2}{\\sqrt \\pi} \\int_0^t e^{-s^2} \\mathrm{d} s$):\n",
    "\n",
    "    $$\n",
    "    \\psi(\\omega) = a erf(\\frac{\\omega}{2 \\sqrt \\mu}) + C_3 = a erf(\\frac{\\omega}{2 \\sqrt \\mu}) + b\n",
    "    $$\n",
    "\n",
    "14. Given that $\\lim_{x \\to \\inf} erf(x) = 1$, $\\lim_{x \\to -\\inf} erf(x) = -1$ and the boundary conditions defined as in the problem definition, we can try to find the constants $a$ and $b$, by defining the following equations:\n",
    "\n",
    "    $$\n",
    "    T_i = a + b\n",
    "    $$\n",
    "\n",
    "    $$\n",
    "    T_o = - a + b\n",
    "    $$\n",
    "\n",
    "15. Using some simple algebra, we can find that:\n",
    "\n",
    "    $$\n",
    "    a = T_i - \\frac{T_o}{2} -\\frac{T_i}{2} = \\frac{T_i - T_o}{2} = - \\frac{T_o - T_i}{2}\n",
    "    $$\n",
    "\n",
    "    $$\n",
    "    b = \\frac{T_o + T_i}{2}\n",
    "    $$\n",
    "\n",
    "16. Which finally lets us define the analytic solution as:\n",
    "\n",
    "    $$\n",
    "    \\psi(\\omega) = \\frac{T_o + T_i}{2} - \\frac{T_o - T_i}{2} erf(\\frac{\\omega}{2 \\sqrt \\mu})\n",
    "    $$\n",
    "\n",
    "    $$\n",
    "    \\psi(z, t) = \\frac{T_o + T_i}{2} - \\frac{T_o - T_i}{2} erf(\\frac{\\frac{z}{\\sqrt t}}{2 \\sqrt \\mu}) = \\frac{T_o + T_i}{2} - \\frac{T_o - T_i}{2} erf(\\frac{z}{2 \\sqrt{t \\mu}})\n",
    "    $$\n",
    "\n",
    "    $$\n",
    "    \\psi(x, t) = \\frac{T_o + T_i}{2} - \\frac{T_o - T_i}{2} erf(\\frac{x - ut}{2 \\sqrt{t\\mu}})\n",
    "    $$\n",
    "\n",
    "After that, I will implement the solution as Python functions."
   ],
   "id": "deefe39b4084f161"
  },
  {
   "metadata": {
    "ExecuteTime": {
     "end_time": "2025-04-03T19:52:23.520849Z",
     "start_time": "2025-04-03T19:52:23.516691Z"
    }
   },
   "cell_type": "code",
   "source": [
    "from typing import Callable, Final\n",
    "\n",
    "\n",
    "def create_initial_boundary_conditions[T: npt.DTypeLike](t_o: T, t_i: T) -> tuple[Callable[[T], T], Callable[[T], T], Callable[[T], T]]:\n",
    "    \"\"\"...\"\"\"\n",
    "\n",
    "    def initial_conditions(x: T) -> T:\n",
    "        \"\"\"...\"\"\"\n",
    "\n",
    "        nonlocal t_o\n",
    "        nonlocal t_i\n",
    "\n",
    "        return t_o if x <= 0 else t_i\n",
    "\n",
    "    def left_boundary_conditions(t: T) -> T:\n",
    "        \"\"\"...\"\"\"\n",
    "\n",
    "        nonlocal t_o\n",
    "\n",
    "        return t_o\n",
    "\n",
    "    def right_boundary_conditions(t: T) -> T:\n",
    "        \"\"\"...\"\"\"\n",
    "\n",
    "        nonlocal t_i\n",
    "\n",
    "        return t_i\n",
    "\n",
    "    return initial_conditions, left_boundary_conditions, right_boundary_conditions"
   ],
   "id": "fb6d282070e3a5ec",
   "outputs": [],
   "execution_count": 4
  },
  {
   "metadata": {
    "ExecuteTime": {
     "end_time": "2025-04-03T19:54:25.265151Z",
     "start_time": "2025-04-03T19:54:25.261143Z"
    }
   },
   "cell_type": "code",
   "source": [
    "def create_analytic_solution(t_o, t_i, u, mu) -> Callable:\n",
    "    \"\"\"...\"\"\"\n",
    "\n",
    "    def analytic_solution[T: npt.DTypeLike](x: npt.NDArray[T], t: npt.NDArray[T]) -> npt.NDArray[T]:\n",
    "\n",
    "        nonlocal t_o\n",
    "        nonlocal t_i\n",
    "\n",
    "        omega = (x - mu * t) / np.sqrt(t)\n",
    "\n",
    "        return (t_o + t_i - (t_o - t_i) * scipy.special.erf(omega / 2. / u)) / 2\n",
    "\n",
    "    return analytic_solution\n"
   ],
   "id": "6063c6fe5816fab8",
   "outputs": [],
   "execution_count": 28
  },
  {
   "metadata": {
    "ExecuteTime": {
     "end_time": "2025-04-03T19:54:26.130274Z",
     "start_time": "2025-04-03T19:54:26.126982Z"
    }
   },
   "cell_type": "code",
   "source": [
    "T_O: Final = np.float64(50.0)\n",
    "T_I: Final = np.float64(0.0)"
   ],
   "id": "7ef0c961d25b5b73",
   "outputs": [],
   "execution_count": 29
  },
  {
   "metadata": {
    "ExecuteTime": {
     "end_time": "2025-04-03T19:54:26.352944Z",
     "start_time": "2025-04-03T19:54:26.347923Z"
    }
   },
   "cell_type": "code",
   "source": [
    "U: Final = np.float64(10. ** -6.) * si.m / si.s\n",
    "U"
   ],
   "id": "2c4c722a6893bc43",
   "outputs": [
    {
     "data": {
      "text/plain": [
       "<Quantity(1e-06, 'meter / second')>"
      ],
      "text/html": [
       "1×10<sup>-6</sup> meter/second"
      ],
      "text/latex": "$1\\times 10^{-6}\\ \\frac{\\mathrm{meter}}{\\mathrm{second}}$"
     },
     "execution_count": 30,
     "metadata": {},
     "output_type": "execute_result"
    }
   ],
   "execution_count": 30
  },
  {
   "metadata": {
    "ExecuteTime": {
     "end_time": "2025-04-03T19:54:26.523533Z",
     "start_time": "2025-04-03T19:54:26.518657Z"
    }
   },
   "cell_type": "code",
   "source": [
    "MU: Final = np.float64(0.60719479404817 / 997.0474354081 / 4181.9000614923) * si.m * si.m / si.s\n",
    "MU"
   ],
   "id": "82974f97ea9becea",
   "outputs": [
    {
     "data": {
      "text/plain": [
       "<Quantity(1.45625882e-07, 'meter ** 2 / second')>"
      ],
      "text/html": [
       "1.4562588199667754×10<sup>-7</sup> meter<sup>2</sup>/second"
      ],
      "text/latex": "$1.4562588199667754\\times 10^{-7}\\ \\frac{\\mathrm{meter}^{2}}{\\mathrm{second}}$"
     },
     "execution_count": 31,
     "metadata": {},
     "output_type": "execute_result"
    }
   ],
   "execution_count": 31
  },
  {
   "metadata": {
    "ExecuteTime": {
     "end_time": "2025-04-03T19:54:26.738801Z",
     "start_time": "2025-04-03T19:54:26.735801Z"
    }
   },
   "cell_type": "code",
   "source": "INITIAL_CONDITIONS, LEFT_BOUNDARY_CONDITIONS, RIGHT_BOUNDARY_CONDITIONS = create_initial_boundary_conditions(T_O, T_I)",
   "id": "1168d552e1e1946",
   "outputs": [],
   "execution_count": 32
  },
  {
   "metadata": {
    "ExecuteTime": {
     "end_time": "2025-04-03T19:54:26.958624Z",
     "start_time": "2025-04-03T19:54:26.956347Z"
    }
   },
   "cell_type": "code",
   "source": "ANALYTIC_SOLUTIONS = create_analytic_solution(T_O, T_I, MU, U)",
   "id": "6c98488edbae8329",
   "outputs": [],
   "execution_count": 33
  },
  {
   "metadata": {
    "ExecuteTime": {
     "end_time": "2025-04-03T19:54:27.210777Z",
     "start_time": "2025-04-03T19:54:27.207430Z"
    }
   },
   "cell_type": "code",
   "source": "x = np.linspace(0.1, 1.1, num=100, dtype=np.float64) * si.m",
   "id": "f05bf87617bd3283",
   "outputs": [],
   "execution_count": 34
  },
  {
   "metadata": {
    "ExecuteTime": {
     "end_time": "2025-04-03T19:54:28.788467Z",
     "start_time": "2025-04-03T19:54:27.541753Z"
    }
   },
   "cell_type": "code",
   "source": "plt.plot(x, ANALYTIC_SOLUTIONS(x, 0.1 * si.s))",
   "id": "53e5fb1366cb3ca1",
   "outputs": [
    {
     "ename": "ValueError",
     "evalue": "x and y must have same first dimension, but have shapes (100,) and (1,)",
     "output_type": "error",
     "traceback": [
      "\u001B[1;31m---------------------------------------------------------------------------\u001B[0m",
      "\u001B[1;31mValueError\u001B[0m                                Traceback (most recent call last)",
      "Cell \u001B[1;32mIn[35], line 1\u001B[0m\n\u001B[1;32m----> 1\u001B[0m plt\u001B[38;5;241m.\u001B[39mplot(x, ANALYTIC_SOLUTIONS(x, \u001B[38;5;241m0.1\u001B[39m \u001B[38;5;241m*\u001B[39m si\u001B[38;5;241m.\u001B[39ms))\n",
      "File \u001B[1;32m~\\anaconda3\\envs\\MoPS\\Lib\\site-packages\\matplotlib\\pyplot.py:3827\u001B[0m, in \u001B[0;36mplot\u001B[1;34m(scalex, scaley, data, *args, **kwargs)\u001B[0m\n\u001B[0;32m   3819\u001B[0m \u001B[38;5;129m@_copy_docstring_and_deprecators\u001B[39m(Axes\u001B[38;5;241m.\u001B[39mplot)\n\u001B[0;32m   3820\u001B[0m \u001B[38;5;28;01mdef\u001B[39;00m \u001B[38;5;21mplot\u001B[39m(\n\u001B[0;32m   3821\u001B[0m     \u001B[38;5;241m*\u001B[39margs: \u001B[38;5;28mfloat\u001B[39m \u001B[38;5;241m|\u001B[39m ArrayLike \u001B[38;5;241m|\u001B[39m \u001B[38;5;28mstr\u001B[39m,\n\u001B[1;32m   (...)\u001B[0m\n\u001B[0;32m   3825\u001B[0m     \u001B[38;5;241m*\u001B[39m\u001B[38;5;241m*\u001B[39mkwargs,\n\u001B[0;32m   3826\u001B[0m ) \u001B[38;5;241m-\u001B[39m\u001B[38;5;241m>\u001B[39m \u001B[38;5;28mlist\u001B[39m[Line2D]:\n\u001B[1;32m-> 3827\u001B[0m     \u001B[38;5;28;01mreturn\u001B[39;00m gca()\u001B[38;5;241m.\u001B[39mplot(\n\u001B[0;32m   3828\u001B[0m         \u001B[38;5;241m*\u001B[39margs,\n\u001B[0;32m   3829\u001B[0m         scalex\u001B[38;5;241m=\u001B[39mscalex,\n\u001B[0;32m   3830\u001B[0m         scaley\u001B[38;5;241m=\u001B[39mscaley,\n\u001B[0;32m   3831\u001B[0m         \u001B[38;5;241m*\u001B[39m\u001B[38;5;241m*\u001B[39m({\u001B[38;5;124m\"\u001B[39m\u001B[38;5;124mdata\u001B[39m\u001B[38;5;124m\"\u001B[39m: data} \u001B[38;5;28;01mif\u001B[39;00m data \u001B[38;5;129;01mis\u001B[39;00m \u001B[38;5;129;01mnot\u001B[39;00m \u001B[38;5;28;01mNone\u001B[39;00m \u001B[38;5;28;01melse\u001B[39;00m {}),\n\u001B[0;32m   3832\u001B[0m         \u001B[38;5;241m*\u001B[39m\u001B[38;5;241m*\u001B[39mkwargs,\n\u001B[0;32m   3833\u001B[0m     )\n",
      "File \u001B[1;32m~\\anaconda3\\envs\\MoPS\\Lib\\site-packages\\matplotlib\\axes\\_axes.py:1777\u001B[0m, in \u001B[0;36mAxes.plot\u001B[1;34m(self, scalex, scaley, data, *args, **kwargs)\u001B[0m\n\u001B[0;32m   1534\u001B[0m \u001B[38;5;250m\u001B[39m\u001B[38;5;124;03m\"\"\"\u001B[39;00m\n\u001B[0;32m   1535\u001B[0m \u001B[38;5;124;03mPlot y versus x as lines and/or markers.\u001B[39;00m\n\u001B[0;32m   1536\u001B[0m \n\u001B[1;32m   (...)\u001B[0m\n\u001B[0;32m   1774\u001B[0m \u001B[38;5;124;03m(``'green'``) or hex strings (``'#008000'``).\u001B[39;00m\n\u001B[0;32m   1775\u001B[0m \u001B[38;5;124;03m\"\"\"\u001B[39;00m\n\u001B[0;32m   1776\u001B[0m kwargs \u001B[38;5;241m=\u001B[39m cbook\u001B[38;5;241m.\u001B[39mnormalize_kwargs(kwargs, mlines\u001B[38;5;241m.\u001B[39mLine2D)\n\u001B[1;32m-> 1777\u001B[0m lines \u001B[38;5;241m=\u001B[39m [\u001B[38;5;241m*\u001B[39m\u001B[38;5;28mself\u001B[39m\u001B[38;5;241m.\u001B[39m_get_lines(\u001B[38;5;28mself\u001B[39m, \u001B[38;5;241m*\u001B[39margs, data\u001B[38;5;241m=\u001B[39mdata, \u001B[38;5;241m*\u001B[39m\u001B[38;5;241m*\u001B[39mkwargs)]\n\u001B[0;32m   1778\u001B[0m \u001B[38;5;28;01mfor\u001B[39;00m line \u001B[38;5;129;01min\u001B[39;00m lines:\n\u001B[0;32m   1779\u001B[0m     \u001B[38;5;28mself\u001B[39m\u001B[38;5;241m.\u001B[39madd_line(line)\n",
      "File \u001B[1;32m~\\anaconda3\\envs\\MoPS\\Lib\\site-packages\\matplotlib\\axes\\_base.py:297\u001B[0m, in \u001B[0;36m_process_plot_var_args.__call__\u001B[1;34m(self, axes, data, return_kwargs, *args, **kwargs)\u001B[0m\n\u001B[0;32m    295\u001B[0m     this \u001B[38;5;241m+\u001B[39m\u001B[38;5;241m=\u001B[39m args[\u001B[38;5;241m0\u001B[39m],\n\u001B[0;32m    296\u001B[0m     args \u001B[38;5;241m=\u001B[39m args[\u001B[38;5;241m1\u001B[39m:]\n\u001B[1;32m--> 297\u001B[0m \u001B[38;5;28;01myield from\u001B[39;00m \u001B[38;5;28mself\u001B[39m\u001B[38;5;241m.\u001B[39m_plot_args(\n\u001B[0;32m    298\u001B[0m     axes, this, kwargs, ambiguous_fmt_datakey\u001B[38;5;241m=\u001B[39mambiguous_fmt_datakey,\n\u001B[0;32m    299\u001B[0m     return_kwargs\u001B[38;5;241m=\u001B[39mreturn_kwargs\n\u001B[0;32m    300\u001B[0m )\n",
      "File \u001B[1;32m~\\anaconda3\\envs\\MoPS\\Lib\\site-packages\\matplotlib\\axes\\_base.py:494\u001B[0m, in \u001B[0;36m_process_plot_var_args._plot_args\u001B[1;34m(self, axes, tup, kwargs, return_kwargs, ambiguous_fmt_datakey)\u001B[0m\n\u001B[0;32m    491\u001B[0m     axes\u001B[38;5;241m.\u001B[39myaxis\u001B[38;5;241m.\u001B[39mupdate_units(y)\n\u001B[0;32m    493\u001B[0m \u001B[38;5;28;01mif\u001B[39;00m x\u001B[38;5;241m.\u001B[39mshape[\u001B[38;5;241m0\u001B[39m] \u001B[38;5;241m!=\u001B[39m y\u001B[38;5;241m.\u001B[39mshape[\u001B[38;5;241m0\u001B[39m]:\n\u001B[1;32m--> 494\u001B[0m     \u001B[38;5;28;01mraise\u001B[39;00m \u001B[38;5;167;01mValueError\u001B[39;00m(\u001B[38;5;124mf\u001B[39m\u001B[38;5;124m\"\u001B[39m\u001B[38;5;124mx and y must have same first dimension, but \u001B[39m\u001B[38;5;124m\"\u001B[39m\n\u001B[0;32m    495\u001B[0m                      \u001B[38;5;124mf\u001B[39m\u001B[38;5;124m\"\u001B[39m\u001B[38;5;124mhave shapes \u001B[39m\u001B[38;5;132;01m{\u001B[39;00mx\u001B[38;5;241m.\u001B[39mshape\u001B[38;5;132;01m}\u001B[39;00m\u001B[38;5;124m and \u001B[39m\u001B[38;5;132;01m{\u001B[39;00my\u001B[38;5;241m.\u001B[39mshape\u001B[38;5;132;01m}\u001B[39;00m\u001B[38;5;124m\"\u001B[39m)\n\u001B[0;32m    496\u001B[0m \u001B[38;5;28;01mif\u001B[39;00m x\u001B[38;5;241m.\u001B[39mndim \u001B[38;5;241m>\u001B[39m \u001B[38;5;241m2\u001B[39m \u001B[38;5;129;01mor\u001B[39;00m y\u001B[38;5;241m.\u001B[39mndim \u001B[38;5;241m>\u001B[39m \u001B[38;5;241m2\u001B[39m:\n\u001B[0;32m    497\u001B[0m     \u001B[38;5;28;01mraise\u001B[39;00m \u001B[38;5;167;01mValueError\u001B[39;00m(\u001B[38;5;124mf\u001B[39m\u001B[38;5;124m\"\u001B[39m\u001B[38;5;124mx and y can be no greater than 2D, but have \u001B[39m\u001B[38;5;124m\"\u001B[39m\n\u001B[0;32m    498\u001B[0m                      \u001B[38;5;124mf\u001B[39m\u001B[38;5;124m\"\u001B[39m\u001B[38;5;124mshapes \u001B[39m\u001B[38;5;132;01m{\u001B[39;00mx\u001B[38;5;241m.\u001B[39mshape\u001B[38;5;132;01m}\u001B[39;00m\u001B[38;5;124m and \u001B[39m\u001B[38;5;132;01m{\u001B[39;00my\u001B[38;5;241m.\u001B[39mshape\u001B[38;5;132;01m}\u001B[39;00m\u001B[38;5;124m\"\u001B[39m)\n",
      "\u001B[1;31mValueError\u001B[0m: x and y must have same first dimension, but have shapes (100,) and (1,)"
     ]
    },
    {
     "data": {
      "text/plain": [
       "<Figure size 640x480 with 1 Axes>"
      ],
      "image/png": "[encoded data removed]"
     },
     "metadata": {},
     "output_type": "display_data"
    }
   ],
   "execution_count": 35
  },
  {
   "metadata": {},
   "cell_type": "markdown",
   "source": [
    "### Numerical solution\n",
    "\n"
   ],
   "id": "5d768e82949958be"
  },
  {
   "metadata": {},
   "cell_type": "code",
   "source": [
    "def numerical_solution():\n",
    "    pass"
   ],
   "id": "df83c94274a3c57e",
   "outputs": [],
   "execution_count": null
  },
  {
   "metadata": {},
   "cell_type": "markdown",
   "source": [
    "### Comparison of analytic and numerical solutions\n",
    "\n",
    "##### Quantitative measure"
   ],
   "id": "b09f8dda3d05d1ee"
  },
  {
   "metadata": {},
   "cell_type": "code",
   "source": "",
   "id": "7c0836fa4004fc04",
   "outputs": [],
   "execution_count": null
  },
  {
   "metadata": {},
   "cell_type": "markdown",
   "source": "##### Plot creation",
   "id": "3d317c9ba7723f45"
  },
  {
   "metadata": {},
   "cell_type": "code",
   "source": "",
   "id": "6feebce44405d611",
   "outputs": [],
   "execution_count": null
  },
  {
   "metadata": {},
   "cell_type": "markdown",
   "source": [
    "### Literature & Learning materials\n",
    "\n",
    "Here I present the literature\n",
    "\n",
    "- [YT: \"Explicit Upwind Finite Difference Solution to the Advection Equation\" by Caspar Hewett](https://www.youtube.com/watch?v=drCdGxSG3Ec)\n",
    "- [YT: \"Implicit Upwind Finite Difference Solution to the Advection Equation\" by Caspar Hewett](https://www.youtube.com/watch?v=CCY3ywCuGBI)\n",
    "- [YT: \"Finite Difference Schemes for Advection and Diffusion\" by Caspar Hewett](https://www.youtube.com/watch?v=UM0o0ToluY8)\n",
    "- [YT: \"Stability & Accuracy of Numerical Schemes (2024)\" by Caspar Hewett](https://www.youtube.com/watch?v=3ufzXpsxShU)\n",
    "- [Link: \"RÓWNANIA RÓŻNICZKOWE (A1) Skrypt dla studentów\" by Andrzej Raczyński](https://www.math.uni.wroc.pl/sites/default/files/skrypt_rr1.pdf)\n",
    "- [Book: \"Analiza Numeryczna\" by David Kincaid, Ward Cheney, isbn: 83-204-3078-X](https://www.impan.pl/~szczep/AMM1/Kincaid.pdf)\n",
    "- [YT: \"Advection diffusion equations\" by Martin Blunt](https://www.youtube.com/watch?v=l_-YAEBXK1k)\n",
    "- [YT: \"Advection diffusion equation\" by Martin Blunt](https://www.youtube.com/watch?v=MsTglR6Kqpg)\n",
    "- [YT: \"One dimensional advection diffusion equations\" by Martin Blunt](https://www.youtube.com/watch?v=Jr3aOildCCA)\n",
    "- [YT: \"Molecular diffusion and Fick's law\" by Martin Blunt](https://www.youtube.com/watch?v=Iaq9znRsusk)\n",
    "- [Article: \"Analytical solution of the advection–diffusion transport equation using a change-of-variable and integral transform technique\" by J.S. Pérez Guerrero, L.C.G. Pimentel, T.H.Skaggs, M. Th.van Genuchten](https://doi.org/10.1016/j.ijheatmasstransfer.2009.02.002)\n",
    "- [Article: \"New International Formulation for the Thermal Conductivity of H2O\" by M. L. Huber; R. A. Perkins; D. G. Friend; J. V. Sengers; M. J. Assael; I. N. Metaxa; K. Miyagawa; R. Hellmann; E. Vogel](https://doi.org/10.1063/1.4738955)\n",
    "- [WebPage: CalcSteam by Berndt Wischnewski Richard-Wagner](https://www.peacesoftware.de/einigewerte/wasser_dampf_e.html)"
   ],
   "id": "c0a470db8a0d751a"
  }
 ],
 "metadata": {
  "kernelspec": {
   "display_name": "Python 3",
   "language": "python",
   "name": "python3"
  },
  "language_info": {
   "codemirror_mode": {
    "name": "ipython",
    "version": 2
   },
   "file_extension": ".py",
   "mimetype": "text/x-python",
   "name": "python",
   "nbconvert_exporter": "python",
   "pygments_lexer": "ipython2",
   "version": "2.7.6"
  }
 },
 "nbformat": 4,
 "nbformat_minor": 5
}
