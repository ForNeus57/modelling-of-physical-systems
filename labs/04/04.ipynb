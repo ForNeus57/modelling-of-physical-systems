{
 "cells": [
  {
   "metadata": {},
   "cell_type": "markdown",
   "source": [
    "# LAB 04 Assigment\n",
    "\n",
    "Dominik Breksa (dominikbreksa@student.agh.edu.pl)"
   ],
   "id": "150544eaa2f4182c"
  },
  {
   "metadata": {},
   "cell_type": "markdown",
   "source": "### Imports of libraries and packages",
   "id": "3191793c1e69540e"
  },
  {
   "cell_type": "code",
   "id": "initial_id",
   "metadata": {
    "collapsed": true,
    "ExecuteTime": {
     "end_time": "2025-04-03T20:19:11.389254Z",
     "start_time": "2025-04-03T20:19:10.696835Z"
    }
   },
   "source": [
    "import numpy as np\n",
    "import numpy.typing as npt\n",
    "import scipy\n",
    "import pint\n",
    "import open_atmos_jupyter_utils\n",
    "from matplotlib import pyplot as plt\n",
    "\n",
    "plt.rcParams['axes.grid'] = True"
   ],
   "outputs": [],
   "execution_count": 1
  },
  {
   "metadata": {
    "ExecuteTime": {
     "end_time": "2025-04-03T20:19:11.521391Z",
     "start_time": "2025-04-03T20:19:11.400263Z"
    }
   },
   "cell_type": "code",
   "source": [
    "si = pint.UnitRegistry()\n",
    "si.setup_matplotlib()\n",
    "si"
   ],
   "id": "e1585f484a71f450",
   "outputs": [
    {
     "data": {
      "text/plain": [
       "<pint.registry.UnitRegistry at 0x2cb6d62d580>"
      ]
     },
     "execution_count": 2,
     "metadata": {},
     "output_type": "execute_result"
    }
   ],
   "execution_count": 2
  },
  {
   "metadata": {},
   "cell_type": "markdown",
   "source": [
    "### Physical Problem Definition\n",
    "\n",
    "The physical problem, that I will model today is the temperature of the fluid (water) with convective and conductive heat transfer in one-dimensional spacial domain. Since the problem is one-dimensional, the computational domain will look like:\n",
    "\n",
    "......................\n",
    "\n",
    "To solve this problem, I will use the advection-diffusion parabolic partial differential equation (also called in our case simplified convection-conduction equation) ...\n",
    "\n",
    "$$\n",
    "\\frac{\\partial \\psi}{\\partial t} + u \\frac{\\partial \\psi}{\\partial x} - \\mu \\frac{\\partial ^ 2 \\psi}{\\partial^2 x} = 0\n",
    "$$\n",
    "\n",
    "where,\n",
    "\n",
    "- $t$ - time in seconds $[s]$,\n",
    "- $x$ - spacial ...\n",
    "- $\\psi(x, t)$ - It is the function of temperature at a given point in one-dimensional space and time $[K]$,\n",
    "- $u$ - Convection coefficient $[\\frac{m}{s}]$,\n",
    "- $\\mu$ - Conduction coefficient $[\\frac{m^2}{s}]$,\n",
    "- $u \\frac{\\partial \\psi}{\\partial x}$ - Transport of heat by convection,\n",
    "- $- \\mu \\frac{\\partial ^ 2 \\psi}{\\partial^2 x}$ - Diffusive term which in our case is heat conduction.\n",
    "\n",
    "and,\n",
    "\n",
    "Conduction coefficient ($\\mu$ term) is given by the following equation:\n",
    "\n",
    "$$\n",
    "\\mu = \\frac{K_w}{\\rho_w c_w}\n",
    "$$\n",
    "\n",
    "$$\n",
    "[\\frac{W}{m K}\\frac{1}{\\frac{kg}{m^3}}\\frac{1}{\\frac{J}{kg K}} = \\frac{W}{m K}\\frac{m^3}{kg}\\frac{kg K}{J} = \\frac{W m^2}{J} = \\frac{m^2}{s}]\n",
    "$$\n",
    "\n",
    "where,\n",
    "\n",
    "- $K_w$ - is the thermal conductivity of water equal to: $0.60719479404817 [\\frac{W}{m K}]$,\n",
    "- $\\rho_w$ - is the density of water equal to: $997.0474354081 [\\frac{kg}{m^3}]$,\n",
    "- $c_w$ - is the heat capacity of water at constant pressure equal to: $4181.9000614923 [\\frac{J}{kg K}]$.\n",
    "\n",
    "All values above are measured at the pressure of $0.1 MPa$ at the temperature of around $25^\\circ C$.\n",
    "\n",
    "##### Additional assumptions and simplifications\n",
    "\n",
    "List of assumptions and simplifications of the model:\n",
    "\n",
    "- The thermal conductivity, density and heat capacity of water are fixed (constant) and are not dependent on the temperature. It is not quite realistic, because in the real world this property of a fluid (water) is dependent on pressure and temperature.\n",
    "- ...\n",
    "\n",
    "##### Boundary conditions\n",
    "\n",
    "List of boundary conditions that my model uses:\n",
    "\n",
    "1. Left boundary condition, for example, for $\\psi(0, t)$:\n",
    "\n",
    "    $$\n",
    "    \\psi(x, t) = \\psi_L(t) = T_o \\qquad (t \\ge 0; x \\le 0)\n",
    "    $$\n",
    "\n",
    "2. Right boundary condition, for example, for $\\psi(1, t)$:\n",
    "\n",
    "    $$\n",
    "    \\psi(x, t) = \\psi_R(t) = T_i \\qquad (t \\ge 0; x \\ge 1)\n",
    "    $$\n",
    "\n",
    "The values of $T_o$ and $T_i$ are constant in time and space, and for my example are equal to $T_o = 50^\\circ C$, $T_i = 0^\\circ C$.\n",
    "\n",
    "##### Initial conditions\n",
    "\n",
    "List of initial conditions that my model uses:\n",
    "\n",
    "$$\n",
    "\\psi(x, 0) = \\psi_0(x) = T_i \\qquad (0 \\le x \\le 1)\n",
    "$$"
   ],
   "id": "de3e179516958361"
  },
  {
   "metadata": {},
   "cell_type": "markdown",
   "source": [
    "### Analytical solution\n",
    "\n",
    "Here I present what the proof of the analytical solution to the advection-diffusion equation looks like. Since I have never had a differential equation course, I followed and argument with Martin Blunt from one of his YT videos. I have tried to add as much as possible from my side to give value and learn how the proof works. Hence, References at the bottom :)\n",
    "\n",
    "1. Copy of the initial equation listed above (just moved the $\\mu \\frac{\\partial ^ 2 \\psi}{\\partial^2 x}$ to the RHS):\n",
    "\n",
    "    $$\n",
    "    \\frac{\\partial \\psi}{\\partial t} + u \\frac{\\partial \\psi}{\\partial x} = \\mu \\frac{\\partial ^ 2 \\psi}{\\partial^2 x}\n",
    "    $$\n",
    "\n",
    "2. Firstly, let's consider substituting (transforming) the variables in the above PDE, so instead of $x$ and $t$ we have $z$ and $t$, where $z$ is given by:\n",
    "\n",
    "    $$\n",
    "    z = x - ut\n",
    "    $$\n",
    "\n",
    "3. This substitution changes the $\\frac{\\partial \\psi}{\\partial x}$ term as follows (notice that $\\frac{\\partial z}{\\partial x} = 1$, because the $t$ and $u$ is constant of $x$):\n",
    "\n",
    "    $$\n",
    "    \\frac{\\partial \\psi}{\\partial x} = \\frac{\\partial \\psi}{\\partial z} \\frac{\\partial z}{\\partial x} = \\frac{\\partial \\psi}{\\partial z} 1 = \\frac{\\partial \\psi}{\\partial z}\n",
    "    $$\n",
    "\n",
    "4. This substitution changes the $\\frac{\\partial \\psi}{\\partial t}$ term as follows (notice that $\\frac{\\partial t}{\\partial t} \\Huge \\vert_x \\normalsize = 1$ and $\\frac{\\partial z}{\\partial t} \\Huge \\vert_x \\normalsize = -u$):\n",
    "\n",
    "    $$\n",
    "    \\frac{\\partial \\psi}{\\partial t} \\Huge \\vert_x \\normalsize = \\frac{\\partial \\psi}{\\partial t} \\Huge \\vert_z \\normalsize \\frac{\\partial t}{\\partial t} \\Huge \\vert_x \\normalsize + \\frac{\\partial \\psi}{\\partial z} \\Huge \\vert_t \\normalsize \\frac{\\partial z}{\\partial t} \\Huge \\vert_x \\normalsize = \\frac{\\partial \\psi}{\\partial t} \\Huge \\vert_z \\normalsize  + \\frac{\\partial \\psi}{\\partial z} \\Huge \\vert_t \\normalsize \\frac{\\partial z}{\\partial t} \\Huge \\vert_x \\normalsize = \\frac{\\partial \\psi}{\\partial t} \\Huge \\vert_z \\normalsize - u \\frac{\\partial \\psi}{\\partial z} \\Huge \\vert_t \\normalsize\n",
    "    $$\n",
    "\n",
    "5. Applying the above substitutions to the equation at point $1$, we get the following (after simplifications we get purly diffusive equation):\n",
    "\n",
    "    $$\n",
    "    \\frac{\\partial \\psi}{\\partial t} - u \\frac{\\partial \\psi}{\\partial z} + u \\frac{\\partial \\psi}{\\partial z} = \\frac{\\partial \\psi}{\\partial t} = \\mu \\frac{\\partial ^ 2 \\psi}{\\partial^2 z}\n",
    "    $$\n",
    "\n",
    "6. Then we perform another transformation of variables so that the equation above is changed from two independent variables ($z$ and $t$) to a single variable $\\omega$, where $\\omega$ is equal to:\n",
    "\n",
    "    $$\n",
    "    \\omega = \\frac{z}{\\sqrt t}\n",
    "    $$\n",
    "\n",
    "7. This then changes the $\\frac{\\partial \\psi}{\\partial t}$ term to (notice that: $\\frac{\\partial \\omega}{\\partial t} = \\frac{-z}{2 t \\sqrt t} = \\frac{- \\omega}{2t}$):\n",
    "\n",
    "    $$\n",
    "    \\frac{\\partial \\psi}{\\partial t} = \\frac{\\mathrm{d} \\psi}{\\mathrm{d} \\omega} \\frac{\\partial \\omega}{\\partial t} = \\frac{- \\omega}{2t} \\frac{\\mathrm{d} \\psi}{\\mathrm{d} \\omega}\n",
    "    $$\n",
    "\n",
    "8. This then changes the $\\frac{\\partial \\psi}{\\partial z}$ term to (notice that: $\\frac{\\partial \\omega}{\\partial z} = \\frac{1}{\\sqrt t}$):\n",
    "\n",
    "    $$\n",
    "    \\frac{\\partial \\psi}{\\partial z} = \\frac{\\mathrm{d} \\psi}{\\mathrm{d} \\omega} \\frac{\\partial \\omega}{\\partial z} = \\frac{1}{\\sqrt t} \\frac{\\mathrm{d} \\psi}{\\mathrm{d} \\omega}\n",
    "    $$\n",
    "\n",
    "9. After the application of the above substitutions, the equation from point $5$ is (notice that: $\\frac{\\partial^2 \\psi}{\\partial^2 z} = \\frac{1}{t} \\frac{\\mathrm{d}^2 \\psi}{\\mathrm{d}^2 \\omega}$):\n",
    "\n",
    "    $$\n",
    "    \\frac{- \\omega}{2t} \\frac{\\mathrm{d} \\psi}{\\mathrm{d} \\omega} = \\frac{\\mu}{t} \\frac{\\mathrm{d}^2}{\\mathrm{d}^2 \\omega}\n",
    "    $$\n",
    "\n",
    "    $$\n",
    "    \\frac{- \\omega}{2} \\frac{\\mathrm{d} \\psi}{\\mathrm{d} \\omega} = \\mu \\frac{\\mathrm{d}^2}{\\mathrm{d}^2 \\omega}\n",
    "    $$\n",
    "\n",
    "10. We will be solving the second order differential by defining the term $y$ such that:\n",
    "\n",
    "    $$\n",
    "    y = \\frac{\\mathrm{d} \\psi}{\\mathrm{d} \\omega}\n",
    "    $$\n",
    "\n",
    "11. This means that we can rewrite the equation from the previous point as:\n",
    "\n",
    "    $$\n",
    "    \\frac{- \\omega}{2} y = \\mu \\frac{\\mathrm{d} y}{\\mathrm{d} \\omega}\n",
    "    $$\n",
    "\n",
    "    $$\n",
    "    \\frac{- \\omega}{2 \\mu} \\mathrm{d} \\omega = \\frac{\\mathrm{d} y}{y}\n",
    "    $$\n",
    "\n",
    "12. After preforming the integration, we get the following:\n",
    "\n",
    "    $$\n",
    "    \\int \\frac{- \\omega}{2 \\mu} \\mathrm{d} \\omega = \\int \\frac{\\mathrm{d} y}{y}\n",
    "    $$\n",
    "\n",
    "    $$\n",
    "    -\\frac{\\omega ^2}{4 \\mu} + C_1 = \\ln y + C_2\n",
    "    $$\n",
    "\n",
    "    $$\n",
    "    -\\frac{\\omega ^2}{4 \\mu} + C_1 - C_2 = \\ln y\n",
    "    $$\n",
    "\n",
    "    $$\n",
    "    y = e^{\\Huge (- \\frac{\\omega ^2}{4 \\mu} + C_1 - C_2)} = e^{\\Huge (- \\frac{\\omega ^2}{4 \\mu})}e^{\\Huge C_1 - C_2} = ae^{\\Huge (- \\frac{\\omega ^2}{4 \\mu})} \\qquad (a \\gt 0)\n",
    "    $$\n",
    "\n",
    "13. Now we can try to find the function $\\psi$, by finding the integral of $y$ (notice that: $erf(t) = \\frac{2}{\\sqrt \\pi} \\int_0^t e^{-s^2} \\mathrm{d} s$):\n",
    "\n",
    "    $$\n",
    "    \\psi(\\omega) = a erf(\\frac{\\omega}{2 \\sqrt \\mu}) + C_3 = a erf(\\frac{\\omega}{2 \\sqrt \\mu}) + b\n",
    "    $$\n",
    "\n",
    "14. Given that $\\lim_{x \\to \\inf} erf(x) = 1$, $\\lim_{x \\to -\\inf} erf(x) = -1$ and the boundary conditions defined as in the problem definition, we can try to find the constants $a$ and $b$, by defining the following equations:\n",
    "\n",
    "    $$\n",
    "    T_i = a + b\n",
    "    $$\n",
    "\n",
    "    $$\n",
    "    T_o = - a + b\n",
    "    $$\n",
    "\n",
    "15. Using some simple algebra, we can find that:\n",
    "\n",
    "    $$\n",
    "    a = T_i - \\frac{T_o}{2} -\\frac{T_i}{2} = \\frac{T_i - T_o}{2} = - \\frac{T_o - T_i}{2}\n",
    "    $$\n",
    "\n",
    "    $$\n",
    "    b = \\frac{T_o + T_i}{2}\n",
    "    $$\n",
    "\n",
    "16. Which finally lets us define the analytic solution as:\n",
    "\n",
    "    $$\n",
    "    \\psi(\\omega) = \\frac{T_o + T_i}{2} - \\frac{T_o - T_i}{2} erf(\\frac{\\omega}{2 \\sqrt \\mu})\n",
    "    $$\n",
    "\n",
    "    $$\n",
    "    \\psi(z, t) = \\frac{T_o + T_i}{2} - \\frac{T_o - T_i}{2} erf(\\frac{\\frac{z}{\\sqrt t}}{2 \\sqrt \\mu}) = \\frac{T_o + T_i}{2} - \\frac{T_o - T_i}{2} erf(\\frac{z}{2 \\sqrt{t \\mu}})\n",
    "    $$\n",
    "\n",
    "    $$\n",
    "    \\psi(x, t) = \\frac{T_o + T_i}{2} - \\frac{T_o - T_i}{2} erf(\\frac{x - ut}{2 \\sqrt{t\\mu}})\n",
    "    $$\n",
    "\n",
    "After that, I will implement the solution as Python functions."
   ],
   "id": "deefe39b4084f161"
  },
  {
   "metadata": {
    "ExecuteTime": {
     "end_time": "2025-04-03T20:19:11.624103Z",
     "start_time": "2025-04-03T20:19:11.619397Z"
    }
   },
   "cell_type": "code",
   "source": [
    "from typing import Callable, Final\n",
    "\n",
    "\n",
    "def create_initial_boundary_conditions[T: npt.DTypeLike](t_o: T, t_i: T) -> tuple[Callable[[T], T], Callable[[T], T], Callable[[T], T]]:\n",
    "    \"\"\"...\"\"\"\n",
    "\n",
    "    def initial_conditions(x: T) -> T:\n",
    "        \"\"\"...\"\"\"\n",
    "\n",
    "        nonlocal t_o\n",
    "        nonlocal t_i\n",
    "\n",
    "        return t_o if x <= 0 else t_i\n",
    "\n",
    "    def left_boundary_conditions(t: T) -> T:\n",
    "        \"\"\"...\"\"\"\n",
    "\n",
    "        nonlocal t_o\n",
    "\n",
    "        return t_o\n",
    "\n",
    "    def right_boundary_conditions(t: T) -> T:\n",
    "        \"\"\"...\"\"\"\n",
    "\n",
    "        nonlocal t_i\n",
    "\n",
    "        return t_i\n",
    "\n",
    "    return initial_conditions, left_boundary_conditions, right_boundary_conditions"
   ],
   "id": "fb6d282070e3a5ec",
   "outputs": [],
   "execution_count": 3
  },
  {
   "metadata": {
    "ExecuteTime": {
     "end_time": "2025-04-03T20:19:11.632385Z",
     "start_time": "2025-04-03T20:19:11.629491Z"
    }
   },
   "cell_type": "code",
   "source": [
    "def create_analytic_solution(t_o, t_i, u, mu) -> Callable:\n",
    "    \"\"\"...\"\"\"\n",
    "\n",
    "    def analytic_solution[T: npt.DTypeLike](x: npt.NDArray[T], t: npt.NDArray[T]) -> npt.NDArray[T]:\n",
    "\n",
    "        nonlocal t_o\n",
    "        nonlocal t_i\n",
    "\n",
    "        omega = (x - mu * t) / np.sqrt(t)\n",
    "\n",
    "        # pint 'Quantity' class with 'scipy.special.erf(...)' function does not work :) Valve please fix!\n",
    "        return (t_o + t_i - (t_o - t_i) * scipy.special.erf((omega / 2. / u).magnitude)) / 2\n",
    "\n",
    "    return analytic_solution\n"
   ],
   "id": "6063c6fe5816fab8",
   "outputs": [],
   "execution_count": 4
  },
  {
   "metadata": {
    "ExecuteTime": {
     "end_time": "2025-04-03T20:19:11.712980Z",
     "start_time": "2025-04-03T20:19:11.637617Z"
    }
   },
   "cell_type": "code",
   "source": [
    "T_O: Final = np.float64(50.0 + scipy.constants.zero_Celsius) * si.K\n",
    "T_I: Final = np.float64(0.0 + scipy.constants.zero_Celsius) * si.K"
   ],
   "id": "7ef0c961d25b5b73",
   "outputs": [],
   "execution_count": 5
  },
  {
   "metadata": {
    "ExecuteTime": {
     "end_time": "2025-04-03T20:19:11.732110Z",
     "start_time": "2025-04-03T20:19:11.727288Z"
    }
   },
   "cell_type": "code",
   "source": [
    "U: Final = np.float64(10. ** -6.) * si.m / si.s\n",
    "U"
   ],
   "id": "2c4c722a6893bc43",
   "outputs": [
    {
     "data": {
      "text/plain": [
       "<Quantity(1e-06, 'meter / second')>"
      ],
      "text/html": [
       "1×10<sup>-6</sup> meter/second"
      ],
      "text/latex": "$1\\times 10^{-6}\\ \\frac{\\mathrm{meter}}{\\mathrm{second}}$"
     },
     "execution_count": 6,
     "metadata": {},
     "output_type": "execute_result"
    }
   ],
   "execution_count": 6
  },
  {
   "metadata": {
    "ExecuteTime": {
     "end_time": "2025-04-03T20:19:11.741466Z",
     "start_time": "2025-04-03T20:19:11.737643Z"
    }
   },
   "cell_type": "code",
   "source": [
    "MU: Final = np.float64(0.60719479404817 / 997.0474354081 / 4181.9000614923) * si.m * si.m / si.s\n",
    "MU"
   ],
   "id": "82974f97ea9becea",
   "outputs": [
    {
     "data": {
      "text/plain": [
       "<Quantity(1.45625882e-07, 'meter ** 2 / second')>"
      ],
      "text/html": [
       "1.4562588199667754×10<sup>-7</sup> meter<sup>2</sup>/second"
      ],
      "text/latex": "$1.4562588199667754\\times 10^{-7}\\ \\frac{\\mathrm{meter}^{2}}{\\mathrm{second}}$"
     },
     "execution_count": 7,
     "metadata": {},
     "output_type": "execute_result"
    }
   ],
   "execution_count": 7
  },
  {
   "metadata": {},
   "cell_type": "markdown",
   "source": "Since The analytic solution function with realworld values of $u$ and $\\mu$ is no fun, because it looks very similar to very slow moving to the left initial conditions (rectangle function). I propose to introduce new constant $u_{10000}$ and $\\mu_{10000}$ that are just the same constants, but are 10,000 times greater (the time does not need to be absurd :)).",
   "id": "97716709cbf2ebc4"
  },
  {
   "metadata": {
    "ExecuteTime": {
     "end_time": "2025-04-03T20:19:11.772021Z",
     "start_time": "2025-04-03T20:19:11.767600Z"
    }
   },
   "cell_type": "code",
   "source": [
    "U_10000: Final = U * 10 ** 5\n",
    "U_10000"
   ],
   "id": "316e8b75acdc882d",
   "outputs": [
    {
     "data": {
      "text/plain": [
       "<Quantity(0.1, 'meter / second')>"
      ],
      "text/html": [
       "0.09999999999999999 meter/second"
      ],
      "text/latex": "$0.09999999999999999\\ \\frac{\\mathrm{meter}}{\\mathrm{second}}$"
     },
     "execution_count": 8,
     "metadata": {},
     "output_type": "execute_result"
    }
   ],
   "execution_count": 8
  },
  {
   "metadata": {
    "ExecuteTime": {
     "end_time": "2025-04-03T20:19:11.811529Z",
     "start_time": "2025-04-03T20:19:11.804459Z"
    }
   },
   "cell_type": "code",
   "source": [
    "MU_10000: Final = MU * 10 ** 5\n",
    "MU_10000"
   ],
   "id": "a3289c70456532ec",
   "outputs": [
    {
     "data": {
      "text/plain": [
       "<Quantity(0.0145625882, 'meter ** 2 / second')>"
      ],
      "text/html": [
       "0.014562588199667754 meter<sup>2</sup>/second"
      ],
      "text/latex": "$0.014562588199667754\\ \\frac{\\mathrm{meter}^{2}}{\\mathrm{second}}$"
     },
     "execution_count": 9,
     "metadata": {},
     "output_type": "execute_result"
    }
   ],
   "execution_count": 9
  },
  {
   "metadata": {
    "ExecuteTime": {
     "end_time": "2025-04-03T20:19:11.863360Z",
     "start_time": "2025-04-03T20:19:11.859881Z"
    }
   },
   "cell_type": "code",
   "source": "INITIAL_CONDITIONS, LEFT_BOUNDARY_CONDITIONS, RIGHT_BOUNDARY_CONDITIONS = create_initial_boundary_conditions(T_O, T_I)",
   "id": "1168d552e1e1946",
   "outputs": [],
   "execution_count": 10
  },
  {
   "metadata": {
    "ExecuteTime": {
     "end_time": "2025-04-03T20:19:11.897873Z",
     "start_time": "2025-04-03T20:19:11.893872Z"
    }
   },
   "cell_type": "code",
   "source": "ANALYTIC_SOLUTIONS = create_analytic_solution(T_O, T_I, MU_10000, U_10000)",
   "id": "6c98488edbae8329",
   "outputs": [],
   "execution_count": 11
  },
  {
   "metadata": {},
   "cell_type": "markdown",
   "source": "Example data, just to check if the equations are correct.",
   "id": "4ebca41134daab82"
  },
  {
   "metadata": {
    "ExecuteTime": {
     "end_time": "2025-04-03T20:19:11.928247Z",
     "start_time": "2025-04-03T20:19:11.924392Z"
    }
   },
   "cell_type": "code",
   "source": "x = np.linspace(0.1, 1.1, num=100, dtype=np.float64) * si.m",
   "id": "f05bf87617bd3283",
   "outputs": [],
   "execution_count": 12
  },
  {
   "metadata": {
    "ExecuteTime": {
     "end_time": "2025-04-03T20:20:00.001837Z",
     "start_time": "2025-04-03T20:19:59.791699Z"
    }
   },
   "cell_type": "code",
   "source": [
    "from open_atmos_jupyter_utils import show_plot\n",
    "\n",
    "fig = plt.figure(figsize=(6, 6))\n",
    "fig.gca().plot(x, ANALYTIC_SOLUTIONS(x, 6 * si.s))\n",
    "fig.gca()\n",
    "fig.tight_layout()\n",
    "\n",
    "show_plot(fig=fig)"
   ],
   "id": "53e5fb1366cb3ca1",
   "outputs": [
    {
     "data": {
      "text/plain": [
       "<Figure size 600x600 with 1 Axes>"
      ],
      "image/svg+xml": "<?xml version=\"1.0\" encoding=\"utf-8\" standalone=\"no\"?>\n<!DOCTYPE svg PUBLIC \"-//W3C//DTD SVG 1.1//EN\"\n  \"http://www.w3.org/Graphics/SVG/1.1/DTD/svg11.dtd\">\n<svg xmlns:xlink=\"http://www.w3.org/1999/xlink\" width=\"424.495625pt\" height=\"423.99625pt\" viewBox=\"0 0 424.495625 423.99625\" xmlns=\"http://www.w3.org/2000/svg\" version=\"1.1\">\n <metadata>\n  <rdf:RDF xmlns:dc=\"http://purl.org/dc/elements/1.1/\" xmlns:cc=\"http://creativecommons.org/ns#\" xmlns:rdf=\"http://www.w3.org/1999/02/22-rdf-syntax-ns#\">\n   <cc:Work>\n    <dc:type rdf:resource=\"http://purl.org/dc/dcmitype/StillImage\"/>\n    <dc:date>2025-04-03T22:19:59.966693</dc:date>\n    <dc:format>image/svg+xml</dc:format>\n    <dc:creator>\n     <cc:Agent>\n      <dc:title>Matplotlib v3.10.1, https://matplotlib.org/</dc:title>\n     </cc:Agent>\n    </dc:creator>\n   </cc:Work>\n  </rdf:RDF>\n </metadata>\n <defs>\n  <style type=\"text/css\">*{stroke-linejoin: round; stroke-linecap: butt}</style>\n </defs>\n <g id=\"figure_1\">\n  <g id=\"patch_1\">\n   <path d=\"M 0 423.99625 \nL 424.495625 423.99625 \nL 424.495625 0 \nL 0 0 \nz\n\" style=\"fill: #ffffff\"/>\n  </g>\n  <g id=\"axes_1\">\n   <g id=\"patch_2\">\n    <path d=\"M 46.965625 386.44 \nL 417.295625 386.44 \nL 417.295625 7.2 \nL 46.965625 7.2 \nz\n\" style=\"fill: #ffffff\"/>\n   </g>\n   <g id=\"matplotlib.axis_1\">\n    <g id=\"xtick_1\">\n     <g id=\"line2d_1\">\n      <path d=\"M 97.46517 386.44 \nL 97.46517 7.2 \n\" clip-path=\"url(#p657e6da5c1)\" style=\"fill: none; stroke: #b0b0b0; stroke-width: 0.8; stroke-linecap: square\"/>\n     </g>\n     <g id=\"line2d_2\">\n      <defs>\n       <path id=\"me66ebbfc43\" d=\"M 0 0 \nL 0 3.5 \n\" style=\"stroke: #000000; stroke-width: 0.8\"/>\n      </defs>\n      <g>\n       <use xlink:href=\"#me66ebbfc43\" x=\"97.46517\" y=\"386.44\" style=\"stroke: #000000; stroke-width: 0.8\"/>\n      </g>\n     </g>\n     <g id=\"text_1\">\n      <!-- 0.2 -->\n      <g transform=\"translate(89.513608 401.038437) scale(0.1 -0.1)\">\n       <defs>\n        <path id=\"DejaVuSans-30\" d=\"M 2034 4250 \nQ 1547 4250 1301 3770 \nQ 1056 3291 1056 2328 \nQ 1056 1369 1301 889 \nQ 1547 409 2034 409 \nQ 2525 409 2770 889 \nQ 3016 1369 3016 2328 \nQ 3016 3291 2770 3770 \nQ 2525 4250 2034 4250 \nz\nM 2034 4750 \nQ 2819 4750 3233 4129 \nQ 3647 3509 3647 2328 \nQ 3647 1150 3233 529 \nQ 2819 -91 2034 -91 \nQ 1250 -91 836 529 \nQ 422 1150 422 2328 \nQ 422 3509 836 4129 \nQ 1250 4750 2034 4750 \nz\n\" transform=\"scale(0.015625)\"/>\n        <path id=\"DejaVuSans-2e\" d=\"M 684 794 \nL 1344 794 \nL 1344 0 \nL 684 0 \nL 684 794 \nz\n\" transform=\"scale(0.015625)\"/>\n        <path id=\"DejaVuSans-32\" d=\"M 1228 531 \nL 3431 531 \nL 3431 0 \nL 469 0 \nL 469 531 \nQ 828 903 1448 1529 \nQ 2069 2156 2228 2338 \nQ 2531 2678 2651 2914 \nQ 2772 3150 2772 3378 \nQ 2772 3750 2511 3984 \nQ 2250 4219 1831 4219 \nQ 1534 4219 1204 4116 \nQ 875 4013 500 3803 \nL 500 4441 \nQ 881 4594 1212 4672 \nQ 1544 4750 1819 4750 \nQ 2544 4750 2975 4387 \nQ 3406 4025 3406 3419 \nQ 3406 3131 3298 2873 \nQ 3191 2616 2906 2266 \nQ 2828 2175 2409 1742 \nQ 1991 1309 1228 531 \nz\n\" transform=\"scale(0.015625)\"/>\n       </defs>\n       <use xlink:href=\"#DejaVuSans-30\"/>\n       <use xlink:href=\"#DejaVuSans-2e\" transform=\"translate(63.623047 0)\"/>\n       <use xlink:href=\"#DejaVuSans-32\" transform=\"translate(95.410156 0)\"/>\n      </g>\n     </g>\n    </g>\n    <g id=\"xtick_2\">\n     <g id=\"line2d_3\">\n      <path d=\"M 164.797898 386.44 \nL 164.797898 7.2 \n\" clip-path=\"url(#p657e6da5c1)\" style=\"fill: none; stroke: #b0b0b0; stroke-width: 0.8; stroke-linecap: square\"/>\n     </g>\n     <g id=\"line2d_4\">\n      <g>\n       <use xlink:href=\"#me66ebbfc43\" x=\"164.797898\" y=\"386.44\" style=\"stroke: #000000; stroke-width: 0.8\"/>\n      </g>\n     </g>\n     <g id=\"text_2\">\n      <!-- 0.4 -->\n      <g transform=\"translate(156.846335 401.038437) scale(0.1 -0.1)\">\n       <defs>\n        <path id=\"DejaVuSans-34\" d=\"M 2419 4116 \nL 825 1625 \nL 2419 1625 \nL 2419 4116 \nz\nM 2253 4666 \nL 3047 4666 \nL 3047 1625 \nL 3713 1625 \nL 3713 1100 \nL 3047 1100 \nL 3047 0 \nL 2419 0 \nL 2419 1100 \nL 313 1100 \nL 313 1709 \nL 2253 4666 \nz\n\" transform=\"scale(0.015625)\"/>\n       </defs>\n       <use xlink:href=\"#DejaVuSans-30\"/>\n       <use xlink:href=\"#DejaVuSans-2e\" transform=\"translate(63.623047 0)\"/>\n       <use xlink:href=\"#DejaVuSans-34\" transform=\"translate(95.410156 0)\"/>\n      </g>\n     </g>\n    </g>\n    <g id=\"xtick_3\">\n     <g id=\"line2d_5\">\n      <path d=\"M 232.130625 386.44 \nL 232.130625 7.2 \n\" clip-path=\"url(#p657e6da5c1)\" style=\"fill: none; stroke: #b0b0b0; stroke-width: 0.8; stroke-linecap: square\"/>\n     </g>\n     <g id=\"line2d_6\">\n      <g>\n       <use xlink:href=\"#me66ebbfc43\" x=\"232.130625\" y=\"386.44\" style=\"stroke: #000000; stroke-width: 0.8\"/>\n      </g>\n     </g>\n     <g id=\"text_3\">\n      <!-- 0.6 -->\n      <g transform=\"translate(224.179063 401.038437) scale(0.1 -0.1)\">\n       <defs>\n        <path id=\"DejaVuSans-36\" d=\"M 2113 2584 \nQ 1688 2584 1439 2293 \nQ 1191 2003 1191 1497 \nQ 1191 994 1439 701 \nQ 1688 409 2113 409 \nQ 2538 409 2786 701 \nQ 3034 994 3034 1497 \nQ 3034 2003 2786 2293 \nQ 2538 2584 2113 2584 \nz\nM 3366 4563 \nL 3366 3988 \nQ 3128 4100 2886 4159 \nQ 2644 4219 2406 4219 \nQ 1781 4219 1451 3797 \nQ 1122 3375 1075 2522 \nQ 1259 2794 1537 2939 \nQ 1816 3084 2150 3084 \nQ 2853 3084 3261 2657 \nQ 3669 2231 3669 1497 \nQ 3669 778 3244 343 \nQ 2819 -91 2113 -91 \nQ 1303 -91 875 529 \nQ 447 1150 447 2328 \nQ 447 3434 972 4092 \nQ 1497 4750 2381 4750 \nQ 2619 4750 2861 4703 \nQ 3103 4656 3366 4563 \nz\n\" transform=\"scale(0.015625)\"/>\n       </defs>\n       <use xlink:href=\"#DejaVuSans-30\"/>\n       <use xlink:href=\"#DejaVuSans-2e\" transform=\"translate(63.623047 0)\"/>\n       <use xlink:href=\"#DejaVuSans-36\" transform=\"translate(95.410156 0)\"/>\n      </g>\n     </g>\n    </g>\n    <g id=\"xtick_4\">\n     <g id=\"line2d_7\">\n      <path d=\"M 299.463352 386.44 \nL 299.463352 7.2 \n\" clip-path=\"url(#p657e6da5c1)\" style=\"fill: none; stroke: #b0b0b0; stroke-width: 0.8; stroke-linecap: square\"/>\n     </g>\n     <g id=\"line2d_8\">\n      <g>\n       <use xlink:href=\"#me66ebbfc43\" x=\"299.463352\" y=\"386.44\" style=\"stroke: #000000; stroke-width: 0.8\"/>\n      </g>\n     </g>\n     <g id=\"text_4\">\n      <!-- 0.8 -->\n      <g transform=\"translate(291.51179 401.038437) scale(0.1 -0.1)\">\n       <defs>\n        <path id=\"DejaVuSans-38\" d=\"M 2034 2216 \nQ 1584 2216 1326 1975 \nQ 1069 1734 1069 1313 \nQ 1069 891 1326 650 \nQ 1584 409 2034 409 \nQ 2484 409 2743 651 \nQ 3003 894 3003 1313 \nQ 3003 1734 2745 1975 \nQ 2488 2216 2034 2216 \nz\nM 1403 2484 \nQ 997 2584 770 2862 \nQ 544 3141 544 3541 \nQ 544 4100 942 4425 \nQ 1341 4750 2034 4750 \nQ 2731 4750 3128 4425 \nQ 3525 4100 3525 3541 \nQ 3525 3141 3298 2862 \nQ 3072 2584 2669 2484 \nQ 3125 2378 3379 2068 \nQ 3634 1759 3634 1313 \nQ 3634 634 3220 271 \nQ 2806 -91 2034 -91 \nQ 1263 -91 848 271 \nQ 434 634 434 1313 \nQ 434 1759 690 2068 \nQ 947 2378 1403 2484 \nz\nM 1172 3481 \nQ 1172 3119 1398 2916 \nQ 1625 2713 2034 2713 \nQ 2441 2713 2670 2916 \nQ 2900 3119 2900 3481 \nQ 2900 3844 2670 4047 \nQ 2441 4250 2034 4250 \nQ 1625 4250 1398 4047 \nQ 1172 3844 1172 3481 \nz\n\" transform=\"scale(0.015625)\"/>\n       </defs>\n       <use xlink:href=\"#DejaVuSans-30\"/>\n       <use xlink:href=\"#DejaVuSans-2e\" transform=\"translate(63.623047 0)\"/>\n       <use xlink:href=\"#DejaVuSans-38\" transform=\"translate(95.410156 0)\"/>\n      </g>\n     </g>\n    </g>\n    <g id=\"xtick_5\">\n     <g id=\"line2d_9\">\n      <path d=\"M 366.79608 386.44 \nL 366.79608 7.2 \n\" clip-path=\"url(#p657e6da5c1)\" style=\"fill: none; stroke: #b0b0b0; stroke-width: 0.8; stroke-linecap: square\"/>\n     </g>\n     <g id=\"line2d_10\">\n      <g>\n       <use xlink:href=\"#me66ebbfc43\" x=\"366.79608\" y=\"386.44\" style=\"stroke: #000000; stroke-width: 0.8\"/>\n      </g>\n     </g>\n     <g id=\"text_5\">\n      <!-- 1.0 -->\n      <g transform=\"translate(358.844517 401.038437) scale(0.1 -0.1)\">\n       <defs>\n        <path id=\"DejaVuSans-31\" d=\"M 794 531 \nL 1825 531 \nL 1825 4091 \nL 703 3866 \nL 703 4441 \nL 1819 4666 \nL 2450 4666 \nL 2450 531 \nL 3481 531 \nL 3481 0 \nL 794 0 \nL 794 531 \nz\n\" transform=\"scale(0.015625)\"/>\n       </defs>\n       <use xlink:href=\"#DejaVuSans-31\"/>\n       <use xlink:href=\"#DejaVuSans-2e\" transform=\"translate(63.623047 0)\"/>\n       <use xlink:href=\"#DejaVuSans-30\" transform=\"translate(95.410156 0)\"/>\n      </g>\n     </g>\n    </g>\n    <g id=\"text_6\">\n     <!-- meter -->\n     <g transform=\"translate(217.091563 414.716562) scale(0.1 -0.1)\">\n      <defs>\n       <path id=\"DejaVuSans-6d\" d=\"M 3328 2828 \nQ 3544 3216 3844 3400 \nQ 4144 3584 4550 3584 \nQ 5097 3584 5394 3201 \nQ 5691 2819 5691 2113 \nL 5691 0 \nL 5113 0 \nL 5113 2094 \nQ 5113 2597 4934 2840 \nQ 4756 3084 4391 3084 \nQ 3944 3084 3684 2787 \nQ 3425 2491 3425 1978 \nL 3425 0 \nL 2847 0 \nL 2847 2094 \nQ 2847 2600 2669 2842 \nQ 2491 3084 2119 3084 \nQ 1678 3084 1418 2786 \nQ 1159 2488 1159 1978 \nL 1159 0 \nL 581 0 \nL 581 3500 \nL 1159 3500 \nL 1159 2956 \nQ 1356 3278 1631 3431 \nQ 1906 3584 2284 3584 \nQ 2666 3584 2933 3390 \nQ 3200 3197 3328 2828 \nz\n\" transform=\"scale(0.015625)\"/>\n       <path id=\"DejaVuSans-65\" d=\"M 3597 1894 \nL 3597 1613 \nL 953 1613 \nQ 991 1019 1311 708 \nQ 1631 397 2203 397 \nQ 2534 397 2845 478 \nQ 3156 559 3463 722 \nL 3463 178 \nQ 3153 47 2828 -22 \nQ 2503 -91 2169 -91 \nQ 1331 -91 842 396 \nQ 353 884 353 1716 \nQ 353 2575 817 3079 \nQ 1281 3584 2069 3584 \nQ 2775 3584 3186 3129 \nQ 3597 2675 3597 1894 \nz\nM 3022 2063 \nQ 3016 2534 2758 2815 \nQ 2500 3097 2075 3097 \nQ 1594 3097 1305 2825 \nQ 1016 2553 972 2059 \nL 3022 2063 \nz\n\" transform=\"scale(0.015625)\"/>\n       <path id=\"DejaVuSans-74\" d=\"M 1172 4494 \nL 1172 3500 \nL 2356 3500 \nL 2356 3053 \nL 1172 3053 \nL 1172 1153 \nQ 1172 725 1289 603 \nQ 1406 481 1766 481 \nL 2356 481 \nL 2356 0 \nL 1766 0 \nQ 1100 0 847 248 \nQ 594 497 594 1153 \nL 594 3053 \nL 172 3053 \nL 172 3500 \nL 594 3500 \nL 594 4494 \nL 1172 4494 \nz\n\" transform=\"scale(0.015625)\"/>\n       <path id=\"DejaVuSans-72\" d=\"M 2631 2963 \nQ 2534 3019 2420 3045 \nQ 2306 3072 2169 3072 \nQ 1681 3072 1420 2755 \nQ 1159 2438 1159 1844 \nL 1159 0 \nL 581 0 \nL 581 3500 \nL 1159 3500 \nL 1159 2956 \nQ 1341 3275 1631 3429 \nQ 1922 3584 2338 3584 \nQ 2397 3584 2469 3576 \nQ 2541 3569 2628 3553 \nL 2631 2963 \nz\n\" transform=\"scale(0.015625)\"/>\n      </defs>\n      <use xlink:href=\"#DejaVuSans-6d\"/>\n      <use xlink:href=\"#DejaVuSans-65\" transform=\"translate(97.412109 0)\"/>\n      <use xlink:href=\"#DejaVuSans-74\" transform=\"translate(158.935547 0)\"/>\n      <use xlink:href=\"#DejaVuSans-65\" transform=\"translate(198.144531 0)\"/>\n      <use xlink:href=\"#DejaVuSans-72\" transform=\"translate(259.667969 0)\"/>\n     </g>\n    </g>\n   </g>\n   <g id=\"matplotlib.axis_2\">\n    <g id=\"ytick_1\">\n     <g id=\"line2d_11\">\n      <path d=\"M 46.965625 321.9692 \nL 417.295625 321.9692 \n\" clip-path=\"url(#p657e6da5c1)\" style=\"fill: none; stroke: #b0b0b0; stroke-width: 0.8; stroke-linecap: square\"/>\n     </g>\n     <g id=\"line2d_12\">\n      <defs>\n       <path id=\"m2bc95314dc\" d=\"M 0 0 \nL -3.5 0 \n\" style=\"stroke: #000000; stroke-width: 0.8\"/>\n      </defs>\n      <g>\n       <use xlink:href=\"#m2bc95314dc\" x=\"46.965625\" y=\"321.9692\" style=\"stroke: #000000; stroke-width: 0.8\"/>\n      </g>\n     </g>\n     <g id=\"text_7\">\n      <!-- 280 -->\n      <g transform=\"translate(20.878125 325.768419) scale(0.1 -0.1)\">\n       <use xlink:href=\"#DejaVuSans-32\"/>\n       <use xlink:href=\"#DejaVuSans-38\" transform=\"translate(63.623047 0)\"/>\n       <use xlink:href=\"#DejaVuSans-30\" transform=\"translate(127.246094 0)\"/>\n      </g>\n     </g>\n    </g>\n    <g id=\"ytick_2\">\n     <g id=\"line2d_13\">\n      <path d=\"M 46.965625 253.016473 \nL 417.295625 253.016473 \n\" clip-path=\"url(#p657e6da5c1)\" style=\"fill: none; stroke: #b0b0b0; stroke-width: 0.8; stroke-linecap: square\"/>\n     </g>\n     <g id=\"line2d_14\">\n      <g>\n       <use xlink:href=\"#m2bc95314dc\" x=\"46.965625\" y=\"253.016473\" style=\"stroke: #000000; stroke-width: 0.8\"/>\n      </g>\n     </g>\n     <g id=\"text_8\">\n      <!-- 290 -->\n      <g transform=\"translate(20.878125 256.815691) scale(0.1 -0.1)\">\n       <defs>\n        <path id=\"DejaVuSans-39\" d=\"M 703 97 \nL 703 672 \nQ 941 559 1184 500 \nQ 1428 441 1663 441 \nQ 2288 441 2617 861 \nQ 2947 1281 2994 2138 \nQ 2813 1869 2534 1725 \nQ 2256 1581 1919 1581 \nQ 1219 1581 811 2004 \nQ 403 2428 403 3163 \nQ 403 3881 828 4315 \nQ 1253 4750 1959 4750 \nQ 2769 4750 3195 4129 \nQ 3622 3509 3622 2328 \nQ 3622 1225 3098 567 \nQ 2575 -91 1691 -91 \nQ 1453 -91 1209 -44 \nQ 966 3 703 97 \nz\nM 1959 2075 \nQ 2384 2075 2632 2365 \nQ 2881 2656 2881 3163 \nQ 2881 3666 2632 3958 \nQ 2384 4250 1959 4250 \nQ 1534 4250 1286 3958 \nQ 1038 3666 1038 3163 \nQ 1038 2656 1286 2365 \nQ 1534 2075 1959 2075 \nz\n\" transform=\"scale(0.015625)\"/>\n       </defs>\n       <use xlink:href=\"#DejaVuSans-32\"/>\n       <use xlink:href=\"#DejaVuSans-39\" transform=\"translate(63.623047 0)\"/>\n       <use xlink:href=\"#DejaVuSans-30\" transform=\"translate(127.246094 0)\"/>\n      </g>\n     </g>\n    </g>\n    <g id=\"ytick_3\">\n     <g id=\"line2d_15\">\n      <path d=\"M 46.965625 184.063745 \nL 417.295625 184.063745 \n\" clip-path=\"url(#p657e6da5c1)\" style=\"fill: none; stroke: #b0b0b0; stroke-width: 0.8; stroke-linecap: square\"/>\n     </g>\n     <g id=\"line2d_16\">\n      <g>\n       <use xlink:href=\"#m2bc95314dc\" x=\"46.965625\" y=\"184.063745\" style=\"stroke: #000000; stroke-width: 0.8\"/>\n      </g>\n     </g>\n     <g id=\"text_9\">\n      <!-- 300 -->\n      <g transform=\"translate(20.878125 187.862964) scale(0.1 -0.1)\">\n       <defs>\n        <path id=\"DejaVuSans-33\" d=\"M 2597 2516 \nQ 3050 2419 3304 2112 \nQ 3559 1806 3559 1356 \nQ 3559 666 3084 287 \nQ 2609 -91 1734 -91 \nQ 1441 -91 1130 -33 \nQ 819 25 488 141 \nL 488 750 \nQ 750 597 1062 519 \nQ 1375 441 1716 441 \nQ 2309 441 2620 675 \nQ 2931 909 2931 1356 \nQ 2931 1769 2642 2001 \nQ 2353 2234 1838 2234 \nL 1294 2234 \nL 1294 2753 \nL 1863 2753 \nQ 2328 2753 2575 2939 \nQ 2822 3125 2822 3475 \nQ 2822 3834 2567 4026 \nQ 2313 4219 1838 4219 \nQ 1578 4219 1281 4162 \nQ 984 4106 628 3988 \nL 628 4550 \nQ 988 4650 1302 4700 \nQ 1616 4750 1894 4750 \nQ 2613 4750 3031 4423 \nQ 3450 4097 3450 3541 \nQ 3450 3153 3228 2886 \nQ 3006 2619 2597 2516 \nz\n\" transform=\"scale(0.015625)\"/>\n       </defs>\n       <use xlink:href=\"#DejaVuSans-33\"/>\n       <use xlink:href=\"#DejaVuSans-30\" transform=\"translate(63.623047 0)\"/>\n       <use xlink:href=\"#DejaVuSans-30\" transform=\"translate(127.246094 0)\"/>\n      </g>\n     </g>\n    </g>\n    <g id=\"ytick_4\">\n     <g id=\"line2d_17\">\n      <path d=\"M 46.965625 115.111018 \nL 417.295625 115.111018 \n\" clip-path=\"url(#p657e6da5c1)\" style=\"fill: none; stroke: #b0b0b0; stroke-width: 0.8; stroke-linecap: square\"/>\n     </g>\n     <g id=\"line2d_18\">\n      <g>\n       <use xlink:href=\"#m2bc95314dc\" x=\"46.965625\" y=\"115.111018\" style=\"stroke: #000000; stroke-width: 0.8\"/>\n      </g>\n     </g>\n     <g id=\"text_10\">\n      <!-- 310 -->\n      <g transform=\"translate(20.878125 118.910237) scale(0.1 -0.1)\">\n       <use xlink:href=\"#DejaVuSans-33\"/>\n       <use xlink:href=\"#DejaVuSans-31\" transform=\"translate(63.623047 0)\"/>\n       <use xlink:href=\"#DejaVuSans-30\" transform=\"translate(127.246094 0)\"/>\n      </g>\n     </g>\n    </g>\n    <g id=\"ytick_5\">\n     <g id=\"line2d_19\">\n      <path d=\"M 46.965625 46.158291 \nL 417.295625 46.158291 \n\" clip-path=\"url(#p657e6da5c1)\" style=\"fill: none; stroke: #b0b0b0; stroke-width: 0.8; stroke-linecap: square\"/>\n     </g>\n     <g id=\"line2d_20\">\n      <g>\n       <use xlink:href=\"#m2bc95314dc\" x=\"46.965625\" y=\"46.158291\" style=\"stroke: #000000; stroke-width: 0.8\"/>\n      </g>\n     </g>\n     <g id=\"text_11\">\n      <!-- 320 -->\n      <g transform=\"translate(20.878125 49.95751) scale(0.1 -0.1)\">\n       <use xlink:href=\"#DejaVuSans-33\"/>\n       <use xlink:href=\"#DejaVuSans-32\" transform=\"translate(63.623047 0)\"/>\n       <use xlink:href=\"#DejaVuSans-30\" transform=\"translate(127.246094 0)\"/>\n      </g>\n     </g>\n    </g>\n    <g id=\"text_12\">\n     <!-- kelvin -->\n     <g transform=\"translate(14.798437 211.516875) rotate(-90) scale(0.1 -0.1)\">\n      <defs>\n       <path id=\"DejaVuSans-6b\" d=\"M 581 4863 \nL 1159 4863 \nL 1159 1991 \nL 2875 3500 \nL 3609 3500 \nL 1753 1863 \nL 3688 0 \nL 2938 0 \nL 1159 1709 \nL 1159 0 \nL 581 0 \nL 581 4863 \nz\n\" transform=\"scale(0.015625)\"/>\n       <path id=\"DejaVuSans-6c\" d=\"M 603 4863 \nL 1178 4863 \nL 1178 0 \nL 603 0 \nL 603 4863 \nz\n\" transform=\"scale(0.015625)\"/>\n       <path id=\"DejaVuSans-76\" d=\"M 191 3500 \nL 800 3500 \nL 1894 563 \nL 2988 3500 \nL 3597 3500 \nL 2284 0 \nL 1503 0 \nL 191 3500 \nz\n\" transform=\"scale(0.015625)\"/>\n       <path id=\"DejaVuSans-69\" d=\"M 603 3500 \nL 1178 3500 \nL 1178 0 \nL 603 0 \nL 603 3500 \nz\nM 603 4863 \nL 1178 4863 \nL 1178 4134 \nL 603 4134 \nL 603 4863 \nz\n\" transform=\"scale(0.015625)\"/>\n       <path id=\"DejaVuSans-6e\" d=\"M 3513 2113 \nL 3513 0 \nL 2938 0 \nL 2938 2094 \nQ 2938 2591 2744 2837 \nQ 2550 3084 2163 3084 \nQ 1697 3084 1428 2787 \nQ 1159 2491 1159 1978 \nL 1159 0 \nL 581 0 \nL 581 3500 \nL 1159 3500 \nL 1159 2956 \nQ 1366 3272 1645 3428 \nQ 1925 3584 2291 3584 \nQ 2894 3584 3203 3211 \nQ 3513 2838 3513 2113 \nz\n\" transform=\"scale(0.015625)\"/>\n      </defs>\n      <use xlink:href=\"#DejaVuSans-6b\"/>\n      <use xlink:href=\"#DejaVuSans-65\" transform=\"translate(54.285156 0)\"/>\n      <use xlink:href=\"#DejaVuSans-6c\" transform=\"translate(115.808594 0)\"/>\n      <use xlink:href=\"#DejaVuSans-76\" transform=\"translate(143.591797 0)\"/>\n      <use xlink:href=\"#DejaVuSans-69\" transform=\"translate(202.771484 0)\"/>\n      <use xlink:href=\"#DejaVuSans-6e\" transform=\"translate(230.554688 0)\"/>\n     </g>\n    </g>\n   </g>\n   <g id=\"line2d_21\">\n    <path d=\"M 63.798807 24.438182 \nL 67.19945 24.438182 \nL 70.600092 24.438182 \nL 74.000735 24.438182 \nL 77.401378 24.438182 \nL 80.802021 24.438182 \nL 84.202664 24.438182 \nL 87.603306 24.438182 \nL 91.003949 24.438182 \nL 94.404592 24.438182 \nL 97.805235 24.438182 \nL 101.205878 24.438182 \nL 104.60652 24.438182 \nL 108.007163 24.438182 \nL 111.407806 24.438182 \nL 114.808449 24.438182 \nL 118.209091 24.438182 \nL 121.609734 24.438182 \nL 125.010377 24.438182 \nL 128.41102 24.438182 \nL 131.811663 24.438182 \nL 135.212305 24.438184 \nL 138.612948 24.438188 \nL 142.013591 24.438201 \nL 145.414234 24.438239 \nL 148.814877 24.438342 \nL 152.215519 24.438618 \nL 155.616162 24.439325 \nL 159.016805 24.44106 \nL 162.417448 24.445158 \nL 165.818091 24.454455 \nL 169.218733 24.474721 \nL 172.619376 24.517166 \nL 176.020019 24.60258 \nL 179.420662 24.767732 \nL 182.821305 25.074547 \nL 186.221947 25.622216 \nL 189.62259 26.561513 \nL 193.023233 28.109379 \nL 196.423876 30.560184 \nL 199.824518 34.288643 \nL 203.225161 39.738629 \nL 206.625804 47.392953 \nL 210.026447 57.722085 \nL 213.42709 71.114732 \nL 216.827732 87.799287 \nL 220.228375 107.770691 \nL 223.629018 130.740018 \nL 227.029661 156.12248 \nL 230.430304 183.072868 \nL 233.830946 210.567132 \nL 237.231589 237.51752 \nL 240.632232 262.899982 \nL 244.032875 285.869309 \nL 247.433518 305.840713 \nL 250.83416 322.525268 \nL 254.234803 335.917915 \nL 257.635446 346.247047 \nL 261.036089 353.901371 \nL 264.436732 359.351357 \nL 267.837374 363.079816 \nL 271.238017 365.530621 \nL 274.63866 367.078487 \nL 278.039303 368.017784 \nL 281.439945 368.565453 \nL 284.840588 368.872268 \nL 288.241231 369.03742 \nL 291.641874 369.122834 \nL 295.042517 369.165279 \nL 298.443159 369.185545 \nL 301.843802 369.194842 \nL 305.244445 369.19894 \nL 308.645088 369.200675 \nL 312.045731 369.201382 \nL 315.446373 369.201658 \nL 318.847016 369.201761 \nL 322.247659 369.201799 \nL 325.648302 369.201812 \nL 329.048945 369.201816 \nL 332.449587 369.201818 \nL 335.85023 369.201818 \nL 339.250873 369.201818 \nL 342.651516 369.201818 \nL 346.052159 369.201818 \nL 349.452801 369.201818 \nL 352.853444 369.201818 \nL 356.254087 369.201818 \nL 359.65473 369.201818 \nL 363.055372 369.201818 \nL 366.456015 369.201818 \nL 369.856658 369.201818 \nL 373.257301 369.201818 \nL 376.657944 369.201818 \nL 380.058586 369.201818 \nL 383.459229 369.201818 \nL 386.859872 369.201818 \nL 390.260515 369.201818 \nL 393.661158 369.201818 \nL 397.0618 369.201818 \nL 400.462443 369.201818 \n\" clip-path=\"url(#p657e6da5c1)\" style=\"fill: none; stroke: #1f77b4; stroke-width: 1.5; stroke-linecap: square\"/>\n   </g>\n   <g id=\"patch_3\">\n    <path d=\"M 46.965625 386.44 \nL 46.965625 7.2 \n\" style=\"fill: none; stroke: #000000; stroke-width: 0.8; stroke-linejoin: miter; stroke-linecap: square\"/>\n   </g>\n   <g id=\"patch_4\">\n    <path d=\"M 417.295625 386.44 \nL 417.295625 7.2 \n\" style=\"fill: none; stroke: #000000; stroke-width: 0.8; stroke-linejoin: miter; stroke-linecap: square\"/>\n   </g>\n   <g id=\"patch_5\">\n    <path d=\"M 46.965625 386.44 \nL 417.295625 386.44 \n\" style=\"fill: none; stroke: #000000; stroke-width: 0.8; stroke-linejoin: miter; stroke-linecap: square\"/>\n   </g>\n   <g id=\"patch_6\">\n    <path d=\"M 46.965625 7.2 \nL 417.295625 7.2 \n\" style=\"fill: none; stroke: #000000; stroke-width: 0.8; stroke-linejoin: miter; stroke-linecap: square\"/>\n   </g>\n  </g>\n </g>\n <defs>\n  <clipPath id=\"p657e6da5c1\">\n   <rect x=\"46.965625\" y=\"7.2\" width=\"370.33\" height=\"379.24\"/>\n  </clipPath>\n </defs>\n</svg>\n"
     },
     "metadata": {},
     "output_type": "display_data"
    },
    {
     "data": {
      "text/plain": [
       "HBox(children=(HTML(value=\"<a href='.\\\\tmpx_wu0umr.pdf' target='_blank'>.\\\\tmpx_wu0umr.pdf</a><br>\"), HTML(val…"
      ],
      "application/vnd.jupyter.widget-view+json": {
       "version_major": 2,
       "version_minor": 0,
       "model_id": "7500e47b495d44198e353d1c2ebe54f7"
      }
     },
     "metadata": {},
     "output_type": "display_data"
    }
   ],
   "execution_count": 17
  },
  {
   "metadata": {},
   "cell_type": "markdown",
   "source": [
    "### Numerical solution\n",
    "\n"
   ],
   "id": "5d768e82949958be"
  },
  {
   "metadata": {
    "ExecuteTime": {
     "end_time": "2025-04-03T20:19:12.394784Z",
     "start_time": "2025-04-03T20:19:12.391471Z"
    }
   },
   "cell_type": "code",
   "source": [
    "def numerical_solution():\n",
    "    pass"
   ],
   "id": "df83c94274a3c57e",
   "outputs": [],
   "execution_count": 14
  },
  {
   "metadata": {},
   "cell_type": "markdown",
   "source": [
    "### Comparison of analytic and numerical solutions\n",
    "\n",
    "##### Quantitative measure"
   ],
   "id": "b09f8dda3d05d1ee"
  },
  {
   "metadata": {
    "ExecuteTime": {
     "end_time": "2025-04-03T20:19:12.410244Z",
     "start_time": "2025-04-03T20:19:12.408028Z"
    }
   },
   "cell_type": "code",
   "source": "",
   "id": "7c0836fa4004fc04",
   "outputs": [],
   "execution_count": null
  },
  {
   "metadata": {},
   "cell_type": "markdown",
   "source": "##### Plot creation",
   "id": "3d317c9ba7723f45"
  },
  {
   "metadata": {
    "ExecuteTime": {
     "end_time": "2025-04-03T20:19:12.417715Z",
     "start_time": "2025-04-03T20:19:12.415260Z"
    }
   },
   "cell_type": "code",
   "source": "",
   "id": "6feebce44405d611",
   "outputs": [],
   "execution_count": null
  },
  {
   "metadata": {},
   "cell_type": "markdown",
   "source": [
    "### Literature & Learning materials\n",
    "\n",
    "Here I present the literature\n",
    "\n",
    "- [YT: \"Explicit Upwind Finite Difference Solution to the Advection Equation\" by Caspar Hewett](https://www.youtube.com/watch?v=drCdGxSG3Ec)\n",
    "- [YT: \"Implicit Upwind Finite Difference Solution to the Advection Equation\" by Caspar Hewett](https://www.youtube.com/watch?v=CCY3ywCuGBI)\n",
    "- [YT: \"Finite Difference Schemes for Advection and Diffusion\" by Caspar Hewett](https://www.youtube.com/watch?v=UM0o0ToluY8)\n",
    "- [YT: \"Stability & Accuracy of Numerical Schemes (2024)\" by Caspar Hewett](https://www.youtube.com/watch?v=3ufzXpsxShU)\n",
    "- [Link: \"RÓWNANIA RÓŻNICZKOWE (A1) Skrypt dla studentów\" by Andrzej Raczyński](https://www.math.uni.wroc.pl/sites/default/files/skrypt_rr1.pdf)\n",
    "- [Book: \"Analiza Numeryczna\" by David Kincaid, Ward Cheney, isbn: 83-204-3078-X](https://www.impan.pl/~szczep/AMM1/Kincaid.pdf)\n",
    "- [YT: \"Advection diffusion equations\" by Martin Blunt](https://www.youtube.com/watch?v=l_-YAEBXK1k)\n",
    "- [YT: \"Advection diffusion equation\" by Martin Blunt](https://www.youtube.com/watch?v=MsTglR6Kqpg)\n",
    "- [YT: \"One dimensional advection diffusion equations\" by Martin Blunt](https://www.youtube.com/watch?v=Jr3aOildCCA)\n",
    "- [YT: \"Molecular diffusion and Fick's law\" by Martin Blunt](https://www.youtube.com/watch?v=Iaq9znRsusk)\n",
    "- [Article: \"Analytical solution of the advection–diffusion transport equation using a change-of-variable and integral transform technique\" by J.S. Pérez Guerrero, L.C.G. Pimentel, T.H.Skaggs, M. Th.van Genuchten](https://doi.org/10.1016/j.ijheatmasstransfer.2009.02.002)\n",
    "- [Article: \"New International Formulation for the Thermal Conductivity of H2O\" by M. L. Huber; R. A. Perkins; D. G. Friend; J. V. Sengers; M. J. Assael; I. N. Metaxa; K. Miyagawa; R. Hellmann; E. Vogel](https://doi.org/10.1063/1.4738955)\n",
    "- [WebPage: CalcSteam by Berndt Wischnewski Richard-Wagner](https://www.peacesoftware.de/einigewerte/wasser_dampf_e.html)"
   ],
   "id": "c0a470db8a0d751a"
  }
 ],
 "metadata": {
  "kernelspec": {
   "display_name": "Python 3",
   "language": "python",
   "name": "python3"
  },
  "language_info": {
   "codemirror_mode": {
    "name": "ipython",
    "version": 2
   },
   "file_extension": ".py",
   "mimetype": "text/x-python",
   "name": "python",
   "nbconvert_exporter": "python",
   "pygments_lexer": "ipython2",
   "version": "2.7.6"
  }
 },
 "nbformat": 4,
 "nbformat_minor": 5
}
