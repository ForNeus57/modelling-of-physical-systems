{
 "cells": [
  {
   "metadata": {},
   "cell_type": "markdown",
   "source": [
    "# LAB 04 Assigment\n",
    "\n",
    "Dominik Breksa (dominikbreksa@student.agh.edu.pl)"
   ],
   "id": "150544eaa2f4182c"
  },
  {
   "metadata": {},
   "cell_type": "markdown",
   "source": "### Imports of libraries and packages",
   "id": "3191793c1e69540e"
  },
  {
   "cell_type": "code",
   "id": "initial_id",
   "metadata": {
    "collapsed": true,
    "ExecuteTime": {
     "end_time": "2025-04-02T16:04:15.933064Z",
     "start_time": "2025-04-02T16:04:15.083175Z"
    }
   },
   "source": [
    "import numpy as np\n",
    "import numpy.typing as npt\n",
    "import scipy\n",
    "import pint\n",
    "import open_atmos_jupyter_utils\n",
    "from matplotlib import pyplot as plt\n",
    "\n",
    "# pyplot.rcParams['axes.grid'] = True"
   ],
   "outputs": [],
   "execution_count": 1
  },
  {
   "metadata": {},
   "cell_type": "code",
   "outputs": [],
   "execution_count": null,
   "source": [
    "si = pint.UnitRegistry()\n",
    "si.setup_matplotlib()\n",
    "si"
   ],
   "id": "e1585f484a71f450"
  },
  {
   "metadata": {},
   "cell_type": "markdown",
   "source": [
    "### Physical Problem Definition\n",
    "\n",
    "##### Boundary conditions\n",
    "\n",
    "##### Initial conditions\n",
    "\n",
    "##### Numerical values used"
   ],
   "id": "de3e179516958361"
  },
  {
   "metadata": {},
   "cell_type": "markdown",
   "source": "### Analytical solution",
   "id": "deefe39b4084f161"
  },
  {
   "metadata": {},
   "cell_type": "code",
   "outputs": [],
   "execution_count": null,
   "source": [
    "from typing import Callable, Final\n",
    "\n",
    "\n",
    "def create_initial_boundary_conditions[T: npt.DTypeLike](t_0: T, t_i: T) -> tuple[Callable[[T], T], Callable[[T], T], Callable[[T], T]]:\n",
    "    \"\"\"...\"\"\"\n",
    "\n",
    "    def initial_conditions(x: T) -> T:\n",
    "        \"\"\"...\"\"\"\n",
    "\n",
    "        nonlocal t_0\n",
    "        nonlocal t_i\n",
    "\n",
    "        return t_0 if x <= 0 else t_i\n",
    "\n",
    "    def left_boundary_conditions(t: T) -> T:\n",
    "        \"\"\"...\"\"\"\n",
    "\n",
    "        nonlocal t_0\n",
    "\n",
    "        return t_0\n",
    "\n",
    "    def right_boundary_conditions(t: T) -> T:\n",
    "        \"\"\"...\"\"\"\n",
    "\n",
    "        nonlocal t_i\n",
    "\n",
    "        return t_i\n",
    "\n",
    "    return initial_conditions, left_boundary_conditions, right_boundary_conditions"
   ],
   "id": "fb6d282070e3a5ec"
  },
  {
   "metadata": {},
   "cell_type": "code",
   "outputs": [],
   "execution_count": null,
   "source": [
    "def create_analytic_solution(t_0, t_i, alpha, beta) -> Callable:\n",
    "    \"\"\"...\"\"\"\n",
    "\n",
    "    def analytic_solution[T: npt.DTypeLike](x: npt.NDArray[T], t: npt.NDArray[T]) -> npt.NDArray[T]:\n",
    "\n",
    "        nonlocal t_0\n",
    "        nonlocal t_i\n",
    "\n",
    "        delta_t = (t_0 - t_i) / 2\n",
    "        omega = (x - beta * t) / np.sqrt(t)\n",
    "\n",
    "        return (t_0 + t_i - delta_t * scipy.special.erf(omega / 2 / alpha)) / 2\n",
    "\n",
    "    return analytic_solution\n"
   ],
   "id": "6063c6fe5816fab8"
  },
  {
   "metadata": {},
   "cell_type": "code",
   "outputs": [],
   "execution_count": null,
   "source": [
    "T_0: Final = np.float64(50.0)\n",
    "T_I: Final = np.float64(0.0)"
   ],
   "id": "7ef0c961d25b5b73"
  },
  {
   "metadata": {},
   "cell_type": "code",
   "outputs": [],
   "execution_count": null,
   "source": [
    "ALPHA: Final = np.float64(45.0) * si.W / si.K / si.m # carbon steel https://www.stainless-structurals.com/blog/comparing-the-thermal-conductivity-of-stainless-steel-to-other-metals/\n",
    "BETA: Final = np.float64(...)"
   ],
   "id": "54891922aaf71f2e"
  },
  {
   "metadata": {},
   "cell_type": "code",
   "outputs": [],
   "execution_count": null,
   "source": "INITIAL_CONDITIONS, LEFT_BOUNDARY_CONDITIONS, RIGHT_BOUNDARY_CONDITIONS = create_initial_boundary_conditions(T_0, T_I)",
   "id": "1168d552e1e1946"
  },
  {
   "metadata": {},
   "cell_type": "code",
   "outputs": [],
   "execution_count": null,
   "source": "ANALYTIC_SOLUTIONS = create_analytic_solution(T_0, T_I, ALPHA, BETA)",
   "id": "6c98488edbae8329"
  },
  {
   "metadata": {},
   "cell_type": "markdown",
   "source": [
    "### Numerical solution\n",
    "\n"
   ],
   "id": "5d768e82949958be"
  },
  {
   "metadata": {},
   "cell_type": "code",
   "outputs": [],
   "execution_count": null,
   "source": [
    "def numerical_solution():\n",
    "    pass"
   ],
   "id": "df83c94274a3c57e"
  },
  {
   "metadata": {},
   "cell_type": "markdown",
   "source": [
    "### Comparison of analytic and numerical solutions\n",
    "\n",
    "##### Quantitative measure"
   ],
   "id": "b09f8dda3d05d1ee"
  },
  {
   "metadata": {},
   "cell_type": "code",
   "outputs": [],
   "execution_count": null,
   "source": "",
   "id": "7c0836fa4004fc04"
  },
  {
   "metadata": {},
   "cell_type": "markdown",
   "source": "##### Plot creation",
   "id": "3d317c9ba7723f45"
  },
  {
   "metadata": {},
   "cell_type": "code",
   "outputs": [],
   "execution_count": null,
   "source": "",
   "id": "6feebce44405d611"
  },
  {
   "metadata": {},
   "cell_type": "markdown",
   "source": [
    "### Literature & Learning materials\n",
    "\n",
    "Here I present the literature\n",
    "\n",
    "- [YT: \"Explicit Upwind Finite Difference Solution to the Advection Equation\" by Caspar Hewett](https://www.youtube.com/watch?v=drCdGxSG3Ec)\n",
    "- [YT: \"Implicit Upwind Finite Difference Solution to the Advection Equation\" by Caspar Hewett](https://www.youtube.com/watch?v=CCY3ywCuGBI)\n",
    "- [YT: \"Finite Difference Schemes for Advection and Diffusion\" by Caspar Hewett](https://www.youtube.com/watch?v=UM0o0ToluY8)\n",
    "- [YT: \"Stability & Accuracy of Numerical Schemes (2024)\" by Caspar Hewett](https://www.youtube.com/watch?v=3ufzXpsxShU)\n",
    "- [Link: \"RÓWNANIA RÓŻNICZKOWE (A1) Skrypt dla studentów\" by Andrzej Raczyński](https://www.math.uni.wroc.pl/sites/default/files/skrypt_rr1.pdf)\n",
    "- [Book: \"Analiza Numeryczna\" by David Kincaid, Ward Cheney, isbn: 83-204-3078-X](https://www.impan.pl/~szczep/AMM1/Kincaid.pdf)\n",
    "- [YT: \"Advection diffusion equations\" by Martin Blunt](https://www.youtube.com/watch?v=l_-YAEBXK1k)\n",
    "- [YT: \"Advection diffusion equation\" by Martin Blunt](https://www.youtube.com/watch?v=MsTglR6Kqpg)\n",
    "- [YT: \"One dimensional advection diffusion equations\" by Martin Blunt](https://www.youtube.com/watch?v=Jr3aOildCCA)\n",
    "- [YT: \"Molecular diffusion and Fick's law\" by Martin Blunt](https://www.youtube.com/watch?v=Iaq9znRsusk)\n",
    "- [Article: \"Analytical solution of the advection–diffusion transport equation using a change-of-variable and integral transform technique\" by J.S. Pérez Guerrero, L.C.G. Pimentel, T.H.Skaggs, M. Th.van Genuchten](https://doi.org/10.1016/j.ijheatmasstransfer.2009.02.002)"
   ],
   "id": "c0a470db8a0d751a"
  },
  {
   "metadata": {},
   "cell_type": "code",
   "outputs": [],
   "execution_count": null,
   "source": "",
   "id": "5ce2582ebdcff23e"
  }
 ],
 "metadata": {
  "kernelspec": {
   "display_name": "Python 3",
   "language": "python",
   "name": "python3"
  },
  "language_info": {
   "codemirror_mode": {
    "name": "ipython",
    "version": 2
   },
   "file_extension": ".py",
   "mimetype": "text/x-python",
   "name": "python",
   "nbconvert_exporter": "python",
   "pygments_lexer": "ipython2",
   "version": "2.7.6"
  }
 },
 "nbformat": 4,
 "nbformat_minor": 5
}
