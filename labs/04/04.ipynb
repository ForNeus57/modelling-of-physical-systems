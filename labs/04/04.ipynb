{
 "cells": [
  {
   "metadata": {},
   "cell_type": "markdown",
   "source": [
    "# LAB 04 Assigment\n",
    "\n",
    "Dominik Breksa (dominikbreksa@student.agh.edu.pl)"
   ],
   "id": "150544eaa2f4182c"
  },
  {
   "metadata": {},
   "cell_type": "markdown",
   "source": "### Imports of libraries and packages",
   "id": "3191793c1e69540e"
  },
  {
   "cell_type": "code",
   "id": "initial_id",
   "metadata": {
    "collapsed": true,
    "ExecuteTime": {
     "end_time": "2025-04-03T13:54:44.168998Z",
     "start_time": "2025-04-03T13:54:43.374845Z"
    }
   },
   "source": [
    "import numpy as np\n",
    "import numpy.typing as npt\n",
    "import scipy\n",
    "import pint\n",
    "import open_atmos_jupyter_utils\n",
    "from matplotlib import pyplot as plt\n",
    "\n",
    "# pyplot.rcParams['axes.grid'] = True"
   ],
   "outputs": [],
   "execution_count": 1
  },
  {
   "metadata": {
    "ExecuteTime": {
     "end_time": "2025-04-03T13:54:44.349233Z",
     "start_time": "2025-04-03T13:54:44.179008Z"
    }
   },
   "cell_type": "code",
   "source": [
    "si = pint.UnitRegistry()\n",
    "si.setup_matplotlib()\n",
    "si"
   ],
   "id": "e1585f484a71f450",
   "outputs": [
    {
     "data": {
      "text/plain": [
       "<pint.registry.UnitRegistry at 0x1f8b6c63410>"
      ]
     },
     "execution_count": 2,
     "metadata": {},
     "output_type": "execute_result"
    }
   ],
   "execution_count": 2
  },
  {
   "metadata": {},
   "cell_type": "markdown",
   "source": [
    "### Physical Problem Definition\n",
    "\n",
    "The physical problem, that I will model today is the temperature of the fluid (water) with convective and conductive heat transfer in one-dimensional spacial domain. Since the problem is one-dimensional, I will model\n",
    "\n",
    "To solve this problem, I will use the advection-diffusion parabolic partial differential equation (also called in our case simplified convection-conduction equation) ...\n",
    "\n",
    "$$\n",
    "\\frac{\\partial \\psi}{\\partial t} + u \\frac{\\partial \\psi}{\\partial x} - \\mu \\frac{\\partial ^ 2 \\psi}{\\partial^2 x} = 0\n",
    "$$\n",
    "\n",
    "where,\n",
    "\n",
    "- $t$ - time in seconds $[s]$,\n",
    "- $x$ - ...\n",
    "- $\\psi(x, t)$ - ...\n",
    "- $u$ - ...\n",
    "- $\\mu$ - ... $[\\frac{m^2}{s}]$,\n",
    "- $u \\frac{\\partial \\psi}{\\partial x}$ - Transport of heat by convection ...\n",
    "- $- \\mu \\frac{\\partial ^ 2 \\psi}{\\partial^2 x}$ - Heat conduction ...\n",
    "\n",
    "and,\n",
    "\n",
    "$\\mu$ term is given by the following equation:\n",
    "\n",
    "$$\n",
    "\\mu = \\frac{K_w}{\\rho_w c_w}\n",
    "$$\n",
    "\n",
    "$$\n",
    "[\\frac{W}{m K}\\frac{1}{\\frac{kg}{m^3}}\\frac{1}{\\frac{J}{kg K}} = \\frac{W}{m K}\\frac{m^3}{kg}\\frac{kg K}{J} = \\frac{W m^2}{J} = \\frac{m^2}{s}]\n",
    "$$\n",
    "\n",
    "where,\n",
    "\n",
    "- $K_w$ - is the thermal conductivity of water equal to: $0.60719479404817 [\\frac{W}{m K}]$,\n",
    "- $\\rho_w$ - is the density of water equal to: $997.0474354081 [\\frac{kg}{m^3}]$,\n",
    "- $c_w$ - is the heat capacity of water equal to: $4181.9000614923 [\\frac{J}{kg K}]$.\n",
    "\n",
    "##### Additional assumptions and simplifications\n",
    "\n",
    "List of assumptions and simplifications of the model\n",
    "\n",
    "- The thermal conductivity, density and heat capacity of water are fixed (constant) and are not dependent on the temperature. It is not quite realistic, because in the real world this property of a fluid (water) is dependent on pressure and temperature.\n",
    "-\n",
    "\n",
    "##### Boundary conditions\n",
    "\n",
    "##### Initial conditions\n",
    "\n",
    "##### Numerical values used\n",
    "\n",
    "The fluid in question will be water ..."
   ],
   "id": "de3e179516958361"
  },
  {
   "metadata": {},
   "cell_type": "markdown",
   "source": "### Analytical solution",
   "id": "deefe39b4084f161"
  },
  {
   "metadata": {
    "ExecuteTime": {
     "end_time": "2025-04-03T13:54:44.541698Z",
     "start_time": "2025-04-03T13:54:44.537619Z"
    }
   },
   "cell_type": "code",
   "source": [
    "from typing import Callable, Final\n",
    "\n",
    "\n",
    "def create_initial_boundary_conditions[T: npt.DTypeLike](t_0: T, t_i: T) -> tuple[Callable[[T], T], Callable[[T], T], Callable[[T], T]]:\n",
    "    \"\"\"...\"\"\"\n",
    "\n",
    "    def initial_conditions(x: T) -> T:\n",
    "        \"\"\"...\"\"\"\n",
    "\n",
    "        nonlocal t_0\n",
    "        nonlocal t_i\n",
    "\n",
    "        return t_0 if x <= 0 else t_i\n",
    "\n",
    "    def left_boundary_conditions(t: T) -> T:\n",
    "        \"\"\"...\"\"\"\n",
    "\n",
    "        nonlocal t_0\n",
    "\n",
    "        return t_0\n",
    "\n",
    "    def right_boundary_conditions(t: T) -> T:\n",
    "        \"\"\"...\"\"\"\n",
    "\n",
    "        nonlocal t_i\n",
    "\n",
    "        return t_i\n",
    "\n",
    "    return initial_conditions, left_boundary_conditions, right_boundary_conditions"
   ],
   "id": "fb6d282070e3a5ec",
   "outputs": [],
   "execution_count": 3
  },
  {
   "metadata": {
    "ExecuteTime": {
     "end_time": "2025-04-03T13:54:44.553871Z",
     "start_time": "2025-04-03T13:54:44.549860Z"
    }
   },
   "cell_type": "code",
   "source": [
    "def create_analytic_solution(t_0, t_i, alpha, beta) -> Callable:\n",
    "    \"\"\"...\"\"\"\n",
    "\n",
    "    def analytic_solution[T: npt.DTypeLike](x: npt.NDArray[T], t: npt.NDArray[T]) -> npt.NDArray[T]:\n",
    "\n",
    "        nonlocal t_0\n",
    "        nonlocal t_i\n",
    "\n",
    "        delta_t = (t_0 - t_i) / 2\n",
    "        omega = (x - beta * t) / np.sqrt(t)\n",
    "\n",
    "        return (t_0 + t_i - delta_t * scipy.special.erf(omega / 2 / alpha)) / 2\n",
    "\n",
    "    return analytic_solution\n"
   ],
   "id": "6063c6fe5816fab8",
   "outputs": [],
   "execution_count": 4
  },
  {
   "metadata": {
    "ExecuteTime": {
     "end_time": "2025-04-03T13:54:44.609057Z",
     "start_time": "2025-04-03T13:54:44.605521Z"
    }
   },
   "cell_type": "code",
   "source": [
    "T_0: Final = np.float64(50.0)\n",
    "T_I: Final = np.float64(0.0)"
   ],
   "id": "7ef0c961d25b5b73",
   "outputs": [],
   "execution_count": 5
  },
  {
   "metadata": {
    "ExecuteTime": {
     "end_time": "2025-04-03T13:54:45.047200Z",
     "start_time": "2025-04-03T13:54:44.661770Z"
    }
   },
   "cell_type": "code",
   "source": [
    "ALPHA: Final = np.float64(0.599) * si.W / si.K / si.m # water at 20 deg C https://thermtest.se/thermal-conductivity-of-water\n",
    "BETA: Final = np.float64(...) # water https://www.engineeringtoolbox.com/convective-heat-transfer-d_430.html"
   ],
   "id": "54891922aaf71f2e",
   "outputs": [
    {
     "ename": "TypeError",
     "evalue": "float() argument must be a string or a real number, not 'ellipsis'",
     "output_type": "error",
     "traceback": [
      "\u001B[1;31m---------------------------------------------------------------------------\u001B[0m",
      "\u001B[1;31mTypeError\u001B[0m                                 Traceback (most recent call last)",
      "Cell \u001B[1;32mIn[6], line 2\u001B[0m\n\u001B[0;32m      1\u001B[0m ALPHA: Final \u001B[38;5;241m=\u001B[39m np\u001B[38;5;241m.\u001B[39mfloat64(\u001B[38;5;241m0.599\u001B[39m) \u001B[38;5;241m*\u001B[39m si\u001B[38;5;241m.\u001B[39mW \u001B[38;5;241m/\u001B[39m si\u001B[38;5;241m.\u001B[39mK \u001B[38;5;241m/\u001B[39m si\u001B[38;5;241m.\u001B[39mm \u001B[38;5;66;03m# water at 20 deg C https://thermtest.se/thermal-conductivity-of-water\u001B[39;00m\n\u001B[1;32m----> 2\u001B[0m BETA: Final \u001B[38;5;241m=\u001B[39m np\u001B[38;5;241m.\u001B[39mfloat64(\u001B[38;5;241m.\u001B[39m\u001B[38;5;241m.\u001B[39m\u001B[38;5;241m.\u001B[39m)\n",
      "\u001B[1;31mTypeError\u001B[0m: float() argument must be a string or a real number, not 'ellipsis'"
     ]
    }
   ],
   "execution_count": 6
  },
  {
   "metadata": {},
   "cell_type": "code",
   "outputs": [],
   "execution_count": null,
   "source": "INITIAL_CONDITIONS, LEFT_BOUNDARY_CONDITIONS, RIGHT_BOUNDARY_CONDITIONS = create_initial_boundary_conditions(T_0, T_I)",
   "id": "1168d552e1e1946"
  },
  {
   "metadata": {},
   "cell_type": "code",
   "outputs": [],
   "execution_count": null,
   "source": "ANALYTIC_SOLUTIONS = create_analytic_solution(T_0, T_I, ALPHA, BETA)",
   "id": "6c98488edbae8329"
  },
  {
   "metadata": {},
   "cell_type": "markdown",
   "source": [
    "### Numerical solution\n",
    "\n"
   ],
   "id": "5d768e82949958be"
  },
  {
   "metadata": {},
   "cell_type": "code",
   "outputs": [],
   "execution_count": null,
   "source": [
    "def numerical_solution():\n",
    "    pass"
   ],
   "id": "df83c94274a3c57e"
  },
  {
   "metadata": {},
   "cell_type": "markdown",
   "source": [
    "### Comparison of analytic and numerical solutions\n",
    "\n",
    "##### Quantitative measure"
   ],
   "id": "b09f8dda3d05d1ee"
  },
  {
   "metadata": {},
   "cell_type": "code",
   "outputs": [],
   "execution_count": null,
   "source": "",
   "id": "7c0836fa4004fc04"
  },
  {
   "metadata": {},
   "cell_type": "markdown",
   "source": "##### Plot creation",
   "id": "3d317c9ba7723f45"
  },
  {
   "metadata": {},
   "cell_type": "code",
   "outputs": [],
   "execution_count": null,
   "source": "",
   "id": "6feebce44405d611"
  },
  {
   "metadata": {},
   "cell_type": "markdown",
   "source": [
    "### Literature & Learning materials\n",
    "\n",
    "Here I present the literature\n",
    "\n",
    "- [YT: \"Explicit Upwind Finite Difference Solution to the Advection Equation\" by Caspar Hewett](https://www.youtube.com/watch?v=drCdGxSG3Ec)\n",
    "- [YT: \"Implicit Upwind Finite Difference Solution to the Advection Equation\" by Caspar Hewett](https://www.youtube.com/watch?v=CCY3ywCuGBI)\n",
    "- [YT: \"Finite Difference Schemes for Advection and Diffusion\" by Caspar Hewett](https://www.youtube.com/watch?v=UM0o0ToluY8)\n",
    "- [YT: \"Stability & Accuracy of Numerical Schemes (2024)\" by Caspar Hewett](https://www.youtube.com/watch?v=3ufzXpsxShU)\n",
    "- [Link: \"RÓWNANIA RÓŻNICZKOWE (A1) Skrypt dla studentów\" by Andrzej Raczyński](https://www.math.uni.wroc.pl/sites/default/files/skrypt_rr1.pdf)\n",
    "- [Book: \"Analiza Numeryczna\" by David Kincaid, Ward Cheney, isbn: 83-204-3078-X](https://www.impan.pl/~szczep/AMM1/Kincaid.pdf)\n",
    "- [YT: \"Advection diffusion equations\" by Martin Blunt](https://www.youtube.com/watch?v=l_-YAEBXK1k)\n",
    "- [YT: \"Advection diffusion equation\" by Martin Blunt](https://www.youtube.com/watch?v=MsTglR6Kqpg)\n",
    "- [YT: \"One dimensional advection diffusion equations\" by Martin Blunt](https://www.youtube.com/watch?v=Jr3aOildCCA)\n",
    "- [YT: \"Molecular diffusion and Fick's law\" by Martin Blunt](https://www.youtube.com/watch?v=Iaq9znRsusk)\n",
    "- [Article: \"Analytical solution of the advection–diffusion transport equation using a change-of-variable and integral transform technique\" by J.S. Pérez Guerrero, L.C.G. Pimentel, T.H.Skaggs, M. Th.van Genuchten](https://doi.org/10.1016/j.ijheatmasstransfer.2009.02.002)\n",
    "- [Article: \"New International Formulation for the Thermal Conductivity of H2O\" by M. L. Huber; R. A. Perkins; D. G. Friend; J. V. Sengers; M. J. Assael; I. N. Metaxa; K. Miyagawa; R. Hellmann; E. Vogel](https://doi.org/10.1063/1.4738955)\n",
    "- [WebPage: CalcSteam by Berndt Wischnewski Richard-Wagner](https://www.peacesoftware.de/einigewerte/wasser_dampf_e.html)"
   ],
   "id": "c0a470db8a0d751a"
  },
  {
   "metadata": {},
   "cell_type": "code",
   "outputs": [],
   "execution_count": null,
   "source": "",
   "id": "ceb4ed8948543a70"
  }
 ],
 "metadata": {
  "kernelspec": {
   "display_name": "Python 3",
   "language": "python",
   "name": "python3"
  },
  "language_info": {
   "codemirror_mode": {
    "name": "ipython",
    "version": 2
   },
   "file_extension": ".py",
   "mimetype": "text/x-python",
   "name": "python",
   "nbconvert_exporter": "python",
   "pygments_lexer": "ipython2",
   "version": "2.7.6"
  }
 },
 "nbformat": 4,
 "nbformat_minor": 5
}
