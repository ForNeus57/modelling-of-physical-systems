{
 "nbformat": 4,
 "nbformat_minor": 0,
 "metadata": {
  "colab": {
   "provenance": []
  },
  "kernelspec": {
   "name": "python3",
   "display_name": "Python 3 (ipykernel)",
   "language": "python"
  },
  "language_info": {
   "name": "python"
  }
 },
 "cells": [
  {
   "cell_type": "code",
   "source": [
    "!pip install pint"
   ],
   "metadata": {
    "colab": {
     "base_uri": "https://localhost:8080/"
    },
    "id": "c4J3dmZH7JC3",
    "outputId": "178ef1f9-ae36-40da-ee2e-0c5e0e1cd77c",
    "ExecuteTime": {
     "end_time": "2025-03-11T14:40:32.122379Z",
     "start_time": "2025-03-11T14:40:30.704137Z"
    }
   },
   "outputs": [
    {
     "name": "stdout",
     "output_type": "stream",
     "text": [
      "Requirement already satisfied: pint in c:\\users\\domin\\anaconda3\\envs\\mops\\lib\\site-packages (0.24.4)\n",
      "Requirement already satisfied: platformdirs>=2.1.0 in c:\\users\\domin\\anaconda3\\envs\\mops\\lib\\site-packages (from pint) (4.3.6)\n",
      "Requirement already satisfied: typing-extensions>=4.0.0 in c:\\users\\domin\\anaconda3\\envs\\mops\\lib\\site-packages (from pint) (4.12.2)\n",
      "Requirement already satisfied: flexcache>=0.3 in c:\\users\\domin\\anaconda3\\envs\\mops\\lib\\site-packages (from pint) (0.3)\n",
      "Requirement already satisfied: flexparser>=0.4 in c:\\users\\domin\\anaconda3\\envs\\mops\\lib\\site-packages (from pint) (0.4)\n"
     ]
    }
   ],
   "execution_count": 1
  },
  {
   "cell_type": "code",
   "metadata": {
    "id": "kCkYlXLc6tz1",
    "ExecuteTime": {
     "end_time": "2025-03-11T14:40:32.422710Z",
     "start_time": "2025-03-11T14:40:32.201258Z"
    }
   },
   "source": [
    "import pint\n",
    "from scipy import constants"
   ],
   "outputs": [],
   "execution_count": 2
  },
  {
   "cell_type": "markdown",
   "source": [
    "p = ρRT"
   ],
   "metadata": {
    "id": "1un0uvgR8e__"
   }
  },
  {
   "cell_type": "markdown",
   "source": [
    "R = R^*/M"
   ],
   "metadata": {
    "id": "HYR4OSqm8y3w"
   }
  },
  {
   "cell_type": "markdown",
   "source": [
    "R^* = K_BN_A"
   ],
   "metadata": {
    "id": "iBPeeGdE8sYa"
   }
  },
  {
   "cell_type": "code",
   "source": [
    "si = pint.UnitRegistry()\n",
    "si"
   ],
   "metadata": {
    "colab": {
     "base_uri": "https://localhost:8080/"
    },
    "id": "-NPPdU6q7Hpv",
    "outputId": "3ec08723-c301-4108-fae1-86e3c2c5d407",
    "ExecuteTime": {
     "end_time": "2025-03-11T14:40:33.257892Z",
     "start_time": "2025-03-11T14:40:33.138190Z"
    }
   },
   "outputs": [
    {
     "data": {
      "text/plain": [
       "<pint.registry.UnitRegistry at 0x18f203f57f0>"
      ]
     },
     "execution_count": 3,
     "metadata": {},
     "output_type": "execute_result"
    }
   ],
   "execution_count": 3
  },
  {
   "cell_type": "code",
   "source": [
    "T = 300*si.K\n",
    "T"
   ],
   "metadata": {
    "colab": {
     "base_uri": "https://localhost:8080/",
     "height": 34
    },
    "id": "Tn7gOSTg88Hd",
    "outputId": "ee317dc8-8dd3-47a6-e73d-707384bb4f73",
    "ExecuteTime": {
     "end_time": "2025-03-11T14:40:34.772051Z",
     "start_time": "2025-03-11T14:40:34.767453Z"
    }
   },
   "outputs": [
    {
     "data": {
      "text/plain": [
       "<Quantity(300, 'kelvin')>"
      ],
      "text/html": [
       "300 kelvin"
      ],
      "text/latex": "$300\\ \\mathrm{kelvin}$"
     },
     "execution_count": 4,
     "metadata": {},
     "output_type": "execute_result"
    }
   ],
   "execution_count": 4
  },
  {
   "cell_type": "code",
   "source": [
    "T += 3*si.J\n",
    "T"
   ],
   "metadata": {
    "colab": {
     "base_uri": "https://localhost:8080/",
     "height": 363
    },
    "id": "Uj1BLIue9K3q",
    "outputId": "cad58b2f-2e07-42b6-e550-eb6503d68e68",
    "ExecuteTime": {
     "end_time": "2025-03-11T14:40:35.533893Z",
     "start_time": "2025-03-11T14:40:35.306322Z"
    }
   },
   "outputs": [
    {
     "ename": "DimensionalityError",
     "evalue": "Cannot convert from 'kelvin' ([temperature]) to 'joule' ([mass] * [length] ** 2 / [time] ** 2)",
     "output_type": "error",
     "traceback": [
      "\u001B[31m---------------------------------------------------------------------------\u001B[39m",
      "\u001B[31mDimensionalityError\u001B[39m                       Traceback (most recent call last)",
      "\u001B[36mCell\u001B[39m\u001B[36m \u001B[39m\u001B[32mIn[5]\u001B[39m\u001B[32m, line 1\u001B[39m\n\u001B[32m----> \u001B[39m\u001B[32m1\u001B[39m \u001B[43mT\u001B[49m\u001B[43m \u001B[49m\u001B[43m+\u001B[49m\u001B[43m=\u001B[49m\u001B[43m \u001B[49m\u001B[32;43m3\u001B[39;49m\u001B[43m*\u001B[49m\u001B[43msi\u001B[49m\u001B[43m.\u001B[49m\u001B[43mJ\u001B[49m\n\u001B[32m      2\u001B[39m T\n",
      "\u001B[36mFile \u001B[39m\u001B[32m~\\anaconda3\\envs\\MoPS\\Lib\\site-packages\\pint\\facets\\plain\\quantity.py:843\u001B[39m, in \u001B[36mPlainQuantity.__iadd__\u001B[39m\u001B[34m(self, other)\u001B[39m\n\u001B[32m    840\u001B[39m \u001B[38;5;28;01melif\u001B[39;00m is_duck_array_type(\u001B[38;5;28mtype\u001B[39m(\u001B[38;5;28mself\u001B[39m._magnitude)):\n\u001B[32m    841\u001B[39m     \u001B[38;5;28;01mreturn\u001B[39;00m \u001B[38;5;28mself\u001B[39m._iadd_sub(other, operator.iadd)\n\u001B[32m--> \u001B[39m\u001B[32m843\u001B[39m \u001B[38;5;28;01mreturn\u001B[39;00m \u001B[38;5;28;43mself\u001B[39;49m\u001B[43m.\u001B[49m\u001B[43m_add_sub\u001B[49m\u001B[43m(\u001B[49m\u001B[43mother\u001B[49m\u001B[43m,\u001B[49m\u001B[43m \u001B[49m\u001B[43moperator\u001B[49m\u001B[43m.\u001B[49m\u001B[43madd\u001B[49m\u001B[43m)\u001B[49m\n",
      "\u001B[36mFile \u001B[39m\u001B[32m~\\anaconda3\\envs\\MoPS\\Lib\\site-packages\\pint\\facets\\plain\\quantity.py:101\u001B[39m, in \u001B[36mcheck_implemented.<locals>.wrapped\u001B[39m\u001B[34m(self, *args, **kwargs)\u001B[39m\n\u001B[32m     99\u001B[39m \u001B[38;5;28;01melif\u001B[39;00m \u001B[38;5;28misinstance\u001B[39m(other, \u001B[38;5;28mlist\u001B[39m) \u001B[38;5;129;01mand\u001B[39;00m other \u001B[38;5;129;01mand\u001B[39;00m \u001B[38;5;28misinstance\u001B[39m(other[\u001B[32m0\u001B[39m], \u001B[38;5;28mtype\u001B[39m(\u001B[38;5;28mself\u001B[39m)):\n\u001B[32m    100\u001B[39m     \u001B[38;5;28;01mreturn\u001B[39;00m \u001B[38;5;28mNotImplemented\u001B[39m\n\u001B[32m--> \u001B[39m\u001B[32m101\u001B[39m \u001B[38;5;28;01mreturn\u001B[39;00m \u001B[43mf\u001B[49m\u001B[43m(\u001B[49m\u001B[38;5;28;43mself\u001B[39;49m\u001B[43m,\u001B[49m\u001B[43m \u001B[49m\u001B[43m*\u001B[49m\u001B[43margs\u001B[49m\u001B[43m,\u001B[49m\u001B[43m \u001B[49m\u001B[43m*\u001B[49m\u001B[43m*\u001B[49m\u001B[43mkwargs\u001B[49m\u001B[43m)\u001B[49m\n",
      "\u001B[36mFile \u001B[39m\u001B[32m~\\anaconda3\\envs\\MoPS\\Lib\\site-packages\\pint\\facets\\plain\\quantity.py:751\u001B[39m, in \u001B[36mPlainQuantity._add_sub\u001B[39m\u001B[34m(self, other, op)\u001B[39m\n\u001B[32m    748\u001B[39m     \u001B[38;5;28;01mreturn\u001B[39;00m \u001B[38;5;28mself\u001B[39m.\u001B[34m__class__\u001B[39m(magnitude, units)\n\u001B[32m    750\u001B[39m \u001B[38;5;28;01mif\u001B[39;00m \u001B[38;5;129;01mnot\u001B[39;00m \u001B[38;5;28mself\u001B[39m.dimensionality == other.dimensionality:\n\u001B[32m--> \u001B[39m\u001B[32m751\u001B[39m     \u001B[38;5;28;01mraise\u001B[39;00m DimensionalityError(\n\u001B[32m    752\u001B[39m         \u001B[38;5;28mself\u001B[39m._units, other._units, \u001B[38;5;28mself\u001B[39m.dimensionality, other.dimensionality\n\u001B[32m    753\u001B[39m     )\n\u001B[32m    755\u001B[39m \u001B[38;5;66;03m# Next we define some variables to make if-clauses more readable.\u001B[39;00m\n\u001B[32m    756\u001B[39m self_non_mul_units = \u001B[38;5;28mself\u001B[39m._get_non_multiplicative_units()\n",
      "\u001B[31mDimensionalityError\u001B[39m: Cannot convert from 'kelvin' ([temperature]) to 'joule' ([mass] * [length] ** 2 / [time] ** 2)"
     ]
    }
   ],
   "execution_count": 5
  },
  {
   "cell_type": "code",
   "source": [
    "T += 3*si.mK\n",
    "T"
   ],
   "metadata": {
    "colab": {
     "base_uri": "https://localhost:8080/",
     "height": 34
    },
    "id": "1O11eICY9R0F",
    "outputId": "c19c1107-04af-49f3-c310-378e29ae06bf",
    "ExecuteTime": {
     "end_time": "2025-03-11T14:40:35.811588Z",
     "start_time": "2025-03-11T14:40:35.807016Z"
    }
   },
   "outputs": [
    {
     "data": {
      "text/plain": [
       "<Quantity(300.003, 'kelvin')>"
      ],
      "text/html": [
       "300.003 kelvin"
      ],
      "text/latex": "$300.003\\ \\mathrm{kelvin}$"
     },
     "execution_count": 6,
     "metadata": {},
     "output_type": "execute_result"
    }
   ],
   "execution_count": 6
  },
  {
   "cell_type": "code",
   "source": [
    "T = (19 + constants.zero_Celsius) * si.mK\n",
    "T"
   ],
   "metadata": {
    "colab": {
     "base_uri": "https://localhost:8080/",
     "height": 34
    },
    "id": "zQf_PW4_A4BM",
    "outputId": "670fe42d-2c0b-4726-8516-4684586efc0b",
    "ExecuteTime": {
     "end_time": "2025-03-11T14:40:38.511848Z",
     "start_time": "2025-03-11T14:40:38.507558Z"
    }
   },
   "outputs": [
    {
     "data": {
      "text/plain": [
       "<Quantity(292.15, 'millikelvin')>"
      ],
      "text/html": [
       "292.15 millikelvin"
      ],
      "text/latex": "$292.15\\ \\mathrm{millikelvin}$"
     },
     "execution_count": 7,
     "metadata": {},
     "output_type": "execute_result"
    }
   ],
   "execution_count": 7
  },
  {
   "cell_type": "code",
   "source": [
    "p = 1000 * si.hPa\n",
    "p"
   ],
   "metadata": {
    "colab": {
     "base_uri": "https://localhost:8080/",
     "height": 34
    },
    "id": "z1svYn1N-skc",
    "outputId": "87687213-ef10-490a-eea8-ee0fa94236b4",
    "ExecuteTime": {
     "end_time": "2025-03-11T14:40:39.219449Z",
     "start_time": "2025-03-11T14:40:39.215294Z"
    }
   },
   "outputs": [
    {
     "data": {
      "text/plain": [
       "<Quantity(1000, 'hectopascal')>"
      ],
      "text/html": [
       "1000 hectopascal"
      ],
      "text/latex": "$1000\\ \\mathrm{hectopascal}$"
     },
     "execution_count": 8,
     "metadata": {},
     "output_type": "execute_result"
    }
   ],
   "execution_count": 8
  },
  {
   "cell_type": "code",
   "source": [
    "R_star = constants.R * si.J / (si.mol * si.K)\n",
    "R_star"
   ],
   "metadata": {
    "colab": {
     "base_uri": "https://localhost:8080/",
     "height": 34
    },
    "id": "ogbGsUGu_djX",
    "outputId": "0a91a09c-350d-482d-e85d-76e14401c3de",
    "ExecuteTime": {
     "end_time": "2025-03-11T14:40:39.721259Z",
     "start_time": "2025-03-11T14:40:39.716769Z"
    }
   },
   "outputs": [
    {
     "data": {
      "text/plain": [
       "<Quantity(8.31446262, 'joule / mole / kelvin')>"
      ],
      "text/html": [
       "8.31446261815324 joule/(kelvin mole)"
      ],
      "text/latex": "$8.31446261815324\\ \\frac{\\mathrm{joule}}{\\left(\\mathrm{kelvin} \\cdot \\mathrm{mole}\\right)}$"
     },
     "execution_count": 9,
     "metadata": {},
     "output_type": "execute_result"
    }
   ],
   "execution_count": 9
  },
  {
   "cell_type": "code",
   "source": [
    "Md = 28.966 * si.g / si.mol\n",
    "Md"
   ],
   "metadata": {
    "colab": {
     "base_uri": "https://localhost:8080/",
     "height": 34
    },
    "id": "Bh1AXscy_44W",
    "outputId": "ae3dd6d3-446e-4d9a-8a3b-4aa1b81cbb09",
    "ExecuteTime": {
     "end_time": "2025-03-11T14:40:40.232080Z",
     "start_time": "2025-03-11T14:40:40.227792Z"
    }
   },
   "outputs": [
    {
     "data": {
      "text/plain": [
       "<Quantity(28.966, 'gram / mole')>"
      ],
      "text/html": [
       "28.966 gram/mole"
      ],
      "text/latex": "$28.966\\ \\frac{\\mathrm{gram}}{\\mathrm{mole}}$"
     },
     "execution_count": 10,
     "metadata": {},
     "output_type": "execute_result"
    }
   ],
   "execution_count": 10
  },
  {
   "cell_type": "code",
   "source": [
    "density = (p * Md) / (R_star * T)\n",
    "density"
   ],
   "metadata": {
    "colab": {
     "base_uri": "https://localhost:8080/",
     "height": 34
    },
    "id": "swrawoSdArEU",
    "outputId": "41de3e19-8c4e-457b-9173-3f7f8867954e",
    "ExecuteTime": {
     "end_time": "2025-03-11T14:40:40.664460Z",
     "start_time": "2025-03-11T14:40:40.657118Z"
    }
   },
   "outputs": [
    {
     "data": {
      "text/plain": [
       "<Quantity(11.9247271, 'hectopascal * gram * kelvin / joule / millikelvin')>"
      ],
      "text/html": [
       "11.924727147587209 gram hectopascal kelvin/(joule millikelvin)"
      ],
      "text/latex": "$11.924727147587209\\ \\frac{\\mathrm{gram} \\cdot \\mathrm{hectopascal} \\cdot \\mathrm{kelvin}}{\\left(\\mathrm{joule} \\cdot \\mathrm{millikelvin}\\right)}$"
     },
     "execution_count": 11,
     "metadata": {},
     "output_type": "execute_result"
    }
   ],
   "execution_count": 11
  },
  {
   "cell_type": "code",
   "source": [
    "density.check('[density]')"
   ],
   "metadata": {
    "colab": {
     "base_uri": "https://localhost:8080/"
    },
    "id": "ifdjVSPSBki_",
    "outputId": "ed35248c-18a2-4c94-e36f-ea3c2f08cc8c",
    "ExecuteTime": {
     "end_time": "2025-03-11T14:40:41.225261Z",
     "start_time": "2025-03-11T14:40:41.221018Z"
    }
   },
   "outputs": [
    {
     "data": {
      "text/plain": [
       "True"
      ]
     },
     "execution_count": 12,
     "metadata": {},
     "output_type": "execute_result"
    }
   ],
   "execution_count": 12
  },
  {
   "cell_type": "code",
   "source": [
    "density.check('[mass]')"
   ],
   "metadata": {
    "colab": {
     "base_uri": "https://localhost:8080/"
    },
    "id": "WsvNmpqqB6rK",
    "outputId": "dcbfed02-f42e-4c12-b402-25d8b6babeac",
    "ExecuteTime": {
     "end_time": "2025-03-11T14:40:41.702070Z",
     "start_time": "2025-03-11T14:40:41.697912Z"
    }
   },
   "outputs": [
    {
     "data": {
      "text/plain": [
       "False"
      ]
     },
     "execution_count": 13,
     "metadata": {},
     "output_type": "execute_result"
    }
   ],
   "execution_count": 13
  },
  {
   "cell_type": "code",
   "source": [
    "simplified = density.to_base_units()\n",
    "simplified"
   ],
   "metadata": {
    "colab": {
     "base_uri": "https://localhost:8080/",
     "height": 37
    },
    "id": "fI-ms3qcCKLa",
    "outputId": "c0462558-ef72-4b5e-e9c6-69d3e58615af",
    "ExecuteTime": {
     "end_time": "2025-03-11T14:40:42.145236Z",
     "start_time": "2025-03-11T14:40:42.140411Z"
    }
   },
   "outputs": [
    {
     "data": {
      "text/plain": [
       "<Quantity(1192.47271, 'kilogram / meter ** 3')>"
      ],
      "text/html": [
       "1192.472714758721 kilogram/meter<sup>3</sup>"
      ],
      "text/latex": "$1192.472714758721\\ \\frac{\\mathrm{kilogram}}{\\mathrm{meter}^{3}}$"
     },
     "execution_count": 14,
     "metadata": {},
     "output_type": "execute_result"
    }
   ],
   "execution_count": 14
  },
  {
   "cell_type": "code",
   "source": [
    "f\"{density.to_base_units():.3g}\""
   ],
   "metadata": {
    "colab": {
     "base_uri": "https://localhost:8080/",
     "height": 35
    },
    "id": "Jzvj8M8DCY2L",
    "outputId": "040dd4be-bd37-448b-e494-2dc9e2346e93",
    "ExecuteTime": {
     "end_time": "2025-03-11T14:40:42.582377Z",
     "start_time": "2025-03-11T14:40:42.578578Z"
    }
   },
   "outputs": [
    {
     "data": {
      "text/plain": [
       "'1.19e+03 kilogram / meter ** 3'"
      ]
     },
     "execution_count": 15,
     "metadata": {},
     "output_type": "execute_result"
    }
   ],
   "execution_count": 15
  },
  {
   "cell_type": "markdown",
   "source": [
    "6 homeworks, extension of the class. Extra notebooks. Explore the model, checking, extending.\n",
    "\n",
    "Message the professor to a link with a github repo.\n",
    "\n",
    "Github action that exectues a code\n",
    "\n",
    "Creates a nuemerical results. Report, Graphics (plot). Conclusion.\n",
    "PDF of the profesor.\n",
    "\n",
    "Next class it will be explained.\n",
    "\n",
    "6 assigments (2 weeks per assigment)"
   ],
   "metadata": {
    "id": "UAak7Np6C6n1"
   }
  },
  {
   "cell_type": "markdown",
   "source": [
    "Teten's Formula for eq. vaper pressure of water"
   ],
   "metadata": {
    "id": "zryxaupKFZb-"
   }
  },
  {
   "cell_type": "markdown",
   "source": [
    "https://en.wikipedia.org/wiki/Tetens_equation"
   ],
   "metadata": {
    "id": "N2MR4WpDF3yF"
   }
  },
  {
   "cell_type": "code",
   "source": [
    "import numpy as np\n",
    "\n",
    "\n",
    "def eq_vapour_pressure(temp: float):\n",
    "  TC = temp - constants.zero_Celsius * si.K\n",
    "  return 0.61078 * np.exp((17.27 * TC) / (TC + 237.3 * si.K)) * si.kPa"
   ],
   "metadata": {
    "id": "iwdFUOkeCpCU"
   },
   "execution_count": 40,
   "outputs": []
  },
  {
   "cell_type": "code",
   "source": [
    "from matplotlib import pyplot\n",
    "\n",
    "si.setup_matplotlib()"
   ],
   "metadata": {
    "id": "B7XYAEbUHd4B"
   },
   "execution_count": 41,
   "outputs": []
  },
  {
   "cell_type": "code",
   "source": [
    "T = np.linspace(250, 320) * si.K"
   ],
   "metadata": {
    "id": "bRvOau8IIihi"
   },
   "execution_count": 42,
   "outputs": []
  },
  {
   "cell_type": "code",
   "source": [
    "pyplot.plot(T, eq_vapour_pressure(T), label=\"Tetens\")\n",
    "pyplot.legend()"
   ],
   "metadata": {
    "colab": {
     "base_uri": "https://localhost:8080/",
     "height": 467
    },
    "id": "wXYWMqF5JAhA",
    "outputId": "7c121ec2-07ff-4501-e30c-262a174362c4"
   },
   "execution_count": 44,
   "outputs": [
    {
     "output_type": "execute_result",
     "data": {
      "text/plain": [
       "<matplotlib.legend.Legend at 0x7f83bd732010>"
      ]
     },
     "metadata": {},
     "execution_count": 44
    },
    {
     "output_type": "display_data",
     "data": {
      "text/plain": [
       "<Figure size 640x480 with 1 Axes>"
      ],
      "image/png": "[encoded data removed]"
     },
     "metadata": {}
    }
   ]
  },
  {
   "cell_type": "code",
   "source": [],
   "metadata": {
    "id": "_VWHh4wfJOdQ"
   },
   "execution_count": null,
   "outputs": []
  }
 ]
}
